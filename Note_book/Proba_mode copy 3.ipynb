{
 "cells": [
  {
   "cell_type": "markdown",
   "id": "760570e4",
   "metadata": {},
   "source": [
    "# Modélisation des probas"
   ]
  },
  {
   "cell_type": "code",
   "execution_count": 63,
   "id": "90e07d7b",
   "metadata": {},
   "outputs": [
    {
     "name": "stdout",
     "output_type": "stream",
     "text": [
      "Requirement already satisfied: pandas in c:\\users\\esthelle.kuissu\\onedrive - exiom partners\\documents\\code_rapport_stage\\ex_rap_stage\\exiom_stage\\.venv\\lib\\site-packages (2.3.1)\n",
      "Requirement already satisfied: numpy>=1.23.2 in c:\\users\\esthelle.kuissu\\onedrive - exiom partners\\documents\\code_rapport_stage\\ex_rap_stage\\exiom_stage\\.venv\\lib\\site-packages (from pandas) (2.3.1)\n",
      "Requirement already satisfied: python-dateutil>=2.8.2 in c:\\users\\esthelle.kuissu\\onedrive - exiom partners\\documents\\code_rapport_stage\\ex_rap_stage\\exiom_stage\\.venv\\lib\\site-packages (from pandas) (2.9.0.post0)\n",
      "Requirement already satisfied: pytz>=2020.1 in c:\\users\\esthelle.kuissu\\onedrive - exiom partners\\documents\\code_rapport_stage\\ex_rap_stage\\exiom_stage\\.venv\\lib\\site-packages (from pandas) (2025.2)\n",
      "Requirement already satisfied: tzdata>=2022.7 in c:\\users\\esthelle.kuissu\\onedrive - exiom partners\\documents\\code_rapport_stage\\ex_rap_stage\\exiom_stage\\.venv\\lib\\site-packages (from pandas) (2025.2)\n",
      "Requirement already satisfied: six>=1.5 in c:\\users\\esthelle.kuissu\\onedrive - exiom partners\\documents\\code_rapport_stage\\ex_rap_stage\\exiom_stage\\.venv\\lib\\site-packages (from python-dateutil>=2.8.2->pandas) (1.17.0)\n"
     ]
    }
   ],
   "source": [
    "! pip install pandas"
   ]
  },
  {
   "cell_type": "code",
   "execution_count": 64,
   "id": "467ab83b",
   "metadata": {},
   "outputs": [
    {
     "name": "stderr",
     "output_type": "stream",
     "text": [
      "C:\\Users\\esthelle.kuissu\\AppData\\Local\\Temp\\ipykernel_8328\\4172452751.py:7: DtypeWarning: Columns (24,83) have mixed types. Specify dtype option on import or set low_memory=False.\n",
      "  datap = pd.read_csv(path + \"\\\\bdd_sinistres_MODELPROBA.csv\", sep=\";\", encoding=\"utf-8\")\n"
     ]
    }
   ],
   "source": [
    "import os\n",
    "import pandas as pd\n",
    "os.getcwd()\n",
    "\n",
    "path = \"c:\\\\Users\\\\esthelle.kuissu\\\\OneDrive - Exiom Partners\\\\Documents\\\\Code_rapport_stage\\\\Bases sinistres\"\n",
    "\n",
    "datap = pd.read_csv(path + \"\\\\bdd_sinistres_MODELPROBA.csv\", sep=\";\", encoding=\"utf-8\")"
   ]
  },
  {
   "cell_type": "code",
   "execution_count": 65,
   "id": "c65b0612",
   "metadata": {},
   "outputs": [
    {
     "name": "stdout",
     "output_type": "stream",
     "text": [
      " structure_id structure_grp  n_sinistres\n",
      "            1     MO+1AUTRE        81748\n",
      "            2  MO+IP+PIECES       920097\n"
     ]
    }
   ],
   "source": [
    "import pandas as pd\n",
    "import numpy as np\n",
    "\n",
    "# --------------------------------------------------------------------------\n",
    "# 0. Noms des colonnes montants\n",
    "# --------------------------------------------------------------------------\n",
    "mo_col    = \"MT_MO_REPARABLE\"\n",
    "ip_col    = \"MT_IP_REPARABLE\"\n",
    "piece_col = \"MT_PIECES_REPARABLE\"\n",
    "\n",
    "# --------------------------------------------------------------------------\n",
    "# 1. Variable texte brute : combinaison exacte des postes > 0\n",
    "# --------------------------------------------------------------------------\n",
    "def structure_postes(row):\n",
    "    postes = []\n",
    "    if row[mo_col]    > 0: postes.append(\"MO\")\n",
    "    if row[ip_col]    > 0: postes.append(\"IP\")\n",
    "    if row[piece_col] > 0: postes.append(\"PIECES\")\n",
    "    return \"+\".join(postes) if postes else \"AUCUN\"\n",
    "\n",
    "datap[\"structure_sinistre\"] = datap.apply(structure_postes, axis=1)\n",
    "\n",
    "# --------------------------------------------------------------------------\n",
    "# 2. Fusion souhaitée → nouvelle variable `structure_grp`\n",
    "#    • IP  regroupe  {IP, MO+IP}\n",
    "#    • PIECES regroupe {PIECES, MO+PIECES}\n",
    "# --------------------------------------------------------------------------\n",
    "map_fusion = {\n",
    "    \"MO\"              : \"MO+1AUTRE\",\n",
    "    \"IP\"              : \"MO+1AUTRE\",\n",
    "    \"MO+IP\"           : \"MO+1AUTRE\",          # fusion ici\n",
    "    \"PIECES\"          : \"MO+1AUTRE\",\n",
    "    \"MO+PIECES\"       : \"MO+1AUTRE\",      # fusion ici\n",
    "    \"IP+PIECES\"       : \"MO+1AUTRE\",\n",
    "    \"MO+IP+PIECES\"    : \"MO+IP+PIECES\",\n",
    "    \"AUCUN\"           : \"AUCUN\"\n",
    "}\n",
    "\n",
    "datap[\"structure_grp\"] = datap[\"structure_sinistre\"].map(map_fusion)\n",
    "\n",
    "# --------------------------------------------------------------------------\n",
    "# 3. Identifiant numérique  (tu peux changer les numéros si besoin)\n",
    "# --------------------------------------------------------------------------\n",
    "map_id = {\n",
    "    \"MO+1AUTRE\"              : 1,\n",
    "    \"MO+IP+PIECES\"          : 2,\n",
    "}\n",
    "\n",
    "datap[\"structure_id\"] = datap[\"structure_grp\"].map(map_id)\n",
    "\n",
    "# --------------------------------------------------------------------------\n",
    "# 4. Table de fréquence : pour contrôle\n",
    "# --------------------------------------------------------------------------\n",
    "freq = (\n",
    "    datap.groupby([\"structure_id\", \"structure_grp\"])\n",
    "         .size()\n",
    "         .reset_index(name=\"n_sinistres\")\n",
    "         .sort_values(\"structure_id\")\n",
    ")\n",
    "\n",
    "print(freq.to_string(index=False))\n"
   ]
  },
  {
   "cell_type": "code",
   "execution_count": 66,
   "id": "b7743736",
   "metadata": {},
   "outputs": [
    {
     "name": "stdout",
     "output_type": "stream",
     "text": [
      "['cle_sin', 'date_evt', 'date_evt_decla', 'clos', 'sans_suite', 'quart_resp', 'date_premsous', 'date_dernrempl', 'formule_ratt', 'cond_indet', 'date_nais', 'age', 'date_permis', 'anc_permis', 'sexe', 'profess', 'sitfam', 'orig_attest', 'aac', 'date_sortie_veh', 'age_veh', 'usage2', 'franch', 'rachat_francBG', 'garag', 'marq', 'modele2', 'generation', 'modele_desc', 'caros', 'segment', 'energ', 'num_sra', 'cylin', 'pdyne', 'pkw', 'pfisc', 'vites', 'pvid', 'poidspuiss', 'sport', 'frein', 'cdval', 'trans', 'alim', 'suspe', 'boite', 'val', 'couple', 'airbag', 'crash', 'co2min', 'elt_secu', 'vu', 'pickup', 'luxe', 'prestige', 'soumis_crm', 'crm', 'boncond', 'nab50', 'bureau_ratt', 'fract_paiem_soc', 'formule_gar', 'petit_rouleur', 'systeme', 'exercice', 'GARANTIE_HOST', 'MT_FRANCHISE', 'MT_CHARGE_BRUTE', 'MT_CHARGE_NETTE', 'MT_REGLEMENT_SIN', 'MT_REGLEMENT_COM', 'MT_ABANDON_RECOURS', 'MT_FRAIS_HONO', 'MT_PROVISIONS', 'MT_RECOURS_TOTAL', 'MT_ESTIMATION_RECOURS_RESTANTS', 'MT_AVANCE_RECOURS', 'MT_AVANCE_RECOURS_RECOURUS', 'MT_PAIEMENTS', 'MT_CHARGE_BRUTE_ECO', 'MT_CHARGE_NETTE_ECO', 'ZN_NO_RAPPORT_EXPTIS', 'MT_VAL_REMPL_VEH_TTC', 'MT_TOTAL_REPARABLE', 'NB_REP', 'MT_MO_REPARABLE', 'NBHH_MO_REPARABLE', 'TAUX_HORAIRE_MO', 'MT_IP_REPARABLE', 'NBHH_IP_REPARABLE', 'MT_PIECES_REPARABLE', 'NB_PIECES_REEMPLOI', 'MT_PIECES_REEMPLOI', 'RE_AVEC_PIECE_REEMPLOI', 'RE_AVEC_PIECE_REPAR_MP', 'RE_AVEC_PIECE_REMPL_MP', 'MT_REMISE', 'MT_FORFAIT', 'MT_FORFAIT_ERD', 'LIB_CHOC', 'LIB_INTENS', 'GARAGE_AGREE_O_N', 'DPT_REP', '_RESEAU_', 'NB_PIECE_REMPLACEE', 'NB_PIECE_REPAREE', 'veh_info_manquante', 'date_ord', 'date_sortie_veh_imputee', 'annee_sortie_veh', 'date_nais_f', 'date_permis_f', 'formule_ratt_g', 'sitfam_g', 'usage2_g', 'orig_attest_g', 'caros_g', 'segment_g', 'energ_g', 'frein_g', 'alim_g', 'suspe_g', 'crash_g', 'fract_paiem_soc_g', 'cdval_g', 'modele2_g', 'profess_g', 'marq_g', 'garag_g', 'Region', 'Zone', 'structure_sinistre', 'structure_grp', 'structure_id']\n"
     ]
    }
   ],
   "source": [
    "print(list(datap.columns))"
   ]
  },
  {
   "cell_type": "code",
   "execution_count": 67,
   "id": "4ada576a",
   "metadata": {},
   "outputs": [],
   "source": [
    "import pandas as pd\n",
    "\n",
    "# Création des colonnes indicatrices (uint8 → 0/1)\n",
    "dummies = pd.get_dummies(datap['exercice'], prefix='year').astype(int)\n",
    "\n",
    "# (Optionnel) on retire l’année de base 2019 pour éviter la colinéarité\n",
    "dummies = dummies.drop(columns=['year_2019'])\n",
    "\n",
    "# Fusion avec ton DataFrame\n",
    "datap = pd.concat([datap, dummies], axis=1)\n"
   ]
  },
  {
   "cell_type": "code",
   "execution_count": 68,
   "id": "02ff84fe",
   "metadata": {},
   "outputs": [
    {
     "name": "stdout",
     "output_type": "stream",
     "text": [
      "24 variables de montant supprimées.\n",
      "116 variables conservées.\n"
     ]
    }
   ],
   "source": [
    "import pandas as pd\n",
    "\n",
    "# 0) ton DataFrame initial ----------------------------------------------------\n",
    "# df = pd.read_csv(\"ton_fichier.csv\")  # ou déjà présent en mémoire\n",
    "\n",
    "# 1) liste explicite de TOUTES tes variables (copiée depuis ta question) -----\n",
    "all_vars = [\n",
    "    'cle_sin', 'date_evt', 'date_evt_decla', 'clos', 'sans_suite', 'quart_resp',\n",
    "    'date_premsous', 'date_dernrempl', 'formule_ratt', 'cond_indet', 'date_nais',\n",
    "    'age', 'date_permis', 'anc_permis', 'sexe', 'profess', 'sitfam', 'orig_attest',\n",
    "    'aac', 'date_sortie_veh', 'age_veh', 'usage2', 'franch', 'rachat_francBG',\n",
    "    'garag', 'marq', 'modele2', 'generation', 'modele_desc', 'caros', 'segment',\n",
    "    'energ', 'num_sra', 'cylin', 'pdyne', 'pkw', 'pfisc', 'vites', 'pvid',\n",
    "    'poidspuiss', 'sport', 'frein', 'cdval', 'trans', 'alim', 'suspe', 'boite',\n",
    "    'val', 'couple', 'airbag', 'crash', 'co2min', 'elt_secu', 'vu', 'pickup',\n",
    "    'luxe', 'prestige', 'soumis_crm', 'crm', 'boncond', 'nab50', 'bureau_ratt',\n",
    "    'fract_paiem_soc', 'formule_gar', 'petit_rouleur', 'systeme', 'exercice',\n",
    "    'GARANTIE_HOST', 'MT_FRANCHISE', 'MT_CHARGE_BRUTE', 'MT_CHARGE_NETTE',\n",
    "    'MT_REGLEMENT_SIN', 'MT_REGLEMENT_COM', 'MT_ABANDON_RECOURS', 'MT_FRAIS_HONO',\n",
    "    'MT_PROVISIONS', 'MT_RECOURS_TOTAL', 'MT_ESTIMATION_RECOURS_RESTANTS',\n",
    "    'MT_AVANCE_RECOURS', 'MT_AVANCE_RECOURS_RECOURUS', 'MT_PAIEMENTS',\n",
    "    'MT_CHARGE_BRUTE_ECO', 'MT_CHARGE_NETTE_ECO', 'ZN_NO_RAPPORT_EXPTIS',\n",
    "    'MT_VAL_REMPL_VEH_TTC', 'MT_TOTAL_REPARABLE', 'NB_REP', 'MT_MO_REPARABLE',\n",
    "    'NBHH_MO_REPARABLE', 'TAUX_HORAIRE_MO', 'MT_IP_REPARABLE',\n",
    "    'NBHH_IP_REPARABLE', 'MT_PIECES_REPARABLE', 'NB_PIECES_REEMPLOI',\n",
    "    'MT_PIECES_REEMPLOI', 'RE_AVEC_PIECE_REEMPLOI', 'RE_AVEC_PIECE_REPAR_MP',\n",
    "    'RE_AVEC_PIECE_REMPL_MP', 'MT_REMISE', 'MT_FORFAIT', 'MT_FORFAIT_ERD',\n",
    "    'LIB_CHOC', 'LIB_INTENS', 'GARAGE_AGREE_O_N', 'DPT_REP', '_RESEAU_',\n",
    "    'NB_PIECE_REMPLACEE', 'NB_PIECE_REPAREE', 'veh_info_manquante', 'date_ord',\n",
    "    'date_sortie_veh_imputee', 'annee_sortie_veh', 'date_nais_f',\n",
    "    'date_permis_f', 'formule_ratt_g', 'sitfam_g', 'usage2_g', 'orig_attest_g',\n",
    "    'caros_g', 'segment_g', 'energ_g', 'frein_g', 'alim_g', 'suspe_g',\n",
    "    'crash_g', 'fract_paiem_soc_g', 'cdval_g', 'modele2_g', 'profess_g',\n",
    "    'marq_g', 'garag_g', 'Region', 'Zone', 'structure_sinistre', 'structure_id',\n",
    "    'year_2020', 'year_2021', 'year_2022', 'year_2023', 'year_2024'\n",
    "]\n",
    "\n",
    "# 2) distinguer variables montants vs non montants ---------------------------\n",
    "montants     = [v for v in all_vars if v.startswith('MT_')]\n",
    "non_montants = [v for v in all_vars if v not in montants]\n",
    "\n",
    "print(f\"{len(montants)} variables de montant supprimées.\")\n",
    "print(f\"{len(non_montants)} variables conservées.\")\n",
    "\n",
    "# 3) créer la base sans montants ---------------------------------------------\n",
    "datap_sm = datap[non_montants].copy()\n",
    "\n",
    "# 4) enregistrer si besoin ----------------------------------------------------\n",
    "#datap_sm.to_csv(\"baseproba_sans_montants.csv\", index=False, encoding=\"utf-8\")\n"
   ]
  },
  {
   "cell_type": "code",
   "execution_count": 69,
   "id": "c9da7fac",
   "metadata": {},
   "outputs": [
    {
     "data": {
      "text/html": [
       "<div>\n",
       "<style scoped>\n",
       "    .dataframe tbody tr th:only-of-type {\n",
       "        vertical-align: middle;\n",
       "    }\n",
       "\n",
       "    .dataframe tbody tr th {\n",
       "        vertical-align: top;\n",
       "    }\n",
       "\n",
       "    .dataframe thead th {\n",
       "        text-align: right;\n",
       "    }\n",
       "</style>\n",
       "<table border=\"1\" class=\"dataframe\">\n",
       "  <thead>\n",
       "    <tr style=\"text-align: right;\">\n",
       "      <th></th>\n",
       "      <th>cle_sin</th>\n",
       "      <th>date_evt</th>\n",
       "      <th>date_evt_decla</th>\n",
       "      <th>clos</th>\n",
       "      <th>sans_suite</th>\n",
       "      <th>quart_resp</th>\n",
       "      <th>date_premsous</th>\n",
       "      <th>date_dernrempl</th>\n",
       "      <th>formule_ratt</th>\n",
       "      <th>cond_indet</th>\n",
       "      <th>...</th>\n",
       "      <th>garag_g</th>\n",
       "      <th>Region</th>\n",
       "      <th>Zone</th>\n",
       "      <th>structure_sinistre</th>\n",
       "      <th>structure_id</th>\n",
       "      <th>year_2020</th>\n",
       "      <th>year_2021</th>\n",
       "      <th>year_2022</th>\n",
       "      <th>year_2023</th>\n",
       "      <th>year_2024</th>\n",
       "    </tr>\n",
       "  </thead>\n",
       "  <tbody>\n",
       "    <tr>\n",
       "      <th>0</th>\n",
       "      <td>191840439C  A   018</td>\n",
       "      <td>02/01/2019</td>\n",
       "      <td>04/01/2019</td>\n",
       "      <td>O</td>\n",
       "      <td>N</td>\n",
       "      <td>plus_50pc</td>\n",
       "      <td>29/06/1987</td>\n",
       "      <td>09/01/2015</td>\n",
       "      <td>PRO</td>\n",
       "      <td>N</td>\n",
       "      <td>...</td>\n",
       "      <td>Petit garage</td>\n",
       "      <td>Nouvelle-Aquitaine</td>\n",
       "      <td>Ouest</td>\n",
       "      <td>MO+IP+PIECES</td>\n",
       "      <td>2</td>\n",
       "      <td>0</td>\n",
       "      <td>0</td>\n",
       "      <td>0</td>\n",
       "      <td>0</td>\n",
       "      <td>0</td>\n",
       "    </tr>\n",
       "    <tr>\n",
       "      <th>1</th>\n",
       "      <td>191840048C  A   001</td>\n",
       "      <td>01/01/2019</td>\n",
       "      <td>02/01/2019</td>\n",
       "      <td>N</td>\n",
       "      <td>N</td>\n",
       "      <td>plus_50pc</td>\n",
       "      <td>10/11/2018</td>\n",
       "      <td>2023-12-31 00:00:00</td>\n",
       "      <td>PRO</td>\n",
       "      <td>N</td>\n",
       "      <td>...</td>\n",
       "      <td>Garage moyen</td>\n",
       "      <td>Pays de la Loire</td>\n",
       "      <td>Ouest</td>\n",
       "      <td>MO+IP+PIECES</td>\n",
       "      <td>2</td>\n",
       "      <td>0</td>\n",
       "      <td>0</td>\n",
       "      <td>0</td>\n",
       "      <td>0</td>\n",
       "      <td>0</td>\n",
       "    </tr>\n",
       "    <tr>\n",
       "      <th>2</th>\n",
       "      <td>191840501C  A   010</td>\n",
       "      <td>03/01/2019</td>\n",
       "      <td>04/01/2019</td>\n",
       "      <td>O</td>\n",
       "      <td>N</td>\n",
       "      <td>plus_50pc</td>\n",
       "      <td>13/07/2016</td>\n",
       "      <td>03/04/2018</td>\n",
       "      <td>PRO</td>\n",
       "      <td>N</td>\n",
       "      <td>...</td>\n",
       "      <td>Garage moyen</td>\n",
       "      <td>Pays de la Loire</td>\n",
       "      <td>Ouest</td>\n",
       "      <td>MO+IP+PIECES</td>\n",
       "      <td>2</td>\n",
       "      <td>0</td>\n",
       "      <td>0</td>\n",
       "      <td>0</td>\n",
       "      <td>0</td>\n",
       "      <td>0</td>\n",
       "    </tr>\n",
       "    <tr>\n",
       "      <th>3</th>\n",
       "      <td>191840759C  A   001</td>\n",
       "      <td>06/01/2019</td>\n",
       "      <td>07/01/2019</td>\n",
       "      <td>O</td>\n",
       "      <td>N</td>\n",
       "      <td>plus_50pc</td>\n",
       "      <td>25/10/2015</td>\n",
       "      <td>2023-12-31 00:00:00</td>\n",
       "      <td>PRO</td>\n",
       "      <td>N</td>\n",
       "      <td>...</td>\n",
       "      <td>Garage moyen</td>\n",
       "      <td>Pays de la Loire</td>\n",
       "      <td>Ouest</td>\n",
       "      <td>MO+IP+PIECES</td>\n",
       "      <td>2</td>\n",
       "      <td>0</td>\n",
       "      <td>0</td>\n",
       "      <td>0</td>\n",
       "      <td>0</td>\n",
       "      <td>0</td>\n",
       "    </tr>\n",
       "    <tr>\n",
       "      <th>4</th>\n",
       "      <td>191840075AV A   003</td>\n",
       "      <td>01/01/2019</td>\n",
       "      <td>02/01/2019</td>\n",
       "      <td>O</td>\n",
       "      <td>N</td>\n",
       "      <td>plus_50pc</td>\n",
       "      <td>10/06/2015</td>\n",
       "      <td>11/03/2016</td>\n",
       "      <td>PRO</td>\n",
       "      <td>N</td>\n",
       "      <td>...</td>\n",
       "      <td>Garage moyen</td>\n",
       "      <td>NaN</td>\n",
       "      <td>I</td>\n",
       "      <td>MO+IP+PIECES</td>\n",
       "      <td>2</td>\n",
       "      <td>0</td>\n",
       "      <td>0</td>\n",
       "      <td>0</td>\n",
       "      <td>0</td>\n",
       "      <td>0</td>\n",
       "    </tr>\n",
       "  </tbody>\n",
       "</table>\n",
       "<p>5 rows × 116 columns</p>\n",
       "</div>"
      ],
      "text/plain": [
       "               cle_sin    date_evt date_evt_decla clos sans_suite quart_resp  \\\n",
       "0  191840439C  A   018  02/01/2019     04/01/2019    O          N  plus_50pc   \n",
       "1  191840048C  A   001  01/01/2019     02/01/2019    N          N  plus_50pc   \n",
       "2  191840501C  A   010  03/01/2019     04/01/2019    O          N  plus_50pc   \n",
       "3  191840759C  A   001  06/01/2019     07/01/2019    O          N  plus_50pc   \n",
       "4  191840075AV A   003  01/01/2019     02/01/2019    O          N  plus_50pc   \n",
       "\n",
       "  date_premsous       date_dernrempl formule_ratt cond_indet  ...  \\\n",
       "0    29/06/1987           09/01/2015          PRO          N  ...   \n",
       "1    10/11/2018  2023-12-31 00:00:00          PRO          N  ...   \n",
       "2    13/07/2016           03/04/2018          PRO          N  ...   \n",
       "3    25/10/2015  2023-12-31 00:00:00          PRO          N  ...   \n",
       "4    10/06/2015           11/03/2016          PRO          N  ...   \n",
       "\n",
       "        garag_g              Region   Zone  structure_sinistre structure_id  \\\n",
       "0  Petit garage  Nouvelle-Aquitaine  Ouest        MO+IP+PIECES            2   \n",
       "1  Garage moyen    Pays de la Loire  Ouest        MO+IP+PIECES            2   \n",
       "2  Garage moyen    Pays de la Loire  Ouest        MO+IP+PIECES            2   \n",
       "3  Garage moyen    Pays de la Loire  Ouest        MO+IP+PIECES            2   \n",
       "4  Garage moyen                 NaN      I        MO+IP+PIECES            2   \n",
       "\n",
       "  year_2020 year_2021 year_2022 year_2023 year_2024  \n",
       "0         0         0         0         0         0  \n",
       "1         0         0         0         0         0  \n",
       "2         0         0         0         0         0  \n",
       "3         0         0         0         0         0  \n",
       "4         0         0         0         0         0  \n",
       "\n",
       "[5 rows x 116 columns]"
      ]
     },
     "execution_count": 69,
     "metadata": {},
     "output_type": "execute_result"
    }
   ],
   "source": [
    "datap_sm.head()"
   ]
  },
  {
   "cell_type": "code",
   "execution_count": 11,
   "id": "5e3f19a8",
   "metadata": {},
   "outputs": [
    {
     "name": "stdout",
     "output_type": "stream",
     "text": [
      "['cle_sin', 'date_evt', 'date_evt_decla', 'clos', 'sans_suite', 'quart_resp', 'date_premsous', 'date_dernrempl', 'formule_ratt', 'cond_indet', 'date_nais', 'age', 'date_permis', 'anc_permis', 'sexe', 'profess', 'sitfam', 'orig_attest', 'aac', 'date_sortie_veh', 'age_veh', 'usage2', 'franch', 'rachat_francBG', 'garag', 'marq', 'modele2', 'generation', 'modele_desc', 'caros', 'segment', 'energ', 'num_sra', 'cylin', 'pdyne', 'pkw', 'pfisc', 'vites', 'pvid', 'poidspuiss', 'sport', 'frein', 'cdval', 'trans', 'alim', 'suspe', 'boite', 'val', 'couple', 'airbag', 'crash', 'co2min', 'elt_secu', 'vu', 'pickup', 'luxe', 'prestige', 'soumis_crm', 'crm', 'boncond', 'nab50', 'bureau_ratt', 'fract_paiem_soc', 'formule_gar', 'petit_rouleur', 'systeme', 'exercice', 'GARANTIE_HOST', 'ZN_NO_RAPPORT_EXPTIS', 'NB_REP', 'NBHH_MO_REPARABLE', 'TAUX_HORAIRE_MO', 'NBHH_IP_REPARABLE', 'NB_PIECES_REEMPLOI', 'RE_AVEC_PIECE_REEMPLOI', 'RE_AVEC_PIECE_REPAR_MP', 'RE_AVEC_PIECE_REMPL_MP', 'LIB_CHOC', 'LIB_INTENS', 'GARAGE_AGREE_O_N', 'DPT_REP', '_RESEAU_', 'NB_PIECE_REMPLACEE', 'NB_PIECE_REPAREE', 'veh_info_manquante', 'date_ord', 'date_sortie_veh_imputee', 'annee_sortie_veh', 'date_nais_f', 'date_permis_f', 'formule_ratt_g', 'sitfam_g', 'usage2_g', 'orig_attest_g', 'caros_g', 'segment_g', 'energ_g', 'frein_g', 'alim_g', 'suspe_g', 'crash_g', 'fract_paiem_soc_g', 'cdval_g', 'modele2_g', 'profess_g', 'marq_g', 'garag_g', 'Region', 'Zone', 'structure_sinistre', 'structure_id', 'year_2020', 'year_2021', 'year_2022', 'year_2023', 'year_2024']\n"
     ]
    }
   ],
   "source": [
    "print(list(datap_sm.columns))"
   ]
  },
  {
   "cell_type": "code",
   "execution_count": 70,
   "id": "b699b09e",
   "metadata": {},
   "outputs": [
    {
     "name": "stdout",
     "output_type": "stream",
     "text": [
      "116 variables initiales → 62 après exclusion.\n"
     ]
    }
   ],
   "source": [
    "# ---------------------------------------------\n",
    "# 1. Liste des variables à exclure\n",
    "# ---------------------------------------------\n",
    "exclure = [\n",
    "    'date_evt_decla', 'clos', 'sans_suite', 'quart_resp', 'date_premsous',\n",
    "    'date_dernrempl', 'formule_ratt', 'cond_indet', 'date_nais', 'Zone',\n",
    "    'date_permis', 'anc_permis', 'sexe', 'profess', 'sitfam', 'orig_attest',\n",
    "    'date_sortie_veh', 'usage2', 'franch', 'rachat_francBG',\n",
    "    'garag', 'marq', 'modele2', 'generation', 'modele_desc', 'caros',\n",
    "    'segment', 'energ', 'num_sra', 'cylin', 'pdyne', 'pfisc', 'vites',\n",
    "    'pvid', 'bureau_ratt', 'fract_paiem_soc', 'formule_gar', 'petit_rouleur',\n",
    "    'systeme', 'exercice', 'GARANTIE_HOST', 'ZN_NO_RAPPORT_EXPTIS', 'NB_REP',\n",
    "    'NBHH_MO_REPARABLE', 'TAUX_HORAIRE_MO', 'NBHH_IP_REPARABLE',\n",
    "    'NB_PIECES_REEMPLOI', 'RE_AVEC_PIECE_REEMPLOI', 'RE_AVEC_PIECE_REPAR_MP',\n",
    "    'RE_AVEC_PIECE_REMPL_MP', 'veh_info_manquante', 'date_ord',\n",
    "    'date_sortie_veh_imputee', 'DPT_REP'\n",
    "]\n",
    "\n",
    "# ---------------------------------------------\n",
    "# 2. Variable d’origine : par ex. non_montants\n",
    "#    (remplace par le nom réel de ta liste)\n",
    "# ---------------------------------------------\n",
    "# non_montants = [...]  # ta liste existante\n",
    "\n",
    "# ---------------------------------------------\n",
    "# 3. Création de la nouvelle liste filtrée\n",
    "# ---------------------------------------------\n",
    "vars_filtrees = [col for col in non_montants if col not in exclure]\n",
    "\n",
    "print(f\"{len(non_montants)} variables initiales → {len(vars_filtrees)} après exclusion.\")\n",
    "\n",
    "datap_s = datap_sm[vars_filtrees].copy()\n"
   ]
  },
  {
   "cell_type": "code",
   "execution_count": 71,
   "id": "79a2886e",
   "metadata": {},
   "outputs": [
    {
     "name": "stdout",
     "output_type": "stream",
     "text": [
      "['cle_sin', 'date_evt', 'age', 'aac', 'age_veh', 'pkw', 'poidspuiss', 'sport', 'frein', 'cdval', 'trans', 'alim', 'suspe', 'boite', 'val', 'couple', 'airbag', 'crash', 'co2min', 'elt_secu', 'vu', 'pickup', 'luxe', 'prestige', 'soumis_crm', 'crm', 'boncond', 'nab50', 'LIB_CHOC', 'LIB_INTENS', 'GARAGE_AGREE_O_N', '_RESEAU_', 'NB_PIECE_REMPLACEE', 'NB_PIECE_REPAREE', 'annee_sortie_veh', 'date_nais_f', 'date_permis_f', 'formule_ratt_g', 'sitfam_g', 'usage2_g', 'orig_attest_g', 'caros_g', 'segment_g', 'energ_g', 'frein_g', 'alim_g', 'suspe_g', 'crash_g', 'fract_paiem_soc_g', 'cdval_g', 'modele2_g', 'profess_g', 'marq_g', 'garag_g', 'Region', 'structure_sinistre', 'structure_id', 'year_2020', 'year_2021', 'year_2022', 'year_2023', 'year_2024']\n"
     ]
    }
   ],
   "source": [
    "print(list(datap_s.columns))"
   ]
  },
  {
   "cell_type": "code",
   "execution_count": null,
   "id": "d570beac",
   "metadata": {},
   "outputs": [],
   "source": [
    "# 4) enregistrer si besoin ----------------------------------------------------\n",
    "datap_s.to_csv(path + \"basefinproba_sans_montants.csv\", index=False, encoding=\"utf-8\")\n"
   ]
  },
  {
   "cell_type": "code",
   "execution_count": 72,
   "id": "68ac93d3",
   "metadata": {},
   "outputs": [
    {
     "data": {
      "text/html": [
       "<div>\n",
       "<style scoped>\n",
       "    .dataframe tbody tr th:only-of-type {\n",
       "        vertical-align: middle;\n",
       "    }\n",
       "\n",
       "    .dataframe tbody tr th {\n",
       "        vertical-align: top;\n",
       "    }\n",
       "\n",
       "    .dataframe thead th {\n",
       "        text-align: right;\n",
       "    }\n",
       "</style>\n",
       "<table border=\"1\" class=\"dataframe\">\n",
       "  <thead>\n",
       "    <tr style=\"text-align: right;\">\n",
       "      <th></th>\n",
       "      <th>cle_sin</th>\n",
       "      <th>date_evt</th>\n",
       "      <th>age</th>\n",
       "      <th>aac</th>\n",
       "      <th>age_veh</th>\n",
       "      <th>pkw</th>\n",
       "      <th>poidspuiss</th>\n",
       "      <th>sport</th>\n",
       "      <th>frein</th>\n",
       "      <th>cdval</th>\n",
       "      <th>...</th>\n",
       "      <th>marq_g</th>\n",
       "      <th>garag_g</th>\n",
       "      <th>Region</th>\n",
       "      <th>structure_sinistre</th>\n",
       "      <th>structure_id</th>\n",
       "      <th>year_2020</th>\n",
       "      <th>year_2021</th>\n",
       "      <th>year_2022</th>\n",
       "      <th>year_2023</th>\n",
       "      <th>year_2024</th>\n",
       "    </tr>\n",
       "  </thead>\n",
       "  <tbody>\n",
       "    <tr>\n",
       "      <th>0</th>\n",
       "      <td>191840439C  A   018</td>\n",
       "      <td>02/01/2019</td>\n",
       "      <td>84.0</td>\n",
       "      <td>N</td>\n",
       "      <td>3.0</td>\n",
       "      <td>66.0</td>\n",
       "      <td>12.0</td>\n",
       "      <td>nn_spt</td>\n",
       "      <td>ABS</td>\n",
       "      <td>V06</td>\n",
       "      <td>...</td>\n",
       "      <td>Généralistes</td>\n",
       "      <td>Petit garage</td>\n",
       "      <td>Nouvelle-Aquitaine</td>\n",
       "      <td>MO+IP+PIECES</td>\n",
       "      <td>2</td>\n",
       "      <td>0</td>\n",
       "      <td>0</td>\n",
       "      <td>0</td>\n",
       "      <td>0</td>\n",
       "      <td>0</td>\n",
       "    </tr>\n",
       "    <tr>\n",
       "      <th>1</th>\n",
       "      <td>191840048C  A   001</td>\n",
       "      <td>01/01/2019</td>\n",
       "      <td>18.0</td>\n",
       "      <td>O</td>\n",
       "      <td>6.0</td>\n",
       "      <td>51.5</td>\n",
       "      <td>15.0</td>\n",
       "      <td>nn_spt</td>\n",
       "      <td>ABS</td>\n",
       "      <td>V06</td>\n",
       "      <td>...</td>\n",
       "      <td>Autres</td>\n",
       "      <td>Garage moyen</td>\n",
       "      <td>Pays de la Loire</td>\n",
       "      <td>MO+IP+PIECES</td>\n",
       "      <td>2</td>\n",
       "      <td>0</td>\n",
       "      <td>0</td>\n",
       "      <td>0</td>\n",
       "      <td>0</td>\n",
       "      <td>0</td>\n",
       "    </tr>\n",
       "    <tr>\n",
       "      <th>2</th>\n",
       "      <td>191840501C  A   010</td>\n",
       "      <td>03/01/2019</td>\n",
       "      <td>67.0</td>\n",
       "      <td>N</td>\n",
       "      <td>6.0</td>\n",
       "      <td>180.0</td>\n",
       "      <td>7.0</td>\n",
       "      <td>spt</td>\n",
       "      <td>ABS</td>\n",
       "      <td>V24</td>\n",
       "      <td>...</td>\n",
       "      <td>Premium</td>\n",
       "      <td>Garage moyen</td>\n",
       "      <td>Pays de la Loire</td>\n",
       "      <td>MO+IP+PIECES</td>\n",
       "      <td>2</td>\n",
       "      <td>0</td>\n",
       "      <td>0</td>\n",
       "      <td>0</td>\n",
       "      <td>0</td>\n",
       "      <td>0</td>\n",
       "    </tr>\n",
       "    <tr>\n",
       "      <th>3</th>\n",
       "      <td>191840759C  A   001</td>\n",
       "      <td>06/01/2019</td>\n",
       "      <td>40.0</td>\n",
       "      <td>N</td>\n",
       "      <td>12.0</td>\n",
       "      <td>78.0</td>\n",
       "      <td>13.0</td>\n",
       "      <td>nn_spt</td>\n",
       "      <td>ABS</td>\n",
       "      <td>V09</td>\n",
       "      <td>...</td>\n",
       "      <td>Généralistes</td>\n",
       "      <td>Garage moyen</td>\n",
       "      <td>Pays de la Loire</td>\n",
       "      <td>MO+IP+PIECES</td>\n",
       "      <td>2</td>\n",
       "      <td>0</td>\n",
       "      <td>0</td>\n",
       "      <td>0</td>\n",
       "      <td>0</td>\n",
       "      <td>0</td>\n",
       "    </tr>\n",
       "    <tr>\n",
       "      <th>4</th>\n",
       "      <td>191840075AV A   003</td>\n",
       "      <td>01/01/2019</td>\n",
       "      <td>47.0</td>\n",
       "      <td>N</td>\n",
       "      <td>3.0</td>\n",
       "      <td>84.0</td>\n",
       "      <td>12.0</td>\n",
       "      <td>nn_spt</td>\n",
       "      <td>ABS</td>\n",
       "      <td>V11</td>\n",
       "      <td>...</td>\n",
       "      <td>Généralistes</td>\n",
       "      <td>Garage moyen</td>\n",
       "      <td>NaN</td>\n",
       "      <td>MO+IP+PIECES</td>\n",
       "      <td>2</td>\n",
       "      <td>0</td>\n",
       "      <td>0</td>\n",
       "      <td>0</td>\n",
       "      <td>0</td>\n",
       "      <td>0</td>\n",
       "    </tr>\n",
       "  </tbody>\n",
       "</table>\n",
       "<p>5 rows × 62 columns</p>\n",
       "</div>"
      ],
      "text/plain": [
       "               cle_sin    date_evt   age aac  age_veh    pkw  poidspuiss  \\\n",
       "0  191840439C  A   018  02/01/2019  84.0   N      3.0   66.0        12.0   \n",
       "1  191840048C  A   001  01/01/2019  18.0   O      6.0   51.5        15.0   \n",
       "2  191840501C  A   010  03/01/2019  67.0   N      6.0  180.0         7.0   \n",
       "3  191840759C  A   001  06/01/2019  40.0   N     12.0   78.0        13.0   \n",
       "4  191840075AV A   003  01/01/2019  47.0   N      3.0   84.0        12.0   \n",
       "\n",
       "    sport frein cdval  ...        marq_g       garag_g              Region  \\\n",
       "0  nn_spt   ABS   V06  ...  Généralistes  Petit garage  Nouvelle-Aquitaine   \n",
       "1  nn_spt   ABS   V06  ...        Autres  Garage moyen    Pays de la Loire   \n",
       "2     spt   ABS   V24  ...       Premium  Garage moyen    Pays de la Loire   \n",
       "3  nn_spt   ABS   V09  ...  Généralistes  Garage moyen    Pays de la Loire   \n",
       "4  nn_spt   ABS   V11  ...  Généralistes  Garage moyen                 NaN   \n",
       "\n",
       "  structure_sinistre  structure_id  year_2020  year_2021 year_2022  year_2023  \\\n",
       "0       MO+IP+PIECES             2          0          0         0          0   \n",
       "1       MO+IP+PIECES             2          0          0         0          0   \n",
       "2       MO+IP+PIECES             2          0          0         0          0   \n",
       "3       MO+IP+PIECES             2          0          0         0          0   \n",
       "4       MO+IP+PIECES             2          0          0         0          0   \n",
       "\n",
       "  year_2024  \n",
       "0         0  \n",
       "1         0  \n",
       "2         0  \n",
       "3         0  \n",
       "4         0  \n",
       "\n",
       "[5 rows x 62 columns]"
      ]
     },
     "execution_count": 72,
     "metadata": {},
     "output_type": "execute_result"
    }
   ],
   "source": [
    "datap_s.head()"
   ]
  },
  {
   "cell_type": "code",
   "execution_count": 15,
   "id": "cb1f8108",
   "metadata": {},
   "outputs": [
    {
     "name": "stdout",
     "output_type": "stream",
     "text": [
      "62\n"
     ]
    }
   ],
   "source": [
    "print(len(list(datap_s.columns)))"
   ]
  },
  {
   "cell_type": "markdown",
   "id": "6b0e11f8",
   "metadata": {},
   "source": [
    "## Petite sélection de variables"
   ]
  },
  {
   "cell_type": "code",
   "execution_count": 73,
   "id": "dae983f6",
   "metadata": {},
   "outputs": [],
   "source": [
    "from sklearn.preprocessing import OneHotEncoder\n",
    "\n",
    "# Remplace 'sparse' par 'sparse_output'\n",
    "encoder = OneHotEncoder(drop='first', sparse_output=False)"
   ]
  },
  {
   "cell_type": "code",
   "execution_count": 74,
   "id": "481ab019",
   "metadata": {},
   "outputs": [
    {
     "name": "stdout",
     "output_type": "stream",
     "text": [
      "19 variables numériques retenues\n",
      "39 variables qualitatives retenues\n"
     ]
    }
   ],
   "source": [
    "import pandas as pd\n",
    "import numpy as np\n",
    "\n",
    "# ------------------------------------------------------------------\n",
    "# 0) Variables à exclure\n",
    "# ------------------------------------------------------------------\n",
    "to_exclude = {\n",
    "    \"cle_sin\", \"structure_id\", \"structure_sinistre\",      # identifiants / cible\n",
    "    \"date_evt\", \"date_premsous\"                           # dates non transformées\n",
    "}\n",
    "\n",
    "# ------------------------------------------------------------------\n",
    "# 1) Détection automatique des variables numériques (quanti)\n",
    "# ------------------------------------------------------------------\n",
    "quant_vars = (\n",
    "    datap_s\n",
    "    .select_dtypes(include=[np.number])            # int, float, bool\n",
    "    .columns.difference(to_exclude)\n",
    "    .tolist()\n",
    ")\n",
    "\n",
    "# ------------------------------------------------------------------\n",
    "# 2) Détection automatique des variables qualitatives (quali)\n",
    "# ------------------------------------------------------------------\n",
    "qual_vars = (\n",
    "    datap_s\n",
    "    .select_dtypes(include=[\"object\", \"category\"])\n",
    "    .columns.difference(to_exclude)\n",
    "    .tolist()\n",
    ")\n",
    "\n",
    "print(f\"{len(quant_vars)} variables numériques retenues\")\n",
    "print(f\"{len(qual_vars)} variables qualitatives retenues\")\n"
   ]
  },
  {
   "cell_type": "code",
   "execution_count": 18,
   "id": "96a212c1",
   "metadata": {},
   "outputs": [],
   "source": [
    "# -----------------------------------------------------------------\n",
    "# 1. Sous-ensemble : uniquement les variables quantitatives\n",
    "# -----------------------------------------------------------------\n",
    "#X = datap_s[quant_vars].copy()\n",
    "#X = X.drop(columns=['structure_id'])\n"
   ]
  },
  {
   "cell_type": "code",
   "execution_count": 75,
   "id": "db29c462",
   "metadata": {},
   "outputs": [
    {
     "name": "stdout",
     "output_type": "stream",
     "text": [
      "['cle_sin', 'date_evt', 'age', 'aac', 'age_veh', 'pkw', 'poidspuiss', 'sport', 'frein', 'cdval', 'trans', 'alim', 'suspe', 'boite', 'val', 'couple', 'airbag', 'crash', 'co2min', 'elt_secu', 'vu', 'pickup', 'luxe', 'prestige', 'soumis_crm', 'crm', 'boncond', 'nab50', 'LIB_CHOC', 'LIB_INTENS', 'GARAGE_AGREE_O_N', '_RESEAU_', 'NB_PIECE_REMPLACEE', 'NB_PIECE_REPAREE', 'annee_sortie_veh', 'date_nais_f', 'date_permis_f', 'formule_ratt_g', 'sitfam_g', 'usage2_g', 'orig_attest_g', 'caros_g', 'segment_g', 'energ_g', 'frein_g', 'alim_g', 'suspe_g', 'crash_g', 'fract_paiem_soc_g', 'cdval_g', 'modele2_g', 'profess_g', 'marq_g', 'garag_g', 'Region', 'structure_sinistre', 'structure_id', 'year_2020', 'year_2021', 'year_2022', 'year_2023', 'year_2024']\n"
     ]
    }
   ],
   "source": [
    "print(list(datap_s.columns))"
   ]
  },
  {
   "cell_type": "code",
   "execution_count": 98,
   "id": "e2cfcb49",
   "metadata": {},
   "outputs": [
    {
     "name": "stdout",
     "output_type": "stream",
     "text": [
      "              variable          VIF\n",
      "5     annee_sortie_veh  1228.068416\n",
      "6              boncond  1104.917826\n",
      "11                 pkw    87.964159\n",
      "12          poidspuiss    49.000396\n",
      "9                  crm    39.228716\n",
      "13                 val    36.179551\n",
      "2                  age    18.552097\n",
      "7               co2min    17.605847\n",
      "8               couple    12.064447\n",
      "4               airbag    10.377932\n",
      "3              age_veh     4.139207\n",
      "10               nab50     2.754166\n",
      "1     NB_PIECE_REPAREE     2.327961\n",
      "18           year_2024     2.289180\n",
      "17           year_2023     2.135326\n",
      "16           year_2022     2.030811\n",
      "15           year_2021     1.987809\n",
      "14           year_2020     1.855776\n",
      "0   NB_PIECE_REMPLACEE     1.661903\n"
     ]
    }
   ],
   "source": [
    "from statsmodels.stats.outliers_influence import variance_inflation_factor\n",
    "Z = datap_s[quant_vars].copy()\n",
    "\n",
    "vif = pd.DataFrame({\n",
    "    \"variable\": Z.columns,\n",
    "    \"VIF\"     : [variance_inflation_factor(X.values, i)\n",
    "                 for i in range(X.shape[1])]\n",
    "})\n",
    "print(vif.sort_values(\"VIF\", ascending=False))\n"
   ]
  },
  {
   "cell_type": "code",
   "execution_count": 94,
   "id": "df874994",
   "metadata": {},
   "outputs": [],
   "source": [
    "from statsmodels.stats.outliers_influence import variance_inflation_factor\n",
    "import pandas as pd\n",
    "\n",
    "def calcul_vif(Z):\n",
    "    \"\"\"Calcule les VIFs pour chaque variable de X.\"\"\"\n",
    "    vif = pd.DataFrame()\n",
    "    vif[\"variable\"] = Z.columns\n",
    "    vif[\"VIF\"] = [variance_inflation_factor(X.values, i) for i in range(Z.shape[1])]\n",
    "    return vif\n",
    "\n",
    "def supprimer_vif(Z, seuil=10):\n",
    "    \"\"\"Supprime récursivement les variables avec un VIF supérieur au seuil.\"\"\"\n",
    "    Z_clean = Z.copy()\n",
    "    iteration = 1\n",
    "    while True:\n",
    "        vif = calcul_vif(Z_clean)\n",
    "        max_vif = vif[\"VIF\"].max()\n",
    "        if max_vif > seuil:\n",
    "            var_a_suppr = vif.sort_values(\"VIF\", ascending=False).iloc[0][\"variable\"]\n",
    "            print(f\"[Itération {iteration}] Suppression de '{var_a_suppr}' avec VIF = {max_vif:.2f}\")\n",
    "            Z_clean = Z_clean.drop(columns=[var_a_suppr])\n",
    "            iteration += 1\n",
    "        else:\n",
    "            break\n",
    "    print(f\"\\n✅ Variables finales conservées ({Z_clean.shape[1]}):\\n{list(Z_clean.columns)}\")\n",
    "    return Z_clean\n"
   ]
  },
  {
   "cell_type": "markdown",
   "id": "60f40de3",
   "metadata": {},
   "source": [
    "VAR QUAL"
   ]
  },
  {
   "cell_type": "code",
   "execution_count": 115,
   "id": "434fdd1a",
   "metadata": {},
   "outputs": [
    {
     "ename": "MemoryError",
     "evalue": "Unable to allocate 6.32 GiB for an array with shape (847683225,) and data type float64",
     "output_type": "error",
     "traceback": [
      "\u001b[31m---------------------------------------------------------------------------\u001b[39m",
      "\u001b[31mMemoryError\u001b[39m                               Traceback (most recent call last)",
      "\u001b[32m~\\AppData\\Local\\Temp\\ipykernel_19768\\1000011653.py\u001b[39m in \u001b[36m?\u001b[39m\u001b[34m()\u001b[39m\n\u001b[32m     19\u001b[39m     \u001b[38;5;28;01mreturn\u001b[39;00m V\n\u001b[32m     20\u001b[39m \n\u001b[32m     21\u001b[39m \u001b[38;5;66;03m# --- utilisation ------------------------------------------------------------\u001b[39;00m\n\u001b[32m     22\u001b[39m cat_cols = qual_vars                            \u001b[38;5;66;03m# tes variables qualitatives\u001b[39;00m\n\u001b[32m---> \u001b[39m\u001b[32m23\u001b[39m V = matrice_cramer(datap_s, cat_cols)\n\u001b[32m     24\u001b[39m \n\u001b[32m     25\u001b[39m \u001b[38;5;66;03m# lister les couples très corrélés (|V| > 0.7)\u001b[39;00m\n\u001b[32m     26\u001b[39m thr = \u001b[32m0.7\u001b[39m\n",
      "\u001b[32m~\\AppData\\Local\\Temp\\ipykernel_19768\\1000011653.py\u001b[39m in \u001b[36m?\u001b[39m\u001b[34m(df, cat_cols)\u001b[39m\n\u001b[32m     14\u001b[39m     \u001b[33m\"\"\"Renvoie une matrice DataFrame de Cramér’s V pour toutes les paires.\"\"\"\u001b[39m\n\u001b[32m     15\u001b[39m     V = pd.DataFrame(index=cat_cols, columns=cat_cols, dtype=float)\n\u001b[32m     16\u001b[39m     \u001b[38;5;28;01mfor\u001b[39;00m i, col1 \u001b[38;5;28;01min\u001b[39;00m enumerate(cat_cols):\n\u001b[32m     17\u001b[39m         \u001b[38;5;28;01mfor\u001b[39;00m col2 \u001b[38;5;28;01min\u001b[39;00m cat_cols[i:]:\n\u001b[32m---> \u001b[39m\u001b[32m18\u001b[39m             V.loc[col1, col2] = V.loc[col2, col1] = cramer_v(df[col1], df[col2])\n\u001b[32m     19\u001b[39m     \u001b[38;5;28;01mreturn\u001b[39;00m V\n",
      "\u001b[32m~\\AppData\\Local\\Temp\\ipykernel_19768\\1000011653.py\u001b[39m in \u001b[36m?\u001b[39m\u001b[34m(x, y)\u001b[39m\n\u001b[32m      5\u001b[39m \u001b[38;5;28;01mdef\u001b[39;00m cramer_v(x, y):\n\u001b[32m      6\u001b[39m     \u001b[33m\"\"\"Cramér’s V pour deux variables catégorielles pandas (sans correction).\"\"\"\u001b[39m\n\u001b[32m      7\u001b[39m     confusion = pd.crosstab(x, y)\n\u001b[32m----> \u001b[39m\u001b[32m8\u001b[39m     chi2 = chi2_contingency(confusion, correction=\u001b[38;5;28;01mFalse\u001b[39;00m)[\u001b[32m0\u001b[39m]\n\u001b[32m      9\u001b[39m     n    = confusion.sum().sum()\n\u001b[32m     10\u001b[39m     k,r  = confusion.shape               \u001b[38;5;66;03m# colonnes, lignes\u001b[39;00m\n\u001b[32m     11\u001b[39m     \u001b[38;5;28;01mreturn\u001b[39;00m np.sqrt(chi2 / (n * (min(k, r) - \u001b[32m1\u001b[39m)))\n",
      "\u001b[32mc:\\Users\\esthelle.kuissu\\OneDrive - Exiom Partners\\Documents\\Code_rapport_stage\\Note_book\\Exiom_Stage\\.venv\\Lib\\site-packages\\scipy\\stats\\contingency.py\u001b[39m in \u001b[36m?\u001b[39m\u001b[34m(observed, correction, lambda_, method)\u001b[39m\n\u001b[32m    344\u001b[39m             direction = np.sign(diff)\n\u001b[32m    345\u001b[39m             magnitude = np.minimum(\u001b[32m0.5\u001b[39m, np.abs(diff))\n\u001b[32m    346\u001b[39m             observed = observed + magnitude * direction\n\u001b[32m    347\u001b[39m \n\u001b[32m--> \u001b[39m\u001b[32m348\u001b[39m         chi2, p = power_divergence(observed, expected,\n\u001b[32m    349\u001b[39m                                    ddof=observed.size - \u001b[32m1\u001b[39m - dof, axis=\u001b[38;5;28;01mNone\u001b[39;00m,\n\u001b[32m    350\u001b[39m                                    lambda_=lambda_)\n\u001b[32m    351\u001b[39m \n",
      "\u001b[32mc:\\Users\\esthelle.kuissu\\OneDrive - Exiom Partners\\Documents\\Code_rapport_stage\\Note_book\\Exiom_Stage\\.venv\\Lib\\site-packages\\scipy\\stats\\_axis_nan_policy.py\u001b[39m in \u001b[36m?\u001b[39m\u001b[34m(***failed resolving arguments***)\u001b[39m\n\u001b[32m    575\u001b[39m                     res = np.full(n_out, NaN)\n\u001b[32m    576\u001b[39m                     res = _add_reduced_axes(res, reduced_axes, keepdims)\n\u001b[32m    577\u001b[39m                     \u001b[38;5;28;01mreturn\u001b[39;00m tuple_to_result(*res)\n\u001b[32m    578\u001b[39m \n\u001b[32m--> \u001b[39m\u001b[32m579\u001b[39m                 res = hypotest_fun_out(*samples, **kwds)\n\u001b[32m    580\u001b[39m                 res = result_to_tuple(res, n_out)\n\u001b[32m    581\u001b[39m                 res = _add_reduced_axes(res, reduced_axes, keepdims)\n\u001b[32m    582\u001b[39m                 \u001b[38;5;28;01mreturn\u001b[39;00m tuple_to_result(*res)\n",
      "\u001b[32mc:\\Users\\esthelle.kuissu\\OneDrive - Exiom Partners\\Documents\\Code_rapport_stage\\Note_book\\Exiom_Stage\\.venv\\Lib\\site-packages\\scipy\\stats\\_stats_py.py\u001b[39m in \u001b[36m?\u001b[39m\u001b[34m(f_obs, f_exp, ddof, axis, lambda_)\u001b[39m\n\u001b[32m   7343\u001b[39m     ...                  axis=1)\n\u001b[32m   7344\u001b[39m     (array([ \u001b[32m3.5\u001b[39m ,  \u001b[32m9.25\u001b[39m]), array([ \u001b[32m0.62338763\u001b[39m,  \u001b[32m0.09949846\u001b[39m]))\n\u001b[32m   7345\u001b[39m \n\u001b[32m   7346\u001b[39m     \"\"\"\n\u001b[32m-> \u001b[39m\u001b[32m7347\u001b[39m     \u001b[38;5;28;01mreturn\u001b[39;00m _power_divergence(f_obs, f_exp=f_exp, ddof=ddof, axis=axis, lambda_=lambda_)\n",
      "\u001b[32mc:\\Users\\esthelle.kuissu\\OneDrive - Exiom Partners\\Documents\\Code_rapport_stage\\Note_book\\Exiom_Stage\\.venv\\Lib\\site-packages\\scipy\\stats\\_stats_py.py\u001b[39m in \u001b[36m?\u001b[39m\u001b[34m(f_obs, f_exp, ddof, axis, lambda_, sum_check)\u001b[39m\n\u001b[32m   7396\u001b[39m     \u001b[38;5;66;03m# the test statistic.  We use some specialized code for a few special\u001b[39;00m\n\u001b[32m   7397\u001b[39m     \u001b[38;5;66;03m# cases of lambda_.\u001b[39;00m\n\u001b[32m   7398\u001b[39m     \u001b[38;5;28;01mif\u001b[39;00m lambda_ == \u001b[32m1\u001b[39m:\n\u001b[32m   7399\u001b[39m         \u001b[38;5;66;03m# Pearson's chi-squared statistic\u001b[39;00m\n\u001b[32m-> \u001b[39m\u001b[32m7400\u001b[39m         terms = (f_obs - f_exp)**\u001b[32m2\u001b[39m / f_exp\n\u001b[32m   7401\u001b[39m     \u001b[38;5;28;01melif\u001b[39;00m lambda_ == \u001b[32m0\u001b[39m:\n\u001b[32m   7402\u001b[39m         \u001b[38;5;66;03m# Log-likelihood ratio (i.e. G-test)\u001b[39;00m\n\u001b[32m   7403\u001b[39m         terms = \u001b[32m2.0\u001b[39m * special.xlogy(f_obs, f_obs / f_exp)\n",
      "\u001b[31mMemoryError\u001b[39m: Unable to allocate 6.32 GiB for an array with shape (847683225,) and data type float64"
     ]
    }
   ],
   "source": [
    "import pandas as pd\n",
    "import numpy as np\n",
    "from scipy.stats import chi2_contingency\n",
    "\n",
    "def cramer_v(x, y):\n",
    "    \"\"\"Cramér’s V pour deux variables catégorielles pandas (sans correction).\"\"\"\n",
    "    confusion = pd.crosstab(x, y)\n",
    "    chi2 = chi2_contingency(confusion, correction=False)[0]\n",
    "    n    = confusion.sum().sum()\n",
    "    k,r  = confusion.shape               # colonnes, lignes\n",
    "    return np.sqrt(chi2 / (n * (min(k, r) - 1)))\n",
    "\n",
    "def matrice_cramer(df, cat_cols):\n",
    "    \"\"\"Renvoie une matrice DataFrame de Cramér’s V pour toutes les paires.\"\"\"\n",
    "    V = pd.DataFrame(index=cat_cols, columns=cat_cols, dtype=float)\n",
    "    for i, col1 in enumerate(cat_cols):\n",
    "        for col2 in cat_cols[i:]:\n",
    "            V.loc[col1, col2] = V.loc[col2, col1] = cramer_v(df[col1], df[col2])\n",
    "    return V\n",
    "\n",
    "# --- utilisation ------------------------------------------------------------\n",
    "cat_cols = qual_vars                            # tes variables qualitatives\n",
    "V = matrice_cramer(datap_s, cat_cols)\n",
    "\n",
    "# lister les couples très corrélés (|V| > 0.7)\n",
    "thr = 0.7\n",
    "corr_pairs = (\n",
    "    V.where(np.triu(np.ones(V.shape), k=1).astype(bool))\n",
    "      .stack()\n",
    "      .reset_index()\n",
    "      .rename(columns={0: 'CramerV'})\n",
    "      .query('CramerV > @thr')\n",
    "      .sort_values('CramerV', ascending=False)\n",
    ")\n",
    "print(corr_pairs.head())\n"
   ]
  },
  {
   "cell_type": "code",
   "execution_count": 76,
   "id": "477e7321",
   "metadata": {},
   "outputs": [],
   "source": [
    "vars_to_remove = [\n",
    "    'cdval',\n",
    "    'crash',\n",
    "    'alim',\n",
    "    '_RESEAU_',  # ou GARAGE_AGREE_O_N\n",
    "    'frein'\n",
    "]\n"
   ]
  },
  {
   "cell_type": "code",
   "execution_count": 77,
   "id": "46bce3ba",
   "metadata": {},
   "outputs": [],
   "source": [
    "datap_s = datap_s.drop(columns=vars_to_remove)"
   ]
  },
  {
   "cell_type": "code",
   "execution_count": 78,
   "id": "6a9fb011",
   "metadata": {},
   "outputs": [],
   "source": [
    "\n",
    "var_remove = [\n",
    "    'boncond',\n",
    "    'pkw',\n",
    "    'poidspuiss',\n",
    "    'crm',  # ou GARAGE_AGREE_O_N\n",
    "    'val',\n",
    "    'age',\n",
    "    'co2min',\n",
    "    'couple',\n",
    "    'airbag'\n",
    "]\n"
   ]
  },
  {
   "cell_type": "code",
   "execution_count": 79,
   "id": "e5275bb5",
   "metadata": {},
   "outputs": [],
   "source": [
    "datap_s = datap_s.drop(columns= var_remove)"
   ]
  },
  {
   "cell_type": "code",
   "execution_count": 80,
   "id": "0dfdf0d9",
   "metadata": {},
   "outputs": [
    {
     "name": "stdout",
     "output_type": "stream",
     "text": [
      "['cle_sin', 'date_evt', 'aac', 'age_veh', 'sport', 'trans', 'suspe', 'boite', 'elt_secu', 'vu', 'pickup', 'luxe', 'prestige', 'soumis_crm', 'nab50', 'LIB_CHOC', 'LIB_INTENS', 'GARAGE_AGREE_O_N', 'NB_PIECE_REMPLACEE', 'NB_PIECE_REPAREE', 'annee_sortie_veh', 'date_nais_f', 'date_permis_f', 'formule_ratt_g', 'sitfam_g', 'usage2_g', 'orig_attest_g', 'caros_g', 'segment_g', 'energ_g', 'frein_g', 'alim_g', 'suspe_g', 'crash_g', 'fract_paiem_soc_g', 'cdval_g', 'modele2_g', 'profess_g', 'marq_g', 'garag_g', 'Region', 'structure_sinistre', 'structure_id', 'year_2020', 'year_2021', 'year_2022', 'year_2023', 'year_2024']\n"
     ]
    }
   ],
   "source": [
    "print(list(datap_s.columns))"
   ]
  },
  {
   "cell_type": "markdown",
   "id": "000a049c",
   "metadata": {},
   "source": [
    "# ARRET ICI"
   ]
  },
  {
   "cell_type": "code",
   "execution_count": 81,
   "id": "a7a3e406",
   "metadata": {},
   "outputs": [
    {
     "name": "stdout",
     "output_type": "stream",
     "text": [
      "48 colonnes au départ → 46 conservées\n",
      "['aac', 'age_veh', 'sport', 'trans', 'suspe', 'boite', 'elt_secu', 'vu', 'pickup', 'luxe', 'prestige', 'soumis_crm', 'nab50', 'LIB_CHOC', 'LIB_INTENS'] ...\n"
     ]
    }
   ],
   "source": [
    "# ------------------------------------------------------------------\n",
    "# 1. Liste des variables à exclure\n",
    "# ------------------------------------------------------------------\n",
    "exclude_cols = {'date_evt', 'cle_sin'}   # ajoute-en d'autres si besoin\n",
    "\n",
    "# ------------------------------------------------------------------\n",
    "# 2. Création de vars_final\n",
    "# ------------------------------------------------------------------\n",
    "vars_final = [col for col in datap_s.columns if col not in exclude_cols]\n",
    "\n",
    "print(f\"{len(datap_s.columns)} colonnes au départ → {len(vars_final)} conservées\")\n",
    "print(vars_final[:15], \"...\")   # aperçu des 15 premières\n"
   ]
  },
  {
   "cell_type": "code",
   "execution_count": 82,
   "id": "11752ab1",
   "metadata": {},
   "outputs": [
    {
     "name": "stdout",
     "output_type": "stream",
     "text": [
      "['cle_sin', 'date_evt', 'aac', 'age_veh', 'sport', 'trans', 'suspe', 'boite', 'elt_secu', 'vu', 'pickup', 'luxe', 'prestige', 'soumis_crm', 'nab50', 'LIB_CHOC', 'LIB_INTENS', 'GARAGE_AGREE_O_N', 'NB_PIECE_REMPLACEE', 'NB_PIECE_REPAREE', 'annee_sortie_veh', 'date_nais_f', 'date_permis_f', 'formule_ratt_g', 'sitfam_g', 'usage2_g', 'orig_attest_g', 'caros_g', 'segment_g', 'energ_g', 'frein_g', 'alim_g', 'suspe_g', 'crash_g', 'fract_paiem_soc_g', 'cdval_g', 'modele2_g', 'profess_g', 'marq_g', 'garag_g', 'Region', 'structure_sinistre', 'structure_id', 'year_2020', 'year_2021', 'year_2022', 'year_2023', 'year_2024']\n"
     ]
    }
   ],
   "source": [
    "print(list(datap_s.columns))"
   ]
  },
  {
   "cell_type": "code",
   "execution_count": 83,
   "id": "ec01e86c",
   "metadata": {},
   "outputs": [
    {
     "name": "stdout",
     "output_type": "stream",
     "text": [
      "Requirement already satisfied: imbalanced-learn==0.13.0 in c:\\users\\esthelle.kuissu\\onedrive - exiom partners\\documents\\code_rapport_stage\\ex_rap_stage\\exiom_stage\\.venv\\lib\\site-packages (0.13.0)\n",
      "Requirement already satisfied: numpy<3,>=1.24.3 in c:\\users\\esthelle.kuissu\\onedrive - exiom partners\\documents\\code_rapport_stage\\ex_rap_stage\\exiom_stage\\.venv\\lib\\site-packages (from imbalanced-learn==0.13.0) (2.3.1)\n",
      "Requirement already satisfied: scipy<2,>=1.10.1 in c:\\users\\esthelle.kuissu\\onedrive - exiom partners\\documents\\code_rapport_stage\\ex_rap_stage\\exiom_stage\\.venv\\lib\\site-packages (from imbalanced-learn==0.13.0) (1.16.0)\n",
      "Requirement already satisfied: scikit-learn<2,>=1.3.2 in c:\\users\\esthelle.kuissu\\onedrive - exiom partners\\documents\\code_rapport_stage\\ex_rap_stage\\exiom_stage\\.venv\\lib\\site-packages (from imbalanced-learn==0.13.0) (1.6.1)\n",
      "Requirement already satisfied: sklearn-compat<1,>=0.1 in c:\\users\\esthelle.kuissu\\onedrive - exiom partners\\documents\\code_rapport_stage\\ex_rap_stage\\exiom_stage\\.venv\\lib\\site-packages (from imbalanced-learn==0.13.0) (0.1.3)\n",
      "Requirement already satisfied: joblib<2,>=1.1.1 in c:\\users\\esthelle.kuissu\\onedrive - exiom partners\\documents\\code_rapport_stage\\ex_rap_stage\\exiom_stage\\.venv\\lib\\site-packages (from imbalanced-learn==0.13.0) (1.5.1)\n",
      "Requirement already satisfied: threadpoolctl<4,>=2.0.0 in c:\\users\\esthelle.kuissu\\onedrive - exiom partners\\documents\\code_rapport_stage\\ex_rap_stage\\exiom_stage\\.venv\\lib\\site-packages (from imbalanced-learn==0.13.0) (3.6.0)\n"
     ]
    }
   ],
   "source": [
    "! pip install --upgrade pip          && ^\n",
    "! pip install \"scikit-learn==1.6.1\"  && ^\n",
    "! pip install \"imbalanced-learn==0.13.0\"\n"
   ]
  },
  {
   "cell_type": "code",
   "execution_count": 84,
   "id": "4eb9f756",
   "metadata": {},
   "outputs": [],
   "source": [
    "import pandas as pd\n",
    "from sklearn.preprocessing import OneHotEncoder\n",
    "from sklearn.compose import ColumnTransformer\n",
    "from sklearn.pipeline import Pipeline\n",
    "from sklearn.linear_model import LogisticRegression\n",
    "from sklearn.metrics import log_loss, confusion_matrix\n",
    "# ------------------------------------------------------------\n",
    "# a) Colonnes finales\n",
    "#    - vars_final_num  : toutes les quantitatives retenues\n",
    "#    - vars_final_cat  : toutes les qualitatives retenues\n",
    "# ------------------------------------------------------------\n",
    "#vars_final_num = [v for v in vars_final if (datap_s[v]).dtype.kind in \"iufcb\"]\n",
    "# Variables qu’on veut exclure de toutes façons\n",
    "vars_to_drop = {'boncond', 'pkw', 'poidspuiss', 'crm',  'val', 'age', 'co2min', 'couple', 'airbag', \"structure_id\", \"structure_sinistre\", 'cdval',\n",
    "    'crash', 'alim', '_RESEAU_',  'frein', 'age_veh'}\n",
    "\n",
    "vars_final_num = [\n",
    "    v for v in vars_final\n",
    "    if v in datap_s.columns and pd.api.types.is_numeric_dtype(datap_s[v])\n",
    "]\n",
    "\n",
    "vars_final_cat = [\n",
    "    v for v in vars_final\n",
    "    if v not in vars_final_num          # pas numériques\n",
    "    and v not in vars_to_drop           # pas dans la liste noire\n",
    "]\n",
    "\n",
    "X = datap_s[vars_final_num + vars_final_cat]   \n",
    "X = X.drop(columns=vars_to_drop, errors=\"ignore\")# matrice explicative\n",
    "y = datap_s[\"structure_id\"]                        # variable cible (1 à 7)"
   ]
  },
  {
   "cell_type": "code",
   "execution_count": 23,
   "id": "612b6e9e",
   "metadata": {},
   "outputs": [],
   "source": [
    "# 1. Séparer les lignes par structure_id\n",
    "base_1 = datap_s[datap_s[\"structure_id\"] == 1]\n",
    "base_2 = datap_s[datap_s[\"structure_id\"] == 2]\n",
    "\n",
    "# 2. Tirer aléatoirement le même nombre de lignes que base_1 depuis base_2\n",
    "n_1 = len(base_1)\n",
    "base_2_sampled = base_2.sample(n=n_1, random_state=42)\n",
    "\n",
    "# 3. Fusionner pour créer base2\n",
    "base2 = pd.concat([base_1, base_2_sampled], axis=0).sample(frac=1, random_state=42).reset_index(drop=True)"
   ]
  },
  {
   "cell_type": "code",
   "execution_count": 34,
   "id": "b3246ddc",
   "metadata": {},
   "outputs": [],
   "source": [
    "# 4. Séparer features et cible\n",
    "X = base2.drop(columns=[\"structure_id\", \"structure_sinistre\"])\n",
    "y = base2[\"structure_id\"]"
   ]
  },
  {
   "cell_type": "code",
   "execution_count": 85,
   "id": "37e345a6",
   "metadata": {},
   "outputs": [],
   "source": [
    "from sklearn.model_selection import train_test_split\n",
    "from sklearn.linear_model import LogisticRegression\n",
    "from sklearn.pipeline import Pipeline\n",
    "from sklearn.compose import ColumnTransformer\n",
    "from sklearn.preprocessing import StandardScaler, OneHotEncoder\n",
    "from sklearn.metrics import classification_report, confusion_matrix\n",
    "import pandas as pd\n",
    "import numpy as np\n",
    "import matplotlib.pyplot as plt\n",
    "\n",
    "# 5. Diviser en train/test\n",
    "X_train, X_test, y_train, y_test = train_test_split(X, y, stratify=y, test_size=0.3, random_state=42)"
   ]
  },
  {
   "cell_type": "code",
   "execution_count": 86,
   "id": "46ff7709",
   "metadata": {},
   "outputs": [
    {
     "name": "stdout",
     "output_type": "stream",
     "text": [
      "Variables quantitatives : ['nab50', 'NB_PIECE_REMPLACEE', 'NB_PIECE_REPAREE', 'annee_sortie_veh', 'year_2020', 'year_2021', 'year_2022', 'year_2023', 'year_2024']\n"
     ]
    }
   ],
   "source": [
    "var_quanti = X.select_dtypes(include=['int64', 'float64']).columns\n",
    "print(\"Variables quantitatives :\", list(var_quanti))\n"
   ]
  },
  {
   "cell_type": "code",
   "execution_count": 87,
   "id": "02baabbe",
   "metadata": {},
   "outputs": [
    {
     "name": "stdout",
     "output_type": "stream",
     "text": [
      "Variables qualitatives : ['aac', 'sport', 'trans', 'suspe', 'boite', 'elt_secu', 'vu', 'pickup', 'luxe', 'prestige', 'soumis_crm', 'LIB_CHOC', 'LIB_INTENS', 'GARAGE_AGREE_O_N', 'date_nais_f', 'date_permis_f', 'formule_ratt_g', 'sitfam_g', 'usage2_g', 'orig_attest_g', 'caros_g', 'segment_g', 'energ_g', 'frein_g', 'alim_g', 'suspe_g', 'crash_g', 'fract_paiem_soc_g', 'cdval_g', 'modele2_g', 'profess_g', 'marq_g', 'garag_g', 'Region']\n"
     ]
    }
   ],
   "source": [
    "var_quali = X.select_dtypes(include=['object', 'category']).columns\n",
    "print(\"Variables qualitatives :\", list(var_quali))\n"
   ]
  },
  {
   "cell_type": "code",
   "execution_count": 88,
   "id": "254b3786",
   "metadata": {},
   "outputs": [
    {
     "name": "stdout",
     "output_type": "stream",
     "text": [
      "['nab50', 'NB_PIECE_REMPLACEE', 'NB_PIECE_REPAREE', 'annee_sortie_veh', 'year_2020', 'year_2021', 'year_2022', 'year_2023', 'year_2024', 'aac', 'sport', 'trans', 'suspe', 'boite', 'elt_secu', 'vu', 'pickup', 'luxe', 'prestige', 'soumis_crm', 'LIB_CHOC', 'LIB_INTENS', 'GARAGE_AGREE_O_N', 'date_nais_f', 'date_permis_f', 'formule_ratt_g', 'sitfam_g', 'usage2_g', 'orig_attest_g', 'caros_g', 'segment_g', 'energ_g', 'frein_g', 'alim_g', 'suspe_g', 'crash_g', 'fract_paiem_soc_g', 'cdval_g', 'modele2_g', 'profess_g', 'marq_g', 'garag_g', 'Region']\n"
     ]
    }
   ],
   "source": [
    "print(list(X_train.columns))"
   ]
  },
  {
   "cell_type": "code",
   "execution_count": 40,
   "id": "8f10280a",
   "metadata": {},
   "outputs": [],
   "source": [
    "from sklearn.metrics import ConfusionMatrixDisplay"
   ]
  },
  {
   "cell_type": "code",
   "execution_count": null,
   "id": "f56b5f08",
   "metadata": {},
   "outputs": [],
   "source": [
    "def objective(trial):\n",
    "    # Hyperparamètres à explorer\n",
    "    C = trial.suggest_float(\"C\", 1e-4, 100, log=True)\n",
    "    ratio = trial.suggest_float(\"ratio\", 0.5, 2.0)\n",
    "    penalty = trial.suggest_categorical(\"penalty\", [\"l2\", \"none\"])\n",
    "    max_iter = trial.suggest_int(\"max_iter\", 300, 1000, step=100)\n",
    "\n",
    "    # SMOTE\n",
    "    smote = SMOTE(\n",
    "        sampling_strategy={minor_class: int(ratio * n_major)},\n",
    "        k_neighbors=5,\n",
    "        random_state=42\n",
    "    )\n",
    "\n",
    "    # Modèle\n",
    "    logit = LogisticRegression(\n",
    "        solver=\"saga\",  # saga supporte l2 et none\n",
    "        multi_class=\"multinomial\",\n",
    "        class_weight=\"balanced\",\n",
    "        penalty=penalty,\n",
    "        C=C,\n",
    "        max_iter=max_iter,\n",
    "        n_jobs=-1\n",
    "    )\n",
    "\n",
    "    # Pipeline\n",
    "    pipe = ImbPipeline([\n",
    "        (\"prep\", preprocess),\n",
    "        (\"smote\", smote),\n",
    "        (\"clf\", logit)\n",
    "    ])\n",
    "\n",
    "    # Validation croisée\n",
    "    cv = StratifiedKFold(n_splits=3, shuffle=True, random_state=42)\n",
    "    try:\n",
    "        scores = cross_val_score(pipe, X_train, y_train, cv=cv, scoring=\"neg_log_loss\", n_jobs=-1)\n",
    "        return scores.mean()\n",
    "    except ValueError as e:\n",
    "        trial.set_user_attr(\"error_msg\", str(e))\n",
    "        raise optuna.exceptions.TrialPruned()"
   ]
  },
  {
   "cell_type": "code",
   "execution_count": 48,
   "id": "5683cbeb",
   "metadata": {},
   "outputs": [
    {
     "name": "stderr",
     "output_type": "stream",
     "text": [
      "c:\\Users\\esthelle.kuissu\\OneDrive - Exiom Partners\\Documents\\Code_rapport_stage\\Exiom_Stage\\.venv\\Lib\\site-packages\\tqdm\\auto.py:21: TqdmWarning: IProgress not found. Please update jupyter and ipywidgets. See https://ipywidgets.readthedocs.io/en/stable/user_install.html\n",
      "  from .autonotebook import tqdm as notebook_tqdm\n",
      "[I 2025-07-08 11:05:09,622] A new study created in memory with name: no-name-81fd06e6-1f64-4d0f-a394-87bb514ee05b\n",
      "  2%|▏         | 1/50 [00:06<05:20,  6.54s/it]"
     ]
    },
    {
     "name": "stdout",
     "output_type": "stream",
     "text": [
      "[I 2025-07-08 11:05:16,172] Trial 0 pruned. \n"
     ]
    },
    {
     "name": "stderr",
     "output_type": "stream",
     "text": [
      "  4%|▍         | 2/50 [00:11<04:34,  5.73s/it]"
     ]
    },
    {
     "name": "stdout",
     "output_type": "stream",
     "text": [
      "[I 2025-07-08 11:05:21,332] Trial 1 pruned. \n"
     ]
    },
    {
     "name": "stderr",
     "output_type": "stream",
     "text": [
      "Best trial: 2. Best value: -0.623824:   6%|▌         | 3/50 [00:18<04:51,  6.20s/it]"
     ]
    },
    {
     "name": "stdout",
     "output_type": "stream",
     "text": [
      "[I 2025-07-08 11:05:28,079] Trial 2 finished with value: -0.6238243774347397 and parameters: {'C': 0.00039336331978845785, 'penalty': 'l2', 'max_iter': 1000, 'fit_intercept': False, 'warm_start': True, 'tol': 0.0023092230799398846}. Best is trial 2 with value: -0.6238243774347397.\n"
     ]
    },
    {
     "name": "stderr",
     "output_type": "stream",
     "text": [
      "Best trial: 2. Best value: -0.623824:   8%|▊         | 4/50 [00:23<04:25,  5.77s/it]"
     ]
    },
    {
     "name": "stdout",
     "output_type": "stream",
     "text": [
      "[I 2025-07-08 11:05:33,214] Trial 3 pruned. \n"
     ]
    },
    {
     "name": "stderr",
     "output_type": "stream",
     "text": [
      "Best trial: 4. Best value: -0.613535:  10%|█         | 5/50 [00:31<04:48,  6.40s/it]"
     ]
    },
    {
     "name": "stdout",
     "output_type": "stream",
     "text": [
      "[I 2025-07-08 11:05:40,732] Trial 4 finished with value: -0.6135353916828639 and parameters: {'C': 0.021669214616712056, 'penalty': 'l2', 'max_iter': 500, 'fit_intercept': True, 'warm_start': False, 'tol': 0.006539191480238}. Best is trial 4 with value: -0.6135353916828639.\n"
     ]
    },
    {
     "name": "stderr",
     "output_type": "stream",
     "text": [
      "Best trial: 4. Best value: -0.613535:  12%|█▏        | 6/50 [02:58<39:48, 54.29s/it]"
     ]
    },
    {
     "name": "stdout",
     "output_type": "stream",
     "text": [
      "[I 2025-07-08 11:08:07,983] Trial 5 finished with value: -0.7535895190124244 and parameters: {'C': 3.6910601722288816, 'penalty': 'l2', 'max_iter': 1400, 'fit_intercept': True, 'warm_start': True, 'tol': 2.4688580028104338e-05}. Best is trial 4 with value: -0.6135353916828639.\n"
     ]
    },
    {
     "name": "stderr",
     "output_type": "stream",
     "text": [
      "Best trial: 4. Best value: -0.613535:  14%|█▍        | 7/50 [03:56<39:42, 55.42s/it]"
     ]
    },
    {
     "name": "stdout",
     "output_type": "stream",
     "text": [
      "[I 2025-07-08 11:09:05,716] Trial 6 finished with value: -0.6712799508103503 and parameters: {'C': 1.2445928736330714, 'penalty': 'l2', 'max_iter': 500, 'fit_intercept': False, 'warm_start': True, 'tol': 0.00013314196135379098}. Best is trial 4 with value: -0.6135353916828639.\n"
     ]
    },
    {
     "name": "stderr",
     "output_type": "stream",
     "text": [
      "Best trial: 4. Best value: -0.613535:  16%|█▌        | 8/50 [04:26<33:10, 47.39s/it]"
     ]
    },
    {
     "name": "stdout",
     "output_type": "stream",
     "text": [
      "[I 2025-07-08 11:09:35,912] Trial 7 finished with value: -0.6522413803746557 and parameters: {'C': 9.77441517457462, 'penalty': 'l2', 'max_iter': 500, 'fit_intercept': False, 'warm_start': True, 'tol': 0.0009029218873945391}. Best is trial 4 with value: -0.6135353916828639.\n"
     ]
    },
    {
     "name": "stderr",
     "output_type": "stream",
     "text": [
      "Best trial: 4. Best value: -0.613535:  18%|█▊        | 9/50 [04:29<22:57, 33.61s/it]"
     ]
    },
    {
     "name": "stdout",
     "output_type": "stream",
     "text": [
      "[I 2025-07-08 11:09:39,230] Trial 8 pruned. \n"
     ]
    },
    {
     "name": "stderr",
     "output_type": "stream",
     "text": [
      "Best trial: 4. Best value: -0.613535:  20%|██        | 10/50 [04:52<20:09, 30.23s/it]"
     ]
    },
    {
     "name": "stdout",
     "output_type": "stream",
     "text": [
      "[I 2025-07-08 11:10:01,875] Trial 9 finished with value: -0.6418656771261624 and parameters: {'C': 52.16362816109282, 'penalty': 'l2', 'max_iter': 1500, 'fit_intercept': False, 'warm_start': True, 'tol': 0.0011164575759762861}. Best is trial 4 with value: -0.6135353916828639.\n"
     ]
    },
    {
     "name": "stderr",
     "output_type": "stream",
     "text": [
      "Best trial: 4. Best value: -0.613535:  22%|██▏       | 11/50 [04:57<14:38, 22.52s/it]"
     ]
    },
    {
     "name": "stdout",
     "output_type": "stream",
     "text": [
      "[I 2025-07-08 11:10:06,915] Trial 10 finished with value: -0.6139360333031718 and parameters: {'C': 0.011163009250487547, 'penalty': 'l2', 'max_iter': 300, 'fit_intercept': True, 'warm_start': False, 'tol': 0.009769432721465821}. Best is trial 4 with value: -0.6135353916828639.\n"
     ]
    },
    {
     "name": "stderr",
     "output_type": "stream",
     "text": [
      "Best trial: 4. Best value: -0.613535:  24%|██▍       | 12/50 [05:02<10:50, 17.12s/it]"
     ]
    },
    {
     "name": "stdout",
     "output_type": "stream",
     "text": [
      "[I 2025-07-08 11:10:11,687] Trial 11 finished with value: -0.6141941142252981 and parameters: {'C': 0.008916655050308787, 'penalty': 'l2', 'max_iter': 300, 'fit_intercept': True, 'warm_start': False, 'tol': 0.00869953532590834}. Best is trial 4 with value: -0.6135353916828639.\n"
     ]
    },
    {
     "name": "stderr",
     "output_type": "stream",
     "text": [
      "Best trial: 4. Best value: -0.613535:  26%|██▌       | 13/50 [05:06<08:14, 13.35s/it]"
     ]
    },
    {
     "name": "stdout",
     "output_type": "stream",
     "text": [
      "[I 2025-07-08 11:10:16,379] Trial 12 finished with value: -0.61481118890082 and parameters: {'C': 0.005969831256784903, 'penalty': 'l2', 'max_iter': 300, 'fit_intercept': True, 'warm_start': False, 'tol': 0.009724687141451102}. Best is trial 4 with value: -0.6135353916828639.\n"
     ]
    },
    {
     "name": "stderr",
     "output_type": "stream",
     "text": [
      "Best trial: 4. Best value: -0.613535:  28%|██▊       | 14/50 [05:12<06:33, 10.92s/it]"
     ]
    },
    {
     "name": "stdout",
     "output_type": "stream",
     "text": [
      "[I 2025-07-08 11:10:21,659] Trial 13 finished with value: -0.614360440047093 and parameters: {'C': 0.00757051456121542, 'penalty': 'l2', 'max_iter': 700, 'fit_intercept': True, 'warm_start': False, 'tol': 0.0033363145114122653}. Best is trial 4 with value: -0.6135353916828639.\n"
     ]
    },
    {
     "name": "stderr",
     "output_type": "stream",
     "text": [
      "Best trial: 4. Best value: -0.613535:  30%|███       | 15/50 [05:16<05:14,  8.99s/it]"
     ]
    },
    {
     "name": "stdout",
     "output_type": "stream",
     "text": [
      "[I 2025-07-08 11:10:26,202] Trial 14 finished with value: -0.6348220683690199 and parameters: {'C': 0.00011048758098946958, 'penalty': 'l2', 'max_iter': 600, 'fit_intercept': True, 'warm_start': False, 'tol': 0.0040170909683778224}. Best is trial 4 with value: -0.6135353916828639.\n"
     ]
    },
    {
     "name": "stderr",
     "output_type": "stream",
     "text": [
      "Best trial: 4. Best value: -0.613535:  32%|███▏      | 16/50 [05:28<05:34,  9.85s/it]"
     ]
    },
    {
     "name": "stdout",
     "output_type": "stream",
     "text": [
      "[I 2025-07-08 11:10:38,035] Trial 15 finished with value: -0.6164951255660315 and parameters: {'C': 0.06465565217233729, 'penalty': 'l2', 'max_iter': 800, 'fit_intercept': True, 'warm_start': False, 'tol': 0.0005829509482640165}. Best is trial 4 with value: -0.6135353916828639.\n"
     ]
    },
    {
     "name": "stderr",
     "output_type": "stream",
     "text": [
      "Best trial: 4. Best value: -0.613535:  34%|███▍      | 17/50 [05:33<04:35,  8.36s/it]"
     ]
    },
    {
     "name": "stdout",
     "output_type": "stream",
     "text": [
      "[I 2025-07-08 11:10:42,942] Trial 16 finished with value: -0.6181751927883984 and parameters: {'C': 0.0015151174782685225, 'penalty': 'l2', 'max_iter': 400, 'fit_intercept': True, 'warm_start': False, 'tol': 0.0018651947570471187}. Best is trial 4 with value: -0.6135353916828639.\n"
     ]
    },
    {
     "name": "stderr",
     "output_type": "stream",
     "text": [
      "Best trial: 4. Best value: -0.613535:  36%|███▌      | 18/50 [05:40<04:14,  7.95s/it]"
     ]
    },
    {
     "name": "stdout",
     "output_type": "stream",
     "text": [
      "[I 2025-07-08 11:10:49,920] Trial 17 finished with value: -0.6156247823220616 and parameters: {'C': 0.1945737427809653, 'penalty': 'l2', 'max_iter': 600, 'fit_intercept': True, 'warm_start': False, 'tol': 0.005847250020452536}. Best is trial 4 with value: -0.6135353916828639.\n"
     ]
    },
    {
     "name": "stderr",
     "output_type": "stream",
     "text": [
      "Best trial: 4. Best value: -0.613535:  38%|███▊      | 19/50 [05:43<03:22,  6.53s/it]"
     ]
    },
    {
     "name": "stdout",
     "output_type": "stream",
     "text": [
      "[I 2025-07-08 11:10:53,145] Trial 18 pruned. \n"
     ]
    },
    {
     "name": "stderr",
     "output_type": "stream",
     "text": [
      "Best trial: 4. Best value: -0.613535:  40%|████      | 20/50 [05:48<03:02,  6.07s/it]"
     ]
    },
    {
     "name": "stdout",
     "output_type": "stream",
     "text": [
      "[I 2025-07-08 11:10:58,151] Trial 19 finished with value: -0.6182189041423315 and parameters: {'C': 0.0014952518321432527, 'penalty': 'l2', 'max_iter': 500, 'fit_intercept': True, 'warm_start': False, 'tol': 0.0015232931940920155}. Best is trial 4 with value: -0.6135353916828639.\n"
     ]
    },
    {
     "name": "stderr",
     "output_type": "stream",
     "text": [
      "Best trial: 4. Best value: -0.613535:  42%|████▏     | 21/50 [05:54<02:53,  6.00s/it]"
     ]
    },
    {
     "name": "stdout",
     "output_type": "stream",
     "text": [
      "[I 2025-07-08 11:11:03,979] Trial 20 finished with value: -0.6135871328620138 and parameters: {'C': 0.025635207883875705, 'penalty': 'l2', 'max_iter': 700, 'fit_intercept': True, 'warm_start': False, 'tol': 0.004672393858718761}. Best is trial 4 with value: -0.6135353916828639.\n"
     ]
    },
    {
     "name": "stderr",
     "output_type": "stream",
     "text": [
      "Best trial: 4. Best value: -0.613535:  44%|████▍     | 22/50 [06:00<02:45,  5.93s/it]"
     ]
    },
    {
     "name": "stdout",
     "output_type": "stream",
     "text": [
      "[I 2025-07-08 11:11:09,742] Trial 21 finished with value: -0.6135657921421339 and parameters: {'C': 0.022927673333644056, 'penalty': 'l2', 'max_iter': 700, 'fit_intercept': True, 'warm_start': False, 'tol': 0.0048237278071479334}. Best is trial 4 with value: -0.6135353916828639.\n"
     ]
    },
    {
     "name": "stderr",
     "output_type": "stream",
     "text": [
      "Best trial: 4. Best value: -0.613535:  46%|████▌     | 23/50 [06:08<02:57,  6.57s/it]"
     ]
    },
    {
     "name": "stdout",
     "output_type": "stream",
     "text": [
      "[I 2025-07-08 11:11:17,800] Trial 22 finished with value: -0.6168089277584887 and parameters: {'C': 0.19011842191311884, 'penalty': 'l2', 'max_iter': 800, 'fit_intercept': True, 'warm_start': False, 'tol': 0.003926382767140558}. Best is trial 4 with value: -0.6135353916828639.\n"
     ]
    },
    {
     "name": "stderr",
     "output_type": "stream",
     "text": [
      "Best trial: 4. Best value: -0.613535:  48%|████▊     | 24/50 [06:13<02:44,  6.34s/it]"
     ]
    },
    {
     "name": "stdout",
     "output_type": "stream",
     "text": [
      "[I 2025-07-08 11:11:23,596] Trial 23 finished with value: -0.61357034505799 and parameters: {'C': 0.0272344458478712, 'penalty': 'l2', 'max_iter': 700, 'fit_intercept': True, 'warm_start': False, 'tol': 0.005241385922715491}. Best is trial 4 with value: -0.6135353916828639.\n"
     ]
    },
    {
     "name": "stderr",
     "output_type": "stream",
     "text": [
      "Best trial: 4. Best value: -0.613535:  50%|█████     | 25/50 [06:18<02:26,  5.87s/it]"
     ]
    },
    {
     "name": "stdout",
     "output_type": "stream",
     "text": [
      "[I 2025-07-08 11:11:28,367] Trial 24 finished with value: -0.6173347440359535 and parameters: {'C': 0.0019954446570108865, 'penalty': 'l2', 'max_iter': 700, 'fit_intercept': True, 'warm_start': False, 'tol': 0.0023684232818671856}. Best is trial 4 with value: -0.6135353916828639.\n"
     ]
    },
    {
     "name": "stderr",
     "output_type": "stream",
     "text": [
      "Best trial: 4. Best value: -0.613535:  52%|█████▏    | 26/50 [06:26<02:32,  6.37s/it]"
     ]
    },
    {
     "name": "stdout",
     "output_type": "stream",
     "text": [
      "[I 2025-07-08 11:11:35,902] Trial 25 finished with value: -0.6138293733530608 and parameters: {'C': 0.02401725980643144, 'penalty': 'l2', 'max_iter': 800, 'fit_intercept': True, 'warm_start': False, 'tol': 0.0008456208395768028}. Best is trial 4 with value: -0.6135353916828639.\n"
     ]
    },
    {
     "name": "stderr",
     "output_type": "stream",
     "text": [
      "Best trial: 4. Best value: -0.613535:  54%|█████▍    | 27/50 [06:29<02:04,  5.40s/it]"
     ]
    },
    {
     "name": "stdout",
     "output_type": "stream",
     "text": [
      "[I 2025-07-08 11:11:39,050] Trial 26 pruned. \n"
     ]
    },
    {
     "name": "stderr",
     "output_type": "stream",
     "text": [
      "Best trial: 4. Best value: -0.613535:  56%|█████▌    | 28/50 [06:34<01:56,  5.27s/it]"
     ]
    },
    {
     "name": "stdout",
     "output_type": "stream",
     "text": [
      "[I 2025-07-08 11:11:44,032] Trial 27 finished with value: -0.6160684927161951 and parameters: {'C': 0.0032072187667977568, 'penalty': 'l2', 'max_iter': 900, 'fit_intercept': True, 'warm_start': False, 'tol': 0.0026593006003306414}. Best is trial 4 with value: -0.6135353916828639.\n"
     ]
    },
    {
     "name": "stderr",
     "output_type": "stream",
     "text": [
      "Best trial: 4. Best value: -0.613535:  58%|█████▊    | 29/50 [06:39<01:48,  5.19s/it]"
     ]
    },
    {
     "name": "stdout",
     "output_type": "stream",
     "text": [
      "[I 2025-07-08 11:11:49,014] Trial 28 finished with value: -0.6227242149215616 and parameters: {'C': 0.0004815153642658669, 'penalty': 'l2', 'max_iter': 400, 'fit_intercept': True, 'warm_start': False, 'tol': 0.00028335969372028576}. Best is trial 4 with value: -0.6135353916828639.\n"
     ]
    },
    {
     "name": "stderr",
     "output_type": "stream",
     "text": [
      "Best trial: 4. Best value: -0.613535:  60%|██████    | 30/50 [06:42<01:31,  4.56s/it]"
     ]
    },
    {
     "name": "stdout",
     "output_type": "stream",
     "text": [
      "[I 2025-07-08 11:11:52,125] Trial 29 pruned. \n"
     ]
    },
    {
     "name": "stderr",
     "output_type": "stream",
     "text": [
      "Best trial: 4. Best value: -0.613535:  62%|██████▏   | 31/50 [06:48<01:33,  4.94s/it]"
     ]
    },
    {
     "name": "stdout",
     "output_type": "stream",
     "text": [
      "[I 2025-07-08 11:11:57,929] Trial 30 finished with value: -0.6136430135607727 and parameters: {'C': 0.033969492662408576, 'penalty': 'l2', 'max_iter': 600, 'fit_intercept': True, 'warm_start': False, 'tol': 0.005734986894482813}. Best is trial 4 with value: -0.6135353916828639.\n"
     ]
    },
    {
     "name": "stderr",
     "output_type": "stream",
     "text": [
      "Best trial: 4. Best value: -0.613535:  64%|██████▍   | 32/50 [06:54<01:34,  5.28s/it]"
     ]
    },
    {
     "name": "stdout",
     "output_type": "stream",
     "text": [
      "[I 2025-07-08 11:12:03,998] Trial 31 finished with value: -0.6136300590696422 and parameters: {'C': 0.02999631306886408, 'penalty': 'l2', 'max_iter': 700, 'fit_intercept': True, 'warm_start': False, 'tol': 0.004481194351744293}. Best is trial 4 with value: -0.6135353916828639.\n"
     ]
    },
    {
     "name": "stderr",
     "output_type": "stream",
     "text": [
      "Best trial: 4. Best value: -0.613535:  66%|██████▌   | 33/50 [06:59<01:30,  5.30s/it]"
     ]
    },
    {
     "name": "stdout",
     "output_type": "stream",
     "text": [
      "[I 2025-07-08 11:12:09,348] Trial 32 finished with value: -0.6136950869153169 and parameters: {'C': 0.014419373815007684, 'penalty': 'l2', 'max_iter': 700, 'fit_intercept': True, 'warm_start': False, 'tol': 0.006047749014703734}. Best is trial 4 with value: -0.6135353916828639.\n"
     ]
    },
    {
     "name": "stderr",
     "output_type": "stream",
     "text": [
      "Best trial: 4. Best value: -0.613535:  68%|██████▊   | 34/50 [07:08<01:43,  6.49s/it]"
     ]
    },
    {
     "name": "stdout",
     "output_type": "stream",
     "text": [
      "[I 2025-07-08 11:12:18,610] Trial 33 finished with value: -0.617862128959801 and parameters: {'C': 0.18007590340659999, 'penalty': 'l2', 'max_iter': 800, 'fit_intercept': True, 'warm_start': False, 'tol': 0.0026820058948649507}. Best is trial 4 with value: -0.6135353916828639.\n"
     ]
    },
    {
     "name": "stderr",
     "output_type": "stream",
     "text": [
      "Best trial: 4. Best value: -0.613535:  70%|███████   | 35/50 [07:12<01:23,  5.58s/it]"
     ]
    },
    {
     "name": "stdout",
     "output_type": "stream",
     "text": [
      "[I 2025-07-08 11:12:22,066] Trial 34 pruned. \n"
     ]
    },
    {
     "name": "stderr",
     "output_type": "stream",
     "text": [
      "Best trial: 4. Best value: -0.613535:  72%|███████▏  | 36/50 [07:27<01:58,  8.45s/it]"
     ]
    },
    {
     "name": "stdout",
     "output_type": "stream",
     "text": [
      "[I 2025-07-08 11:12:37,202] Trial 35 finished with value: -0.6146126118377565 and parameters: {'C': 0.062481622924672874, 'penalty': 'l2', 'max_iter': 900, 'fit_intercept': False, 'warm_start': False, 'tol': 0.0033931629595793287}. Best is trial 4 with value: -0.6135353916828639.\n"
     ]
    },
    {
     "name": "stderr",
     "output_type": "stream",
     "text": [
      "Best trial: 4. Best value: -0.613535:  74%|███████▍  | 37/50 [07:33<01:38,  7.59s/it]"
     ]
    },
    {
     "name": "stdout",
     "output_type": "stream",
     "text": [
      "[I 2025-07-08 11:12:42,812] Trial 36 finished with value: -0.6211197008288727 and parameters: {'C': 0.0006791932751677959, 'penalty': 'l2', 'max_iter': 500, 'fit_intercept': True, 'warm_start': True, 'tol': 8.502754618325226e-05}. Best is trial 4 with value: -0.6135353916828639.\n"
     ]
    },
    {
     "name": "stderr",
     "output_type": "stream",
     "text": [
      "Best trial: 4. Best value: -0.613535:  76%|███████▌  | 38/50 [07:38<01:23,  6.95s/it]"
     ]
    },
    {
     "name": "stdout",
     "output_type": "stream",
     "text": [
      "[I 2025-07-08 11:12:48,262] Trial 37 finished with value: -0.6136527456374173 and parameters: {'C': 0.015776767459994574, 'penalty': 'l2', 'max_iter': 400, 'fit_intercept': False, 'warm_start': False, 'tol': 0.006891658633594097}. Best is trial 4 with value: -0.6135353916828639.\n"
     ]
    },
    {
     "name": "stderr",
     "output_type": "stream",
     "text": [
      "Best trial: 4. Best value: -0.613535:  78%|███████▊  | 39/50 [07:41<01:03,  5.81s/it]"
     ]
    },
    {
     "name": "stdout",
     "output_type": "stream",
     "text": [
      "[I 2025-07-08 11:12:51,395] Trial 38 pruned. \n"
     ]
    },
    {
     "name": "stderr",
     "output_type": "stream",
     "text": [
      "Best trial: 4. Best value: -0.613535:  80%|████████  | 40/50 [08:01<01:38,  9.90s/it]"
     ]
    },
    {
     "name": "stdout",
     "output_type": "stream",
     "text": [
      "[I 2025-07-08 11:13:10,848] Trial 39 finished with value: -0.6191934840483775 and parameters: {'C': 0.09048343979723424, 'penalty': 'l2', 'max_iter': 600, 'fit_intercept': True, 'warm_start': False, 'tol': 0.00021438130009339532}. Best is trial 4 with value: -0.6135353916828639.\n"
     ]
    },
    {
     "name": "stderr",
     "output_type": "stream",
     "text": [
      "Best trial: 4. Best value: -0.613535:  82%|████████▏ | 41/50 [08:21<01:56, 12.97s/it]"
     ]
    },
    {
     "name": "stdout",
     "output_type": "stream",
     "text": [
      "[I 2025-07-08 11:13:30,980] Trial 40 finished with value: -0.6311546728388834 and parameters: {'C': 0.40882223396862144, 'penalty': 'l2', 'max_iter': 700, 'fit_intercept': False, 'warm_start': True, 'tol': 0.0007865149429267673}. Best is trial 4 with value: -0.6135353916828639.\n"
     ]
    },
    {
     "name": "stderr",
     "output_type": "stream",
     "text": [
      "Best trial: 4. Best value: -0.613535:  84%|████████▍ | 42/50 [08:27<01:27, 10.97s/it]"
     ]
    },
    {
     "name": "stdout",
     "output_type": "stream",
     "text": [
      "[I 2025-07-08 11:13:37,275] Trial 41 finished with value: -0.6137548695948553 and parameters: {'C': 0.03681131125761893, 'penalty': 'l2', 'max_iter': 700, 'fit_intercept': True, 'warm_start': False, 'tol': 0.0044793639506199865}. Best is trial 4 with value: -0.6135353916828639.\n"
     ]
    },
    {
     "name": "stderr",
     "output_type": "stream",
     "text": [
      "Best trial: 4. Best value: -0.613535:  86%|████████▌ | 43/50 [08:33<01:05,  9.36s/it]"
     ]
    },
    {
     "name": "stdout",
     "output_type": "stream",
     "text": [
      "[I 2025-07-08 11:13:42,880] Trial 42 finished with value: -0.6136137897629634 and parameters: {'C': 0.017410081402809738, 'penalty': 'l2', 'max_iter': 800, 'fit_intercept': True, 'warm_start': False, 'tol': 0.004019295760717754}. Best is trial 4 with value: -0.6135353916828639.\n"
     ]
    },
    {
     "name": "stderr",
     "output_type": "stream",
     "text": [
      "Best trial: 4. Best value: -0.613535:  88%|████████▊ | 44/50 [08:38<00:49,  8.18s/it]"
     ]
    },
    {
     "name": "stdout",
     "output_type": "stream",
     "text": [
      "[I 2025-07-08 11:13:48,328] Trial 43 finished with value: -0.6136209077806626 and parameters: {'C': 0.016876115164520773, 'penalty': 'l2', 'max_iter': 800, 'fit_intercept': True, 'warm_start': False, 'tol': 0.007851984756381242}. Best is trial 4 with value: -0.6135353916828639.\n"
     ]
    },
    {
     "name": "stderr",
     "output_type": "stream",
     "text": [
      "Best trial: 4. Best value: -0.613535:  90%|█████████ | 45/50 [08:43<00:36,  7.24s/it]"
     ]
    },
    {
     "name": "stdout",
     "output_type": "stream",
     "text": [
      "[I 2025-07-08 11:13:53,358] Trial 44 finished with value: -0.61558163217718 and parameters: {'C': 0.003934053861054914, 'penalty': 'l2', 'max_iter': 1100, 'fit_intercept': True, 'warm_start': False, 'tol': 0.002049454216500528}. Best is trial 4 with value: -0.6135353916828639.\n"
     ]
    },
    {
     "name": "stderr",
     "output_type": "stream",
     "text": [
      "Best trial: 4. Best value: -0.613535:  92%|█████████▏| 46/50 [08:48<00:26,  6.57s/it]"
     ]
    },
    {
     "name": "stdout",
     "output_type": "stream",
     "text": [
      "[I 2025-07-08 11:13:58,359] Trial 45 finished with value: -0.614245246778032 and parameters: {'C': 0.008316256890523881, 'penalty': 'l2', 'max_iter': 900, 'fit_intercept': True, 'warm_start': False, 'tol': 0.0048802397042828505}. Best is trial 4 with value: -0.6135353916828639.\n"
     ]
    },
    {
     "name": "stderr",
     "output_type": "stream",
     "text": [
      "Best trial: 4. Best value: -0.613535:  94%|█████████▍| 47/50 [08:56<00:20,  6.87s/it]"
     ]
    },
    {
     "name": "stdout",
     "output_type": "stream",
     "text": [
      "[I 2025-07-08 11:14:05,928] Trial 46 finished with value: -0.6145385348306266 and parameters: {'C': 0.05393178527581102, 'penalty': 'l2', 'max_iter': 1000, 'fit_intercept': True, 'warm_start': True, 'tol': 0.0026788402342141906}. Best is trial 4 with value: -0.6135353916828639.\n"
     ]
    },
    {
     "name": "stderr",
     "output_type": "stream",
     "text": [
      "Best trial: 4. Best value: -0.613535:  96%|█████████▌| 48/50 [09:03<00:13,  6.97s/it]"
     ]
    },
    {
     "name": "stdout",
     "output_type": "stream",
     "text": [
      "[I 2025-07-08 11:14:13,115] Trial 47 finished with value: -0.6161961615181827 and parameters: {'C': 12.963440474583347, 'penalty': 'l2', 'max_iter': 500, 'fit_intercept': True, 'warm_start': False, 'tol': 0.008173552584001709}. Best is trial 4 with value: -0.6135353916828639.\n"
     ]
    },
    {
     "name": "stderr",
     "output_type": "stream",
     "text": [
      "Best trial: 4. Best value: -0.613535:  98%|█████████▊| 49/50 [09:09<00:06,  6.56s/it]"
     ]
    },
    {
     "name": "stdout",
     "output_type": "stream",
     "text": [
      "[I 2025-07-08 11:14:18,737] Trial 48 finished with value: -0.6138039351908217 and parameters: {'C': 0.012453289119778875, 'penalty': 'l2', 'max_iter': 600, 'fit_intercept': False, 'warm_start': False, 'tol': 0.003326067421164961}. Best is trial 4 with value: -0.6135353916828639.\n"
     ]
    },
    {
     "name": "stderr",
     "output_type": "stream",
     "text": [
      "Best trial: 4. Best value: -0.613535: 100%|██████████| 50/50 [09:12<00:00, 11.05s/it]"
     ]
    },
    {
     "name": "stdout",
     "output_type": "stream",
     "text": [
      "[I 2025-07-08 11:14:22,018] Trial 49 pruned. \n"
     ]
    },
    {
     "name": "stderr",
     "output_type": "stream",
     "text": [
      "\n"
     ]
    }
   ],
   "source": [
    "# ==============================================================  \n",
    "# 0. Imports  \n",
    "# ==============================================================  \n",
    "import optuna  \n",
    "from imblearn.over_sampling import SMOTE  \n",
    "from imblearn.pipeline import Pipeline as ImbPipeline  \n",
    "from sklearn.linear_model import LogisticRegression  \n",
    "from sklearn.model_selection import StratifiedKFold, cross_val_score  \n",
    "from sklearn.compose import ColumnTransformer  \n",
    "from sklearn.preprocessing import StandardScaler, OneHotEncoder  \n",
    "from sklearn.metrics import log_loss  \n",
    "import numpy as np  \n",
    "\n",
    "study = optuna.create_study(direction=\"maximize\")\n",
    "study.optimize(objective, n_trials=50, show_progress_bar=True)"
   ]
  },
  {
   "cell_type": "code",
   "execution_count": 56,
   "id": "12ef1d9d",
   "metadata": {},
   "outputs": [],
   "source": [
    "import optuna  \n",
    "from imblearn.over_sampling import SMOTE  \n",
    "from imblearn.pipeline import Pipeline as ImbPipeline  \n",
    "from sklearn.linear_model import LogisticRegression  \n",
    "from sklearn.model_selection import StratifiedKFold, cross_val_score  \n",
    "from sklearn.compose import ColumnTransformer  \n",
    "from sklearn.preprocessing import StandardScaler, OneHotEncoder  \n",
    "from sklearn.metrics import log_loss  \n",
    "import numpy as np "
   ]
  },
  {
   "cell_type": "code",
   "execution_count": 61,
   "id": "b8e0d484",
   "metadata": {},
   "outputs": [
    {
     "name": "stdout",
     "output_type": "stream",
     "text": [
      "\n",
      "=== BEST TRIAL ===\n",
      "Mean neg-logloss : -0.6135353916828639\n",
      "Hyper-params     : {'C': 0.021669214616712056, 'penalty': 'l2', 'max_iter': 500, 'fit_intercept': True, 'warm_start': False, 'tol': 0.006539191480238}\n",
      "\n",
      "=== METRIQUES TEST ===\n"
     ]
    },
    {
     "name": "stderr",
     "output_type": "stream",
     "text": [
      "c:\\Users\\esthelle.kuissu\\OneDrive - Exiom Partners\\Documents\\Code_rapport_stage\\Exiom_Stage\\.venv\\Lib\\site-packages\\sklearn\\preprocessing\\_encoders.py:246: UserWarning: Found unknown categories in columns [0, 1, 7, 16, 17] during transform. These unknown categories will be encoded as all zeros\n",
      "  warnings.warn(\n",
      "c:\\Users\\esthelle.kuissu\\OneDrive - Exiom Partners\\Documents\\Code_rapport_stage\\Exiom_Stage\\.venv\\Lib\\site-packages\\sklearn\\preprocessing\\_encoders.py:246: UserWarning: Found unknown categories in columns [0, 1, 7, 16, 17] during transform. These unknown categories will be encoded as all zeros\n",
      "  warnings.warn(\n"
     ]
    },
    {
     "name": "stdout",
     "output_type": "stream",
     "text": [
      "Log-loss : 0.6016\n"
     ]
    },
    {
     "name": "stderr",
     "output_type": "stream",
     "text": [
      "c:\\Users\\esthelle.kuissu\\OneDrive - Exiom Partners\\Documents\\Code_rapport_stage\\Exiom_Stage\\.venv\\Lib\\site-packages\\sklearn\\preprocessing\\_encoders.py:246: UserWarning: Found unknown categories in columns [0, 1, 7, 16, 17] during transform. These unknown categories will be encoded as all zeros\n",
      "  warnings.warn(\n"
     ]
    }
   ],
   "source": [
    "print(\"\\n=== BEST TRIAL ===\")  \n",
    "print(\"Mean neg-logloss :\", study.best_value)  \n",
    "print(\"Hyper-params     :\", study.best_params)  \n",
    "\n",
    "# ==============================================================  \n",
    "# 5. Refit avec les meilleurs paramètres  \n",
    "# ==============================================================  \n",
    "best_C = study.best_params[\"C\"]  \n",
    "#best_ratio = study.best_params[\"ratio\"]  \n",
    "\n",
    "\n",
    "best_logit = LogisticRegression(\n",
    "        solver=\"saga\",  # saga supporte l2 et none\n",
    "        multi_class=\"multinomial\",\n",
    "        class_weight=\"balanced\",\n",
    "        penalty=study.best_params[\"penalty\"],\n",
    "        C=best_C,\n",
    "        max_iter=2000,\n",
    "        n_jobs=-1\n",
    "    )\n",
    "\n",
    "# Pipeline\n",
    "best_pipe = ImbPipeline([\n",
    "        (\"prep\", preprocess),\n",
    "        (\"clf\", best_logit)\n",
    "])\n",
    "\n",
    "# ==============================================================  \n",
    "# 6. Calibration (optionnelle)  \n",
    "# ==============================================================  \n",
    "from sklearn.calibration import CalibratedClassifierCV  \n",
    "\n",
    "calibrated = CalibratedClassifierCV(  \n",
    "    estimator=best_pipe,  \n",
    "    method=\"isotonic\",  \n",
    "    cv=3,  # Réduit à 3 folds  \n",
    "    n_jobs=-1  \n",
    ").fit(X_train, y_train)  \n",
    "\n",
    "print(\"\\n=== METRIQUES TEST ===\")  \n",
    "print(\"Log-loss :\", round(log_loss(y_test, calibrated.predict_proba(X_test)), 4))"
   ]
  },
  {
   "cell_type": "code",
   "execution_count": 64,
   "id": "e36b0913",
   "metadata": {},
   "outputs": [
    {
     "name": "stderr",
     "output_type": "stream",
     "text": [
      "c:\\Users\\esthelle.kuissu\\OneDrive - Exiom Partners\\Documents\\Code_rapport_stage\\Exiom_Stage\\.venv\\Lib\\site-packages\\sklearn\\preprocessing\\_encoders.py:246: UserWarning: Found unknown categories in columns [0, 1, 7, 16, 17] during transform. These unknown categories will be encoded as all zeros\n",
      "  warnings.warn(\n",
      "c:\\Users\\esthelle.kuissu\\OneDrive - Exiom Partners\\Documents\\Code_rapport_stage\\Exiom_Stage\\.venv\\Lib\\site-packages\\sklearn\\preprocessing\\_encoders.py:246: UserWarning: Found unknown categories in columns [0, 1, 7, 16, 17] during transform. These unknown categories will be encoded as all zeros\n",
      "  warnings.warn(\n",
      "c:\\Users\\esthelle.kuissu\\OneDrive - Exiom Partners\\Documents\\Code_rapport_stage\\Exiom_Stage\\.venv\\Lib\\site-packages\\sklearn\\preprocessing\\_encoders.py:246: UserWarning: Found unknown categories in columns [0, 1, 7, 16, 17] during transform. These unknown categories will be encoded as all zeros\n",
      "  warnings.warn(\n"
     ]
    },
    {
     "data": {
      "text/plain": [
       "array([[0.44253375, 0.55746625],\n",
       "       [0.52221036, 0.47778964],\n",
       "       [0.12627483, 0.87372517],\n",
       "       ...,\n",
       "       [0.41044319, 0.58955681],\n",
       "       [0.21905604, 0.78094396],\n",
       "       [0.68479522, 0.31520478]], shape=(49049, 2))"
      ]
     },
     "execution_count": 64,
     "metadata": {},
     "output_type": "execute_result"
    }
   ],
   "source": [
    "calibrated.predict_proba(X_test)"
   ]
  },
  {
   "cell_type": "code",
   "execution_count": 62,
   "id": "ddc26e0c",
   "metadata": {},
   "outputs": [
    {
     "name": "stderr",
     "output_type": "stream",
     "text": [
      "c:\\Users\\esthelle.kuissu\\OneDrive - Exiom Partners\\Documents\\Code_rapport_stage\\Exiom_Stage\\.venv\\Lib\\site-packages\\sklearn\\preprocessing\\_encoders.py:246: UserWarning: Found unknown categories in columns [0, 1, 7, 16, 17] during transform. These unknown categories will be encoded as all zeros\n",
      "  warnings.warn(\n",
      "c:\\Users\\esthelle.kuissu\\OneDrive - Exiom Partners\\Documents\\Code_rapport_stage\\Exiom_Stage\\.venv\\Lib\\site-packages\\sklearn\\preprocessing\\_encoders.py:246: UserWarning: Found unknown categories in columns [0, 1, 7, 16, 17] during transform. These unknown categories will be encoded as all zeros\n",
      "  warnings.warn(\n",
      "c:\\Users\\esthelle.kuissu\\OneDrive - Exiom Partners\\Documents\\Code_rapport_stage\\Exiom_Stage\\.venv\\Lib\\site-packages\\sklearn\\preprocessing\\_encoders.py:246: UserWarning: Found unknown categories in columns [0, 1, 7, 16, 17] during transform. These unknown categories will be encoded as all zeros\n",
      "  warnings.warn(\n",
      "c:\\Users\\esthelle.kuissu\\OneDrive - Exiom Partners\\Documents\\Code_rapport_stage\\Exiom_Stage\\.venv\\Lib\\site-packages\\sklearn\\preprocessing\\_encoders.py:246: UserWarning: Found unknown categories in columns [0, 1, 7, 16, 17] during transform. These unknown categories will be encoded as all zeros\n",
      "  warnings.warn(\n",
      "c:\\Users\\esthelle.kuissu\\OneDrive - Exiom Partners\\Documents\\Code_rapport_stage\\Exiom_Stage\\.venv\\Lib\\site-packages\\sklearn\\preprocessing\\_encoders.py:246: UserWarning: Found unknown categories in columns [0, 1, 7, 16, 17] during transform. These unknown categories will be encoded as all zeros\n",
      "  warnings.warn(\n",
      "c:\\Users\\esthelle.kuissu\\OneDrive - Exiom Partners\\Documents\\Code_rapport_stage\\Exiom_Stage\\.venv\\Lib\\site-packages\\sklearn\\preprocessing\\_encoders.py:246: UserWarning: Found unknown categories in columns [0, 1, 7, 16, 17] during transform. These unknown categories will be encoded as all zeros\n",
      "  warnings.warn(\n"
     ]
    },
    {
     "name": "stdout",
     "output_type": "stream",
     "text": [
      "\n",
      "=== MÉTRIQUES TEST ===\n",
      "Log‑loss : 0.6016\n",
      "Brier     : 0.2108\n",
      "\n",
      "=== RAPPORT DE CLASSIFICATION ===\n",
      "              precision    recall  f1-score   support\n",
      "\n",
      "           1      0.622     0.802     0.701     24525\n",
      "           2      0.722     0.513     0.600     24524\n",
      "\n",
      "    accuracy                          0.658     49049\n",
      "   macro avg      0.672     0.658     0.650     49049\n",
      "weighted avg      0.672     0.658     0.650     49049\n",
      "\n"
     ]
    },
    {
     "data": {
      "image/png": "[encoded data removed]",
      "text/plain": [
       "<Figure size 640x480 with 2 Axes>"
      ]
     },
     "metadata": {},
     "output_type": "display_data"
    }
   ],
   "source": [
    "# ==============================================================  \n",
    "# Évaluation sur le jeu de test  \n",
    "# ==============================================================  \n",
    "proba_test = calibrated.predict_proba(X_test)\n",
    "y_pred     = calibrated.predict(X_test)\n",
    "\n",
    "print(\"\\n=== MÉTRIQUES TEST ===\")\n",
    "print(\"Log‑loss :\", round(log_loss(y_test, proba_test), 4))\n",
    "print(\"Brier     :\", round(brier_score_loss(\n",
    "    pd.get_dummies(y_test).values.ravel(),\n",
    "    proba_test.ravel()\n",
    "), 4))\n",
    "\n",
    "print(\"\\n=== RAPPORT DE CLASSIFICATION ===\")\n",
    "print(classification_report(y_test, y_pred, digits=3))\n",
    "\n",
    "# Matrice de confusion normalisée\n",
    "cm = confusion_matrix(y_test, y_pred, normalize=\"true\")\n",
    "disp = ConfusionMatrixDisplay(\n",
    "    confusion_matrix=cm,\n",
    "    display_labels=calibrated.classes_  # ou liste personnalisée\n",
    ")\n",
    "disp.plot(values_format=\".2f\", cmap=\"Blues\")\n",
    "plt.title(\"Matrice de confusion normalisée – test set\")\n",
    "plt.tight_layout()\n",
    "plt.show()  "
   ]
  },
  {
   "cell_type": "code",
   "execution_count": 46,
   "id": "d916d205",
   "metadata": {},
   "outputs": [],
   "source": [
    "def objective(trial):\n",
    "    # Hyperparamètres à explorer\n",
    "    C = trial.suggest_float(\"C\", 1e-4, 100, log=True)\n",
    "    penalty = trial.suggest_categorical(\"penalty\", [\"l2\", \"none\"])\n",
    "    max_iter = trial.suggest_int(\"max_iter\", 300, 1500, step=100)\n",
    "    fit_intercept = trial.suggest_categorical(\"fit_intercept\", [True, False])\n",
    "    warm_start = trial.suggest_categorical(\"warm_start\", [True, False])\n",
    "    tol = trial.suggest_float(\"tol\", 1e-5, 1e-2, log=True)\n",
    "\n",
    "    # Modèle\n",
    "    logit = LogisticRegression(\n",
    "        solver=\"saga\",  # saga supporte l2 et none\n",
    "        multi_class=\"multinomial\",\n",
    "        class_weight=\"balanced\",\n",
    "        penalty=penalty,\n",
    "        C=C,\n",
    "        max_iter=max_iter,\n",
    "        fit_intercept=fit_intercept,\n",
    "        warm_start=warm_start,\n",
    "        tol=tol,\n",
    "        n_jobs=-1\n",
    "    )\n",
    "\n",
    "    # Pipeline\n",
    "    pipe = Pipeline([\n",
    "        (\"prep\", preprocess),\n",
    "        (\"clf\", logit)\n",
    "    ])\n",
    "\n",
    "    # Validation croisée\n",
    "    cv = StratifiedKFold(n_splits=3, shuffle=True, random_state=42)\n",
    "    try:\n",
    "        scores = cross_val_score(pipe, X_train, y_train, cv=cv, scoring=\"neg_log_loss\", n_jobs=-1)\n",
    "        return scores.mean()\n",
    "    except ValueError as e:\n",
    "        trial.set_user_attr(\"error_msg\", str(e))\n",
    "        raise optuna.exceptions.TrialPruned()"
   ]
  },
  {
   "cell_type": "code",
   "execution_count": 45,
   "id": "7bbedd63",
   "metadata": {},
   "outputs": [
    {
     "name": "stderr",
     "output_type": "stream",
     "text": [
      "c:\\Users\\esthelle.kuissu\\OneDrive - Exiom Partners\\Documents\\Code_rapport_stage\\Exiom_Stage\\.venv\\Lib\\site-packages\\sklearn\\linear_model\\_logistic.py:1237: FutureWarning: 'multi_class' was deprecated in version 1.5 and will be removed in 1.7. From then on, binary problems will be fit as proper binary  logistic regression models (as if multi_class='ovr' were set). Leave it to its default value to avoid this warning.\n",
      "  warnings.warn(\n",
      "c:\\Users\\esthelle.kuissu\\OneDrive - Exiom Partners\\Documents\\Code_rapport_stage\\Exiom_Stage\\.venv\\Lib\\site-packages\\sklearn\\preprocessing\\_encoders.py:246: UserWarning: Found unknown categories in columns [0, 1, 7, 16, 17] during transform. These unknown categories will be encoded as all zeros\n",
      "  warnings.warn(\n"
     ]
    },
    {
     "name": "stdout",
     "output_type": "stream",
     "text": [
      "\n",
      "=== RAPPORT DE CLASSIFICATION ===\n",
      "              precision    recall  f1-score   support\n",
      "\n",
      "           1      0.613     0.639     0.626     24525\n",
      "           2      0.623     0.597     0.610     24524\n",
      "\n",
      "    accuracy                          0.618     49049\n",
      "   macro avg      0.618     0.618     0.618     49049\n",
      "weighted avg      0.618     0.618     0.618     49049\n",
      "\n"
     ]
    },
    {
     "data": {
      "image/png": "[encoded data removed]",
      "text/plain": [
       "<Figure size 640x480 with 2 Axes>"
      ]
     },
     "metadata": {},
     "output_type": "display_data"
    }
   ],
   "source": [
    "# 6. Prétraitement\n",
    "preprocess = ColumnTransformer(\n",
    "    transformers=[\n",
    "        (\"num\", StandardScaler(), var_quanti),\n",
    "        (\"cat\", OneHotEncoder(drop=\"first\", handle_unknown=\"ignore\", sparse_output=True), var_quali)\n",
    "    ],\n",
    "    remainder=\"drop\"\n",
    ")\n",
    "\n",
    "# 7. Modèle multinomial\n",
    "logit = LogisticRegression(\n",
    "    solver=\"saga\",\n",
    "    multi_class=\"multinomial\",\n",
    "    class_weight=\"balanced\",\n",
    "    max_iter=2000,\n",
    "    n_jobs=-1\n",
    ")\n",
    "\n",
    "# 8. Pipeline complet\n",
    "pipe = Pipeline([\n",
    "    (\"prep\", preprocess),\n",
    "    (\"clf\", logit)\n",
    "])\n",
    "\n",
    "# 9. Entraînement\n",
    "pipe.fit(X_train, y_train)\n",
    "\n",
    "# 10. Évaluation\n",
    "y_pred = pipe.predict(X_test)\n",
    "print(\"\\n=== RAPPORT DE CLASSIFICATION ===\")\n",
    "print(classification_report(y_test, y_pred, digits=3))\n",
    "\n",
    "cm = confusion_matrix(y_test, y_pred, normalize=\"true\")\n",
    "disp = ConfusionMatrixDisplay(confusion_matrix=cm, display_labels=[\"structure 1\", \"structure 2\"])\n",
    "disp.plot(values_format=\".2f\", cmap=\"Blues\")\n",
    "plt.title(\"Matrice de confusion normalisée – base2\")\n",
    "plt.tight_layout()\n",
    "plt.show()"
   ]
  },
  {
   "cell_type": "code",
   "execution_count": 24,
   "id": "868072bb",
   "metadata": {},
   "outputs": [
    {
     "name": "stdout",
     "output_type": "stream",
     "text": [
      "['nab50', 'NB_PIECE_REMPLACEE', 'NB_PIECE_REPAREE', 'annee_sortie_veh', 'year_2020', 'year_2021', 'year_2022', 'year_2023', 'year_2024', 'aac', 'sport', 'trans', 'suspe', 'boite', 'elt_secu', 'vu', 'pickup', 'luxe', 'prestige', 'soumis_crm', 'LIB_CHOC', 'LIB_INTENS', 'GARAGE_AGREE_O_N', 'date_nais_f', 'date_permis_f', 'formule_ratt_g', 'sitfam_g', 'usage2_g', 'orig_attest_g', 'caros_g', 'segment_g', 'energ_g', 'frein_g', 'alim_g', 'suspe_g', 'crash_g', 'fract_paiem_soc_g', 'cdval_g', 'modele2_g', 'profess_g', 'marq_g', 'garag_g', 'Region']\n"
     ]
    }
   ],
   "source": [
    "print(list(X_train.columns))"
   ]
  },
  {
   "cell_type": "markdown",
   "id": "8524b89c",
   "metadata": {},
   "source": [
    "# DIFFERENTS SEUILS"
   ]
  },
  {
   "cell_type": "code",
   "execution_count": 66,
   "id": "802d506c",
   "metadata": {},
   "outputs": [
    {
     "name": "stderr",
     "output_type": "stream",
     "text": [
      "c:\\Users\\esthelle.kuissu\\OneDrive - Exiom Partners\\Documents\\Code_rapport_stage\\Exiom_Stage\\.venv\\Lib\\site-packages\\sklearn\\linear_model\\_logistic.py:1237: FutureWarning: 'multi_class' was deprecated in version 1.5 and will be removed in 1.7. From then on, binary problems will be fit as proper binary  logistic regression models (as if multi_class='ovr' were set). Leave it to its default value to avoid this warning.\n",
      "  warnings.warn(\n",
      "c:\\Users\\esthelle.kuissu\\OneDrive - Exiom Partners\\Documents\\Code_rapport_stage\\Exiom_Stage\\.venv\\Lib\\site-packages\\sklearn\\linear_model\\_sag.py:348: ConvergenceWarning: The max_iter was reached which means the coef_ did not converge\n",
      "  warnings.warn(\n",
      "c:\\Users\\esthelle.kuissu\\OneDrive - Exiom Partners\\Documents\\Code_rapport_stage\\Exiom_Stage\\.venv\\Lib\\site-packages\\sklearn\\preprocessing\\_encoders.py:246: UserWarning: Found unknown categories in columns [0, 1, 7, 16, 17] during transform. These unknown categories will be encoded as all zeros\n",
      "  warnings.warn(\n"
     ]
    },
    {
     "name": "stdout",
     "output_type": "stream",
     "text": [
      "\n",
      "=== ÉVALUATION AVEC SEUIL = 0.45 POUR LA CLASSE 2 ===\n",
      "Recall classe 2 : 0.6488745718479857\n",
      "Precision classe 2 : 0.6040693922484152\n",
      "F1-score classe 2 : 0.6256708671633868\n",
      "Log-loss : 0.6828915265629127\n",
      "\n",
      "Rapport de classification :\n",
      "              precision    recall  f1-score   support\n",
      "\n",
      "           1      0.621     0.575     0.597     24525\n",
      "           2      0.604     0.649     0.626     24524\n",
      "\n",
      "    accuracy                          0.612     49049\n",
      "   macro avg      0.612     0.612     0.611     49049\n",
      "weighted avg      0.612     0.612     0.611     49049\n",
      "\n"
     ]
    },
    {
     "data": {
      "image/png": "[encoded data removed]",
      "text/plain": [
       "<Figure size 640x480 with 2 Axes>"
      ]
     },
     "metadata": {},
     "output_type": "display_data"
    },
    {
     "name": "stdout",
     "output_type": "stream",
     "text": [
      "\n",
      "=== ÉVALUATION AVEC SEUIL = 0.55 POUR LA CLASSE 2 ===\n",
      "Recall classe 2 : 0.5453841135214483\n",
      "Precision classe 2 : 0.648705015035406\n",
      "F1-score classe 2 : 0.5925745425546055\n",
      "Log-loss : 0.6828915265629127\n",
      "\n",
      "Rapport de classification :\n",
      "              precision    recall  f1-score   support\n",
      "\n",
      "           1      0.608     0.705     0.653     24525\n",
      "           2      0.649     0.545     0.593     24524\n",
      "\n",
      "    accuracy                          0.625     49049\n",
      "   macro avg      0.628     0.625     0.623     49049\n",
      "weighted avg      0.628     0.625     0.623     49049\n",
      "\n"
     ]
    },
    {
     "data": {
      "image/png": "[encoded data removed]",
      "text/plain": [
       "<Figure size 640x480 with 2 Axes>"
      ]
     },
     "metadata": {},
     "output_type": "display_data"
    }
   ],
   "source": [
    "from sklearn.linear_model import LogisticRegression\n",
    "from sklearn.pipeline import Pipeline\n",
    "from sklearn.compose import ColumnTransformer\n",
    "from sklearn.preprocessing import StandardScaler, OneHotEncoder\n",
    "from sklearn.metrics import (\n",
    "    classification_report, confusion_matrix, ConfusionMatrixDisplay,\n",
    "    precision_score, recall_score, f1_score\n",
    ")\n",
    "import matplotlib.pyplot as plt\n",
    "import numpy as np\n",
    "import pandas as pd\n",
    "\n",
    "# 1. Prétraitement\n",
    "preprocess = ColumnTransformer(\n",
    "    transformers=[\n",
    "        (\"num\", StandardScaler(), var_quanti),\n",
    "        (\"cat\", OneHotEncoder(drop=\"first\", handle_unknown=\"ignore\", sparse_output=True), var_quali)\n",
    "    ],\n",
    "    remainder=\"drop\"\n",
    ")\n",
    "\n",
    "# 2. Modèle avec les meilleurs hyperparamètres (à adapter si tu as un study)\n",
    "logit = LogisticRegression(\n",
    "    solver=\"saga\",\n",
    "    multi_class=\"multinomial\",\n",
    "    class_weight=\"balanced\",\n",
    "    penalty=\"l2\",\n",
    "    C=1.0,\n",
    "    max_iter=1000,\n",
    "    n_jobs=-1\n",
    ")\n",
    "\n",
    "# 3. Pipeline complet\n",
    "pipe = Pipeline([\n",
    "    (\"prep\", preprocess),\n",
    "    (\"clf\", logit)\n",
    "])\n",
    "\n",
    "# 4. Entraînement\n",
    "pipe.fit(X_train, y_train)\n",
    "\n",
    "# 5. Prédiction des probabilités\n",
    "proba_test = pipe.predict_proba(X_test)\n",
    "proba_class2 = proba_test[:, 1]  # colonne correspondant à la classe 2\n",
    "\n",
    "# 6. Évaluation pour seuils personnalisés\n",
    "for seuil in [0.45, 0.55]:\n",
    "    y_thresh = np.where(proba_class2 >= seuil, 2, 1)\n",
    "\n",
    "    print(f\"\\n=== ÉVALUATION AVEC SEUIL = {seuil} POUR LA CLASSE 2 ===\")\n",
    "    print(\"Recall classe 2 :\", recall_score(y_test, y_thresh, pos_label=2))\n",
    "    print(\"Precision classe 2 :\", precision_score(y_test, y_thresh, pos_label=2))\n",
    "    print(\"F1-score classe 2 :\", f1_score(y_test, y_thresh, pos_label=2))\n",
    "    log_losses = -np.log(np.take_along_axis(proba_test, y_test.values.reshape(-1, 1) - 1, axis=1)).flatten()\n",
    "    print(\"Log-loss :\", np.mean(log_losses))\n",
    "\n",
    "    print(\"\\nRapport de classification :\")\n",
    "    print(classification_report(y_test, y_thresh, digits=3))\n",
    "\n",
    "    cm = confusion_matrix(y_test, y_thresh, normalize=\"true\")\n",
    "    disp = ConfusionMatrixDisplay(confusion_matrix=cm, display_labels=[\"Classe 1\", \"Classe 2\"])\n",
    "    disp.plot(values_format=\".2f\", cmap=\"Blues\")\n",
    "    plt.title(f\"Matrice de confusion – seuil {seuil}\")\n",
    "    plt.tight_layout()\n",
    "    plt.show()"
   ]
  },
  {
   "cell_type": "markdown",
   "id": "b746108c",
   "metadata": {},
   "source": [
    "# XGBOOST"
   ]
  },
  {
   "cell_type": "code",
   "execution_count": 89,
   "id": "f6765908",
   "metadata": {},
   "outputs": [
    {
     "name": "stdout",
     "output_type": "stream",
     "text": [
      "Requirement already satisfied: xgboost in c:\\users\\esthelle.kuissu\\onedrive - exiom partners\\documents\\code_rapport_stage\\ex_rap_stage\\exiom_stage\\.venv\\lib\\site-packages (3.0.2)\n",
      "Requirement already satisfied: numpy in c:\\users\\esthelle.kuissu\\onedrive - exiom partners\\documents\\code_rapport_stage\\ex_rap_stage\\exiom_stage\\.venv\\lib\\site-packages (from xgboost) (2.3.1)\n",
      "Requirement already satisfied: scipy in c:\\users\\esthelle.kuissu\\onedrive - exiom partners\\documents\\code_rapport_stage\\ex_rap_stage\\exiom_stage\\.venv\\lib\\site-packages (from xgboost) (1.16.0)\n"
     ]
    }
   ],
   "source": [
    "!pip install xgboost\n",
    "import xgboost as xgb"
   ]
  },
  {
   "cell_type": "code",
   "execution_count": 90,
   "id": "17d06c5a",
   "metadata": {},
   "outputs": [],
   "source": [
    "# Remappage des classes : 1 → 0, 2 → 1\n",
    "y_train = y_train.replace({1: 0, 2: 1})\n",
    "y_test  = y_test.replace({1: 0, 2: 1})"
   ]
  },
  {
   "cell_type": "code",
   "execution_count": 91,
   "id": "0a43f9d3",
   "metadata": {},
   "outputs": [
    {
     "name": "stderr",
     "output_type": "stream",
     "text": [
      "c:\\Users\\esthelle.kuissu\\OneDrive - Exiom Partners\\Documents\\Code_rapport_stage\\EX_RAP_STAGE\\Exiom_Stage\\.venv\\Lib\\site-packages\\xgboost\\training.py:183: UserWarning: [17:35:03] WARNING: C:\\actions-runner\\_work\\xgboost\\xgboost\\src\\learner.cc:738: \n",
      "Parameters: { \"use_label_encoder\" } are not used.\n",
      "\n",
      "  bst.update(dtrain, iteration=i, fobj=obj)\n",
      "c:\\Users\\esthelle.kuissu\\OneDrive - Exiom Partners\\Documents\\Code_rapport_stage\\EX_RAP_STAGE\\Exiom_Stage\\.venv\\Lib\\site-packages\\sklearn\\preprocessing\\_encoders.py:246: UserWarning: Found unknown categories in columns [5, 14, 15] during transform. These unknown categories will be encoded as all zeros\n",
      "  warnings.warn(\n",
      "c:\\Users\\esthelle.kuissu\\OneDrive - Exiom Partners\\Documents\\Code_rapport_stage\\EX_RAP_STAGE\\Exiom_Stage\\.venv\\Lib\\site-packages\\sklearn\\preprocessing\\_encoders.py:246: UserWarning: Found unknown categories in columns [5, 14, 15] during transform. These unknown categories will be encoded as all zeros\n",
      "  warnings.warn(\n"
     ]
    },
    {
     "name": "stdout",
     "output_type": "stream",
     "text": [
      "\n",
      "=== XGBOOST – RAPPORT DE CLASSIFICATION ===\n",
      "              precision    recall  f1-score   support\n",
      "\n",
      "           0      0.691     0.188     0.296     24524\n",
      "           1      0.932     0.993     0.961    276030\n",
      "\n",
      "    accuracy                          0.927    300554\n",
      "   macro avg      0.812     0.590     0.629    300554\n",
      "weighted avg      0.913     0.927     0.907    300554\n",
      "\n",
      "Log-loss : 0.166\n"
     ]
    }
   ],
   "source": [
    "from xgboost import XGBClassifier\n",
    "from sklearn.pipeline import Pipeline\n",
    "from sklearn.compose import ColumnTransformer\n",
    "from sklearn.preprocessing import StandardScaler, OneHotEncoder\n",
    "from sklearn.metrics import classification_report, log_loss\n",
    "import matplotlib.pyplot as plt\n",
    "\n",
    "# Prétraitement\n",
    "preprocess = ColumnTransformer(\n",
    "    transformers=[\n",
    "        (\"num\", StandardScaler(), var_quanti),\n",
    "        (\"cat\", OneHotEncoder(drop=\"first\", handle_unknown=\"ignore\", sparse_output=True), var_quali)\n",
    "    ],\n",
    "    remainder=\"drop\"\n",
    ")\n",
    "\n",
    "# Modèle XGBoost\n",
    "xgb = XGBClassifier(\n",
    "    objective=\"binary:logistic\",  # ← pour 2 classes\n",
    "    eval_metric=\"mlogloss\",\n",
    "    use_label_encoder=False,\n",
    "    n_estimators=100,\n",
    "    learning_rate=0.1,\n",
    "    max_depth=6,\n",
    "    subsample=0.8,\n",
    "    colsample_bytree=0.8,\n",
    "    random_state=42,\n",
    "    n_jobs=-1\n",
    ")\n",
    "\n",
    "# Pipeline complet\n",
    "pipe_xgb = Pipeline([\n",
    "    (\"prep\", preprocess),\n",
    "    (\"clf\", xgb)\n",
    "])\n",
    "\n",
    "# Entraînement\n",
    "pipe_xgb.fit(X_train, y_train)\n",
    "\n",
    "# Prédictions\n",
    "y_pred = pipe_xgb.predict(X_test)\n",
    "y_proba = pipe_xgb.predict_proba(X_test)\n",
    "\n",
    "# Évaluation\n",
    "print(\"\\n=== XGBOOST – RAPPORT DE CLASSIFICATION ===\")\n",
    "print(classification_report(y_test, y_pred, digits=3))\n",
    "print(\"Log-loss :\", round(log_loss(y_test, y_proba), 4))"
   ]
  },
  {
   "cell_type": "markdown",
   "id": "458fb08b",
   "metadata": {},
   "source": [
    "# DEBUT JOURNEE DU 10 JUILLET"
   ]
  },
  {
   "cell_type": "markdown",
   "id": "fcd213c5",
   "metadata": {},
   "source": [
    "# Généralisation"
   ]
  },
  {
   "cell_type": "code",
   "execution_count": 92,
   "id": "5cef4a77",
   "metadata": {},
   "outputs": [],
   "source": [
    "import numpy as np\n",
    "from sklearn.datasets import make_classification\n",
    "from sklearn.model_selection import train_test_split\n",
    "from sklearn.ensemble import VotingClassifier\n",
    "from sklearn.metrics import classification_report\n",
    "from xgboost import XGBClassifier"
   ]
  },
  {
   "cell_type": "code",
   "execution_count": 93,
   "id": "03a27789",
   "metadata": {},
   "outputs": [],
   "source": [
    "# Remappage des classes : 1 → 0, 2 → 1\n",
    "datap_s['structure_id'] = datap_s['structure_id'].replace({1: 0, 2: 1})"
   ]
  },
  {
   "cell_type": "code",
   "execution_count": 94,
   "id": "c27b57ff",
   "metadata": {},
   "outputs": [
    {
     "data": {
      "text/plain": [
       "structure_id\n",
       "1    0.918403\n",
       "0    0.081597\n",
       "Name: proportion, dtype: float64"
      ]
     },
     "execution_count": 94,
     "metadata": {},
     "output_type": "execute_result"
    }
   ],
   "source": [
    "datap_s['structure_id'].value_counts(normalize=True)"
   ]
  },
  {
   "cell_type": "code",
   "execution_count": 95,
   "id": "9e69f76a",
   "metadata": {},
   "outputs": [],
   "source": [
    "from sklearn.preprocessing import LabelEncoder\n",
    "\n",
    "def encode_dataframe(datap_s):\n",
    "    datap_s = datap_s.copy()\n",
    "    for col in datap_s.select_dtypes(include='object').columns:\n",
    "        datap_s[col] = LabelEncoder().fit_transform(datap_s[col].astype(str))\n",
    "    return datap_s"
   ]
  },
  {
   "cell_type": "code",
   "execution_count": 96,
   "id": "f4a42fdb",
   "metadata": {},
   "outputs": [],
   "source": [
    "# 4. Séparer features et cible\n",
    "X = datap_s.drop(columns=[\"structure_id\", \"structure_sinistre\"])\n",
    "y = datap_s[\"structure_id\"]"
   ]
  },
  {
   "cell_type": "code",
   "execution_count": 97,
   "id": "2e08b5f8",
   "metadata": {},
   "outputs": [
    {
     "name": "stdout",
     "output_type": "stream",
     "text": [
      "['cle_sin', 'date_evt', 'aac', 'age_veh', 'sport', 'trans', 'suspe', 'boite', 'elt_secu', 'vu', 'pickup', 'luxe', 'prestige', 'soumis_crm', 'nab50', 'LIB_CHOC', 'LIB_INTENS', 'GARAGE_AGREE_O_N', 'NB_PIECE_REMPLACEE', 'NB_PIECE_REPAREE', 'annee_sortie_veh', 'date_nais_f', 'date_permis_f', 'formule_ratt_g', 'sitfam_g', 'usage2_g', 'orig_attest_g', 'caros_g', 'segment_g', 'energ_g', 'frein_g', 'alim_g', 'suspe_g', 'crash_g', 'fract_paiem_soc_g', 'cdval_g', 'modele2_g', 'profess_g', 'marq_g', 'garag_g', 'Region', 'year_2020', 'year_2021', 'year_2022', 'year_2023', 'year_2024']\n"
     ]
    }
   ],
   "source": [
    "print(list(X.columns))"
   ]
  },
  {
   "cell_type": "code",
   "execution_count": 98,
   "id": "fcf36340",
   "metadata": {},
   "outputs": [
    {
     "name": "stderr",
     "output_type": "stream",
     "text": [
      "c:\\Users\\esthelle.kuissu\\OneDrive - Exiom Partners\\Documents\\Code_rapport_stage\\EX_RAP_STAGE\\Exiom_Stage\\.venv\\Lib\\site-packages\\xgboost\\training.py:183: UserWarning: [17:36:21] WARNING: C:\\actions-runner\\_work\\xgboost\\xgboost\\src\\learner.cc:738: \n",
      "Parameters: { \"use_label_encoder\" } are not used.\n",
      "\n",
      "  bst.update(dtrain, iteration=i, fobj=obj)\n",
      "c:\\Users\\esthelle.kuissu\\OneDrive - Exiom Partners\\Documents\\Code_rapport_stage\\EX_RAP_STAGE\\Exiom_Stage\\.venv\\Lib\\site-packages\\xgboost\\training.py:183: UserWarning: [17:36:22] WARNING: C:\\actions-runner\\_work\\xgboost\\xgboost\\src\\learner.cc:738: \n",
      "Parameters: { \"use_label_encoder\" } are not used.\n",
      "\n",
      "  bst.update(dtrain, iteration=i, fobj=obj)\n",
      "c:\\Users\\esthelle.kuissu\\OneDrive - Exiom Partners\\Documents\\Code_rapport_stage\\EX_RAP_STAGE\\Exiom_Stage\\.venv\\Lib\\site-packages\\xgboost\\training.py:183: UserWarning: [17:36:23] WARNING: C:\\actions-runner\\_work\\xgboost\\xgboost\\src\\learner.cc:738: \n",
      "Parameters: { \"use_label_encoder\" } are not used.\n",
      "\n",
      "  bst.update(dtrain, iteration=i, fobj=obj)\n",
      "c:\\Users\\esthelle.kuissu\\OneDrive - Exiom Partners\\Documents\\Code_rapport_stage\\EX_RAP_STAGE\\Exiom_Stage\\.venv\\Lib\\site-packages\\xgboost\\training.py:183: UserWarning: [17:36:24] WARNING: C:\\actions-runner\\_work\\xgboost\\xgboost\\src\\learner.cc:738: \n",
      "Parameters: { \"use_label_encoder\" } are not used.\n",
      "\n",
      "  bst.update(dtrain, iteration=i, fobj=obj)\n",
      "c:\\Users\\esthelle.kuissu\\OneDrive - Exiom Partners\\Documents\\Code_rapport_stage\\EX_RAP_STAGE\\Exiom_Stage\\.venv\\Lib\\site-packages\\xgboost\\training.py:183: UserWarning: [17:36:24] WARNING: C:\\actions-runner\\_work\\xgboost\\xgboost\\src\\learner.cc:738: \n",
      "Parameters: { \"use_label_encoder\" } are not used.\n",
      "\n",
      "  bst.update(dtrain, iteration=i, fobj=obj)\n",
      "c:\\Users\\esthelle.kuissu\\OneDrive - Exiom Partners\\Documents\\Code_rapport_stage\\EX_RAP_STAGE\\Exiom_Stage\\.venv\\Lib\\site-packages\\xgboost\\training.py:183: UserWarning: [17:36:25] WARNING: C:\\actions-runner\\_work\\xgboost\\xgboost\\src\\learner.cc:738: \n",
      "Parameters: { \"use_label_encoder\" } are not used.\n",
      "\n",
      "  bst.update(dtrain, iteration=i, fobj=obj)\n",
      "c:\\Users\\esthelle.kuissu\\OneDrive - Exiom Partners\\Documents\\Code_rapport_stage\\EX_RAP_STAGE\\Exiom_Stage\\.venv\\Lib\\site-packages\\xgboost\\training.py:183: UserWarning: [17:36:26] WARNING: C:\\actions-runner\\_work\\xgboost\\xgboost\\src\\learner.cc:738: \n",
      "Parameters: { \"use_label_encoder\" } are not used.\n",
      "\n",
      "  bst.update(dtrain, iteration=i, fobj=obj)\n",
      "c:\\Users\\esthelle.kuissu\\OneDrive - Exiom Partners\\Documents\\Code_rapport_stage\\EX_RAP_STAGE\\Exiom_Stage\\.venv\\Lib\\site-packages\\xgboost\\training.py:183: UserWarning: [17:36:27] WARNING: C:\\actions-runner\\_work\\xgboost\\xgboost\\src\\learner.cc:738: \n",
      "Parameters: { \"use_label_encoder\" } are not used.\n",
      "\n",
      "  bst.update(dtrain, iteration=i, fobj=obj)\n",
      "c:\\Users\\esthelle.kuissu\\OneDrive - Exiom Partners\\Documents\\Code_rapport_stage\\EX_RAP_STAGE\\Exiom_Stage\\.venv\\Lib\\site-packages\\xgboost\\training.py:183: UserWarning: [17:36:28] WARNING: C:\\actions-runner\\_work\\xgboost\\xgboost\\src\\learner.cc:738: \n",
      "Parameters: { \"use_label_encoder\" } are not used.\n",
      "\n",
      "  bst.update(dtrain, iteration=i, fobj=obj)\n",
      "c:\\Users\\esthelle.kuissu\\OneDrive - Exiom Partners\\Documents\\Code_rapport_stage\\EX_RAP_STAGE\\Exiom_Stage\\.venv\\Lib\\site-packages\\xgboost\\training.py:183: UserWarning: [17:36:28] WARNING: C:\\actions-runner\\_work\\xgboost\\xgboost\\src\\learner.cc:738: \n",
      "Parameters: { \"use_label_encoder\" } are not used.\n",
      "\n",
      "  bst.update(dtrain, iteration=i, fobj=obj)\n",
      "c:\\Users\\esthelle.kuissu\\OneDrive - Exiom Partners\\Documents\\Code_rapport_stage\\EX_RAP_STAGE\\Exiom_Stage\\.venv\\Lib\\site-packages\\xgboost\\training.py:183: UserWarning: [17:36:29] WARNING: C:\\actions-runner\\_work\\xgboost\\xgboost\\src\\learner.cc:738: \n",
      "Parameters: { \"use_label_encoder\" } are not used.\n",
      "\n",
      "  bst.update(dtrain, iteration=i, fobj=obj)\n",
      "c:\\Users\\esthelle.kuissu\\OneDrive - Exiom Partners\\Documents\\Code_rapport_stage\\EX_RAP_STAGE\\Exiom_Stage\\.venv\\Lib\\site-packages\\xgboost\\training.py:183: UserWarning: [17:36:30] WARNING: C:\\actions-runner\\_work\\xgboost\\xgboost\\src\\learner.cc:738: \n",
      "Parameters: { \"use_label_encoder\" } are not used.\n",
      "\n",
      "  bst.update(dtrain, iteration=i, fobj=obj)\n",
      "c:\\Users\\esthelle.kuissu\\OneDrive - Exiom Partners\\Documents\\Code_rapport_stage\\EX_RAP_STAGE\\Exiom_Stage\\.venv\\Lib\\site-packages\\xgboost\\training.py:183: UserWarning: [17:36:31] WARNING: C:\\actions-runner\\_work\\xgboost\\xgboost\\src\\learner.cc:738: \n",
      "Parameters: { \"use_label_encoder\" } are not used.\n",
      "\n",
      "  bst.update(dtrain, iteration=i, fobj=obj)\n",
      "c:\\Users\\esthelle.kuissu\\OneDrive - Exiom Partners\\Documents\\Code_rapport_stage\\EX_RAP_STAGE\\Exiom_Stage\\.venv\\Lib\\site-packages\\xgboost\\training.py:183: UserWarning: [17:36:31] WARNING: C:\\actions-runner\\_work\\xgboost\\xgboost\\src\\learner.cc:738: \n",
      "Parameters: { \"use_label_encoder\" } are not used.\n",
      "\n",
      "  bst.update(dtrain, iteration=i, fobj=obj)\n",
      "c:\\Users\\esthelle.kuissu\\OneDrive - Exiom Partners\\Documents\\Code_rapport_stage\\EX_RAP_STAGE\\Exiom_Stage\\.venv\\Lib\\site-packages\\xgboost\\training.py:183: UserWarning: [17:36:32] WARNING: C:\\actions-runner\\_work\\xgboost\\xgboost\\src\\learner.cc:738: \n",
      "Parameters: { \"use_label_encoder\" } are not used.\n",
      "\n",
      "  bst.update(dtrain, iteration=i, fobj=obj)\n",
      "c:\\Users\\esthelle.kuissu\\OneDrive - Exiom Partners\\Documents\\Code_rapport_stage\\EX_RAP_STAGE\\Exiom_Stage\\.venv\\Lib\\site-packages\\xgboost\\training.py:183: UserWarning: [17:36:33] WARNING: C:\\actions-runner\\_work\\xgboost\\xgboost\\src\\learner.cc:738: \n",
      "Parameters: { \"use_label_encoder\" } are not used.\n",
      "\n",
      "  bst.update(dtrain, iteration=i, fobj=obj)\n",
      "c:\\Users\\esthelle.kuissu\\OneDrive - Exiom Partners\\Documents\\Code_rapport_stage\\EX_RAP_STAGE\\Exiom_Stage\\.venv\\Lib\\site-packages\\xgboost\\training.py:183: UserWarning: [17:36:34] WARNING: C:\\actions-runner\\_work\\xgboost\\xgboost\\src\\learner.cc:738: \n",
      "Parameters: { \"use_label_encoder\" } are not used.\n",
      "\n",
      "  bst.update(dtrain, iteration=i, fobj=obj)\n",
      "c:\\Users\\esthelle.kuissu\\OneDrive - Exiom Partners\\Documents\\Code_rapport_stage\\EX_RAP_STAGE\\Exiom_Stage\\.venv\\Lib\\site-packages\\xgboost\\training.py:183: UserWarning: [17:36:35] WARNING: C:\\actions-runner\\_work\\xgboost\\xgboost\\src\\learner.cc:738: \n",
      "Parameters: { \"use_label_encoder\" } are not used.\n",
      "\n",
      "  bst.update(dtrain, iteration=i, fobj=obj)\n",
      "c:\\Users\\esthelle.kuissu\\OneDrive - Exiom Partners\\Documents\\Code_rapport_stage\\EX_RAP_STAGE\\Exiom_Stage\\.venv\\Lib\\site-packages\\xgboost\\training.py:183: UserWarning: [17:36:35] WARNING: C:\\actions-runner\\_work\\xgboost\\xgboost\\src\\learner.cc:738: \n",
      "Parameters: { \"use_label_encoder\" } are not used.\n",
      "\n",
      "  bst.update(dtrain, iteration=i, fobj=obj)\n",
      "c:\\Users\\esthelle.kuissu\\OneDrive - Exiom Partners\\Documents\\Code_rapport_stage\\EX_RAP_STAGE\\Exiom_Stage\\.venv\\Lib\\site-packages\\xgboost\\training.py:183: UserWarning: [17:36:36] WARNING: C:\\actions-runner\\_work\\xgboost\\xgboost\\src\\learner.cc:738: \n",
      "Parameters: { \"use_label_encoder\" } are not used.\n",
      "\n",
      "  bst.update(dtrain, iteration=i, fobj=obj)\n",
      "c:\\Users\\esthelle.kuissu\\OneDrive - Exiom Partners\\Documents\\Code_rapport_stage\\EX_RAP_STAGE\\Exiom_Stage\\.venv\\Lib\\site-packages\\xgboost\\training.py:183: UserWarning: [17:36:37] WARNING: C:\\actions-runner\\_work\\xgboost\\xgboost\\src\\learner.cc:738: \n",
      "Parameters: { \"use_label_encoder\" } are not used.\n",
      "\n",
      "  bst.update(dtrain, iteration=i, fobj=obj)\n",
      "c:\\Users\\esthelle.kuissu\\OneDrive - Exiom Partners\\Documents\\Code_rapport_stage\\EX_RAP_STAGE\\Exiom_Stage\\.venv\\Lib\\site-packages\\xgboost\\training.py:183: UserWarning: [17:36:38] WARNING: C:\\actions-runner\\_work\\xgboost\\xgboost\\src\\learner.cc:738: \n",
      "Parameters: { \"use_label_encoder\" } are not used.\n",
      "\n",
      "  bst.update(dtrain, iteration=i, fobj=obj)\n",
      "c:\\Users\\esthelle.kuissu\\OneDrive - Exiom Partners\\Documents\\Code_rapport_stage\\EX_RAP_STAGE\\Exiom_Stage\\.venv\\Lib\\site-packages\\xgboost\\training.py:183: UserWarning: [17:36:39] WARNING: C:\\actions-runner\\_work\\xgboost\\xgboost\\src\\learner.cc:738: \n",
      "Parameters: { \"use_label_encoder\" } are not used.\n",
      "\n",
      "  bst.update(dtrain, iteration=i, fobj=obj)\n",
      "c:\\Users\\esthelle.kuissu\\OneDrive - Exiom Partners\\Documents\\Code_rapport_stage\\EX_RAP_STAGE\\Exiom_Stage\\.venv\\Lib\\site-packages\\xgboost\\training.py:183: UserWarning: [17:36:39] WARNING: C:\\actions-runner\\_work\\xgboost\\xgboost\\src\\learner.cc:738: \n",
      "Parameters: { \"use_label_encoder\" } are not used.\n",
      "\n",
      "  bst.update(dtrain, iteration=i, fobj=obj)\n",
      "c:\\Users\\esthelle.kuissu\\OneDrive - Exiom Partners\\Documents\\Code_rapport_stage\\EX_RAP_STAGE\\Exiom_Stage\\.venv\\Lib\\site-packages\\xgboost\\training.py:183: UserWarning: [17:36:40] WARNING: C:\\actions-runner\\_work\\xgboost\\xgboost\\src\\learner.cc:738: \n",
      "Parameters: { \"use_label_encoder\" } are not used.\n",
      "\n",
      "  bst.update(dtrain, iteration=i, fobj=obj)\n",
      "c:\\Users\\esthelle.kuissu\\OneDrive - Exiom Partners\\Documents\\Code_rapport_stage\\EX_RAP_STAGE\\Exiom_Stage\\.venv\\Lib\\site-packages\\xgboost\\training.py:183: UserWarning: [17:36:41] WARNING: C:\\actions-runner\\_work\\xgboost\\xgboost\\src\\learner.cc:738: \n",
      "Parameters: { \"use_label_encoder\" } are not used.\n",
      "\n",
      "  bst.update(dtrain, iteration=i, fobj=obj)\n",
      "c:\\Users\\esthelle.kuissu\\OneDrive - Exiom Partners\\Documents\\Code_rapport_stage\\EX_RAP_STAGE\\Exiom_Stage\\.venv\\Lib\\site-packages\\xgboost\\training.py:183: UserWarning: [17:36:42] WARNING: C:\\actions-runner\\_work\\xgboost\\xgboost\\src\\learner.cc:738: \n",
      "Parameters: { \"use_label_encoder\" } are not used.\n",
      "\n",
      "  bst.update(dtrain, iteration=i, fobj=obj)\n",
      "c:\\Users\\esthelle.kuissu\\OneDrive - Exiom Partners\\Documents\\Code_rapport_stage\\EX_RAP_STAGE\\Exiom_Stage\\.venv\\Lib\\site-packages\\xgboost\\training.py:183: UserWarning: [17:36:42] WARNING: C:\\actions-runner\\_work\\xgboost\\xgboost\\src\\learner.cc:738: \n",
      "Parameters: { \"use_label_encoder\" } are not used.\n",
      "\n",
      "  bst.update(dtrain, iteration=i, fobj=obj)\n",
      "c:\\Users\\esthelle.kuissu\\OneDrive - Exiom Partners\\Documents\\Code_rapport_stage\\EX_RAP_STAGE\\Exiom_Stage\\.venv\\Lib\\site-packages\\xgboost\\training.py:183: UserWarning: [17:36:43] WARNING: C:\\actions-runner\\_work\\xgboost\\xgboost\\src\\learner.cc:738: \n",
      "Parameters: { \"use_label_encoder\" } are not used.\n",
      "\n",
      "  bst.update(dtrain, iteration=i, fobj=obj)\n",
      "c:\\Users\\esthelle.kuissu\\OneDrive - Exiom Partners\\Documents\\Code_rapport_stage\\EX_RAP_STAGE\\Exiom_Stage\\.venv\\Lib\\site-packages\\xgboost\\training.py:183: UserWarning: [17:36:44] WARNING: C:\\actions-runner\\_work\\xgboost\\xgboost\\src\\learner.cc:738: \n",
      "Parameters: { \"use_label_encoder\" } are not used.\n",
      "\n",
      "  bst.update(dtrain, iteration=i, fobj=obj)\n",
      "c:\\Users\\esthelle.kuissu\\OneDrive - Exiom Partners\\Documents\\Code_rapport_stage\\EX_RAP_STAGE\\Exiom_Stage\\.venv\\Lib\\site-packages\\xgboost\\training.py:183: UserWarning: [17:36:50] WARNING: C:\\actions-runner\\_work\\xgboost\\xgboost\\src\\learner.cc:738: \n",
      "Parameters: { \"use_label_encoder\" } are not used.\n",
      "\n",
      "  bst.update(dtrain, iteration=i, fobj=obj)\n",
      "c:\\Users\\esthelle.kuissu\\OneDrive - Exiom Partners\\Documents\\Code_rapport_stage\\EX_RAP_STAGE\\Exiom_Stage\\.venv\\Lib\\site-packages\\xgboost\\training.py:183: UserWarning: [17:37:06] WARNING: C:\\actions-runner\\_work\\xgboost\\xgboost\\src\\learner.cc:738: \n",
      "Parameters: { \"use_label_encoder\" } are not used.\n",
      "\n",
      "  bst.update(dtrain, iteration=i, fobj=obj)\n",
      "c:\\Users\\esthelle.kuissu\\OneDrive - Exiom Partners\\Documents\\Code_rapport_stage\\EX_RAP_STAGE\\Exiom_Stage\\.venv\\Lib\\site-packages\\xgboost\\training.py:183: UserWarning: [17:37:21] WARNING: C:\\actions-runner\\_work\\xgboost\\xgboost\\src\\learner.cc:738: \n",
      "Parameters: { \"use_label_encoder\" } are not used.\n",
      "\n",
      "  bst.update(dtrain, iteration=i, fobj=obj)\n",
      "c:\\Users\\esthelle.kuissu\\OneDrive - Exiom Partners\\Documents\\Code_rapport_stage\\EX_RAP_STAGE\\Exiom_Stage\\.venv\\Lib\\site-packages\\xgboost\\training.py:183: UserWarning: [17:37:36] WARNING: C:\\actions-runner\\_work\\xgboost\\xgboost\\src\\learner.cc:738: \n",
      "Parameters: { \"use_label_encoder\" } are not used.\n",
      "\n",
      "  bst.update(dtrain, iteration=i, fobj=obj)\n",
      "c:\\Users\\esthelle.kuissu\\OneDrive - Exiom Partners\\Documents\\Code_rapport_stage\\EX_RAP_STAGE\\Exiom_Stage\\.venv\\Lib\\site-packages\\xgboost\\training.py:183: UserWarning: [17:37:51] WARNING: C:\\actions-runner\\_work\\xgboost\\xgboost\\src\\learner.cc:738: \n",
      "Parameters: { \"use_label_encoder\" } are not used.\n",
      "\n",
      "  bst.update(dtrain, iteration=i, fobj=obj)\n",
      "c:\\Users\\esthelle.kuissu\\OneDrive - Exiom Partners\\Documents\\Code_rapport_stage\\EX_RAP_STAGE\\Exiom_Stage\\.venv\\Lib\\site-packages\\xgboost\\training.py:183: UserWarning: [17:38:06] WARNING: C:\\actions-runner\\_work\\xgboost\\xgboost\\src\\learner.cc:738: \n",
      "Parameters: { \"use_label_encoder\" } are not used.\n",
      "\n",
      "  bst.update(dtrain, iteration=i, fobj=obj)\n",
      "c:\\Users\\esthelle.kuissu\\OneDrive - Exiom Partners\\Documents\\Code_rapport_stage\\EX_RAP_STAGE\\Exiom_Stage\\.venv\\Lib\\site-packages\\xgboost\\training.py:183: UserWarning: [17:38:21] WARNING: C:\\actions-runner\\_work\\xgboost\\xgboost\\src\\learner.cc:738: \n",
      "Parameters: { \"use_label_encoder\" } are not used.\n",
      "\n",
      "  bst.update(dtrain, iteration=i, fobj=obj)\n",
      "c:\\Users\\esthelle.kuissu\\OneDrive - Exiom Partners\\Documents\\Code_rapport_stage\\EX_RAP_STAGE\\Exiom_Stage\\.venv\\Lib\\site-packages\\xgboost\\training.py:183: UserWarning: [17:38:36] WARNING: C:\\actions-runner\\_work\\xgboost\\xgboost\\src\\learner.cc:738: \n",
      "Parameters: { \"use_label_encoder\" } are not used.\n",
      "\n",
      "  bst.update(dtrain, iteration=i, fobj=obj)\n",
      "c:\\Users\\esthelle.kuissu\\OneDrive - Exiom Partners\\Documents\\Code_rapport_stage\\EX_RAP_STAGE\\Exiom_Stage\\.venv\\Lib\\site-packages\\xgboost\\training.py:183: UserWarning: [17:38:52] WARNING: C:\\actions-runner\\_work\\xgboost\\xgboost\\src\\learner.cc:738: \n",
      "Parameters: { \"use_label_encoder\" } are not used.\n",
      "\n",
      "  bst.update(dtrain, iteration=i, fobj=obj)\n",
      "c:\\Users\\esthelle.kuissu\\OneDrive - Exiom Partners\\Documents\\Code_rapport_stage\\EX_RAP_STAGE\\Exiom_Stage\\.venv\\Lib\\site-packages\\xgboost\\training.py:183: UserWarning: [17:39:07] WARNING: C:\\actions-runner\\_work\\xgboost\\xgboost\\src\\learner.cc:738: \n",
      "Parameters: { \"use_label_encoder\" } are not used.\n",
      "\n",
      "  bst.update(dtrain, iteration=i, fobj=obj)\n",
      "c:\\Users\\esthelle.kuissu\\OneDrive - Exiom Partners\\Documents\\Code_rapport_stage\\EX_RAP_STAGE\\Exiom_Stage\\.venv\\Lib\\site-packages\\xgboost\\training.py:183: UserWarning: [17:39:21] WARNING: C:\\actions-runner\\_work\\xgboost\\xgboost\\src\\learner.cc:738: \n",
      "Parameters: { \"use_label_encoder\" } are not used.\n",
      "\n",
      "  bst.update(dtrain, iteration=i, fobj=obj)\n",
      "c:\\Users\\esthelle.kuissu\\OneDrive - Exiom Partners\\Documents\\Code_rapport_stage\\EX_RAP_STAGE\\Exiom_Stage\\.venv\\Lib\\site-packages\\xgboost\\training.py:183: UserWarning: [17:39:36] WARNING: C:\\actions-runner\\_work\\xgboost\\xgboost\\src\\learner.cc:738: \n",
      "Parameters: { \"use_label_encoder\" } are not used.\n",
      "\n",
      "  bst.update(dtrain, iteration=i, fobj=obj)\n",
      "c:\\Users\\esthelle.kuissu\\OneDrive - Exiom Partners\\Documents\\Code_rapport_stage\\EX_RAP_STAGE\\Exiom_Stage\\.venv\\Lib\\site-packages\\xgboost\\training.py:183: UserWarning: [17:39:51] WARNING: C:\\actions-runner\\_work\\xgboost\\xgboost\\src\\learner.cc:738: \n",
      "Parameters: { \"use_label_encoder\" } are not used.\n",
      "\n",
      "  bst.update(dtrain, iteration=i, fobj=obj)\n",
      "c:\\Users\\esthelle.kuissu\\OneDrive - Exiom Partners\\Documents\\Code_rapport_stage\\EX_RAP_STAGE\\Exiom_Stage\\.venv\\Lib\\site-packages\\xgboost\\training.py:183: UserWarning: [17:40:06] WARNING: C:\\actions-runner\\_work\\xgboost\\xgboost\\src\\learner.cc:738: \n",
      "Parameters: { \"use_label_encoder\" } are not used.\n",
      "\n",
      "  bst.update(dtrain, iteration=i, fobj=obj)\n",
      "c:\\Users\\esthelle.kuissu\\OneDrive - Exiom Partners\\Documents\\Code_rapport_stage\\EX_RAP_STAGE\\Exiom_Stage\\.venv\\Lib\\site-packages\\xgboost\\training.py:183: UserWarning: [17:40:21] WARNING: C:\\actions-runner\\_work\\xgboost\\xgboost\\src\\learner.cc:738: \n",
      "Parameters: { \"use_label_encoder\" } are not used.\n",
      "\n",
      "  bst.update(dtrain, iteration=i, fobj=obj)\n",
      "c:\\Users\\esthelle.kuissu\\OneDrive - Exiom Partners\\Documents\\Code_rapport_stage\\EX_RAP_STAGE\\Exiom_Stage\\.venv\\Lib\\site-packages\\xgboost\\training.py:183: UserWarning: [17:40:36] WARNING: C:\\actions-runner\\_work\\xgboost\\xgboost\\src\\learner.cc:738: \n",
      "Parameters: { \"use_label_encoder\" } are not used.\n",
      "\n",
      "  bst.update(dtrain, iteration=i, fobj=obj)\n",
      "c:\\Users\\esthelle.kuissu\\OneDrive - Exiom Partners\\Documents\\Code_rapport_stage\\EX_RAP_STAGE\\Exiom_Stage\\.venv\\Lib\\site-packages\\xgboost\\training.py:183: UserWarning: [17:40:51] WARNING: C:\\actions-runner\\_work\\xgboost\\xgboost\\src\\learner.cc:738: \n",
      "Parameters: { \"use_label_encoder\" } are not used.\n",
      "\n",
      "  bst.update(dtrain, iteration=i, fobj=obj)\n",
      "c:\\Users\\esthelle.kuissu\\OneDrive - Exiom Partners\\Documents\\Code_rapport_stage\\EX_RAP_STAGE\\Exiom_Stage\\.venv\\Lib\\site-packages\\xgboost\\training.py:183: UserWarning: [17:41:06] WARNING: C:\\actions-runner\\_work\\xgboost\\xgboost\\src\\learner.cc:738: \n",
      "Parameters: { \"use_label_encoder\" } are not used.\n",
      "\n",
      "  bst.update(dtrain, iteration=i, fobj=obj)\n",
      "c:\\Users\\esthelle.kuissu\\OneDrive - Exiom Partners\\Documents\\Code_rapport_stage\\EX_RAP_STAGE\\Exiom_Stage\\.venv\\Lib\\site-packages\\xgboost\\training.py:183: UserWarning: [17:41:20] WARNING: C:\\actions-runner\\_work\\xgboost\\xgboost\\src\\learner.cc:738: \n",
      "Parameters: { \"use_label_encoder\" } are not used.\n",
      "\n",
      "  bst.update(dtrain, iteration=i, fobj=obj)\n",
      "c:\\Users\\esthelle.kuissu\\OneDrive - Exiom Partners\\Documents\\Code_rapport_stage\\EX_RAP_STAGE\\Exiom_Stage\\.venv\\Lib\\site-packages\\xgboost\\training.py:183: UserWarning: [17:41:35] WARNING: C:\\actions-runner\\_work\\xgboost\\xgboost\\src\\learner.cc:738: \n",
      "Parameters: { \"use_label_encoder\" } are not used.\n",
      "\n",
      "  bst.update(dtrain, iteration=i, fobj=obj)\n",
      "c:\\Users\\esthelle.kuissu\\OneDrive - Exiom Partners\\Documents\\Code_rapport_stage\\EX_RAP_STAGE\\Exiom_Stage\\.venv\\Lib\\site-packages\\xgboost\\training.py:183: UserWarning: [17:41:51] WARNING: C:\\actions-runner\\_work\\xgboost\\xgboost\\src\\learner.cc:738: \n",
      "Parameters: { \"use_label_encoder\" } are not used.\n",
      "\n",
      "  bst.update(dtrain, iteration=i, fobj=obj)\n",
      "c:\\Users\\esthelle.kuissu\\OneDrive - Exiom Partners\\Documents\\Code_rapport_stage\\EX_RAP_STAGE\\Exiom_Stage\\.venv\\Lib\\site-packages\\xgboost\\training.py:183: UserWarning: [17:47:50] WARNING: C:\\actions-runner\\_work\\xgboost\\xgboost\\src\\learner.cc:738: \n",
      "Parameters: { \"use_label_encoder\" } are not used.\n",
      "\n",
      "  bst.update(dtrain, iteration=i, fobj=obj)\n",
      "c:\\Users\\esthelle.kuissu\\OneDrive - Exiom Partners\\Documents\\Code_rapport_stage\\EX_RAP_STAGE\\Exiom_Stage\\.venv\\Lib\\site-packages\\xgboost\\training.py:183: UserWarning: [17:48:07] WARNING: C:\\actions-runner\\_work\\xgboost\\xgboost\\src\\learner.cc:738: \n",
      "Parameters: { \"use_label_encoder\" } are not used.\n",
      "\n",
      "  bst.update(dtrain, iteration=i, fobj=obj)\n",
      "c:\\Users\\esthelle.kuissu\\OneDrive - Exiom Partners\\Documents\\Code_rapport_stage\\EX_RAP_STAGE\\Exiom_Stage\\.venv\\Lib\\site-packages\\xgboost\\training.py:183: UserWarning: [17:48:22] WARNING: C:\\actions-runner\\_work\\xgboost\\xgboost\\src\\learner.cc:738: \n",
      "Parameters: { \"use_label_encoder\" } are not used.\n",
      "\n",
      "  bst.update(dtrain, iteration=i, fobj=obj)\n",
      "c:\\Users\\esthelle.kuissu\\OneDrive - Exiom Partners\\Documents\\Code_rapport_stage\\EX_RAP_STAGE\\Exiom_Stage\\.venv\\Lib\\site-packages\\xgboost\\training.py:183: UserWarning: [17:48:37] WARNING: C:\\actions-runner\\_work\\xgboost\\xgboost\\src\\learner.cc:738: \n",
      "Parameters: { \"use_label_encoder\" } are not used.\n",
      "\n",
      "  bst.update(dtrain, iteration=i, fobj=obj)\n",
      "c:\\Users\\esthelle.kuissu\\OneDrive - Exiom Partners\\Documents\\Code_rapport_stage\\EX_RAP_STAGE\\Exiom_Stage\\.venv\\Lib\\site-packages\\xgboost\\training.py:183: UserWarning: [17:48:51] WARNING: C:\\actions-runner\\_work\\xgboost\\xgboost\\src\\learner.cc:738: \n",
      "Parameters: { \"use_label_encoder\" } are not used.\n",
      "\n",
      "  bst.update(dtrain, iteration=i, fobj=obj)\n",
      "c:\\Users\\esthelle.kuissu\\OneDrive - Exiom Partners\\Documents\\Code_rapport_stage\\EX_RAP_STAGE\\Exiom_Stage\\.venv\\Lib\\site-packages\\xgboost\\training.py:183: UserWarning: [17:49:06] WARNING: C:\\actions-runner\\_work\\xgboost\\xgboost\\src\\learner.cc:738: \n",
      "Parameters: { \"use_label_encoder\" } are not used.\n",
      "\n",
      "  bst.update(dtrain, iteration=i, fobj=obj)\n",
      "c:\\Users\\esthelle.kuissu\\OneDrive - Exiom Partners\\Documents\\Code_rapport_stage\\EX_RAP_STAGE\\Exiom_Stage\\.venv\\Lib\\site-packages\\xgboost\\training.py:183: UserWarning: [17:49:21] WARNING: C:\\actions-runner\\_work\\xgboost\\xgboost\\src\\learner.cc:738: \n",
      "Parameters: { \"use_label_encoder\" } are not used.\n",
      "\n",
      "  bst.update(dtrain, iteration=i, fobj=obj)\n",
      "c:\\Users\\esthelle.kuissu\\OneDrive - Exiom Partners\\Documents\\Code_rapport_stage\\EX_RAP_STAGE\\Exiom_Stage\\.venv\\Lib\\site-packages\\xgboost\\training.py:183: UserWarning: [17:49:36] WARNING: C:\\actions-runner\\_work\\xgboost\\xgboost\\src\\learner.cc:738: \n",
      "Parameters: { \"use_label_encoder\" } are not used.\n",
      "\n",
      "  bst.update(dtrain, iteration=i, fobj=obj)\n",
      "c:\\Users\\esthelle.kuissu\\OneDrive - Exiom Partners\\Documents\\Code_rapport_stage\\EX_RAP_STAGE\\Exiom_Stage\\.venv\\Lib\\site-packages\\xgboost\\training.py:183: UserWarning: [17:49:51] WARNING: C:\\actions-runner\\_work\\xgboost\\xgboost\\src\\learner.cc:738: \n",
      "Parameters: { \"use_label_encoder\" } are not used.\n",
      "\n",
      "  bst.update(dtrain, iteration=i, fobj=obj)\n"
     ]
    },
    {
     "name": "stdout",
     "output_type": "stream",
     "text": [
      "              precision    recall  f1-score   support\n",
      "\n",
      "           0     0.2899    0.8964    0.4382     16350\n",
      "           1     0.9887    0.8050    0.8874    184019\n",
      "\n",
      "    accuracy                         0.8124    200369\n",
      "   macro avg     0.6393    0.8507    0.6628    200369\n",
      "weighted avg     0.9317    0.8124    0.8508    200369\n",
      "\n"
     ]
    }
   ],
   "source": [
    "# 🧼 Fonction d'encodage des colonnes catégorielles (à activer si X est un DataFrame réel)\n",
    "def encode_dataframe(df):\n",
    "    df_encoded = df.copy()\n",
    "    for col in df_encoded.select_dtypes(include='object').columns:\n",
    "        df_encoded[col] = LabelEncoder().fit_transform(df_encoded[col].astype(str))\n",
    "    return df_encoded\n",
    "\n",
    "# 🔁 Split répété jusqu’à ce que les deux classes soient bien présentes\n",
    "while True:\n",
    "    X_pool, X_test, y_pool, y_test = train_test_split(X, y, test_size=0.2, stratify=y, random_state=np.random.randint(99999))\n",
    "    if 0 in y_pool and 1 in y_pool:\n",
    "        break\n",
    "\n",
    "# 🧠 Encodage des features\n",
    "X_pool_encoded = encode_dataframe(pd.DataFrame(X_pool))\n",
    "X_test_encoded = encode_dataframe(pd.DataFrame(X_test))\n",
    "\n",
    "# 📌 Indices des classes dans le pool\n",
    "idx_0 = np.where(y_pool == 0)[0]\n",
    "idx_1 = np.where(y_pool == 1)[0]\n",
    "\n",
    "n_models = 30\n",
    "models = []\n",
    "X_global = []\n",
    "y_global = []\n",
    "\n",
    "for i in range(n_models):\n",
    "    # 🎯 Sélection aléatoire d’exemples de classe 1 AVEC remplacement\n",
    "    sample_1 = np.random.choice(idx_1, size=len(idx_0), replace=True)\n",
    "\n",
    "    # 🔁 Sous-base équilibrée\n",
    "    selected_indices = np.concatenate((idx_0, sample_1))\n",
    "    X_train = X_pool_encoded.iloc[selected_indices]\n",
    "    y_train = pd.Series(y_pool).iloc[selected_indices]  # 💡 sécurisé même si y_pool est un ndarray\n",
    "\n",
    "    # ✅ Vérifications défensives\n",
    "    assert X_train.shape[0] > 0, f\"X_train vide à l'itération {i}\"\n",
    "    assert y_train.shape[0] > 0, f\"y_train vide à l'itération {i}\"\n",
    "    assert X_train.shape[0] == y_train.shape[0], f\"Taille X ≠ y à l'itération {i}\"\n",
    "\n",
    "    # 📦 Stockage de la base globale\n",
    "    X_global.append(X_train)\n",
    "    y_global.append(y_train)\n",
    "\n",
    "    # 🤖 Entraînement du modèle\n",
    "    model = XGBClassifier(use_label_encoder=False, eval_metric='logloss', random_state=i)\n",
    "    model.fit(X_train, y_train)\n",
    "    models.append((f\"xgb_{i}\", model))\n",
    "\n",
    "# 🧠 Fusion de toutes les sous-bases équilibrées\n",
    "X_global = pd.concat(X_global)\n",
    "y_global = pd.concat(y_global)\n",
    "\n",
    "# 🧮 Modèle d’ensemble VotingClassifier\n",
    "ensemble = VotingClassifier(estimators=models, voting='soft')\n",
    "ensemble.fit(X_global, y_global)\n",
    "\n",
    "# 📊 Évaluation sur le jeu de test fixe et déséquilibré\n",
    "y_pred = ensemble.predict(X_test_encoded)\n",
    "print(classification_report(y_test, y_pred, digits=4))"
   ]
  },
  {
   "cell_type": "markdown",
   "id": "2804b297",
   "metadata": {},
   "source": [
    "Tu veux éviter :\n",
    "- 🟥 Prédire 0 quand la vérité est 1 → Faux négatif, donc recall sur la classe 1 est crucial ici.\n",
    "- 🟨 Prédire 1 quand la vérité est 0 → Faux positif, donc precision sur la classe 1 est aussi critique.\n"
   ]
  },
  {
   "cell_type": "code",
   "execution_count": 99,
   "id": "9e5c7d01",
   "metadata": {},
   "outputs": [
    {
     "name": "stdout",
     "output_type": "stream",
     "text": [
      "Requirement already satisfied: matplotlib in c:\\users\\esthelle.kuissu\\onedrive - exiom partners\\documents\\code_rapport_stage\\ex_rap_stage\\exiom_stage\\.venv\\lib\\site-packages (3.10.3)\n",
      "Requirement already satisfied: seaborn in c:\\users\\esthelle.kuissu\\onedrive - exiom partners\\documents\\code_rapport_stage\\ex_rap_stage\\exiom_stage\\.venv\\lib\\site-packages (0.13.2)\n",
      "Requirement already satisfied: contourpy>=1.0.1 in c:\\users\\esthelle.kuissu\\onedrive - exiom partners\\documents\\code_rapport_stage\\ex_rap_stage\\exiom_stage\\.venv\\lib\\site-packages (from matplotlib) (1.3.2)\n",
      "Requirement already satisfied: cycler>=0.10 in c:\\users\\esthelle.kuissu\\onedrive - exiom partners\\documents\\code_rapport_stage\\ex_rap_stage\\exiom_stage\\.venv\\lib\\site-packages (from matplotlib) (0.12.1)\n",
      "Requirement already satisfied: fonttools>=4.22.0 in c:\\users\\esthelle.kuissu\\onedrive - exiom partners\\documents\\code_rapport_stage\\ex_rap_stage\\exiom_stage\\.venv\\lib\\site-packages (from matplotlib) (4.58.5)\n",
      "Requirement already satisfied: kiwisolver>=1.3.1 in c:\\users\\esthelle.kuissu\\onedrive - exiom partners\\documents\\code_rapport_stage\\ex_rap_stage\\exiom_stage\\.venv\\lib\\site-packages (from matplotlib) (1.4.8)\n",
      "Requirement already satisfied: numpy>=1.23 in c:\\users\\esthelle.kuissu\\onedrive - exiom partners\\documents\\code_rapport_stage\\ex_rap_stage\\exiom_stage\\.venv\\lib\\site-packages (from matplotlib) (2.3.1)\n",
      "Requirement already satisfied: packaging>=20.0 in c:\\users\\esthelle.kuissu\\onedrive - exiom partners\\documents\\code_rapport_stage\\ex_rap_stage\\exiom_stage\\.venv\\lib\\site-packages (from matplotlib) (25.0)\n",
      "Requirement already satisfied: pillow>=8 in c:\\users\\esthelle.kuissu\\onedrive - exiom partners\\documents\\code_rapport_stage\\ex_rap_stage\\exiom_stage\\.venv\\lib\\site-packages (from matplotlib) (11.3.0)\n",
      "Requirement already satisfied: pyparsing>=2.3.1 in c:\\users\\esthelle.kuissu\\onedrive - exiom partners\\documents\\code_rapport_stage\\ex_rap_stage\\exiom_stage\\.venv\\lib\\site-packages (from matplotlib) (3.2.3)\n",
      "Requirement already satisfied: python-dateutil>=2.7 in c:\\users\\esthelle.kuissu\\onedrive - exiom partners\\documents\\code_rapport_stage\\ex_rap_stage\\exiom_stage\\.venv\\lib\\site-packages (from matplotlib) (2.9.0.post0)\n",
      "Requirement already satisfied: pandas>=1.2 in c:\\users\\esthelle.kuissu\\onedrive - exiom partners\\documents\\code_rapport_stage\\ex_rap_stage\\exiom_stage\\.venv\\lib\\site-packages (from seaborn) (2.3.1)\n",
      "Requirement already satisfied: pytz>=2020.1 in c:\\users\\esthelle.kuissu\\onedrive - exiom partners\\documents\\code_rapport_stage\\ex_rap_stage\\exiom_stage\\.venv\\lib\\site-packages (from pandas>=1.2->seaborn) (2025.2)\n",
      "Requirement already satisfied: tzdata>=2022.7 in c:\\users\\esthelle.kuissu\\onedrive - exiom partners\\documents\\code_rapport_stage\\ex_rap_stage\\exiom_stage\\.venv\\lib\\site-packages (from pandas>=1.2->seaborn) (2025.2)\n",
      "Requirement already satisfied: six>=1.5 in c:\\users\\esthelle.kuissu\\onedrive - exiom partners\\documents\\code_rapport_stage\\ex_rap_stage\\exiom_stage\\.venv\\lib\\site-packages (from python-dateutil>=2.7->matplotlib) (1.17.0)\n"
     ]
    }
   ],
   "source": [
    "! pip install matplotlib seaborn\n",
    "import matplotlib.pyplot as plt\n",
    "import seaborn as sns"
   ]
  },
  {
   "cell_type": "code",
   "execution_count": 100,
   "id": "aabb0350",
   "metadata": {},
   "outputs": [],
   "source": [
    "# ✂️ Séparation pool / test\n",
    "X_pool, X_test, y_pool, y_test = train_test_split(X, y, test_size=0.2, stratify=y, random_state=42)\n"
   ]
  },
  {
   "cell_type": "code",
   "execution_count": 102,
   "id": "296af1b7",
   "metadata": {},
   "outputs": [
    {
     "name": "stderr",
     "output_type": "stream",
     "text": [
      "c:\\Users\\esthelle.kuissu\\OneDrive - Exiom Partners\\Documents\\Code_rapport_stage\\EX_RAP_STAGE\\Exiom_Stage\\.venv\\Lib\\site-packages\\xgboost\\training.py:183: UserWarning: [18:01:07] WARNING: C:\\actions-runner\\_work\\xgboost\\xgboost\\src\\learner.cc:738: \n",
      "Parameters: { \"use_label_encoder\" } are not used.\n",
      "\n",
      "  bst.update(dtrain, iteration=i, fobj=obj)\n",
      "c:\\Users\\esthelle.kuissu\\OneDrive - Exiom Partners\\Documents\\Code_rapport_stage\\EX_RAP_STAGE\\Exiom_Stage\\.venv\\Lib\\site-packages\\xgboost\\training.py:183: UserWarning: [18:01:08] WARNING: C:\\actions-runner\\_work\\xgboost\\xgboost\\src\\learner.cc:738: \n",
      "Parameters: { \"use_label_encoder\" } are not used.\n",
      "\n",
      "  bst.update(dtrain, iteration=i, fobj=obj)\n",
      "c:\\Users\\esthelle.kuissu\\OneDrive - Exiom Partners\\Documents\\Code_rapport_stage\\EX_RAP_STAGE\\Exiom_Stage\\.venv\\Lib\\site-packages\\xgboost\\training.py:183: UserWarning: [18:01:09] WARNING: C:\\actions-runner\\_work\\xgboost\\xgboost\\src\\learner.cc:738: \n",
      "Parameters: { \"use_label_encoder\" } are not used.\n",
      "\n",
      "  bst.update(dtrain, iteration=i, fobj=obj)\n",
      "c:\\Users\\esthelle.kuissu\\OneDrive - Exiom Partners\\Documents\\Code_rapport_stage\\EX_RAP_STAGE\\Exiom_Stage\\.venv\\Lib\\site-packages\\xgboost\\training.py:183: UserWarning: [18:01:09] WARNING: C:\\actions-runner\\_work\\xgboost\\xgboost\\src\\learner.cc:738: \n",
      "Parameters: { \"use_label_encoder\" } are not used.\n",
      "\n",
      "  bst.update(dtrain, iteration=i, fobj=obj)\n",
      "c:\\Users\\esthelle.kuissu\\OneDrive - Exiom Partners\\Documents\\Code_rapport_stage\\EX_RAP_STAGE\\Exiom_Stage\\.venv\\Lib\\site-packages\\xgboost\\training.py:183: UserWarning: [18:01:10] WARNING: C:\\actions-runner\\_work\\xgboost\\xgboost\\src\\learner.cc:738: \n",
      "Parameters: { \"use_label_encoder\" } are not used.\n",
      "\n",
      "  bst.update(dtrain, iteration=i, fobj=obj)\n",
      "c:\\Users\\esthelle.kuissu\\OneDrive - Exiom Partners\\Documents\\Code_rapport_stage\\EX_RAP_STAGE\\Exiom_Stage\\.venv\\Lib\\site-packages\\xgboost\\training.py:183: UserWarning: [18:01:11] WARNING: C:\\actions-runner\\_work\\xgboost\\xgboost\\src\\learner.cc:738: \n",
      "Parameters: { \"use_label_encoder\" } are not used.\n",
      "\n",
      "  bst.update(dtrain, iteration=i, fobj=obj)\n",
      "c:\\Users\\esthelle.kuissu\\OneDrive - Exiom Partners\\Documents\\Code_rapport_stage\\EX_RAP_STAGE\\Exiom_Stage\\.venv\\Lib\\site-packages\\xgboost\\training.py:183: UserWarning: [18:01:12] WARNING: C:\\actions-runner\\_work\\xgboost\\xgboost\\src\\learner.cc:738: \n",
      "Parameters: { \"use_label_encoder\" } are not used.\n",
      "\n",
      "  bst.update(dtrain, iteration=i, fobj=obj)\n",
      "c:\\Users\\esthelle.kuissu\\OneDrive - Exiom Partners\\Documents\\Code_rapport_stage\\EX_RAP_STAGE\\Exiom_Stage\\.venv\\Lib\\site-packages\\xgboost\\training.py:183: UserWarning: [18:01:12] WARNING: C:\\actions-runner\\_work\\xgboost\\xgboost\\src\\learner.cc:738: \n",
      "Parameters: { \"use_label_encoder\" } are not used.\n",
      "\n",
      "  bst.update(dtrain, iteration=i, fobj=obj)\n",
      "c:\\Users\\esthelle.kuissu\\OneDrive - Exiom Partners\\Documents\\Code_rapport_stage\\EX_RAP_STAGE\\Exiom_Stage\\.venv\\Lib\\site-packages\\xgboost\\training.py:183: UserWarning: [18:01:13] WARNING: C:\\actions-runner\\_work\\xgboost\\xgboost\\src\\learner.cc:738: \n",
      "Parameters: { \"use_label_encoder\" } are not used.\n",
      "\n",
      "  bst.update(dtrain, iteration=i, fobj=obj)\n",
      "c:\\Users\\esthelle.kuissu\\OneDrive - Exiom Partners\\Documents\\Code_rapport_stage\\EX_RAP_STAGE\\Exiom_Stage\\.venv\\Lib\\site-packages\\xgboost\\training.py:183: UserWarning: [18:01:14] WARNING: C:\\actions-runner\\_work\\xgboost\\xgboost\\src\\learner.cc:738: \n",
      "Parameters: { \"use_label_encoder\" } are not used.\n",
      "\n",
      "  bst.update(dtrain, iteration=i, fobj=obj)\n",
      "c:\\Users\\esthelle.kuissu\\OneDrive - Exiom Partners\\Documents\\Code_rapport_stage\\EX_RAP_STAGE\\Exiom_Stage\\.venv\\Lib\\site-packages\\xgboost\\training.py:183: UserWarning: [18:01:15] WARNING: C:\\actions-runner\\_work\\xgboost\\xgboost\\src\\learner.cc:738: \n",
      "Parameters: { \"use_label_encoder\" } are not used.\n",
      "\n",
      "  bst.update(dtrain, iteration=i, fobj=obj)\n",
      "c:\\Users\\esthelle.kuissu\\OneDrive - Exiom Partners\\Documents\\Code_rapport_stage\\EX_RAP_STAGE\\Exiom_Stage\\.venv\\Lib\\site-packages\\xgboost\\training.py:183: UserWarning: [18:01:16] WARNING: C:\\actions-runner\\_work\\xgboost\\xgboost\\src\\learner.cc:738: \n",
      "Parameters: { \"use_label_encoder\" } are not used.\n",
      "\n",
      "  bst.update(dtrain, iteration=i, fobj=obj)\n",
      "c:\\Users\\esthelle.kuissu\\OneDrive - Exiom Partners\\Documents\\Code_rapport_stage\\EX_RAP_STAGE\\Exiom_Stage\\.venv\\Lib\\site-packages\\xgboost\\training.py:183: UserWarning: [18:01:16] WARNING: C:\\actions-runner\\_work\\xgboost\\xgboost\\src\\learner.cc:738: \n",
      "Parameters: { \"use_label_encoder\" } are not used.\n",
      "\n",
      "  bst.update(dtrain, iteration=i, fobj=obj)\n",
      "c:\\Users\\esthelle.kuissu\\OneDrive - Exiom Partners\\Documents\\Code_rapport_stage\\EX_RAP_STAGE\\Exiom_Stage\\.venv\\Lib\\site-packages\\xgboost\\training.py:183: UserWarning: [18:01:17] WARNING: C:\\actions-runner\\_work\\xgboost\\xgboost\\src\\learner.cc:738: \n",
      "Parameters: { \"use_label_encoder\" } are not used.\n",
      "\n",
      "  bst.update(dtrain, iteration=i, fobj=obj)\n",
      "c:\\Users\\esthelle.kuissu\\OneDrive - Exiom Partners\\Documents\\Code_rapport_stage\\EX_RAP_STAGE\\Exiom_Stage\\.venv\\Lib\\site-packages\\xgboost\\training.py:183: UserWarning: [18:01:18] WARNING: C:\\actions-runner\\_work\\xgboost\\xgboost\\src\\learner.cc:738: \n",
      "Parameters: { \"use_label_encoder\" } are not used.\n",
      "\n",
      "  bst.update(dtrain, iteration=i, fobj=obj)\n",
      "c:\\Users\\esthelle.kuissu\\OneDrive - Exiom Partners\\Documents\\Code_rapport_stage\\EX_RAP_STAGE\\Exiom_Stage\\.venv\\Lib\\site-packages\\xgboost\\training.py:183: UserWarning: [18:01:19] WARNING: C:\\actions-runner\\_work\\xgboost\\xgboost\\src\\learner.cc:738: \n",
      "Parameters: { \"use_label_encoder\" } are not used.\n",
      "\n",
      "  bst.update(dtrain, iteration=i, fobj=obj)\n",
      "c:\\Users\\esthelle.kuissu\\OneDrive - Exiom Partners\\Documents\\Code_rapport_stage\\EX_RAP_STAGE\\Exiom_Stage\\.venv\\Lib\\site-packages\\xgboost\\training.py:183: UserWarning: [18:01:20] WARNING: C:\\actions-runner\\_work\\xgboost\\xgboost\\src\\learner.cc:738: \n",
      "Parameters: { \"use_label_encoder\" } are not used.\n",
      "\n",
      "  bst.update(dtrain, iteration=i, fobj=obj)\n",
      "c:\\Users\\esthelle.kuissu\\OneDrive - Exiom Partners\\Documents\\Code_rapport_stage\\EX_RAP_STAGE\\Exiom_Stage\\.venv\\Lib\\site-packages\\xgboost\\training.py:183: UserWarning: [18:01:20] WARNING: C:\\actions-runner\\_work\\xgboost\\xgboost\\src\\learner.cc:738: \n",
      "Parameters: { \"use_label_encoder\" } are not used.\n",
      "\n",
      "  bst.update(dtrain, iteration=i, fobj=obj)\n",
      "c:\\Users\\esthelle.kuissu\\OneDrive - Exiom Partners\\Documents\\Code_rapport_stage\\EX_RAP_STAGE\\Exiom_Stage\\.venv\\Lib\\site-packages\\xgboost\\training.py:183: UserWarning: [18:01:21] WARNING: C:\\actions-runner\\_work\\xgboost\\xgboost\\src\\learner.cc:738: \n",
      "Parameters: { \"use_label_encoder\" } are not used.\n",
      "\n",
      "  bst.update(dtrain, iteration=i, fobj=obj)\n",
      "c:\\Users\\esthelle.kuissu\\OneDrive - Exiom Partners\\Documents\\Code_rapport_stage\\EX_RAP_STAGE\\Exiom_Stage\\.venv\\Lib\\site-packages\\xgboost\\training.py:183: UserWarning: [18:01:22] WARNING: C:\\actions-runner\\_work\\xgboost\\xgboost\\src\\learner.cc:738: \n",
      "Parameters: { \"use_label_encoder\" } are not used.\n",
      "\n",
      "  bst.update(dtrain, iteration=i, fobj=obj)\n",
      "c:\\Users\\esthelle.kuissu\\OneDrive - Exiom Partners\\Documents\\Code_rapport_stage\\EX_RAP_STAGE\\Exiom_Stage\\.venv\\Lib\\site-packages\\xgboost\\training.py:183: UserWarning: [18:01:23] WARNING: C:\\actions-runner\\_work\\xgboost\\xgboost\\src\\learner.cc:738: \n",
      "Parameters: { \"use_label_encoder\" } are not used.\n",
      "\n",
      "  bst.update(dtrain, iteration=i, fobj=obj)\n",
      "c:\\Users\\esthelle.kuissu\\OneDrive - Exiom Partners\\Documents\\Code_rapport_stage\\EX_RAP_STAGE\\Exiom_Stage\\.venv\\Lib\\site-packages\\xgboost\\training.py:183: UserWarning: [18:01:24] WARNING: C:\\actions-runner\\_work\\xgboost\\xgboost\\src\\learner.cc:738: \n",
      "Parameters: { \"use_label_encoder\" } are not used.\n",
      "\n",
      "  bst.update(dtrain, iteration=i, fobj=obj)\n",
      "c:\\Users\\esthelle.kuissu\\OneDrive - Exiom Partners\\Documents\\Code_rapport_stage\\EX_RAP_STAGE\\Exiom_Stage\\.venv\\Lib\\site-packages\\xgboost\\training.py:183: UserWarning: [18:01:24] WARNING: C:\\actions-runner\\_work\\xgboost\\xgboost\\src\\learner.cc:738: \n",
      "Parameters: { \"use_label_encoder\" } are not used.\n",
      "\n",
      "  bst.update(dtrain, iteration=i, fobj=obj)\n",
      "c:\\Users\\esthelle.kuissu\\OneDrive - Exiom Partners\\Documents\\Code_rapport_stage\\EX_RAP_STAGE\\Exiom_Stage\\.venv\\Lib\\site-packages\\xgboost\\training.py:183: UserWarning: [18:01:25] WARNING: C:\\actions-runner\\_work\\xgboost\\xgboost\\src\\learner.cc:738: \n",
      "Parameters: { \"use_label_encoder\" } are not used.\n",
      "\n",
      "  bst.update(dtrain, iteration=i, fobj=obj)\n",
      "c:\\Users\\esthelle.kuissu\\OneDrive - Exiom Partners\\Documents\\Code_rapport_stage\\EX_RAP_STAGE\\Exiom_Stage\\.venv\\Lib\\site-packages\\xgboost\\training.py:183: UserWarning: [18:01:26] WARNING: C:\\actions-runner\\_work\\xgboost\\xgboost\\src\\learner.cc:738: \n",
      "Parameters: { \"use_label_encoder\" } are not used.\n",
      "\n",
      "  bst.update(dtrain, iteration=i, fobj=obj)\n",
      "c:\\Users\\esthelle.kuissu\\OneDrive - Exiom Partners\\Documents\\Code_rapport_stage\\EX_RAP_STAGE\\Exiom_Stage\\.venv\\Lib\\site-packages\\xgboost\\training.py:183: UserWarning: [18:01:27] WARNING: C:\\actions-runner\\_work\\xgboost\\xgboost\\src\\learner.cc:738: \n",
      "Parameters: { \"use_label_encoder\" } are not used.\n",
      "\n",
      "  bst.update(dtrain, iteration=i, fobj=obj)\n",
      "c:\\Users\\esthelle.kuissu\\OneDrive - Exiom Partners\\Documents\\Code_rapport_stage\\EX_RAP_STAGE\\Exiom_Stage\\.venv\\Lib\\site-packages\\xgboost\\training.py:183: UserWarning: [18:01:27] WARNING: C:\\actions-runner\\_work\\xgboost\\xgboost\\src\\learner.cc:738: \n",
      "Parameters: { \"use_label_encoder\" } are not used.\n",
      "\n",
      "  bst.update(dtrain, iteration=i, fobj=obj)\n",
      "c:\\Users\\esthelle.kuissu\\OneDrive - Exiom Partners\\Documents\\Code_rapport_stage\\EX_RAP_STAGE\\Exiom_Stage\\.venv\\Lib\\site-packages\\xgboost\\training.py:183: UserWarning: [18:01:28] WARNING: C:\\actions-runner\\_work\\xgboost\\xgboost\\src\\learner.cc:738: \n",
      "Parameters: { \"use_label_encoder\" } are not used.\n",
      "\n",
      "  bst.update(dtrain, iteration=i, fobj=obj)\n",
      "c:\\Users\\esthelle.kuissu\\OneDrive - Exiom Partners\\Documents\\Code_rapport_stage\\EX_RAP_STAGE\\Exiom_Stage\\.venv\\Lib\\site-packages\\xgboost\\training.py:183: UserWarning: [18:01:29] WARNING: C:\\actions-runner\\_work\\xgboost\\xgboost\\src\\learner.cc:738: \n",
      "Parameters: { \"use_label_encoder\" } are not used.\n",
      "\n",
      "  bst.update(dtrain, iteration=i, fobj=obj)\n",
      "c:\\Users\\esthelle.kuissu\\OneDrive - Exiom Partners\\Documents\\Code_rapport_stage\\EX_RAP_STAGE\\Exiom_Stage\\.venv\\Lib\\site-packages\\xgboost\\training.py:183: UserWarning: [18:01:30] WARNING: C:\\actions-runner\\_work\\xgboost\\xgboost\\src\\learner.cc:738: \n",
      "Parameters: { \"use_label_encoder\" } are not used.\n",
      "\n",
      "  bst.update(dtrain, iteration=i, fobj=obj)\n",
      "c:\\Users\\esthelle.kuissu\\OneDrive - Exiom Partners\\Documents\\Code_rapport_stage\\EX_RAP_STAGE\\Exiom_Stage\\.venv\\Lib\\site-packages\\xgboost\\training.py:183: UserWarning: [18:01:31] WARNING: C:\\actions-runner\\_work\\xgboost\\xgboost\\src\\learner.cc:738: \n",
      "Parameters: { \"use_label_encoder\" } are not used.\n",
      "\n",
      "  bst.update(dtrain, iteration=i, fobj=obj)\n",
      "c:\\Users\\esthelle.kuissu\\OneDrive - Exiom Partners\\Documents\\Code_rapport_stage\\EX_RAP_STAGE\\Exiom_Stage\\.venv\\Lib\\site-packages\\xgboost\\training.py:183: UserWarning: [18:01:31] WARNING: C:\\actions-runner\\_work\\xgboost\\xgboost\\src\\learner.cc:738: \n",
      "Parameters: { \"use_label_encoder\" } are not used.\n",
      "\n",
      "  bst.update(dtrain, iteration=i, fobj=obj)\n",
      "c:\\Users\\esthelle.kuissu\\OneDrive - Exiom Partners\\Documents\\Code_rapport_stage\\EX_RAP_STAGE\\Exiom_Stage\\.venv\\Lib\\site-packages\\xgboost\\training.py:183: UserWarning: [18:01:32] WARNING: C:\\actions-runner\\_work\\xgboost\\xgboost\\src\\learner.cc:738: \n",
      "Parameters: { \"use_label_encoder\" } are not used.\n",
      "\n",
      "  bst.update(dtrain, iteration=i, fobj=obj)\n",
      "c:\\Users\\esthelle.kuissu\\OneDrive - Exiom Partners\\Documents\\Code_rapport_stage\\EX_RAP_STAGE\\Exiom_Stage\\.venv\\Lib\\site-packages\\xgboost\\training.py:183: UserWarning: [18:01:33] WARNING: C:\\actions-runner\\_work\\xgboost\\xgboost\\src\\learner.cc:738: \n",
      "Parameters: { \"use_label_encoder\" } are not used.\n",
      "\n",
      "  bst.update(dtrain, iteration=i, fobj=obj)\n",
      "c:\\Users\\esthelle.kuissu\\OneDrive - Exiom Partners\\Documents\\Code_rapport_stage\\EX_RAP_STAGE\\Exiom_Stage\\.venv\\Lib\\site-packages\\xgboost\\training.py:183: UserWarning: [18:01:34] WARNING: C:\\actions-runner\\_work\\xgboost\\xgboost\\src\\learner.cc:738: \n",
      "Parameters: { \"use_label_encoder\" } are not used.\n",
      "\n",
      "  bst.update(dtrain, iteration=i, fobj=obj)\n",
      "c:\\Users\\esthelle.kuissu\\OneDrive - Exiom Partners\\Documents\\Code_rapport_stage\\EX_RAP_STAGE\\Exiom_Stage\\.venv\\Lib\\site-packages\\xgboost\\training.py:183: UserWarning: [18:01:34] WARNING: C:\\actions-runner\\_work\\xgboost\\xgboost\\src\\learner.cc:738: \n",
      "Parameters: { \"use_label_encoder\" } are not used.\n",
      "\n",
      "  bst.update(dtrain, iteration=i, fobj=obj)\n",
      "c:\\Users\\esthelle.kuissu\\OneDrive - Exiom Partners\\Documents\\Code_rapport_stage\\EX_RAP_STAGE\\Exiom_Stage\\.venv\\Lib\\site-packages\\xgboost\\training.py:183: UserWarning: [18:01:35] WARNING: C:\\actions-runner\\_work\\xgboost\\xgboost\\src\\learner.cc:738: \n",
      "Parameters: { \"use_label_encoder\" } are not used.\n",
      "\n",
      "  bst.update(dtrain, iteration=i, fobj=obj)\n",
      "c:\\Users\\esthelle.kuissu\\OneDrive - Exiom Partners\\Documents\\Code_rapport_stage\\EX_RAP_STAGE\\Exiom_Stage\\.venv\\Lib\\site-packages\\xgboost\\training.py:183: UserWarning: [18:01:36] WARNING: C:\\actions-runner\\_work\\xgboost\\xgboost\\src\\learner.cc:738: \n",
      "Parameters: { \"use_label_encoder\" } are not used.\n",
      "\n",
      "  bst.update(dtrain, iteration=i, fobj=obj)\n",
      "c:\\Users\\esthelle.kuissu\\OneDrive - Exiom Partners\\Documents\\Code_rapport_stage\\EX_RAP_STAGE\\Exiom_Stage\\.venv\\Lib\\site-packages\\xgboost\\training.py:183: UserWarning: [18:01:37] WARNING: C:\\actions-runner\\_work\\xgboost\\xgboost\\src\\learner.cc:738: \n",
      "Parameters: { \"use_label_encoder\" } are not used.\n",
      "\n",
      "  bst.update(dtrain, iteration=i, fobj=obj)\n",
      "c:\\Users\\esthelle.kuissu\\OneDrive - Exiom Partners\\Documents\\Code_rapport_stage\\EX_RAP_STAGE\\Exiom_Stage\\.venv\\Lib\\site-packages\\xgboost\\training.py:183: UserWarning: [18:01:38] WARNING: C:\\actions-runner\\_work\\xgboost\\xgboost\\src\\learner.cc:738: \n",
      "Parameters: { \"use_label_encoder\" } are not used.\n",
      "\n",
      "  bst.update(dtrain, iteration=i, fobj=obj)\n",
      "c:\\Users\\esthelle.kuissu\\OneDrive - Exiom Partners\\Documents\\Code_rapport_stage\\EX_RAP_STAGE\\Exiom_Stage\\.venv\\Lib\\site-packages\\xgboost\\training.py:183: UserWarning: [18:01:38] WARNING: C:\\actions-runner\\_work\\xgboost\\xgboost\\src\\learner.cc:738: \n",
      "Parameters: { \"use_label_encoder\" } are not used.\n",
      "\n",
      "  bst.update(dtrain, iteration=i, fobj=obj)\n",
      "c:\\Users\\esthelle.kuissu\\OneDrive - Exiom Partners\\Documents\\Code_rapport_stage\\EX_RAP_STAGE\\Exiom_Stage\\.venv\\Lib\\site-packages\\xgboost\\training.py:183: UserWarning: [18:01:39] WARNING: C:\\actions-runner\\_work\\xgboost\\xgboost\\src\\learner.cc:738: \n",
      "Parameters: { \"use_label_encoder\" } are not used.\n",
      "\n",
      "  bst.update(dtrain, iteration=i, fobj=obj)\n",
      "c:\\Users\\esthelle.kuissu\\OneDrive - Exiom Partners\\Documents\\Code_rapport_stage\\EX_RAP_STAGE\\Exiom_Stage\\.venv\\Lib\\site-packages\\xgboost\\training.py:183: UserWarning: [18:01:40] WARNING: C:\\actions-runner\\_work\\xgboost\\xgboost\\src\\learner.cc:738: \n",
      "Parameters: { \"use_label_encoder\" } are not used.\n",
      "\n",
      "  bst.update(dtrain, iteration=i, fobj=obj)\n",
      "c:\\Users\\esthelle.kuissu\\OneDrive - Exiom Partners\\Documents\\Code_rapport_stage\\EX_RAP_STAGE\\Exiom_Stage\\.venv\\Lib\\site-packages\\xgboost\\training.py:183: UserWarning: [18:01:41] WARNING: C:\\actions-runner\\_work\\xgboost\\xgboost\\src\\learner.cc:738: \n",
      "Parameters: { \"use_label_encoder\" } are not used.\n",
      "\n",
      "  bst.update(dtrain, iteration=i, fobj=obj)\n",
      "c:\\Users\\esthelle.kuissu\\OneDrive - Exiom Partners\\Documents\\Code_rapport_stage\\EX_RAP_STAGE\\Exiom_Stage\\.venv\\Lib\\site-packages\\xgboost\\training.py:183: UserWarning: [18:01:41] WARNING: C:\\actions-runner\\_work\\xgboost\\xgboost\\src\\learner.cc:738: \n",
      "Parameters: { \"use_label_encoder\" } are not used.\n",
      "\n",
      "  bst.update(dtrain, iteration=i, fobj=obj)\n",
      "c:\\Users\\esthelle.kuissu\\OneDrive - Exiom Partners\\Documents\\Code_rapport_stage\\EX_RAP_STAGE\\Exiom_Stage\\.venv\\Lib\\site-packages\\xgboost\\training.py:183: UserWarning: [18:01:42] WARNING: C:\\actions-runner\\_work\\xgboost\\xgboost\\src\\learner.cc:738: \n",
      "Parameters: { \"use_label_encoder\" } are not used.\n",
      "\n",
      "  bst.update(dtrain, iteration=i, fobj=obj)\n",
      "c:\\Users\\esthelle.kuissu\\OneDrive - Exiom Partners\\Documents\\Code_rapport_stage\\EX_RAP_STAGE\\Exiom_Stage\\.venv\\Lib\\site-packages\\xgboost\\training.py:183: UserWarning: [18:01:43] WARNING: C:\\actions-runner\\_work\\xgboost\\xgboost\\src\\learner.cc:738: \n",
      "Parameters: { \"use_label_encoder\" } are not used.\n",
      "\n",
      "  bst.update(dtrain, iteration=i, fobj=obj)\n",
      "c:\\Users\\esthelle.kuissu\\OneDrive - Exiom Partners\\Documents\\Code_rapport_stage\\EX_RAP_STAGE\\Exiom_Stage\\.venv\\Lib\\site-packages\\xgboost\\training.py:183: UserWarning: [18:01:44] WARNING: C:\\actions-runner\\_work\\xgboost\\xgboost\\src\\learner.cc:738: \n",
      "Parameters: { \"use_label_encoder\" } are not used.\n",
      "\n",
      "  bst.update(dtrain, iteration=i, fobj=obj)\n",
      "c:\\Users\\esthelle.kuissu\\OneDrive - Exiom Partners\\Documents\\Code_rapport_stage\\EX_RAP_STAGE\\Exiom_Stage\\.venv\\Lib\\site-packages\\xgboost\\training.py:183: UserWarning: [18:01:44] WARNING: C:\\actions-runner\\_work\\xgboost\\xgboost\\src\\learner.cc:738: \n",
      "Parameters: { \"use_label_encoder\" } are not used.\n",
      "\n",
      "  bst.update(dtrain, iteration=i, fobj=obj)\n",
      "c:\\Users\\esthelle.kuissu\\OneDrive - Exiom Partners\\Documents\\Code_rapport_stage\\EX_RAP_STAGE\\Exiom_Stage\\.venv\\Lib\\site-packages\\xgboost\\training.py:183: UserWarning: [18:01:45] WARNING: C:\\actions-runner\\_work\\xgboost\\xgboost\\src\\learner.cc:738: \n",
      "Parameters: { \"use_label_encoder\" } are not used.\n",
      "\n",
      "  bst.update(dtrain, iteration=i, fobj=obj)\n"
     ]
    },
    {
     "name": "stdout",
     "output_type": "stream",
     "text": [
      "🔍 xgb_0: Precision(1)=0.990 | Recall(1)=0.791 | Score=0.891\n",
      "🔍 xgb_1: Precision(1)=0.989 | Recall(1)=0.794 | Score=0.891\n",
      "🔍 xgb_2: Precision(1)=0.991 | Recall(1)=0.791 | Score=0.891\n",
      "🔍 xgb_3: Precision(1)=0.991 | Recall(1)=0.791 | Score=0.891\n",
      "🔍 xgb_4: Precision(1)=0.990 | Recall(1)=0.790 | Score=0.890\n",
      "🔍 xgb_5: Precision(1)=0.991 | Recall(1)=0.792 | Score=0.891\n",
      "🔍 xgb_6: Precision(1)=0.991 | Recall(1)=0.786 | Score=0.889\n",
      "🔍 xgb_7: Precision(1)=0.990 | Recall(1)=0.788 | Score=0.889\n",
      "🔍 xgb_8: Precision(1)=0.991 | Recall(1)=0.786 | Score=0.888\n",
      "🔍 xgb_9: Precision(1)=0.990 | Recall(1)=0.790 | Score=0.890\n",
      "🔍 xgb_10: Precision(1)=0.991 | Recall(1)=0.789 | Score=0.890\n",
      "🔍 xgb_11: Precision(1)=0.991 | Recall(1)=0.787 | Score=0.889\n",
      "🔍 xgb_12: Precision(1)=0.991 | Recall(1)=0.787 | Score=0.889\n",
      "🔍 xgb_13: Precision(1)=0.990 | Recall(1)=0.790 | Score=0.890\n",
      "🔍 xgb_14: Precision(1)=0.992 | Recall(1)=0.784 | Score=0.888\n",
      "🔍 xgb_15: Precision(1)=0.991 | Recall(1)=0.789 | Score=0.890\n",
      "🔍 xgb_16: Precision(1)=0.991 | Recall(1)=0.783 | Score=0.887\n",
      "🔍 xgb_17: Precision(1)=0.991 | Recall(1)=0.787 | Score=0.889\n",
      "🔍 xgb_18: Precision(1)=0.990 | Recall(1)=0.790 | Score=0.890\n",
      "🔍 xgb_19: Precision(1)=0.990 | Recall(1)=0.792 | Score=0.891\n",
      "🔍 xgb_20: Precision(1)=0.991 | Recall(1)=0.785 | Score=0.888\n",
      "🔍 xgb_21: Precision(1)=0.990 | Recall(1)=0.793 | Score=0.892\n",
      "🔍 xgb_22: Precision(1)=0.990 | Recall(1)=0.790 | Score=0.890\n",
      "🔍 xgb_23: Precision(1)=0.990 | Recall(1)=0.792 | Score=0.891\n",
      "🔍 xgb_24: Precision(1)=0.990 | Recall(1)=0.789 | Score=0.890\n",
      "🔍 xgb_25: Precision(1)=0.990 | Recall(1)=0.792 | Score=0.891\n",
      "🔍 xgb_26: Precision(1)=0.990 | Recall(1)=0.790 | Score=0.890\n",
      "🔍 xgb_27: Precision(1)=0.991 | Recall(1)=0.789 | Score=0.890\n",
      "🔍 xgb_28: Precision(1)=0.990 | Recall(1)=0.790 | Score=0.890\n",
      "🔍 xgb_29: Precision(1)=0.990 | Recall(1)=0.790 | Score=0.890\n",
      "🔍 xgb_30: Precision(1)=0.990 | Recall(1)=0.792 | Score=0.891\n",
      "🔍 xgb_31: Precision(1)=0.990 | Recall(1)=0.792 | Score=0.891\n",
      "🔍 xgb_32: Precision(1)=0.991 | Recall(1)=0.788 | Score=0.890\n",
      "🔍 xgb_33: Precision(1)=0.991 | Recall(1)=0.785 | Score=0.888\n",
      "🔍 xgb_34: Precision(1)=0.991 | Recall(1)=0.788 | Score=0.890\n",
      "🔍 xgb_35: Precision(1)=0.991 | Recall(1)=0.785 | Score=0.888\n",
      "🔍 xgb_36: Precision(1)=0.991 | Recall(1)=0.782 | Score=0.887\n",
      "🔍 xgb_37: Precision(1)=0.990 | Recall(1)=0.789 | Score=0.889\n",
      "🔍 xgb_38: Precision(1)=0.990 | Recall(1)=0.787 | Score=0.889\n",
      "🔍 xgb_39: Precision(1)=0.991 | Recall(1)=0.784 | Score=0.888\n",
      "🔍 xgb_40: Precision(1)=0.990 | Recall(1)=0.788 | Score=0.889\n",
      "🔍 xgb_41: Precision(1)=0.991 | Recall(1)=0.786 | Score=0.889\n",
      "🔍 xgb_42: Precision(1)=0.991 | Recall(1)=0.791 | Score=0.891\n",
      "🔍 xgb_43: Precision(1)=0.991 | Recall(1)=0.789 | Score=0.890\n",
      "🔍 xgb_44: Precision(1)=0.990 | Recall(1)=0.795 | Score=0.893\n",
      "🔍 xgb_45: Precision(1)=0.990 | Recall(1)=0.791 | Score=0.891\n",
      "🔍 xgb_46: Precision(1)=0.991 | Recall(1)=0.786 | Score=0.888\n",
      "🔍 xgb_47: Precision(1)=0.991 | Recall(1)=0.786 | Score=0.889\n",
      "🔍 xgb_48: Precision(1)=0.990 | Recall(1)=0.795 | Score=0.892\n",
      "🔍 xgb_49: Precision(1)=0.990 | Recall(1)=0.791 | Score=0.890\n"
     ]
    },
    {
     "name": "stderr",
     "output_type": "stream",
     "text": [
      "c:\\Users\\esthelle.kuissu\\OneDrive - Exiom Partners\\Documents\\Code_rapport_stage\\EX_RAP_STAGE\\Exiom_Stage\\.venv\\Lib\\site-packages\\xgboost\\training.py:183: UserWarning: [18:02:06] WARNING: C:\\actions-runner\\_work\\xgboost\\xgboost\\src\\learner.cc:738: \n",
      "Parameters: { \"use_label_encoder\" } are not used.\n",
      "\n",
      "  bst.update(dtrain, iteration=i, fobj=obj)\n",
      "c:\\Users\\esthelle.kuissu\\OneDrive - Exiom Partners\\Documents\\Code_rapport_stage\\EX_RAP_STAGE\\Exiom_Stage\\.venv\\Lib\\site-packages\\xgboost\\training.py:183: UserWarning: [18:02:30] WARNING: C:\\actions-runner\\_work\\xgboost\\xgboost\\src\\learner.cc:738: \n",
      "Parameters: { \"use_label_encoder\" } are not used.\n",
      "\n",
      "  bst.update(dtrain, iteration=i, fobj=obj)\n",
      "c:\\Users\\esthelle.kuissu\\OneDrive - Exiom Partners\\Documents\\Code_rapport_stage\\EX_RAP_STAGE\\Exiom_Stage\\.venv\\Lib\\site-packages\\xgboost\\training.py:183: UserWarning: [18:02:57] WARNING: C:\\actions-runner\\_work\\xgboost\\xgboost\\src\\learner.cc:738: \n",
      "Parameters: { \"use_label_encoder\" } are not used.\n",
      "\n",
      "  bst.update(dtrain, iteration=i, fobj=obj)\n",
      "c:\\Users\\esthelle.kuissu\\OneDrive - Exiom Partners\\Documents\\Code_rapport_stage\\EX_RAP_STAGE\\Exiom_Stage\\.venv\\Lib\\site-packages\\xgboost\\training.py:183: UserWarning: [18:03:22] WARNING: C:\\actions-runner\\_work\\xgboost\\xgboost\\src\\learner.cc:738: \n",
      "Parameters: { \"use_label_encoder\" } are not used.\n",
      "\n",
      "  bst.update(dtrain, iteration=i, fobj=obj)\n",
      "c:\\Users\\esthelle.kuissu\\OneDrive - Exiom Partners\\Documents\\Code_rapport_stage\\EX_RAP_STAGE\\Exiom_Stage\\.venv\\Lib\\site-packages\\xgboost\\training.py:183: UserWarning: [18:03:47] WARNING: C:\\actions-runner\\_work\\xgboost\\xgboost\\src\\learner.cc:738: \n",
      "Parameters: { \"use_label_encoder\" } are not used.\n",
      "\n",
      "  bst.update(dtrain, iteration=i, fobj=obj)\n",
      "c:\\Users\\esthelle.kuissu\\OneDrive - Exiom Partners\\Documents\\Code_rapport_stage\\EX_RAP_STAGE\\Exiom_Stage\\.venv\\Lib\\site-packages\\xgboost\\training.py:183: UserWarning: [18:04:12] WARNING: C:\\actions-runner\\_work\\xgboost\\xgboost\\src\\learner.cc:738: \n",
      "Parameters: { \"use_label_encoder\" } are not used.\n",
      "\n",
      "  bst.update(dtrain, iteration=i, fobj=obj)\n",
      "c:\\Users\\esthelle.kuissu\\OneDrive - Exiom Partners\\Documents\\Code_rapport_stage\\EX_RAP_STAGE\\Exiom_Stage\\.venv\\Lib\\site-packages\\xgboost\\training.py:183: UserWarning: [18:04:36] WARNING: C:\\actions-runner\\_work\\xgboost\\xgboost\\src\\learner.cc:738: \n",
      "Parameters: { \"use_label_encoder\" } are not used.\n",
      "\n",
      "  bst.update(dtrain, iteration=i, fobj=obj)\n",
      "c:\\Users\\esthelle.kuissu\\OneDrive - Exiom Partners\\Documents\\Code_rapport_stage\\EX_RAP_STAGE\\Exiom_Stage\\.venv\\Lib\\site-packages\\xgboost\\training.py:183: UserWarning: [18:05:02] WARNING: C:\\actions-runner\\_work\\xgboost\\xgboost\\src\\learner.cc:738: \n",
      "Parameters: { \"use_label_encoder\" } are not used.\n",
      "\n",
      "  bst.update(dtrain, iteration=i, fobj=obj)\n",
      "c:\\Users\\esthelle.kuissu\\OneDrive - Exiom Partners\\Documents\\Code_rapport_stage\\EX_RAP_STAGE\\Exiom_Stage\\.venv\\Lib\\site-packages\\xgboost\\training.py:183: UserWarning: [18:05:27] WARNING: C:\\actions-runner\\_work\\xgboost\\xgboost\\src\\learner.cc:738: \n",
      "Parameters: { \"use_label_encoder\" } are not used.\n",
      "\n",
      "  bst.update(dtrain, iteration=i, fobj=obj)\n",
      "c:\\Users\\esthelle.kuissu\\OneDrive - Exiom Partners\\Documents\\Code_rapport_stage\\EX_RAP_STAGE\\Exiom_Stage\\.venv\\Lib\\site-packages\\xgboost\\training.py:183: UserWarning: [18:05:51] WARNING: C:\\actions-runner\\_work\\xgboost\\xgboost\\src\\learner.cc:738: \n",
      "Parameters: { \"use_label_encoder\" } are not used.\n",
      "\n",
      "  bst.update(dtrain, iteration=i, fobj=obj)\n",
      "c:\\Users\\esthelle.kuissu\\OneDrive - Exiom Partners\\Documents\\Code_rapport_stage\\EX_RAP_STAGE\\Exiom_Stage\\.venv\\Lib\\site-packages\\xgboost\\training.py:183: UserWarning: [18:06:16] WARNING: C:\\actions-runner\\_work\\xgboost\\xgboost\\src\\learner.cc:738: \n",
      "Parameters: { \"use_label_encoder\" } are not used.\n",
      "\n",
      "  bst.update(dtrain, iteration=i, fobj=obj)\n",
      "c:\\Users\\esthelle.kuissu\\OneDrive - Exiom Partners\\Documents\\Code_rapport_stage\\EX_RAP_STAGE\\Exiom_Stage\\.venv\\Lib\\site-packages\\xgboost\\training.py:183: UserWarning: [18:06:42] WARNING: C:\\actions-runner\\_work\\xgboost\\xgboost\\src\\learner.cc:738: \n",
      "Parameters: { \"use_label_encoder\" } are not used.\n",
      "\n",
      "  bst.update(dtrain, iteration=i, fobj=obj)\n",
      "c:\\Users\\esthelle.kuissu\\OneDrive - Exiom Partners\\Documents\\Code_rapport_stage\\EX_RAP_STAGE\\Exiom_Stage\\.venv\\Lib\\site-packages\\xgboost\\training.py:183: UserWarning: [18:07:07] WARNING: C:\\actions-runner\\_work\\xgboost\\xgboost\\src\\learner.cc:738: \n",
      "Parameters: { \"use_label_encoder\" } are not used.\n",
      "\n",
      "  bst.update(dtrain, iteration=i, fobj=obj)\n",
      "c:\\Users\\esthelle.kuissu\\OneDrive - Exiom Partners\\Documents\\Code_rapport_stage\\EX_RAP_STAGE\\Exiom_Stage\\.venv\\Lib\\site-packages\\xgboost\\training.py:183: UserWarning: [18:07:32] WARNING: C:\\actions-runner\\_work\\xgboost\\xgboost\\src\\learner.cc:738: \n",
      "Parameters: { \"use_label_encoder\" } are not used.\n",
      "\n",
      "  bst.update(dtrain, iteration=i, fobj=obj)\n",
      "c:\\Users\\esthelle.kuissu\\OneDrive - Exiom Partners\\Documents\\Code_rapport_stage\\EX_RAP_STAGE\\Exiom_Stage\\.venv\\Lib\\site-packages\\xgboost\\training.py:183: UserWarning: [18:07:56] WARNING: C:\\actions-runner\\_work\\xgboost\\xgboost\\src\\learner.cc:738: \n",
      "Parameters: { \"use_label_encoder\" } are not used.\n",
      "\n",
      "  bst.update(dtrain, iteration=i, fobj=obj)\n",
      "c:\\Users\\esthelle.kuissu\\OneDrive - Exiom Partners\\Documents\\Code_rapport_stage\\EX_RAP_STAGE\\Exiom_Stage\\.venv\\Lib\\site-packages\\xgboost\\training.py:183: UserWarning: [18:08:22] WARNING: C:\\actions-runner\\_work\\xgboost\\xgboost\\src\\learner.cc:738: \n",
      "Parameters: { \"use_label_encoder\" } are not used.\n",
      "\n",
      "  bst.update(dtrain, iteration=i, fobj=obj)\n",
      "c:\\Users\\esthelle.kuissu\\OneDrive - Exiom Partners\\Documents\\Code_rapport_stage\\EX_RAP_STAGE\\Exiom_Stage\\.venv\\Lib\\site-packages\\xgboost\\training.py:183: UserWarning: [18:08:55] WARNING: C:\\actions-runner\\_work\\xgboost\\xgboost\\src\\learner.cc:738: \n",
      "Parameters: { \"use_label_encoder\" } are not used.\n",
      "\n",
      "  bst.update(dtrain, iteration=i, fobj=obj)\n",
      "c:\\Users\\esthelle.kuissu\\OneDrive - Exiom Partners\\Documents\\Code_rapport_stage\\EX_RAP_STAGE\\Exiom_Stage\\.venv\\Lib\\site-packages\\xgboost\\training.py:183: UserWarning: [18:09:21] WARNING: C:\\actions-runner\\_work\\xgboost\\xgboost\\src\\learner.cc:738: \n",
      "Parameters: { \"use_label_encoder\" } are not used.\n",
      "\n",
      "  bst.update(dtrain, iteration=i, fobj=obj)\n",
      "c:\\Users\\esthelle.kuissu\\OneDrive - Exiom Partners\\Documents\\Code_rapport_stage\\EX_RAP_STAGE\\Exiom_Stage\\.venv\\Lib\\site-packages\\xgboost\\training.py:183: UserWarning: [18:09:48] WARNING: C:\\actions-runner\\_work\\xgboost\\xgboost\\src\\learner.cc:738: \n",
      "Parameters: { \"use_label_encoder\" } are not used.\n",
      "\n",
      "  bst.update(dtrain, iteration=i, fobj=obj)\n",
      "c:\\Users\\esthelle.kuissu\\OneDrive - Exiom Partners\\Documents\\Code_rapport_stage\\EX_RAP_STAGE\\Exiom_Stage\\.venv\\Lib\\site-packages\\xgboost\\training.py:183: UserWarning: [18:10:13] WARNING: C:\\actions-runner\\_work\\xgboost\\xgboost\\src\\learner.cc:738: \n",
      "Parameters: { \"use_label_encoder\" } are not used.\n",
      "\n",
      "  bst.update(dtrain, iteration=i, fobj=obj)\n",
      "c:\\Users\\esthelle.kuissu\\OneDrive - Exiom Partners\\Documents\\Code_rapport_stage\\EX_RAP_STAGE\\Exiom_Stage\\.venv\\Lib\\site-packages\\xgboost\\training.py:183: UserWarning: [18:10:37] WARNING: C:\\actions-runner\\_work\\xgboost\\xgboost\\src\\learner.cc:738: \n",
      "Parameters: { \"use_label_encoder\" } are not used.\n",
      "\n",
      "  bst.update(dtrain, iteration=i, fobj=obj)\n",
      "c:\\Users\\esthelle.kuissu\\OneDrive - Exiom Partners\\Documents\\Code_rapport_stage\\EX_RAP_STAGE\\Exiom_Stage\\.venv\\Lib\\site-packages\\xgboost\\training.py:183: UserWarning: [18:11:01] WARNING: C:\\actions-runner\\_work\\xgboost\\xgboost\\src\\learner.cc:738: \n",
      "Parameters: { \"use_label_encoder\" } are not used.\n",
      "\n",
      "  bst.update(dtrain, iteration=i, fobj=obj)\n",
      "c:\\Users\\esthelle.kuissu\\OneDrive - Exiom Partners\\Documents\\Code_rapport_stage\\EX_RAP_STAGE\\Exiom_Stage\\.venv\\Lib\\site-packages\\xgboost\\training.py:183: UserWarning: [18:11:27] WARNING: C:\\actions-runner\\_work\\xgboost\\xgboost\\src\\learner.cc:738: \n",
      "Parameters: { \"use_label_encoder\" } are not used.\n",
      "\n",
      "  bst.update(dtrain, iteration=i, fobj=obj)\n",
      "c:\\Users\\esthelle.kuissu\\OneDrive - Exiom Partners\\Documents\\Code_rapport_stage\\EX_RAP_STAGE\\Exiom_Stage\\.venv\\Lib\\site-packages\\xgboost\\training.py:183: UserWarning: [18:11:52] WARNING: C:\\actions-runner\\_work\\xgboost\\xgboost\\src\\learner.cc:738: \n",
      "Parameters: { \"use_label_encoder\" } are not used.\n",
      "\n",
      "  bst.update(dtrain, iteration=i, fobj=obj)\n",
      "c:\\Users\\esthelle.kuissu\\OneDrive - Exiom Partners\\Documents\\Code_rapport_stage\\EX_RAP_STAGE\\Exiom_Stage\\.venv\\Lib\\site-packages\\xgboost\\training.py:183: UserWarning: [18:12:17] WARNING: C:\\actions-runner\\_work\\xgboost\\xgboost\\src\\learner.cc:738: \n",
      "Parameters: { \"use_label_encoder\" } are not used.\n",
      "\n",
      "  bst.update(dtrain, iteration=i, fobj=obj)\n",
      "c:\\Users\\esthelle.kuissu\\OneDrive - Exiom Partners\\Documents\\Code_rapport_stage\\EX_RAP_STAGE\\Exiom_Stage\\.venv\\Lib\\site-packages\\xgboost\\training.py:183: UserWarning: [18:12:41] WARNING: C:\\actions-runner\\_work\\xgboost\\xgboost\\src\\learner.cc:738: \n",
      "Parameters: { \"use_label_encoder\" } are not used.\n",
      "\n",
      "  bst.update(dtrain, iteration=i, fobj=obj)\n",
      "c:\\Users\\esthelle.kuissu\\OneDrive - Exiom Partners\\Documents\\Code_rapport_stage\\EX_RAP_STAGE\\Exiom_Stage\\.venv\\Lib\\site-packages\\xgboost\\training.py:183: UserWarning: [18:13:06] WARNING: C:\\actions-runner\\_work\\xgboost\\xgboost\\src\\learner.cc:738: \n",
      "Parameters: { \"use_label_encoder\" } are not used.\n",
      "\n",
      "  bst.update(dtrain, iteration=i, fobj=obj)\n",
      "c:\\Users\\esthelle.kuissu\\OneDrive - Exiom Partners\\Documents\\Code_rapport_stage\\EX_RAP_STAGE\\Exiom_Stage\\.venv\\Lib\\site-packages\\xgboost\\training.py:183: UserWarning: [18:13:30] WARNING: C:\\actions-runner\\_work\\xgboost\\xgboost\\src\\learner.cc:738: \n",
      "Parameters: { \"use_label_encoder\" } are not used.\n",
      "\n",
      "  bst.update(dtrain, iteration=i, fobj=obj)\n",
      "c:\\Users\\esthelle.kuissu\\OneDrive - Exiom Partners\\Documents\\Code_rapport_stage\\EX_RAP_STAGE\\Exiom_Stage\\.venv\\Lib\\site-packages\\xgboost\\training.py:183: UserWarning: [18:13:55] WARNING: C:\\actions-runner\\_work\\xgboost\\xgboost\\src\\learner.cc:738: \n",
      "Parameters: { \"use_label_encoder\" } are not used.\n",
      "\n",
      "  bst.update(dtrain, iteration=i, fobj=obj)\n",
      "c:\\Users\\esthelle.kuissu\\OneDrive - Exiom Partners\\Documents\\Code_rapport_stage\\EX_RAP_STAGE\\Exiom_Stage\\.venv\\Lib\\site-packages\\xgboost\\training.py:183: UserWarning: [18:14:21] WARNING: C:\\actions-runner\\_work\\xgboost\\xgboost\\src\\learner.cc:738: \n",
      "Parameters: { \"use_label_encoder\" } are not used.\n",
      "\n",
      "  bst.update(dtrain, iteration=i, fobj=obj)\n",
      "c:\\Users\\esthelle.kuissu\\OneDrive - Exiom Partners\\Documents\\Code_rapport_stage\\EX_RAP_STAGE\\Exiom_Stage\\.venv\\Lib\\site-packages\\xgboost\\training.py:183: UserWarning: [18:14:45] WARNING: C:\\actions-runner\\_work\\xgboost\\xgboost\\src\\learner.cc:738: \n",
      "Parameters: { \"use_label_encoder\" } are not used.\n",
      "\n",
      "  bst.update(dtrain, iteration=i, fobj=obj)\n",
      "c:\\Users\\esthelle.kuissu\\OneDrive - Exiom Partners\\Documents\\Code_rapport_stage\\EX_RAP_STAGE\\Exiom_Stage\\.venv\\Lib\\site-packages\\xgboost\\training.py:183: UserWarning: [18:15:09] WARNING: C:\\actions-runner\\_work\\xgboost\\xgboost\\src\\learner.cc:738: \n",
      "Parameters: { \"use_label_encoder\" } are not used.\n",
      "\n",
      "  bst.update(dtrain, iteration=i, fobj=obj)\n",
      "c:\\Users\\esthelle.kuissu\\OneDrive - Exiom Partners\\Documents\\Code_rapport_stage\\EX_RAP_STAGE\\Exiom_Stage\\.venv\\Lib\\site-packages\\xgboost\\training.py:183: UserWarning: [18:15:34] WARNING: C:\\actions-runner\\_work\\xgboost\\xgboost\\src\\learner.cc:738: \n",
      "Parameters: { \"use_label_encoder\" } are not used.\n",
      "\n",
      "  bst.update(dtrain, iteration=i, fobj=obj)\n",
      "c:\\Users\\esthelle.kuissu\\OneDrive - Exiom Partners\\Documents\\Code_rapport_stage\\EX_RAP_STAGE\\Exiom_Stage\\.venv\\Lib\\site-packages\\xgboost\\training.py:183: UserWarning: [18:15:58] WARNING: C:\\actions-runner\\_work\\xgboost\\xgboost\\src\\learner.cc:738: \n",
      "Parameters: { \"use_label_encoder\" } are not used.\n",
      "\n",
      "  bst.update(dtrain, iteration=i, fobj=obj)\n",
      "c:\\Users\\esthelle.kuissu\\OneDrive - Exiom Partners\\Documents\\Code_rapport_stage\\EX_RAP_STAGE\\Exiom_Stage\\.venv\\Lib\\site-packages\\xgboost\\training.py:183: UserWarning: [18:16:23] WARNING: C:\\actions-runner\\_work\\xgboost\\xgboost\\src\\learner.cc:738: \n",
      "Parameters: { \"use_label_encoder\" } are not used.\n",
      "\n",
      "  bst.update(dtrain, iteration=i, fobj=obj)\n",
      "c:\\Users\\esthelle.kuissu\\OneDrive - Exiom Partners\\Documents\\Code_rapport_stage\\EX_RAP_STAGE\\Exiom_Stage\\.venv\\Lib\\site-packages\\xgboost\\training.py:183: UserWarning: [18:16:48] WARNING: C:\\actions-runner\\_work\\xgboost\\xgboost\\src\\learner.cc:738: \n",
      "Parameters: { \"use_label_encoder\" } are not used.\n",
      "\n",
      "  bst.update(dtrain, iteration=i, fobj=obj)\n",
      "c:\\Users\\esthelle.kuissu\\OneDrive - Exiom Partners\\Documents\\Code_rapport_stage\\EX_RAP_STAGE\\Exiom_Stage\\.venv\\Lib\\site-packages\\xgboost\\training.py:183: UserWarning: [18:17:12] WARNING: C:\\actions-runner\\_work\\xgboost\\xgboost\\src\\learner.cc:738: \n",
      "Parameters: { \"use_label_encoder\" } are not used.\n",
      "\n",
      "  bst.update(dtrain, iteration=i, fobj=obj)\n",
      "c:\\Users\\esthelle.kuissu\\OneDrive - Exiom Partners\\Documents\\Code_rapport_stage\\EX_RAP_STAGE\\Exiom_Stage\\.venv\\Lib\\site-packages\\xgboost\\training.py:183: UserWarning: [18:17:37] WARNING: C:\\actions-runner\\_work\\xgboost\\xgboost\\src\\learner.cc:738: \n",
      "Parameters: { \"use_label_encoder\" } are not used.\n",
      "\n",
      "  bst.update(dtrain, iteration=i, fobj=obj)\n",
      "c:\\Users\\esthelle.kuissu\\OneDrive - Exiom Partners\\Documents\\Code_rapport_stage\\EX_RAP_STAGE\\Exiom_Stage\\.venv\\Lib\\site-packages\\xgboost\\training.py:183: UserWarning: [18:18:02] WARNING: C:\\actions-runner\\_work\\xgboost\\xgboost\\src\\learner.cc:738: \n",
      "Parameters: { \"use_label_encoder\" } are not used.\n",
      "\n",
      "  bst.update(dtrain, iteration=i, fobj=obj)\n",
      "c:\\Users\\esthelle.kuissu\\OneDrive - Exiom Partners\\Documents\\Code_rapport_stage\\EX_RAP_STAGE\\Exiom_Stage\\.venv\\Lib\\site-packages\\xgboost\\training.py:183: UserWarning: [18:18:27] WARNING: C:\\actions-runner\\_work\\xgboost\\xgboost\\src\\learner.cc:738: \n",
      "Parameters: { \"use_label_encoder\" } are not used.\n",
      "\n",
      "  bst.update(dtrain, iteration=i, fobj=obj)\n",
      "c:\\Users\\esthelle.kuissu\\OneDrive - Exiom Partners\\Documents\\Code_rapport_stage\\EX_RAP_STAGE\\Exiom_Stage\\.venv\\Lib\\site-packages\\xgboost\\training.py:183: UserWarning: [18:18:54] WARNING: C:\\actions-runner\\_work\\xgboost\\xgboost\\src\\learner.cc:738: \n",
      "Parameters: { \"use_label_encoder\" } are not used.\n",
      "\n",
      "  bst.update(dtrain, iteration=i, fobj=obj)\n",
      "c:\\Users\\esthelle.kuissu\\OneDrive - Exiom Partners\\Documents\\Code_rapport_stage\\EX_RAP_STAGE\\Exiom_Stage\\.venv\\Lib\\site-packages\\xgboost\\training.py:183: UserWarning: [18:19:19] WARNING: C:\\actions-runner\\_work\\xgboost\\xgboost\\src\\learner.cc:738: \n",
      "Parameters: { \"use_label_encoder\" } are not used.\n",
      "\n",
      "  bst.update(dtrain, iteration=i, fobj=obj)\n",
      "c:\\Users\\esthelle.kuissu\\OneDrive - Exiom Partners\\Documents\\Code_rapport_stage\\EX_RAP_STAGE\\Exiom_Stage\\.venv\\Lib\\site-packages\\xgboost\\training.py:183: UserWarning: [18:19:45] WARNING: C:\\actions-runner\\_work\\xgboost\\xgboost\\src\\learner.cc:738: \n",
      "Parameters: { \"use_label_encoder\" } are not used.\n",
      "\n",
      "  bst.update(dtrain, iteration=i, fobj=obj)\n",
      "c:\\Users\\esthelle.kuissu\\OneDrive - Exiom Partners\\Documents\\Code_rapport_stage\\EX_RAP_STAGE\\Exiom_Stage\\.venv\\Lib\\site-packages\\xgboost\\training.py:183: UserWarning: [18:20:11] WARNING: C:\\actions-runner\\_work\\xgboost\\xgboost\\src\\learner.cc:738: \n",
      "Parameters: { \"use_label_encoder\" } are not used.\n",
      "\n",
      "  bst.update(dtrain, iteration=i, fobj=obj)\n",
      "c:\\Users\\esthelle.kuissu\\OneDrive - Exiom Partners\\Documents\\Code_rapport_stage\\EX_RAP_STAGE\\Exiom_Stage\\.venv\\Lib\\site-packages\\xgboost\\training.py:183: UserWarning: [18:20:36] WARNING: C:\\actions-runner\\_work\\xgboost\\xgboost\\src\\learner.cc:738: \n",
      "Parameters: { \"use_label_encoder\" } are not used.\n",
      "\n",
      "  bst.update(dtrain, iteration=i, fobj=obj)\n",
      "c:\\Users\\esthelle.kuissu\\OneDrive - Exiom Partners\\Documents\\Code_rapport_stage\\EX_RAP_STAGE\\Exiom_Stage\\.venv\\Lib\\site-packages\\xgboost\\training.py:183: UserWarning: [18:21:00] WARNING: C:\\actions-runner\\_work\\xgboost\\xgboost\\src\\learner.cc:738: \n",
      "Parameters: { \"use_label_encoder\" } are not used.\n",
      "\n",
      "  bst.update(dtrain, iteration=i, fobj=obj)\n",
      "c:\\Users\\esthelle.kuissu\\OneDrive - Exiom Partners\\Documents\\Code_rapport_stage\\EX_RAP_STAGE\\Exiom_Stage\\.venv\\Lib\\site-packages\\xgboost\\training.py:183: UserWarning: [18:21:25] WARNING: C:\\actions-runner\\_work\\xgboost\\xgboost\\src\\learner.cc:738: \n",
      "Parameters: { \"use_label_encoder\" } are not used.\n",
      "\n",
      "  bst.update(dtrain, iteration=i, fobj=obj)\n",
      "c:\\Users\\esthelle.kuissu\\OneDrive - Exiom Partners\\Documents\\Code_rapport_stage\\EX_RAP_STAGE\\Exiom_Stage\\.venv\\Lib\\site-packages\\xgboost\\training.py:183: UserWarning: [18:21:49] WARNING: C:\\actions-runner\\_work\\xgboost\\xgboost\\src\\learner.cc:738: \n",
      "Parameters: { \"use_label_encoder\" } are not used.\n",
      "\n",
      "  bst.update(dtrain, iteration=i, fobj=obj)\n",
      "c:\\Users\\esthelle.kuissu\\OneDrive - Exiom Partners\\Documents\\Code_rapport_stage\\EX_RAP_STAGE\\Exiom_Stage\\.venv\\Lib\\site-packages\\xgboost\\training.py:183: UserWarning: [18:22:15] WARNING: C:\\actions-runner\\_work\\xgboost\\xgboost\\src\\learner.cc:738: \n",
      "Parameters: { \"use_label_encoder\" } are not used.\n",
      "\n",
      "  bst.update(dtrain, iteration=i, fobj=obj)\n",
      "c:\\Users\\esthelle.kuissu\\OneDrive - Exiom Partners\\Documents\\Code_rapport_stage\\EX_RAP_STAGE\\Exiom_Stage\\.venv\\Lib\\site-packages\\xgboost\\training.py:183: UserWarning: [18:22:40] WARNING: C:\\actions-runner\\_work\\xgboost\\xgboost\\src\\learner.cc:738: \n",
      "Parameters: { \"use_label_encoder\" } are not used.\n",
      "\n",
      "  bst.update(dtrain, iteration=i, fobj=obj)\n"
     ]
    },
    {
     "name": "stdout",
     "output_type": "stream",
     "text": [
      "\n",
      "📋 Rapport VotingClassifier :\n",
      "              precision    recall  f1-score   support\n",
      "\n",
      "           0     0.2887    0.9070    0.4380     16350\n",
      "           1     0.9898    0.8014    0.8857    184019\n",
      "\n",
      "    accuracy                         0.8101    200369\n",
      "   macro avg     0.6393    0.8542    0.6619    200369\n",
      "weighted avg     0.9326    0.8101    0.8492    200369\n",
      "\n"
     ]
    },
    {
     "name": "stderr",
     "output_type": "stream",
     "text": [
      "C:\\Users\\esthelle.kuissu\\AppData\\Local\\Temp\\ipykernel_8328\\3317524215.py:89: UserWarning: Glyph 129534 (\\N{RECEIPT}) missing from font(s) DejaVu Sans.\n",
      "  plt.tight_layout()\n",
      "c:\\Users\\esthelle.kuissu\\OneDrive - Exiom Partners\\Documents\\Code_rapport_stage\\EX_RAP_STAGE\\Exiom_Stage\\.venv\\Lib\\site-packages\\IPython\\core\\pylabtools.py:170: UserWarning: Glyph 129534 (\\N{RECEIPT}) missing from font(s) DejaVu Sans.\n",
      "  fig.canvas.print_figure(bytes_io, **kw)\n"
     ]
    },
    {
     "data": {
      "image/png": "[encoded data removed]",
      "text/plain": [
       "<Figure size 600x500 with 2 Axes>"
      ]
     },
     "metadata": {},
     "output_type": "display_data"
    },
    {
     "name": "stdout",
     "output_type": "stream",
     "text": [
      "\n",
      "📊 Couverture sinistres vus : 727383 / 736078 → 98.82%\n"
     ]
    },
    {
     "name": "stderr",
     "output_type": "stream",
     "text": [
      "c:\\Users\\esthelle.kuissu\\OneDrive - Exiom Partners\\Documents\\Code_rapport_stage\\EX_RAP_STAGE\\Exiom_Stage\\.venv\\Lib\\site-packages\\IPython\\core\\pylabtools.py:170: UserWarning: Glyph 128200 (\\N{CHART WITH UPWARDS TREND}) missing from font(s) DejaVu Sans.\n",
      "  fig.canvas.print_figure(bytes_io, **kw)\n"
     ]
    },
    {
     "data": {
      "image/png": "[encoded data removed]",
      "text/plain": [
       "<Figure size 800x500 with 1 Axes>"
      ]
     },
     "metadata": {},
     "output_type": "display_data"
    },
    {
     "name": "stderr",
     "output_type": "stream",
     "text": [
      "C:\\Users\\esthelle.kuissu\\AppData\\Local\\Temp\\ipykernel_8328\\3317524215.py:106: FutureWarning: \n",
      "\n",
      "Passing `palette` without assigning `hue` is deprecated and will be removed in v0.14.0. Assign the `x` variable to `hue` and set `legend=False` for the same effect.\n",
      "\n",
      "  sns.barplot(x=[name for name, _ in models], y=scores, palette=\"mako\")\n",
      "C:\\Users\\esthelle.kuissu\\AppData\\Local\\Temp\\ipykernel_8328\\3317524215.py:110: UserWarning: Glyph 128269 (\\N{LEFT-POINTING MAGNIFYING GLASS}) missing from font(s) DejaVu Sans.\n",
      "  plt.tight_layout()\n",
      "c:\\Users\\esthelle.kuissu\\OneDrive - Exiom Partners\\Documents\\Code_rapport_stage\\EX_RAP_STAGE\\Exiom_Stage\\.venv\\Lib\\site-packages\\IPython\\core\\pylabtools.py:170: UserWarning: Glyph 128269 (\\N{LEFT-POINTING MAGNIFYING GLASS}) missing from font(s) DejaVu Sans.\n",
      "  fig.canvas.print_figure(bytes_io, **kw)\n"
     ]
    },
    {
     "data": {
      "image/png": "[encoded data removed]",
      "text/plain": [
       "<Figure size 1000x500 with 1 Axes>"
      ]
     },
     "metadata": {},
     "output_type": "display_data"
    },
    {
     "name": "stderr",
     "output_type": "stream",
     "text": [
      "C:\\Users\\esthelle.kuissu\\AppData\\Local\\Temp\\ipykernel_8328\\3317524215.py:115: FutureWarning: \n",
      "\n",
      "Passing `palette` without assigning `hue` is deprecated and will be removed in v0.14.0. Assign the `x` variable to `hue` and set `legend=False` for the same effect.\n",
      "\n",
      "  sns.barplot(x=[name for name, _ in models], y=weights, palette=\"viridis\")\n"
     ]
    },
    {
     "data": {
      "image/png": "[encoded data removed]",
      "text/plain": [
       "<Figure size 1000x500 with 1 Axes>"
      ]
     },
     "metadata": {},
     "output_type": "display_data"
    }
   ],
   "source": [
    "# 🧼 Encodage des colonnes catégorielles si nécessaire\n",
    "def encode_dataframe(df):\n",
    "    df_encoded = df.copy()\n",
    "    for col in df_encoded.select_dtypes(include='object').columns:\n",
    "        df_encoded[col] = LabelEncoder().fit_transform(df_encoded[col].astype(str))\n",
    "    return df_encoded\n",
    "\n",
    "# ✂️ Séparation pool / test\n",
    "X_pool, X_test, y_pool, y_test = train_test_split(X, y, test_size=0.2, stratify=y, random_state=42)\n",
    "X_pool_encoded = pd.DataFrame(X_pool)\n",
    "X_test_encoded = pd.DataFrame(X_test)\n",
    "X_pool_encoded = encode_dataframe(X_pool_encoded)\n",
    "X_test_encoded = encode_dataframe(X_test_encoded)\n",
    "\n",
    "# 📌 Indices des classes\n",
    "idx_0 = np.where(y_pool == 0)[0]\n",
    "idx_1 = np.where(y_pool == 1)[0]\n",
    "\n",
    "# 🔍 Suivi de couverture sinistres\n",
    "seen_sinistres = set()\n",
    "couverture_evolution = []\n",
    "\n",
    "# 🔄 Entraînement multiple\n",
    "n_models = 50\n",
    "models = []\n",
    "X_global = []\n",
    "y_global = []\n",
    "\n",
    "for i in range(n_models):\n",
    "    sample_1 = np.random.choice(idx_1, size=len(idx_0), replace=True)\n",
    "    seen_sinistres.update(sample_1)\n",
    "    couverture_evolution.append(len(seen_sinistres) / len(idx_1))\n",
    "\n",
    "    selected_indices = np.concatenate((idx_0, sample_1))\n",
    "    X_train = X_pool_encoded.iloc[selected_indices]\n",
    "    y_train = y_pool.iloc[selected_indices]\n",
    "    #y_train = y_pool[selected_indices]\n",
    "\n",
    "    assert X_train.shape[0] == y_train.shape[0], f\"Alignement invalide à l'itération {i}\"\n",
    "\n",
    "    X_global.append(X_train)\n",
    "    y_global.append(y_train)\n",
    "\n",
    "    model = XGBClassifier(use_label_encoder=False, eval_metric='logloss', random_state=i)\n",
    "    model.fit(X_train, y_train)\n",
    "    models.append((f\"xgb_{i}\", model))\n",
    "\n",
    "# 📦 Fusion globale\n",
    "X_global = pd.concat(X_global)\n",
    "y_global = np.concatenate(y_global)\n",
    "\n",
    "# 🧠 Score personnalisé : moyenne précision + recall sur classe 1\n",
    "def score_classe1(y_true, y_pred):\n",
    "    prec = precision_score(y_true, y_pred, pos_label=1)\n",
    "    rec = recall_score(y_true, y_pred, pos_label=1)\n",
    "    return (prec + rec) / 2\n",
    "\n",
    "scores = []\n",
    "for name, model in models:\n",
    "    y_pred = model.predict(X_test_encoded)\n",
    "    score = score_classe1(y_test, y_pred)\n",
    "    scores.append(score)\n",
    "    print(f\"🔍 {name}: Precision(1)={precision_score(y_test, y_pred, pos_label=1):.3f} | Recall(1)={recall_score(y_test, y_pred, pos_label=1):.3f} | Score={score:.3f}\")\n",
    "\n",
    "# ⚖️ Pondération dans VotingClassifier\n",
    "scores_array = np.array(scores)\n",
    "weights = (scores_array / scores_array.sum()).tolist()\n",
    "\n",
    "ensemble = VotingClassifier(estimators=models, voting='soft', weights=weights)\n",
    "ensemble.fit(X_global, y_global)\n",
    "\n",
    "# 📊 Prédiction finale\n",
    "y_pred_final = ensemble.predict(X_test_encoded)\n",
    "\n",
    "print(\"\\n📋 Rapport VotingClassifier :\")\n",
    "print(classification_report(y_test, y_pred_final, digits=4))\n",
    "\n",
    "# 🧮 Matrice de confusion normalisée (par ligne = vérité terrain)\n",
    "cm_raw = confusion_matrix(y_test, y_pred_final, labels=[0, 1])\n",
    "cm_norm = cm_raw.astype('float') / cm_raw.sum(axis=1, keepdims=True)\n",
    "\n",
    "plt.figure(figsize=(6, 5))\n",
    "sns.heatmap(cm_norm, annot=True, fmt='.2f', cmap='Blues',\n",
    "            xticklabels=[\"Prédit 0\", \"Prédit 1\"],\n",
    "            yticklabels=[\"Vérité 0\", \"Vérité 1\"])\n",
    "plt.title(\"🧾 Matrice de confusion normalisée - VotingClassifier\")\n",
    "plt.xlabel(\"Prédiction\")\n",
    "plt.ylabel(\"Vérité terrain\")\n",
    "plt.tight_layout()\n",
    "plt.show()\n",
    "\n",
    "\n",
    "# 📈 Couverture des sinistres\n",
    "print(f\"\\n📊 Couverture sinistres vus : {len(seen_sinistres)} / {len(idx_1)} → {100 * len(seen_sinistres)/len(idx_1):.2f}%\")\n",
    "plt.figure(figsize=(8, 5))\n",
    "plt.plot(range(1, n_models+1), [100 * c for c in couverture_evolution], marker='o', color='teal')\n",
    "plt.title(\"📈 Couverture cumulative des sinistres (classe 1)\")\n",
    "plt.xlabel(\"Itération\")\n",
    "plt.ylabel(\"Couverture (%)\")\n",
    "plt.ylim(0, 100)\n",
    "plt.grid(True)\n",
    "plt.show()\n",
    "\n",
    "# 📊 Scores des modèles\n",
    "plt.figure(figsize=(10, 5))\n",
    "sns.barplot(x=[name for name, _ in models], y=scores, palette=\"mako\")\n",
    "plt.title(\"🔍 Score Precision + Recall (classe 1) par modèle\")\n",
    "plt.ylabel(\"Score\")\n",
    "plt.xticks(rotation=45)\n",
    "plt.tight_layout()\n",
    "plt.show()\n",
    "\n",
    "# ⚖️ Poids attribués\n",
    "plt.figure(figsize=(10, 5))\n",
    "sns.barplot(x=[name for name, _ in models], y=weights, palette=\"viridis\")\n",
    "plt.title(\"⚖️ Poids des modèles dans VotingClassifier\")\n",
    "plt.ylabel(\"Poids\")\n",
    "plt.xticks(rotation=45)\n",
    "plt.tight_layout()\n",
    "plt.show()"
   ]
  },
  {
   "cell_type": "markdown",
   "id": "3edf161c",
   "metadata": {},
   "source": [
    "# ENTRE çA ET FIN 10 JUILLET BROUILLON"
   ]
  },
  {
   "cell_type": "code",
   "execution_count": null,
   "id": "8bd90ba2",
   "metadata": {},
   "outputs": [],
   "source": [
    "ensemble.fit(X_global, y_global)\n",
    "# 📊 Évaluation finale sur le jeu de test déséquilibré\n",
    "y_pred_final = ensemble.predict(X_test_encoded)\n",
    "\n",
    "# 📋 Rapport complet par classe\n",
    "print(\"\\n📋 Rapport VotingClassifier pondéré sur jeu de test :\")\n",
    "print(classification_report(y_test, y_pred_final, digits=4))"
   ]
  },
  {
   "cell_type": "code",
   "execution_count": null,
   "id": "c4960d2a",
   "metadata": {},
   "outputs": [],
   "source": [
    "from sklearn.metrics import confusion_matrix\n",
    "\n",
    "# 📊 Matrice de confusion\n",
    "cm = confusion_matrix(y_test, y_pred_final, labels=[0, 1])\n",
    "\n",
    "# 🖼️ Affichage graphique\n",
    "plt.figure(figsize=(6, 5))\n",
    "sns.heatmap(cm, annot=True, fmt='d', cmap='Blues', xticklabels=[\"Prédit 0\", \"Prédit 1\"], yticklabels=[\"Réel 0\", \"Réel 1\"])\n",
    "plt.title(\"🧾 Matrice de confusion (VotingClassifier)\")\n",
    "plt.xlabel(\"Prédiction\")\n",
    "plt.ylabel(\"Vérité terrain\")\n",
    "plt.tight_layout()\n",
    "plt.show()"
   ]
  },
  {
   "cell_type": "markdown",
   "id": "07afe5e9",
   "metadata": {},
   "source": [
    "# STOP JOURNEE DU 10 JUILLET"
   ]
  },
  {
   "cell_type": "code",
   "execution_count": 89,
   "id": "8559efc1",
   "metadata": {},
   "outputs": [
    {
     "name": "stdout",
     "output_type": "stream",
     "text": [
      "['cle_sin', 'date_evt', 'aac', 'age_veh', 'sport', 'trans', 'suspe', 'boite', 'elt_secu', 'vu', 'pickup', 'luxe', 'prestige', 'soumis_crm', 'nab50', 'LIB_CHOC', 'LIB_INTENS', 'GARAGE_AGREE_O_N', 'NB_PIECE_REMPLACEE', 'NB_PIECE_REPAREE', 'annee_sortie_veh', 'date_nais_f', 'date_permis_f', 'formule_ratt_g', 'sitfam_g', 'usage2_g', 'orig_attest_g', 'caros_g', 'segment_g', 'energ_g', 'frein_g', 'alim_g', 'suspe_g', 'crash_g', 'fract_paiem_soc_g', 'cdval_g', 'modele2_g', 'profess_g', 'marq_g', 'garag_g', 'Region', 'year_2020', 'year_2021', 'year_2022', 'year_2023', 'year_2024']\n"
     ]
    }
   ],
   "source": [
    "print(list(X_train.columns))"
   ]
  },
  {
   "cell_type": "code",
   "execution_count": 38,
   "id": "893d7ec8",
   "metadata": {},
   "outputs": [
    {
     "ename": "IndexError",
     "evalue": "list index out of range",
     "output_type": "error",
     "traceback": [
      "\u001b[31m---------------------------------------------------------------------------\u001b[39m",
      "\u001b[31mIndexError\u001b[39m                                Traceback (most recent call last)",
      "\u001b[36mCell\u001b[39m\u001b[36m \u001b[39m\u001b[32mIn[38]\u001b[39m\u001b[32m, line 22\u001b[39m\n\u001b[32m     20\u001b[39m     \u001b[38;5;66;03m# 🤖 Entraînement\u001b[39;00m\n\u001b[32m     21\u001b[39m     model = XGBClassifier(use_label_encoder=\u001b[38;5;28;01mFalse\u001b[39;00m, eval_metric=\u001b[33m'\u001b[39m\u001b[33mlogloss\u001b[39m\u001b[33m'\u001b[39m, random_state=i)\n\u001b[32m---> \u001b[39m\u001b[32m22\u001b[39m     \u001b[43mmodel\u001b[49m\u001b[43m.\u001b[49m\u001b[43mfit\u001b[49m\u001b[43m(\u001b[49m\u001b[43mX_train\u001b[49m\u001b[43m,\u001b[49m\u001b[43m \u001b[49m\u001b[43my_train\u001b[49m\u001b[43m)\u001b[49m\n\u001b[32m     23\u001b[39m     models.append((\u001b[33mf\u001b[39m\u001b[33m\"\u001b[39m\u001b[33mxgb_\u001b[39m\u001b[38;5;132;01m{\u001b[39;00mi\u001b[38;5;132;01m}\u001b[39;00m\u001b[33m\"\u001b[39m, model))\n\u001b[32m     25\u001b[39m \u001b[38;5;66;03m# 🧠 Fusion des modèles entraînés avec VotingClassifier\u001b[39;00m\n",
      "\u001b[36mFile \u001b[39m\u001b[32mc:\\Users\\esthelle.kuissu\\OneDrive - Exiom Partners\\Documents\\Code_rapport_stage\\EX_RAP_STAGE\\Exiom_Stage\\.venv\\Lib\\site-packages\\xgboost\\core.py:729\u001b[39m, in \u001b[36mrequire_keyword_args.<locals>.throw_if.<locals>.inner_f\u001b[39m\u001b[34m(*args, **kwargs)\u001b[39m\n\u001b[32m    727\u001b[39m \u001b[38;5;28;01mfor\u001b[39;00m k, arg \u001b[38;5;129;01min\u001b[39;00m \u001b[38;5;28mzip\u001b[39m(sig.parameters, args):\n\u001b[32m    728\u001b[39m     kwargs[k] = arg\n\u001b[32m--> \u001b[39m\u001b[32m729\u001b[39m \u001b[38;5;28;01mreturn\u001b[39;00m \u001b[43mfunc\u001b[49m\u001b[43m(\u001b[49m\u001b[43m*\u001b[49m\u001b[43m*\u001b[49m\u001b[43mkwargs\u001b[49m\u001b[43m)\u001b[49m\n",
      "\u001b[36mFile \u001b[39m\u001b[32mc:\\Users\\esthelle.kuissu\\OneDrive - Exiom Partners\\Documents\\Code_rapport_stage\\EX_RAP_STAGE\\Exiom_Stage\\.venv\\Lib\\site-packages\\xgboost\\sklearn.py:1663\u001b[39m, in \u001b[36mXGBClassifier.fit\u001b[39m\u001b[34m(self, X, y, sample_weight, base_margin, eval_set, verbose, xgb_model, sample_weight_eval_set, base_margin_eval_set, feature_weights)\u001b[39m\n\u001b[32m   1658\u001b[39m     params[\u001b[33m\"\u001b[39m\u001b[33mnum_class\u001b[39m\u001b[33m\"\u001b[39m] = \u001b[38;5;28mself\u001b[39m.n_classes_\n\u001b[32m   1660\u001b[39m model, metric, params, feature_weights = \u001b[38;5;28mself\u001b[39m._configure_fit(\n\u001b[32m   1661\u001b[39m     xgb_model, params, feature_weights\n\u001b[32m   1662\u001b[39m )\n\u001b[32m-> \u001b[39m\u001b[32m1663\u001b[39m train_dmatrix, evals = \u001b[43m_wrap_evaluation_matrices\u001b[49m\u001b[43m(\u001b[49m\n\u001b[32m   1664\u001b[39m \u001b[43m    \u001b[49m\u001b[43mmissing\u001b[49m\u001b[43m=\u001b[49m\u001b[38;5;28;43mself\u001b[39;49m\u001b[43m.\u001b[49m\u001b[43mmissing\u001b[49m\u001b[43m,\u001b[49m\n\u001b[32m   1665\u001b[39m \u001b[43m    \u001b[49m\u001b[43mX\u001b[49m\u001b[43m=\u001b[49m\u001b[43mX\u001b[49m\u001b[43m,\u001b[49m\n\u001b[32m   1666\u001b[39m \u001b[43m    \u001b[49m\u001b[43my\u001b[49m\u001b[43m=\u001b[49m\u001b[43my\u001b[49m\u001b[43m,\u001b[49m\n\u001b[32m   1667\u001b[39m \u001b[43m    \u001b[49m\u001b[43mgroup\u001b[49m\u001b[43m=\u001b[49m\u001b[38;5;28;43;01mNone\u001b[39;49;00m\u001b[43m,\u001b[49m\n\u001b[32m   1668\u001b[39m \u001b[43m    \u001b[49m\u001b[43mqid\u001b[49m\u001b[43m=\u001b[49m\u001b[38;5;28;43;01mNone\u001b[39;49;00m\u001b[43m,\u001b[49m\n\u001b[32m   1669\u001b[39m \u001b[43m    \u001b[49m\u001b[43msample_weight\u001b[49m\u001b[43m=\u001b[49m\u001b[43msample_weight\u001b[49m\u001b[43m,\u001b[49m\n\u001b[32m   1670\u001b[39m \u001b[43m    \u001b[49m\u001b[43mbase_margin\u001b[49m\u001b[43m=\u001b[49m\u001b[43mbase_margin\u001b[49m\u001b[43m,\u001b[49m\n\u001b[32m   1671\u001b[39m \u001b[43m    \u001b[49m\u001b[43mfeature_weights\u001b[49m\u001b[43m=\u001b[49m\u001b[43mfeature_weights\u001b[49m\u001b[43m,\u001b[49m\n\u001b[32m   1672\u001b[39m \u001b[43m    \u001b[49m\u001b[43meval_set\u001b[49m\u001b[43m=\u001b[49m\u001b[43meval_set\u001b[49m\u001b[43m,\u001b[49m\n\u001b[32m   1673\u001b[39m \u001b[43m    \u001b[49m\u001b[43msample_weight_eval_set\u001b[49m\u001b[43m=\u001b[49m\u001b[43msample_weight_eval_set\u001b[49m\u001b[43m,\u001b[49m\n\u001b[32m   1674\u001b[39m \u001b[43m    \u001b[49m\u001b[43mbase_margin_eval_set\u001b[49m\u001b[43m=\u001b[49m\u001b[43mbase_margin_eval_set\u001b[49m\u001b[43m,\u001b[49m\n\u001b[32m   1675\u001b[39m \u001b[43m    \u001b[49m\u001b[43meval_group\u001b[49m\u001b[43m=\u001b[49m\u001b[38;5;28;43;01mNone\u001b[39;49;00m\u001b[43m,\u001b[49m\n\u001b[32m   1676\u001b[39m \u001b[43m    \u001b[49m\u001b[43meval_qid\u001b[49m\u001b[43m=\u001b[49m\u001b[38;5;28;43;01mNone\u001b[39;49;00m\u001b[43m,\u001b[49m\n\u001b[32m   1677\u001b[39m \u001b[43m    \u001b[49m\u001b[43mcreate_dmatrix\u001b[49m\u001b[43m=\u001b[49m\u001b[38;5;28;43mself\u001b[39;49m\u001b[43m.\u001b[49m\u001b[43m_create_dmatrix\u001b[49m\u001b[43m,\u001b[49m\n\u001b[32m   1678\u001b[39m \u001b[43m    \u001b[49m\u001b[43menable_categorical\u001b[49m\u001b[43m=\u001b[49m\u001b[38;5;28;43mself\u001b[39;49m\u001b[43m.\u001b[49m\u001b[43menable_categorical\u001b[49m\u001b[43m,\u001b[49m\n\u001b[32m   1679\u001b[39m \u001b[43m    \u001b[49m\u001b[43mfeature_types\u001b[49m\u001b[43m=\u001b[49m\u001b[38;5;28;43mself\u001b[39;49m\u001b[43m.\u001b[49m\u001b[43mfeature_types\u001b[49m\u001b[43m,\u001b[49m\n\u001b[32m   1680\u001b[39m \u001b[43m\u001b[49m\u001b[43m)\u001b[49m\n\u001b[32m   1682\u001b[39m \u001b[38;5;28mself\u001b[39m._Booster = train(\n\u001b[32m   1683\u001b[39m     params,\n\u001b[32m   1684\u001b[39m     train_dmatrix,\n\u001b[32m   (...)\u001b[39m\u001b[32m   1693\u001b[39m     callbacks=\u001b[38;5;28mself\u001b[39m.callbacks,\n\u001b[32m   1694\u001b[39m )\n\u001b[32m   1696\u001b[39m \u001b[38;5;28;01mif\u001b[39;00m \u001b[38;5;129;01mnot\u001b[39;00m \u001b[38;5;28mcallable\u001b[39m(\u001b[38;5;28mself\u001b[39m.objective):\n",
      "\u001b[36mFile \u001b[39m\u001b[32mc:\\Users\\esthelle.kuissu\\OneDrive - Exiom Partners\\Documents\\Code_rapport_stage\\EX_RAP_STAGE\\Exiom_Stage\\.venv\\Lib\\site-packages\\xgboost\\sklearn.py:628\u001b[39m, in \u001b[36m_wrap_evaluation_matrices\u001b[39m\u001b[34m(missing, X, y, group, qid, sample_weight, base_margin, feature_weights, eval_set, sample_weight_eval_set, base_margin_eval_set, eval_group, eval_qid, create_dmatrix, enable_categorical, feature_types)\u001b[39m\n\u001b[32m    607\u001b[39m \u001b[38;5;28;01mdef\u001b[39;00m\u001b[38;5;250m \u001b[39m\u001b[34m_wrap_evaluation_matrices\u001b[39m(\n\u001b[32m    608\u001b[39m     *,\n\u001b[32m    609\u001b[39m     missing: \u001b[38;5;28mfloat\u001b[39m,\n\u001b[32m   (...)\u001b[39m\u001b[32m    624\u001b[39m     feature_types: Optional[FeatureTypes],\n\u001b[32m    625\u001b[39m ) -> Tuple[Any, List[Tuple[Any, \u001b[38;5;28mstr\u001b[39m]]]:\n\u001b[32m    626\u001b[39m \u001b[38;5;250m    \u001b[39m\u001b[33;03m\"\"\"Convert array_like evaluation matrices into DMatrix.  Perform validation on the\u001b[39;00m\n\u001b[32m    627\u001b[39m \u001b[33;03m    way.\"\"\"\u001b[39;00m\n\u001b[32m--> \u001b[39m\u001b[32m628\u001b[39m     train_dmatrix = \u001b[43mcreate_dmatrix\u001b[49m\u001b[43m(\u001b[49m\n\u001b[32m    629\u001b[39m \u001b[43m        \u001b[49m\u001b[43mdata\u001b[49m\u001b[43m=\u001b[49m\u001b[43mX\u001b[49m\u001b[43m,\u001b[49m\n\u001b[32m    630\u001b[39m \u001b[43m        \u001b[49m\u001b[43mlabel\u001b[49m\u001b[43m=\u001b[49m\u001b[43my\u001b[49m\u001b[43m,\u001b[49m\n\u001b[32m    631\u001b[39m \u001b[43m        \u001b[49m\u001b[43mgroup\u001b[49m\u001b[43m=\u001b[49m\u001b[43mgroup\u001b[49m\u001b[43m,\u001b[49m\n\u001b[32m    632\u001b[39m \u001b[43m        \u001b[49m\u001b[43mqid\u001b[49m\u001b[43m=\u001b[49m\u001b[43mqid\u001b[49m\u001b[43m,\u001b[49m\n\u001b[32m    633\u001b[39m \u001b[43m        \u001b[49m\u001b[43mweight\u001b[49m\u001b[43m=\u001b[49m\u001b[43msample_weight\u001b[49m\u001b[43m,\u001b[49m\n\u001b[32m    634\u001b[39m \u001b[43m        \u001b[49m\u001b[43mbase_margin\u001b[49m\u001b[43m=\u001b[49m\u001b[43mbase_margin\u001b[49m\u001b[43m,\u001b[49m\n\u001b[32m    635\u001b[39m \u001b[43m        \u001b[49m\u001b[43mfeature_weights\u001b[49m\u001b[43m=\u001b[49m\u001b[43mfeature_weights\u001b[49m\u001b[43m,\u001b[49m\n\u001b[32m    636\u001b[39m \u001b[43m        \u001b[49m\u001b[43mmissing\u001b[49m\u001b[43m=\u001b[49m\u001b[43mmissing\u001b[49m\u001b[43m,\u001b[49m\n\u001b[32m    637\u001b[39m \u001b[43m        \u001b[49m\u001b[43menable_categorical\u001b[49m\u001b[43m=\u001b[49m\u001b[43menable_categorical\u001b[49m\u001b[43m,\u001b[49m\n\u001b[32m    638\u001b[39m \u001b[43m        \u001b[49m\u001b[43mfeature_types\u001b[49m\u001b[43m=\u001b[49m\u001b[43mfeature_types\u001b[49m\u001b[43m,\u001b[49m\n\u001b[32m    639\u001b[39m \u001b[43m        \u001b[49m\u001b[43mref\u001b[49m\u001b[43m=\u001b[49m\u001b[38;5;28;43;01mNone\u001b[39;49;00m\u001b[43m,\u001b[49m\n\u001b[32m    640\u001b[39m \u001b[43m    \u001b[49m\u001b[43m)\u001b[49m\n\u001b[32m    642\u001b[39m     n_validation = \u001b[32m0\u001b[39m \u001b[38;5;28;01mif\u001b[39;00m eval_set \u001b[38;5;129;01mis\u001b[39;00m \u001b[38;5;28;01mNone\u001b[39;00m \u001b[38;5;28;01melse\u001b[39;00m \u001b[38;5;28mlen\u001b[39m(eval_set)\n\u001b[32m    644\u001b[39m     \u001b[38;5;28;01mdef\u001b[39;00m\u001b[38;5;250m \u001b[39m\u001b[34mvalidate_or_none\u001b[39m(meta: Optional[Sequence], name: \u001b[38;5;28mstr\u001b[39m) -> Sequence:\n",
      "\u001b[36mFile \u001b[39m\u001b[32mc:\\Users\\esthelle.kuissu\\OneDrive - Exiom Partners\\Documents\\Code_rapport_stage\\EX_RAP_STAGE\\Exiom_Stage\\.venv\\Lib\\site-packages\\xgboost\\sklearn.py:1137\u001b[39m, in \u001b[36mXGBModel._create_dmatrix\u001b[39m\u001b[34m(self, ref, **kwargs)\u001b[39m\n\u001b[32m   1135\u001b[39m \u001b[38;5;28;01mif\u001b[39;00m _can_use_qdm(\u001b[38;5;28mself\u001b[39m.tree_method, \u001b[38;5;28mself\u001b[39m.device) \u001b[38;5;129;01mand\u001b[39;00m \u001b[38;5;28mself\u001b[39m.booster != \u001b[33m\"\u001b[39m\u001b[33mgblinear\u001b[39m\u001b[33m\"\u001b[39m:\n\u001b[32m   1136\u001b[39m     \u001b[38;5;28;01mtry\u001b[39;00m:\n\u001b[32m-> \u001b[39m\u001b[32m1137\u001b[39m         \u001b[38;5;28;01mreturn\u001b[39;00m \u001b[43mQuantileDMatrix\u001b[49m\u001b[43m(\u001b[49m\n\u001b[32m   1138\u001b[39m \u001b[43m            \u001b[49m\u001b[43m*\u001b[49m\u001b[43m*\u001b[49m\u001b[43mkwargs\u001b[49m\u001b[43m,\u001b[49m\u001b[43m \u001b[49m\u001b[43mref\u001b[49m\u001b[43m=\u001b[49m\u001b[43mref\u001b[49m\u001b[43m,\u001b[49m\u001b[43m \u001b[49m\u001b[43mnthread\u001b[49m\u001b[43m=\u001b[49m\u001b[38;5;28;43mself\u001b[39;49m\u001b[43m.\u001b[49m\u001b[43mn_jobs\u001b[49m\u001b[43m,\u001b[49m\u001b[43m \u001b[49m\u001b[43mmax_bin\u001b[49m\u001b[43m=\u001b[49m\u001b[38;5;28;43mself\u001b[39;49m\u001b[43m.\u001b[49m\u001b[43mmax_bin\u001b[49m\n\u001b[32m   1139\u001b[39m \u001b[43m        \u001b[49m\u001b[43m)\u001b[49m\n\u001b[32m   1140\u001b[39m     \u001b[38;5;28;01mexcept\u001b[39;00m \u001b[38;5;167;01mTypeError\u001b[39;00m:  \u001b[38;5;66;03m# `QuantileDMatrix` supports lesser types than DMatrix\u001b[39;00m\n\u001b[32m   1141\u001b[39m         \u001b[38;5;28;01mpass\u001b[39;00m\n",
      "\u001b[36mFile \u001b[39m\u001b[32mc:\\Users\\esthelle.kuissu\\OneDrive - Exiom Partners\\Documents\\Code_rapport_stage\\EX_RAP_STAGE\\Exiom_Stage\\.venv\\Lib\\site-packages\\xgboost\\core.py:729\u001b[39m, in \u001b[36mrequire_keyword_args.<locals>.throw_if.<locals>.inner_f\u001b[39m\u001b[34m(*args, **kwargs)\u001b[39m\n\u001b[32m    727\u001b[39m \u001b[38;5;28;01mfor\u001b[39;00m k, arg \u001b[38;5;129;01min\u001b[39;00m \u001b[38;5;28mzip\u001b[39m(sig.parameters, args):\n\u001b[32m    728\u001b[39m     kwargs[k] = arg\n\u001b[32m--> \u001b[39m\u001b[32m729\u001b[39m \u001b[38;5;28;01mreturn\u001b[39;00m \u001b[43mfunc\u001b[49m\u001b[43m(\u001b[49m\u001b[43m*\u001b[49m\u001b[43m*\u001b[49m\u001b[43mkwargs\u001b[49m\u001b[43m)\u001b[49m\n",
      "\u001b[36mFile \u001b[39m\u001b[32mc:\\Users\\esthelle.kuissu\\OneDrive - Exiom Partners\\Documents\\Code_rapport_stage\\EX_RAP_STAGE\\Exiom_Stage\\.venv\\Lib\\site-packages\\xgboost\\core.py:1614\u001b[39m, in \u001b[36mQuantileDMatrix.__init__\u001b[39m\u001b[34m(self, data, label, weight, base_margin, missing, silent, feature_names, feature_types, nthread, max_bin, ref, group, qid, label_lower_bound, label_upper_bound, feature_weights, enable_categorical, max_quantile_batches, data_split_mode)\u001b[39m\n\u001b[32m   1594\u001b[39m     \u001b[38;5;28;01mif\u001b[39;00m \u001b[38;5;28many\u001b[39m(\n\u001b[32m   1595\u001b[39m         info \u001b[38;5;129;01mis\u001b[39;00m \u001b[38;5;129;01mnot\u001b[39;00m \u001b[38;5;28;01mNone\u001b[39;00m\n\u001b[32m   1596\u001b[39m         \u001b[38;5;28;01mfor\u001b[39;00m info \u001b[38;5;129;01min\u001b[39;00m (\n\u001b[32m   (...)\u001b[39m\u001b[32m   1607\u001b[39m         )\n\u001b[32m   1608\u001b[39m     ):\n\u001b[32m   1609\u001b[39m         \u001b[38;5;28;01mraise\u001b[39;00m \u001b[38;5;167;01mValueError\u001b[39;00m(\n\u001b[32m   1610\u001b[39m             \u001b[33m\"\u001b[39m\u001b[33mIf data iterator is used as input, data like label should be \u001b[39m\u001b[33m\"\u001b[39m\n\u001b[32m   1611\u001b[39m             \u001b[33m\"\u001b[39m\u001b[33mspecified as batch argument.\u001b[39m\u001b[33m\"\u001b[39m\n\u001b[32m   1612\u001b[39m         )\n\u001b[32m-> \u001b[39m\u001b[32m1614\u001b[39m \u001b[38;5;28;43mself\u001b[39;49m\u001b[43m.\u001b[49m\u001b[43m_init\u001b[49m\u001b[43m(\u001b[49m\n\u001b[32m   1615\u001b[39m \u001b[43m    \u001b[49m\u001b[43mdata\u001b[49m\u001b[43m,\u001b[49m\n\u001b[32m   1616\u001b[39m \u001b[43m    \u001b[49m\u001b[43mref\u001b[49m\u001b[43m=\u001b[49m\u001b[43mref\u001b[49m\u001b[43m,\u001b[49m\n\u001b[32m   1617\u001b[39m \u001b[43m    \u001b[49m\u001b[43mlabel\u001b[49m\u001b[43m=\u001b[49m\u001b[43mlabel\u001b[49m\u001b[43m,\u001b[49m\n\u001b[32m   1618\u001b[39m \u001b[43m    \u001b[49m\u001b[43mweight\u001b[49m\u001b[43m=\u001b[49m\u001b[43mweight\u001b[49m\u001b[43m,\u001b[49m\n\u001b[32m   1619\u001b[39m \u001b[43m    \u001b[49m\u001b[43mbase_margin\u001b[49m\u001b[43m=\u001b[49m\u001b[43mbase_margin\u001b[49m\u001b[43m,\u001b[49m\n\u001b[32m   1620\u001b[39m \u001b[43m    \u001b[49m\u001b[43mgroup\u001b[49m\u001b[43m=\u001b[49m\u001b[43mgroup\u001b[49m\u001b[43m,\u001b[49m\n\u001b[32m   1621\u001b[39m \u001b[43m    \u001b[49m\u001b[43mqid\u001b[49m\u001b[43m=\u001b[49m\u001b[43mqid\u001b[49m\u001b[43m,\u001b[49m\n\u001b[32m   1622\u001b[39m \u001b[43m    \u001b[49m\u001b[43mlabel_lower_bound\u001b[49m\u001b[43m=\u001b[49m\u001b[43mlabel_lower_bound\u001b[49m\u001b[43m,\u001b[49m\n\u001b[32m   1623\u001b[39m \u001b[43m    \u001b[49m\u001b[43mlabel_upper_bound\u001b[49m\u001b[43m=\u001b[49m\u001b[43mlabel_upper_bound\u001b[49m\u001b[43m,\u001b[49m\n\u001b[32m   1624\u001b[39m \u001b[43m    \u001b[49m\u001b[43mfeature_weights\u001b[49m\u001b[43m=\u001b[49m\u001b[43mfeature_weights\u001b[49m\u001b[43m,\u001b[49m\n\u001b[32m   1625\u001b[39m \u001b[43m    \u001b[49m\u001b[43mfeature_names\u001b[49m\u001b[43m=\u001b[49m\u001b[43mfeature_names\u001b[49m\u001b[43m,\u001b[49m\n\u001b[32m   1626\u001b[39m \u001b[43m    \u001b[49m\u001b[43mfeature_types\u001b[49m\u001b[43m=\u001b[49m\u001b[43mfeature_types\u001b[49m\u001b[43m,\u001b[49m\n\u001b[32m   1627\u001b[39m \u001b[43m    \u001b[49m\u001b[43menable_categorical\u001b[49m\u001b[43m=\u001b[49m\u001b[43menable_categorical\u001b[49m\u001b[43m,\u001b[49m\n\u001b[32m   1628\u001b[39m \u001b[43m    \u001b[49m\u001b[43mmax_quantile_blocks\u001b[49m\u001b[43m=\u001b[49m\u001b[43mmax_quantile_batches\u001b[49m\u001b[43m,\u001b[49m\n\u001b[32m   1629\u001b[39m \u001b[43m\u001b[49m\u001b[43m)\u001b[49m\n",
      "\u001b[36mFile \u001b[39m\u001b[32mc:\\Users\\esthelle.kuissu\\OneDrive - Exiom Partners\\Documents\\Code_rapport_stage\\EX_RAP_STAGE\\Exiom_Stage\\.venv\\Lib\\site-packages\\xgboost\\core.py:1678\u001b[39m, in \u001b[36mQuantileDMatrix._init\u001b[39m\u001b[34m(self, data, ref, enable_categorical, max_quantile_blocks, **meta)\u001b[39m\n\u001b[32m   1663\u001b[39m config = make_jcargs(\n\u001b[32m   1664\u001b[39m     nthread=\u001b[38;5;28mself\u001b[39m.nthread,\n\u001b[32m   1665\u001b[39m     missing=\u001b[38;5;28mself\u001b[39m.missing,\n\u001b[32m   1666\u001b[39m     max_bin=\u001b[38;5;28mself\u001b[39m.max_bin,\n\u001b[32m   1667\u001b[39m     max_quantile_blocks=max_quantile_blocks,\n\u001b[32m   1668\u001b[39m )\n\u001b[32m   1669\u001b[39m ret = _LIB.XGQuantileDMatrixCreateFromCallback(\n\u001b[32m   1670\u001b[39m     \u001b[38;5;28;01mNone\u001b[39;00m,\n\u001b[32m   1671\u001b[39m     it.proxy.handle,\n\u001b[32m   (...)\u001b[39m\u001b[32m   1676\u001b[39m     ctypes.byref(handle),\n\u001b[32m   1677\u001b[39m )\n\u001b[32m-> \u001b[39m\u001b[32m1678\u001b[39m \u001b[43mit\u001b[49m\u001b[43m.\u001b[49m\u001b[43mreraise\u001b[49m\u001b[43m(\u001b[49m\u001b[43m)\u001b[49m\n\u001b[32m   1679\u001b[39m \u001b[38;5;66;03m# delay check_call to throw intermediate exception first\u001b[39;00m\n\u001b[32m   1680\u001b[39m _check_call(ret)\n",
      "\u001b[36mFile \u001b[39m\u001b[32mc:\\Users\\esthelle.kuissu\\OneDrive - Exiom Partners\\Documents\\Code_rapport_stage\\EX_RAP_STAGE\\Exiom_Stage\\.venv\\Lib\\site-packages\\xgboost\\core.py:572\u001b[39m, in \u001b[36mDataIter.reraise\u001b[39m\u001b[34m(self)\u001b[39m\n\u001b[32m    570\u001b[39m exc = \u001b[38;5;28mself\u001b[39m._exception\n\u001b[32m    571\u001b[39m \u001b[38;5;28mself\u001b[39m._exception = \u001b[38;5;28;01mNone\u001b[39;00m\n\u001b[32m--> \u001b[39m\u001b[32m572\u001b[39m \u001b[38;5;28;01mraise\u001b[39;00m exc\n",
      "\u001b[36mFile \u001b[39m\u001b[32mc:\\Users\\esthelle.kuissu\\OneDrive - Exiom Partners\\Documents\\Code_rapport_stage\\EX_RAP_STAGE\\Exiom_Stage\\.venv\\Lib\\site-packages\\xgboost\\core.py:553\u001b[39m, in \u001b[36mDataIter._handle_exception\u001b[39m\u001b[34m(self, fn, dft_ret)\u001b[39m\n\u001b[32m    550\u001b[39m     \u001b[38;5;28;01mreturn\u001b[39;00m dft_ret\n\u001b[32m    552\u001b[39m \u001b[38;5;28;01mtry\u001b[39;00m:\n\u001b[32m--> \u001b[39m\u001b[32m553\u001b[39m     \u001b[38;5;28;01mreturn\u001b[39;00m \u001b[43mfn\u001b[49m\u001b[43m(\u001b[49m\u001b[43m)\u001b[49m\n\u001b[32m    554\u001b[39m \u001b[38;5;28;01mexcept\u001b[39;00m \u001b[38;5;167;01mException\u001b[39;00m \u001b[38;5;28;01mas\u001b[39;00m e:  \u001b[38;5;66;03m# pylint: disable=broad-except\u001b[39;00m\n\u001b[32m    555\u001b[39m     \u001b[38;5;66;03m# Defer the exception in order to return 0 and stop the iteration.\u001b[39;00m\n\u001b[32m    556\u001b[39m     \u001b[38;5;66;03m# Exception inside a ctype callback function has no effect except\u001b[39;00m\n\u001b[32m    557\u001b[39m     \u001b[38;5;66;03m# for printing to stderr (doesn't stop the execution).\u001b[39;00m\n\u001b[32m    558\u001b[39m     tb = sys.exc_info()[\u001b[32m2\u001b[39m]\n",
      "\u001b[36mFile \u001b[39m\u001b[32mc:\\Users\\esthelle.kuissu\\OneDrive - Exiom Partners\\Documents\\Code_rapport_stage\\EX_RAP_STAGE\\Exiom_Stage\\.venv\\Lib\\site-packages\\xgboost\\core.py:640\u001b[39m, in \u001b[36mDataIter._next_wrapper.<locals>.<lambda>\u001b[39m\u001b[34m()\u001b[39m\n\u001b[32m    638\u001b[39m     \u001b[38;5;28mself\u001b[39m._temporary_data = \u001b[38;5;28;01mNone\u001b[39;00m\n\u001b[32m    639\u001b[39m \u001b[38;5;66;03m# pylint: disable=not-callable\u001b[39;00m\n\u001b[32m--> \u001b[39m\u001b[32m640\u001b[39m \u001b[38;5;28;01mreturn\u001b[39;00m \u001b[38;5;28mself\u001b[39m._handle_exception(\u001b[38;5;28;01mlambda\u001b[39;00m: \u001b[38;5;28mint\u001b[39m(\u001b[38;5;28;43mself\u001b[39;49m\u001b[43m.\u001b[49m\u001b[43mnext\u001b[49m\u001b[43m(\u001b[49m\u001b[43minput_data\u001b[49m\u001b[43m)\u001b[49m), \u001b[32m0\u001b[39m)\n",
      "\u001b[36mFile \u001b[39m\u001b[32mc:\\Users\\esthelle.kuissu\\OneDrive - Exiom Partners\\Documents\\Code_rapport_stage\\EX_RAP_STAGE\\Exiom_Stage\\.venv\\Lib\\site-packages\\xgboost\\data.py:1654\u001b[39m, in \u001b[36mSingleBatchInternalIter.next\u001b[39m\u001b[34m(self, input_data)\u001b[39m\n\u001b[32m   1652\u001b[39m     \u001b[38;5;28;01mreturn\u001b[39;00m \u001b[38;5;28;01mFalse\u001b[39;00m\n\u001b[32m   1653\u001b[39m \u001b[38;5;28mself\u001b[39m.it += \u001b[32m1\u001b[39m\n\u001b[32m-> \u001b[39m\u001b[32m1654\u001b[39m \u001b[43minput_data\u001b[49m\u001b[43m(\u001b[49m\u001b[43m*\u001b[49m\u001b[43m*\u001b[49m\u001b[38;5;28;43mself\u001b[39;49m\u001b[43m.\u001b[49m\u001b[43mkwargs\u001b[49m\u001b[43m)\u001b[49m\n\u001b[32m   1655\u001b[39m \u001b[38;5;28;01mreturn\u001b[39;00m \u001b[38;5;28;01mTrue\u001b[39;00m\n",
      "\u001b[36mFile \u001b[39m\u001b[32mc:\\Users\\esthelle.kuissu\\OneDrive - Exiom Partners\\Documents\\Code_rapport_stage\\EX_RAP_STAGE\\Exiom_Stage\\.venv\\Lib\\site-packages\\xgboost\\core.py:729\u001b[39m, in \u001b[36mrequire_keyword_args.<locals>.throw_if.<locals>.inner_f\u001b[39m\u001b[34m(*args, **kwargs)\u001b[39m\n\u001b[32m    727\u001b[39m \u001b[38;5;28;01mfor\u001b[39;00m k, arg \u001b[38;5;129;01min\u001b[39;00m \u001b[38;5;28mzip\u001b[39m(sig.parameters, args):\n\u001b[32m    728\u001b[39m     kwargs[k] = arg\n\u001b[32m--> \u001b[39m\u001b[32m729\u001b[39m \u001b[38;5;28;01mreturn\u001b[39;00m \u001b[43mfunc\u001b[49m\u001b[43m(\u001b[49m\u001b[43m*\u001b[49m\u001b[43m*\u001b[49m\u001b[43mkwargs\u001b[49m\u001b[43m)\u001b[49m\n",
      "\u001b[36mFile \u001b[39m\u001b[32mc:\\Users\\esthelle.kuissu\\OneDrive - Exiom Partners\\Documents\\Code_rapport_stage\\EX_RAP_STAGE\\Exiom_Stage\\.venv\\Lib\\site-packages\\xgboost\\core.py:628\u001b[39m, in \u001b[36mDataIter._next_wrapper.<locals>.input_data\u001b[39m\u001b[34m(data, feature_names, feature_types, **kwargs)\u001b[39m\n\u001b[32m    626\u001b[39m \u001b[38;5;66;03m# Stage the data, meta info are copied inside C++ MetaInfo.\u001b[39;00m\n\u001b[32m    627\u001b[39m \u001b[38;5;28mself\u001b[39m._temporary_data = (new, cat_codes, feature_names, feature_types)\n\u001b[32m--> \u001b[39m\u001b[32m628\u001b[39m \u001b[43mdispatch_proxy_set_data\u001b[49m\u001b[43m(\u001b[49m\u001b[38;5;28;43mself\u001b[39;49m\u001b[43m.\u001b[49m\u001b[43mproxy\u001b[49m\u001b[43m,\u001b[49m\u001b[43m \u001b[49m\u001b[43mnew\u001b[49m\u001b[43m,\u001b[49m\u001b[43m \u001b[49m\u001b[43mcat_codes\u001b[49m\u001b[43m)\u001b[49m\n\u001b[32m    629\u001b[39m \u001b[38;5;28mself\u001b[39m.proxy.set_info(\n\u001b[32m    630\u001b[39m     feature_names=feature_names,\n\u001b[32m    631\u001b[39m     feature_types=feature_types,\n\u001b[32m    632\u001b[39m     **kwargs,\n\u001b[32m    633\u001b[39m )\n\u001b[32m    634\u001b[39m \u001b[38;5;28mself\u001b[39m._data_ref = ref\n",
      "\u001b[36mFile \u001b[39m\u001b[32mc:\\Users\\esthelle.kuissu\\OneDrive - Exiom Partners\\Documents\\Code_rapport_stage\\EX_RAP_STAGE\\Exiom_Stage\\.venv\\Lib\\site-packages\\xgboost\\data.py:1730\u001b[39m, in \u001b[36mdispatch_proxy_set_data\u001b[39m\u001b[34m(proxy, data, cat_codes)\u001b[39m\n\u001b[32m   1724\u001b[39m \u001b[38;5;250m\u001b[39m\u001b[33;03m\"\"\"Dispatch for QuantileDMatrix.\"\"\"\u001b[39;00m\n\u001b[32m   1725\u001b[39m \u001b[38;5;28;01mif\u001b[39;00m (\n\u001b[32m   1726\u001b[39m     \u001b[38;5;129;01mnot\u001b[39;00m _is_cudf_ser(data)\n\u001b[32m   1727\u001b[39m     \u001b[38;5;129;01mand\u001b[39;00m \u001b[38;5;129;01mnot\u001b[39;00m _is_pandas_series(data)\n\u001b[32m   1728\u001b[39m     \u001b[38;5;129;01mand\u001b[39;00m \u001b[38;5;129;01mnot\u001b[39;00m _is_polars_series(data)\n\u001b[32m   1729\u001b[39m ):\n\u001b[32m-> \u001b[39m\u001b[32m1730\u001b[39m     \u001b[43m_check_data_shape\u001b[49m\u001b[43m(\u001b[49m\u001b[43mdata\u001b[49m\u001b[43m)\u001b[49m\n\u001b[32m   1732\u001b[39m \u001b[38;5;28;01mif\u001b[39;00m _is_cudf_df(data):\n\u001b[32m   1733\u001b[39m     \u001b[38;5;66;03m# pylint: disable=W0212\u001b[39;00m\n\u001b[32m   1734\u001b[39m     proxy._ref_data_from_cuda_columnar(data, cast(List, cat_codes))\n",
      "\u001b[36mFile \u001b[39m\u001b[32mc:\\Users\\esthelle.kuissu\\OneDrive - Exiom Partners\\Documents\\Code_rapport_stage\\EX_RAP_STAGE\\Exiom_Stage\\.venv\\Lib\\site-packages\\xgboost\\data.py:85\u001b[39m, in \u001b[36m_check_data_shape\u001b[39m\u001b[34m(data)\u001b[39m\n\u001b[32m     84\u001b[39m \u001b[38;5;28;01mdef\u001b[39;00m\u001b[38;5;250m \u001b[39m\u001b[34m_check_data_shape\u001b[39m(data: DataType) -> \u001b[38;5;28;01mNone\u001b[39;00m:\n\u001b[32m---> \u001b[39m\u001b[32m85\u001b[39m     \u001b[38;5;28;01mif\u001b[39;00m \u001b[38;5;28;43mhasattr\u001b[39;49m\u001b[43m(\u001b[49m\u001b[43mdata\u001b[49m\u001b[43m,\u001b[49m\u001b[43m \u001b[49m\u001b[33;43m\"\u001b[39;49m\u001b[33;43mshape\u001b[39;49m\u001b[33;43m\"\u001b[39;49m\u001b[43m)\u001b[49m \u001b[38;5;129;01mand\u001b[39;00m \u001b[38;5;28mlen\u001b[39m(data.shape) != \u001b[32m2\u001b[39m:\n\u001b[32m     86\u001b[39m         \u001b[38;5;28;01mraise\u001b[39;00m \u001b[38;5;167;01mValueError\u001b[39;00m(\u001b[33m\"\u001b[39m\u001b[33mPlease reshape the input data into 2-dimensional matrix.\u001b[39m\u001b[33m\"\u001b[39m)\n",
      "\u001b[36mFile \u001b[39m\u001b[32mc:\\Users\\esthelle.kuissu\\OneDrive - Exiom Partners\\Documents\\Code_rapport_stage\\EX_RAP_STAGE\\Exiom_Stage\\.venv\\Lib\\site-packages\\xgboost\\data.py:627\u001b[39m, in \u001b[36mPandasTransformed.shape\u001b[39m\u001b[34m(self)\u001b[39m\n\u001b[32m    624\u001b[39m \u001b[38;5;129m@property\u001b[39m\n\u001b[32m    625\u001b[39m \u001b[38;5;28;01mdef\u001b[39;00m\u001b[38;5;250m \u001b[39m\u001b[34mshape\u001b[39m(\u001b[38;5;28mself\u001b[39m) -> Tuple[\u001b[38;5;28mint\u001b[39m, \u001b[38;5;28mint\u001b[39m]:\n\u001b[32m    626\u001b[39m \u001b[38;5;250m    \u001b[39m\u001b[33;03m\"\"\"Return shape of the transformed DataFrame.\"\"\"\u001b[39;00m\n\u001b[32m--> \u001b[39m\u001b[32m627\u001b[39m     \u001b[38;5;28;01mreturn\u001b[39;00m \u001b[38;5;28;43mself\u001b[39;49m\u001b[43m.\u001b[49m\u001b[43mcolumns\u001b[49m\u001b[43m[\u001b[49m\u001b[32;43m0\u001b[39;49m\u001b[43m]\u001b[49m.shape[\u001b[32m0\u001b[39m], \u001b[38;5;28mlen\u001b[39m(\u001b[38;5;28mself\u001b[39m.columns)\n",
      "\u001b[31mIndexError\u001b[39m: list index out of range"
     ]
    }
   ],
   "source": [
    "# ✂️ Séparation du pool d'entraînement et du jeu de test\n",
    "X_pool, X_test, y_pool, y_test = train_test_split(X, y, test_size=0.2, stratify=y, random_state=42)\n",
    "idx_0 = np.where(y_pool == 0)[0]  # classe minoritaire\n",
    "idx_1 = np.where(y_pool == 1)[0]  # classe majoritaire\n",
    "\n",
    "n_models = 5\n",
    "models = []\n",
    "\n",
    "for i in range(n_models):\n",
    "    # 🎲 Sélection aléatoire de classe 1, même taille que classe 0\n",
    "    np.random.shuffle(idx_1)\n",
    "    sample_1 = idx_1[:len(idx_0)]\n",
    "\n",
    "    # 🔁 Combinaison avec tous les 0 (minoritaire) — pas besoin d'éviter les doublons\n",
    "    selected_indices = np.concatenate((idx_0, sample_1))\n",
    "\n",
    "    X_train = X_pool[selected_indices]\n",
    "    y_train = y_pool[selected_indices]\n",
    "\n",
    "    # 🤖 Entraînement\n",
    "    model = XGBClassifier(use_label_encoder=False, eval_metric='logloss', random_state=i)\n",
    "    model.fit(X_train, y_train)\n",
    "    models.append((f\"xgb_{i}\", model))\n",
    "\n",
    "# 🧠 Fusion des modèles entraînés avec VotingClassifier\n",
    "ensemble = VotingClassifier(estimators=models, voting='soft')\n",
    "ensemble.fit(X_pool[np.concatenate((idx_0, idx_1[:len(idx_0)]))],\n",
    "             y_pool[np.concatenate((idx_0, idx_1[:len(idx_0)]))])\n",
    "\n",
    "# 🧪 Évaluation\n",
    "y_pred = ensemble.predict(X_test)\n",
    "print(classification_report(y_test, y_pred, digits=4))"
   ]
  },
  {
   "cell_type": "code",
   "execution_count": 37,
   "id": "da38a8f7",
   "metadata": {},
   "outputs": [
    {
     "ename": "IndexError",
     "evalue": "list index out of range",
     "output_type": "error",
     "traceback": [
      "\u001b[31m---------------------------------------------------------------------------\u001b[39m",
      "\u001b[31mIndexError\u001b[39m                                Traceback (most recent call last)",
      "\u001b[36mCell\u001b[39m\u001b[36m \u001b[39m\u001b[32mIn[37]\u001b[39m\u001b[32m, line 20\u001b[39m\n\u001b[32m     18\u001b[39m     y_train = y_pool[selected_indices]\n\u001b[32m     19\u001b[39m     model = XGBClassifier(use_label_encoder=\u001b[38;5;28;01mFalse\u001b[39;00m, eval_metric=\u001b[33m'\u001b[39m\u001b[33mlogloss\u001b[39m\u001b[33m'\u001b[39m, random_state=i)\n\u001b[32m---> \u001b[39m\u001b[32m20\u001b[39m     \u001b[43mmodel\u001b[49m\u001b[43m.\u001b[49m\u001b[43mfit\u001b[49m\u001b[43m(\u001b[49m\u001b[43mX_train\u001b[49m\u001b[43m,\u001b[49m\u001b[43m \u001b[49m\u001b[43my_train\u001b[49m\u001b[43m)\u001b[49m\n\u001b[32m     21\u001b[39m     models.append((\u001b[33mf\u001b[39m\u001b[33m\"\u001b[39m\u001b[33mxgb_\u001b[39m\u001b[38;5;132;01m{\u001b[39;00mi\u001b[38;5;132;01m}\u001b[39;00m\u001b[33m\"\u001b[39m, model))\n\u001b[32m     23\u001b[39m \u001b[38;5;66;03m# 🧠 Fusion des modèles\u001b[39;00m\n",
      "\u001b[36mFile \u001b[39m\u001b[32mc:\\Users\\esthelle.kuissu\\OneDrive - Exiom Partners\\Documents\\Code_rapport_stage\\EX_RAP_STAGE\\Exiom_Stage\\.venv\\Lib\\site-packages\\xgboost\\core.py:729\u001b[39m, in \u001b[36mrequire_keyword_args.<locals>.throw_if.<locals>.inner_f\u001b[39m\u001b[34m(*args, **kwargs)\u001b[39m\n\u001b[32m    727\u001b[39m \u001b[38;5;28;01mfor\u001b[39;00m k, arg \u001b[38;5;129;01min\u001b[39;00m \u001b[38;5;28mzip\u001b[39m(sig.parameters, args):\n\u001b[32m    728\u001b[39m     kwargs[k] = arg\n\u001b[32m--> \u001b[39m\u001b[32m729\u001b[39m \u001b[38;5;28;01mreturn\u001b[39;00m \u001b[43mfunc\u001b[49m\u001b[43m(\u001b[49m\u001b[43m*\u001b[49m\u001b[43m*\u001b[49m\u001b[43mkwargs\u001b[49m\u001b[43m)\u001b[49m\n",
      "\u001b[36mFile \u001b[39m\u001b[32mc:\\Users\\esthelle.kuissu\\OneDrive - Exiom Partners\\Documents\\Code_rapport_stage\\EX_RAP_STAGE\\Exiom_Stage\\.venv\\Lib\\site-packages\\xgboost\\sklearn.py:1663\u001b[39m, in \u001b[36mXGBClassifier.fit\u001b[39m\u001b[34m(self, X, y, sample_weight, base_margin, eval_set, verbose, xgb_model, sample_weight_eval_set, base_margin_eval_set, feature_weights)\u001b[39m\n\u001b[32m   1658\u001b[39m     params[\u001b[33m\"\u001b[39m\u001b[33mnum_class\u001b[39m\u001b[33m\"\u001b[39m] = \u001b[38;5;28mself\u001b[39m.n_classes_\n\u001b[32m   1660\u001b[39m model, metric, params, feature_weights = \u001b[38;5;28mself\u001b[39m._configure_fit(\n\u001b[32m   1661\u001b[39m     xgb_model, params, feature_weights\n\u001b[32m   1662\u001b[39m )\n\u001b[32m-> \u001b[39m\u001b[32m1663\u001b[39m train_dmatrix, evals = \u001b[43m_wrap_evaluation_matrices\u001b[49m\u001b[43m(\u001b[49m\n\u001b[32m   1664\u001b[39m \u001b[43m    \u001b[49m\u001b[43mmissing\u001b[49m\u001b[43m=\u001b[49m\u001b[38;5;28;43mself\u001b[39;49m\u001b[43m.\u001b[49m\u001b[43mmissing\u001b[49m\u001b[43m,\u001b[49m\n\u001b[32m   1665\u001b[39m \u001b[43m    \u001b[49m\u001b[43mX\u001b[49m\u001b[43m=\u001b[49m\u001b[43mX\u001b[49m\u001b[43m,\u001b[49m\n\u001b[32m   1666\u001b[39m \u001b[43m    \u001b[49m\u001b[43my\u001b[49m\u001b[43m=\u001b[49m\u001b[43my\u001b[49m\u001b[43m,\u001b[49m\n\u001b[32m   1667\u001b[39m \u001b[43m    \u001b[49m\u001b[43mgroup\u001b[49m\u001b[43m=\u001b[49m\u001b[38;5;28;43;01mNone\u001b[39;49;00m\u001b[43m,\u001b[49m\n\u001b[32m   1668\u001b[39m \u001b[43m    \u001b[49m\u001b[43mqid\u001b[49m\u001b[43m=\u001b[49m\u001b[38;5;28;43;01mNone\u001b[39;49;00m\u001b[43m,\u001b[49m\n\u001b[32m   1669\u001b[39m \u001b[43m    \u001b[49m\u001b[43msample_weight\u001b[49m\u001b[43m=\u001b[49m\u001b[43msample_weight\u001b[49m\u001b[43m,\u001b[49m\n\u001b[32m   1670\u001b[39m \u001b[43m    \u001b[49m\u001b[43mbase_margin\u001b[49m\u001b[43m=\u001b[49m\u001b[43mbase_margin\u001b[49m\u001b[43m,\u001b[49m\n\u001b[32m   1671\u001b[39m \u001b[43m    \u001b[49m\u001b[43mfeature_weights\u001b[49m\u001b[43m=\u001b[49m\u001b[43mfeature_weights\u001b[49m\u001b[43m,\u001b[49m\n\u001b[32m   1672\u001b[39m \u001b[43m    \u001b[49m\u001b[43meval_set\u001b[49m\u001b[43m=\u001b[49m\u001b[43meval_set\u001b[49m\u001b[43m,\u001b[49m\n\u001b[32m   1673\u001b[39m \u001b[43m    \u001b[49m\u001b[43msample_weight_eval_set\u001b[49m\u001b[43m=\u001b[49m\u001b[43msample_weight_eval_set\u001b[49m\u001b[43m,\u001b[49m\n\u001b[32m   1674\u001b[39m \u001b[43m    \u001b[49m\u001b[43mbase_margin_eval_set\u001b[49m\u001b[43m=\u001b[49m\u001b[43mbase_margin_eval_set\u001b[49m\u001b[43m,\u001b[49m\n\u001b[32m   1675\u001b[39m \u001b[43m    \u001b[49m\u001b[43meval_group\u001b[49m\u001b[43m=\u001b[49m\u001b[38;5;28;43;01mNone\u001b[39;49;00m\u001b[43m,\u001b[49m\n\u001b[32m   1676\u001b[39m \u001b[43m    \u001b[49m\u001b[43meval_qid\u001b[49m\u001b[43m=\u001b[49m\u001b[38;5;28;43;01mNone\u001b[39;49;00m\u001b[43m,\u001b[49m\n\u001b[32m   1677\u001b[39m \u001b[43m    \u001b[49m\u001b[43mcreate_dmatrix\u001b[49m\u001b[43m=\u001b[49m\u001b[38;5;28;43mself\u001b[39;49m\u001b[43m.\u001b[49m\u001b[43m_create_dmatrix\u001b[49m\u001b[43m,\u001b[49m\n\u001b[32m   1678\u001b[39m \u001b[43m    \u001b[49m\u001b[43menable_categorical\u001b[49m\u001b[43m=\u001b[49m\u001b[38;5;28;43mself\u001b[39;49m\u001b[43m.\u001b[49m\u001b[43menable_categorical\u001b[49m\u001b[43m,\u001b[49m\n\u001b[32m   1679\u001b[39m \u001b[43m    \u001b[49m\u001b[43mfeature_types\u001b[49m\u001b[43m=\u001b[49m\u001b[38;5;28;43mself\u001b[39;49m\u001b[43m.\u001b[49m\u001b[43mfeature_types\u001b[49m\u001b[43m,\u001b[49m\n\u001b[32m   1680\u001b[39m \u001b[43m\u001b[49m\u001b[43m)\u001b[49m\n\u001b[32m   1682\u001b[39m \u001b[38;5;28mself\u001b[39m._Booster = train(\n\u001b[32m   1683\u001b[39m     params,\n\u001b[32m   1684\u001b[39m     train_dmatrix,\n\u001b[32m   (...)\u001b[39m\u001b[32m   1693\u001b[39m     callbacks=\u001b[38;5;28mself\u001b[39m.callbacks,\n\u001b[32m   1694\u001b[39m )\n\u001b[32m   1696\u001b[39m \u001b[38;5;28;01mif\u001b[39;00m \u001b[38;5;129;01mnot\u001b[39;00m \u001b[38;5;28mcallable\u001b[39m(\u001b[38;5;28mself\u001b[39m.objective):\n",
      "\u001b[36mFile \u001b[39m\u001b[32mc:\\Users\\esthelle.kuissu\\OneDrive - Exiom Partners\\Documents\\Code_rapport_stage\\EX_RAP_STAGE\\Exiom_Stage\\.venv\\Lib\\site-packages\\xgboost\\sklearn.py:628\u001b[39m, in \u001b[36m_wrap_evaluation_matrices\u001b[39m\u001b[34m(missing, X, y, group, qid, sample_weight, base_margin, feature_weights, eval_set, sample_weight_eval_set, base_margin_eval_set, eval_group, eval_qid, create_dmatrix, enable_categorical, feature_types)\u001b[39m\n\u001b[32m    607\u001b[39m \u001b[38;5;28;01mdef\u001b[39;00m\u001b[38;5;250m \u001b[39m\u001b[34m_wrap_evaluation_matrices\u001b[39m(\n\u001b[32m    608\u001b[39m     *,\n\u001b[32m    609\u001b[39m     missing: \u001b[38;5;28mfloat\u001b[39m,\n\u001b[32m   (...)\u001b[39m\u001b[32m    624\u001b[39m     feature_types: Optional[FeatureTypes],\n\u001b[32m    625\u001b[39m ) -> Tuple[Any, List[Tuple[Any, \u001b[38;5;28mstr\u001b[39m]]]:\n\u001b[32m    626\u001b[39m \u001b[38;5;250m    \u001b[39m\u001b[33;03m\"\"\"Convert array_like evaluation matrices into DMatrix.  Perform validation on the\u001b[39;00m\n\u001b[32m    627\u001b[39m \u001b[33;03m    way.\"\"\"\u001b[39;00m\n\u001b[32m--> \u001b[39m\u001b[32m628\u001b[39m     train_dmatrix = \u001b[43mcreate_dmatrix\u001b[49m\u001b[43m(\u001b[49m\n\u001b[32m    629\u001b[39m \u001b[43m        \u001b[49m\u001b[43mdata\u001b[49m\u001b[43m=\u001b[49m\u001b[43mX\u001b[49m\u001b[43m,\u001b[49m\n\u001b[32m    630\u001b[39m \u001b[43m        \u001b[49m\u001b[43mlabel\u001b[49m\u001b[43m=\u001b[49m\u001b[43my\u001b[49m\u001b[43m,\u001b[49m\n\u001b[32m    631\u001b[39m \u001b[43m        \u001b[49m\u001b[43mgroup\u001b[49m\u001b[43m=\u001b[49m\u001b[43mgroup\u001b[49m\u001b[43m,\u001b[49m\n\u001b[32m    632\u001b[39m \u001b[43m        \u001b[49m\u001b[43mqid\u001b[49m\u001b[43m=\u001b[49m\u001b[43mqid\u001b[49m\u001b[43m,\u001b[49m\n\u001b[32m    633\u001b[39m \u001b[43m        \u001b[49m\u001b[43mweight\u001b[49m\u001b[43m=\u001b[49m\u001b[43msample_weight\u001b[49m\u001b[43m,\u001b[49m\n\u001b[32m    634\u001b[39m \u001b[43m        \u001b[49m\u001b[43mbase_margin\u001b[49m\u001b[43m=\u001b[49m\u001b[43mbase_margin\u001b[49m\u001b[43m,\u001b[49m\n\u001b[32m    635\u001b[39m \u001b[43m        \u001b[49m\u001b[43mfeature_weights\u001b[49m\u001b[43m=\u001b[49m\u001b[43mfeature_weights\u001b[49m\u001b[43m,\u001b[49m\n\u001b[32m    636\u001b[39m \u001b[43m        \u001b[49m\u001b[43mmissing\u001b[49m\u001b[43m=\u001b[49m\u001b[43mmissing\u001b[49m\u001b[43m,\u001b[49m\n\u001b[32m    637\u001b[39m \u001b[43m        \u001b[49m\u001b[43menable_categorical\u001b[49m\u001b[43m=\u001b[49m\u001b[43menable_categorical\u001b[49m\u001b[43m,\u001b[49m\n\u001b[32m    638\u001b[39m \u001b[43m        \u001b[49m\u001b[43mfeature_types\u001b[49m\u001b[43m=\u001b[49m\u001b[43mfeature_types\u001b[49m\u001b[43m,\u001b[49m\n\u001b[32m    639\u001b[39m \u001b[43m        \u001b[49m\u001b[43mref\u001b[49m\u001b[43m=\u001b[49m\u001b[38;5;28;43;01mNone\u001b[39;49;00m\u001b[43m,\u001b[49m\n\u001b[32m    640\u001b[39m \u001b[43m    \u001b[49m\u001b[43m)\u001b[49m\n\u001b[32m    642\u001b[39m     n_validation = \u001b[32m0\u001b[39m \u001b[38;5;28;01mif\u001b[39;00m eval_set \u001b[38;5;129;01mis\u001b[39;00m \u001b[38;5;28;01mNone\u001b[39;00m \u001b[38;5;28;01melse\u001b[39;00m \u001b[38;5;28mlen\u001b[39m(eval_set)\n\u001b[32m    644\u001b[39m     \u001b[38;5;28;01mdef\u001b[39;00m\u001b[38;5;250m \u001b[39m\u001b[34mvalidate_or_none\u001b[39m(meta: Optional[Sequence], name: \u001b[38;5;28mstr\u001b[39m) -> Sequence:\n",
      "\u001b[36mFile \u001b[39m\u001b[32mc:\\Users\\esthelle.kuissu\\OneDrive - Exiom Partners\\Documents\\Code_rapport_stage\\EX_RAP_STAGE\\Exiom_Stage\\.venv\\Lib\\site-packages\\xgboost\\sklearn.py:1137\u001b[39m, in \u001b[36mXGBModel._create_dmatrix\u001b[39m\u001b[34m(self, ref, **kwargs)\u001b[39m\n\u001b[32m   1135\u001b[39m \u001b[38;5;28;01mif\u001b[39;00m _can_use_qdm(\u001b[38;5;28mself\u001b[39m.tree_method, \u001b[38;5;28mself\u001b[39m.device) \u001b[38;5;129;01mand\u001b[39;00m \u001b[38;5;28mself\u001b[39m.booster != \u001b[33m\"\u001b[39m\u001b[33mgblinear\u001b[39m\u001b[33m\"\u001b[39m:\n\u001b[32m   1136\u001b[39m     \u001b[38;5;28;01mtry\u001b[39;00m:\n\u001b[32m-> \u001b[39m\u001b[32m1137\u001b[39m         \u001b[38;5;28;01mreturn\u001b[39;00m \u001b[43mQuantileDMatrix\u001b[49m\u001b[43m(\u001b[49m\n\u001b[32m   1138\u001b[39m \u001b[43m            \u001b[49m\u001b[43m*\u001b[49m\u001b[43m*\u001b[49m\u001b[43mkwargs\u001b[49m\u001b[43m,\u001b[49m\u001b[43m \u001b[49m\u001b[43mref\u001b[49m\u001b[43m=\u001b[49m\u001b[43mref\u001b[49m\u001b[43m,\u001b[49m\u001b[43m \u001b[49m\u001b[43mnthread\u001b[49m\u001b[43m=\u001b[49m\u001b[38;5;28;43mself\u001b[39;49m\u001b[43m.\u001b[49m\u001b[43mn_jobs\u001b[49m\u001b[43m,\u001b[49m\u001b[43m \u001b[49m\u001b[43mmax_bin\u001b[49m\u001b[43m=\u001b[49m\u001b[38;5;28;43mself\u001b[39;49m\u001b[43m.\u001b[49m\u001b[43mmax_bin\u001b[49m\n\u001b[32m   1139\u001b[39m \u001b[43m        \u001b[49m\u001b[43m)\u001b[49m\n\u001b[32m   1140\u001b[39m     \u001b[38;5;28;01mexcept\u001b[39;00m \u001b[38;5;167;01mTypeError\u001b[39;00m:  \u001b[38;5;66;03m# `QuantileDMatrix` supports lesser types than DMatrix\u001b[39;00m\n\u001b[32m   1141\u001b[39m         \u001b[38;5;28;01mpass\u001b[39;00m\n",
      "\u001b[36mFile \u001b[39m\u001b[32mc:\\Users\\esthelle.kuissu\\OneDrive - Exiom Partners\\Documents\\Code_rapport_stage\\EX_RAP_STAGE\\Exiom_Stage\\.venv\\Lib\\site-packages\\xgboost\\core.py:729\u001b[39m, in \u001b[36mrequire_keyword_args.<locals>.throw_if.<locals>.inner_f\u001b[39m\u001b[34m(*args, **kwargs)\u001b[39m\n\u001b[32m    727\u001b[39m \u001b[38;5;28;01mfor\u001b[39;00m k, arg \u001b[38;5;129;01min\u001b[39;00m \u001b[38;5;28mzip\u001b[39m(sig.parameters, args):\n\u001b[32m    728\u001b[39m     kwargs[k] = arg\n\u001b[32m--> \u001b[39m\u001b[32m729\u001b[39m \u001b[38;5;28;01mreturn\u001b[39;00m \u001b[43mfunc\u001b[49m\u001b[43m(\u001b[49m\u001b[43m*\u001b[49m\u001b[43m*\u001b[49m\u001b[43mkwargs\u001b[49m\u001b[43m)\u001b[49m\n",
      "\u001b[36mFile \u001b[39m\u001b[32mc:\\Users\\esthelle.kuissu\\OneDrive - Exiom Partners\\Documents\\Code_rapport_stage\\EX_RAP_STAGE\\Exiom_Stage\\.venv\\Lib\\site-packages\\xgboost\\core.py:1614\u001b[39m, in \u001b[36mQuantileDMatrix.__init__\u001b[39m\u001b[34m(self, data, label, weight, base_margin, missing, silent, feature_names, feature_types, nthread, max_bin, ref, group, qid, label_lower_bound, label_upper_bound, feature_weights, enable_categorical, max_quantile_batches, data_split_mode)\u001b[39m\n\u001b[32m   1594\u001b[39m     \u001b[38;5;28;01mif\u001b[39;00m \u001b[38;5;28many\u001b[39m(\n\u001b[32m   1595\u001b[39m         info \u001b[38;5;129;01mis\u001b[39;00m \u001b[38;5;129;01mnot\u001b[39;00m \u001b[38;5;28;01mNone\u001b[39;00m\n\u001b[32m   1596\u001b[39m         \u001b[38;5;28;01mfor\u001b[39;00m info \u001b[38;5;129;01min\u001b[39;00m (\n\u001b[32m   (...)\u001b[39m\u001b[32m   1607\u001b[39m         )\n\u001b[32m   1608\u001b[39m     ):\n\u001b[32m   1609\u001b[39m         \u001b[38;5;28;01mraise\u001b[39;00m \u001b[38;5;167;01mValueError\u001b[39;00m(\n\u001b[32m   1610\u001b[39m             \u001b[33m\"\u001b[39m\u001b[33mIf data iterator is used as input, data like label should be \u001b[39m\u001b[33m\"\u001b[39m\n\u001b[32m   1611\u001b[39m             \u001b[33m\"\u001b[39m\u001b[33mspecified as batch argument.\u001b[39m\u001b[33m\"\u001b[39m\n\u001b[32m   1612\u001b[39m         )\n\u001b[32m-> \u001b[39m\u001b[32m1614\u001b[39m \u001b[38;5;28;43mself\u001b[39;49m\u001b[43m.\u001b[49m\u001b[43m_init\u001b[49m\u001b[43m(\u001b[49m\n\u001b[32m   1615\u001b[39m \u001b[43m    \u001b[49m\u001b[43mdata\u001b[49m\u001b[43m,\u001b[49m\n\u001b[32m   1616\u001b[39m \u001b[43m    \u001b[49m\u001b[43mref\u001b[49m\u001b[43m=\u001b[49m\u001b[43mref\u001b[49m\u001b[43m,\u001b[49m\n\u001b[32m   1617\u001b[39m \u001b[43m    \u001b[49m\u001b[43mlabel\u001b[49m\u001b[43m=\u001b[49m\u001b[43mlabel\u001b[49m\u001b[43m,\u001b[49m\n\u001b[32m   1618\u001b[39m \u001b[43m    \u001b[49m\u001b[43mweight\u001b[49m\u001b[43m=\u001b[49m\u001b[43mweight\u001b[49m\u001b[43m,\u001b[49m\n\u001b[32m   1619\u001b[39m \u001b[43m    \u001b[49m\u001b[43mbase_margin\u001b[49m\u001b[43m=\u001b[49m\u001b[43mbase_margin\u001b[49m\u001b[43m,\u001b[49m\n\u001b[32m   1620\u001b[39m \u001b[43m    \u001b[49m\u001b[43mgroup\u001b[49m\u001b[43m=\u001b[49m\u001b[43mgroup\u001b[49m\u001b[43m,\u001b[49m\n\u001b[32m   1621\u001b[39m \u001b[43m    \u001b[49m\u001b[43mqid\u001b[49m\u001b[43m=\u001b[49m\u001b[43mqid\u001b[49m\u001b[43m,\u001b[49m\n\u001b[32m   1622\u001b[39m \u001b[43m    \u001b[49m\u001b[43mlabel_lower_bound\u001b[49m\u001b[43m=\u001b[49m\u001b[43mlabel_lower_bound\u001b[49m\u001b[43m,\u001b[49m\n\u001b[32m   1623\u001b[39m \u001b[43m    \u001b[49m\u001b[43mlabel_upper_bound\u001b[49m\u001b[43m=\u001b[49m\u001b[43mlabel_upper_bound\u001b[49m\u001b[43m,\u001b[49m\n\u001b[32m   1624\u001b[39m \u001b[43m    \u001b[49m\u001b[43mfeature_weights\u001b[49m\u001b[43m=\u001b[49m\u001b[43mfeature_weights\u001b[49m\u001b[43m,\u001b[49m\n\u001b[32m   1625\u001b[39m \u001b[43m    \u001b[49m\u001b[43mfeature_names\u001b[49m\u001b[43m=\u001b[49m\u001b[43mfeature_names\u001b[49m\u001b[43m,\u001b[49m\n\u001b[32m   1626\u001b[39m \u001b[43m    \u001b[49m\u001b[43mfeature_types\u001b[49m\u001b[43m=\u001b[49m\u001b[43mfeature_types\u001b[49m\u001b[43m,\u001b[49m\n\u001b[32m   1627\u001b[39m \u001b[43m    \u001b[49m\u001b[43menable_categorical\u001b[49m\u001b[43m=\u001b[49m\u001b[43menable_categorical\u001b[49m\u001b[43m,\u001b[49m\n\u001b[32m   1628\u001b[39m \u001b[43m    \u001b[49m\u001b[43mmax_quantile_blocks\u001b[49m\u001b[43m=\u001b[49m\u001b[43mmax_quantile_batches\u001b[49m\u001b[43m,\u001b[49m\n\u001b[32m   1629\u001b[39m \u001b[43m\u001b[49m\u001b[43m)\u001b[49m\n",
      "\u001b[36mFile \u001b[39m\u001b[32mc:\\Users\\esthelle.kuissu\\OneDrive - Exiom Partners\\Documents\\Code_rapport_stage\\EX_RAP_STAGE\\Exiom_Stage\\.venv\\Lib\\site-packages\\xgboost\\core.py:1678\u001b[39m, in \u001b[36mQuantileDMatrix._init\u001b[39m\u001b[34m(self, data, ref, enable_categorical, max_quantile_blocks, **meta)\u001b[39m\n\u001b[32m   1663\u001b[39m config = make_jcargs(\n\u001b[32m   1664\u001b[39m     nthread=\u001b[38;5;28mself\u001b[39m.nthread,\n\u001b[32m   1665\u001b[39m     missing=\u001b[38;5;28mself\u001b[39m.missing,\n\u001b[32m   1666\u001b[39m     max_bin=\u001b[38;5;28mself\u001b[39m.max_bin,\n\u001b[32m   1667\u001b[39m     max_quantile_blocks=max_quantile_blocks,\n\u001b[32m   1668\u001b[39m )\n\u001b[32m   1669\u001b[39m ret = _LIB.XGQuantileDMatrixCreateFromCallback(\n\u001b[32m   1670\u001b[39m     \u001b[38;5;28;01mNone\u001b[39;00m,\n\u001b[32m   1671\u001b[39m     it.proxy.handle,\n\u001b[32m   (...)\u001b[39m\u001b[32m   1676\u001b[39m     ctypes.byref(handle),\n\u001b[32m   1677\u001b[39m )\n\u001b[32m-> \u001b[39m\u001b[32m1678\u001b[39m \u001b[43mit\u001b[49m\u001b[43m.\u001b[49m\u001b[43mreraise\u001b[49m\u001b[43m(\u001b[49m\u001b[43m)\u001b[49m\n\u001b[32m   1679\u001b[39m \u001b[38;5;66;03m# delay check_call to throw intermediate exception first\u001b[39;00m\n\u001b[32m   1680\u001b[39m _check_call(ret)\n",
      "\u001b[36mFile \u001b[39m\u001b[32mc:\\Users\\esthelle.kuissu\\OneDrive - Exiom Partners\\Documents\\Code_rapport_stage\\EX_RAP_STAGE\\Exiom_Stage\\.venv\\Lib\\site-packages\\xgboost\\core.py:572\u001b[39m, in \u001b[36mDataIter.reraise\u001b[39m\u001b[34m(self)\u001b[39m\n\u001b[32m    570\u001b[39m exc = \u001b[38;5;28mself\u001b[39m._exception\n\u001b[32m    571\u001b[39m \u001b[38;5;28mself\u001b[39m._exception = \u001b[38;5;28;01mNone\u001b[39;00m\n\u001b[32m--> \u001b[39m\u001b[32m572\u001b[39m \u001b[38;5;28;01mraise\u001b[39;00m exc\n",
      "\u001b[36mFile \u001b[39m\u001b[32mc:\\Users\\esthelle.kuissu\\OneDrive - Exiom Partners\\Documents\\Code_rapport_stage\\EX_RAP_STAGE\\Exiom_Stage\\.venv\\Lib\\site-packages\\xgboost\\core.py:553\u001b[39m, in \u001b[36mDataIter._handle_exception\u001b[39m\u001b[34m(self, fn, dft_ret)\u001b[39m\n\u001b[32m    550\u001b[39m     \u001b[38;5;28;01mreturn\u001b[39;00m dft_ret\n\u001b[32m    552\u001b[39m \u001b[38;5;28;01mtry\u001b[39;00m:\n\u001b[32m--> \u001b[39m\u001b[32m553\u001b[39m     \u001b[38;5;28;01mreturn\u001b[39;00m \u001b[43mfn\u001b[49m\u001b[43m(\u001b[49m\u001b[43m)\u001b[49m\n\u001b[32m    554\u001b[39m \u001b[38;5;28;01mexcept\u001b[39;00m \u001b[38;5;167;01mException\u001b[39;00m \u001b[38;5;28;01mas\u001b[39;00m e:  \u001b[38;5;66;03m# pylint: disable=broad-except\u001b[39;00m\n\u001b[32m    555\u001b[39m     \u001b[38;5;66;03m# Defer the exception in order to return 0 and stop the iteration.\u001b[39;00m\n\u001b[32m    556\u001b[39m     \u001b[38;5;66;03m# Exception inside a ctype callback function has no effect except\u001b[39;00m\n\u001b[32m    557\u001b[39m     \u001b[38;5;66;03m# for printing to stderr (doesn't stop the execution).\u001b[39;00m\n\u001b[32m    558\u001b[39m     tb = sys.exc_info()[\u001b[32m2\u001b[39m]\n",
      "\u001b[36mFile \u001b[39m\u001b[32mc:\\Users\\esthelle.kuissu\\OneDrive - Exiom Partners\\Documents\\Code_rapport_stage\\EX_RAP_STAGE\\Exiom_Stage\\.venv\\Lib\\site-packages\\xgboost\\core.py:640\u001b[39m, in \u001b[36mDataIter._next_wrapper.<locals>.<lambda>\u001b[39m\u001b[34m()\u001b[39m\n\u001b[32m    638\u001b[39m     \u001b[38;5;28mself\u001b[39m._temporary_data = \u001b[38;5;28;01mNone\u001b[39;00m\n\u001b[32m    639\u001b[39m \u001b[38;5;66;03m# pylint: disable=not-callable\u001b[39;00m\n\u001b[32m--> \u001b[39m\u001b[32m640\u001b[39m \u001b[38;5;28;01mreturn\u001b[39;00m \u001b[38;5;28mself\u001b[39m._handle_exception(\u001b[38;5;28;01mlambda\u001b[39;00m: \u001b[38;5;28mint\u001b[39m(\u001b[38;5;28;43mself\u001b[39;49m\u001b[43m.\u001b[49m\u001b[43mnext\u001b[49m\u001b[43m(\u001b[49m\u001b[43minput_data\u001b[49m\u001b[43m)\u001b[49m), \u001b[32m0\u001b[39m)\n",
      "\u001b[36mFile \u001b[39m\u001b[32mc:\\Users\\esthelle.kuissu\\OneDrive - Exiom Partners\\Documents\\Code_rapport_stage\\EX_RAP_STAGE\\Exiom_Stage\\.venv\\Lib\\site-packages\\xgboost\\data.py:1654\u001b[39m, in \u001b[36mSingleBatchInternalIter.next\u001b[39m\u001b[34m(self, input_data)\u001b[39m\n\u001b[32m   1652\u001b[39m     \u001b[38;5;28;01mreturn\u001b[39;00m \u001b[38;5;28;01mFalse\u001b[39;00m\n\u001b[32m   1653\u001b[39m \u001b[38;5;28mself\u001b[39m.it += \u001b[32m1\u001b[39m\n\u001b[32m-> \u001b[39m\u001b[32m1654\u001b[39m \u001b[43minput_data\u001b[49m\u001b[43m(\u001b[49m\u001b[43m*\u001b[49m\u001b[43m*\u001b[49m\u001b[38;5;28;43mself\u001b[39;49m\u001b[43m.\u001b[49m\u001b[43mkwargs\u001b[49m\u001b[43m)\u001b[49m\n\u001b[32m   1655\u001b[39m \u001b[38;5;28;01mreturn\u001b[39;00m \u001b[38;5;28;01mTrue\u001b[39;00m\n",
      "\u001b[36mFile \u001b[39m\u001b[32mc:\\Users\\esthelle.kuissu\\OneDrive - Exiom Partners\\Documents\\Code_rapport_stage\\EX_RAP_STAGE\\Exiom_Stage\\.venv\\Lib\\site-packages\\xgboost\\core.py:729\u001b[39m, in \u001b[36mrequire_keyword_args.<locals>.throw_if.<locals>.inner_f\u001b[39m\u001b[34m(*args, **kwargs)\u001b[39m\n\u001b[32m    727\u001b[39m \u001b[38;5;28;01mfor\u001b[39;00m k, arg \u001b[38;5;129;01min\u001b[39;00m \u001b[38;5;28mzip\u001b[39m(sig.parameters, args):\n\u001b[32m    728\u001b[39m     kwargs[k] = arg\n\u001b[32m--> \u001b[39m\u001b[32m729\u001b[39m \u001b[38;5;28;01mreturn\u001b[39;00m \u001b[43mfunc\u001b[49m\u001b[43m(\u001b[49m\u001b[43m*\u001b[49m\u001b[43m*\u001b[49m\u001b[43mkwargs\u001b[49m\u001b[43m)\u001b[49m\n",
      "\u001b[36mFile \u001b[39m\u001b[32mc:\\Users\\esthelle.kuissu\\OneDrive - Exiom Partners\\Documents\\Code_rapport_stage\\EX_RAP_STAGE\\Exiom_Stage\\.venv\\Lib\\site-packages\\xgboost\\core.py:628\u001b[39m, in \u001b[36mDataIter._next_wrapper.<locals>.input_data\u001b[39m\u001b[34m(data, feature_names, feature_types, **kwargs)\u001b[39m\n\u001b[32m    626\u001b[39m \u001b[38;5;66;03m# Stage the data, meta info are copied inside C++ MetaInfo.\u001b[39;00m\n\u001b[32m    627\u001b[39m \u001b[38;5;28mself\u001b[39m._temporary_data = (new, cat_codes, feature_names, feature_types)\n\u001b[32m--> \u001b[39m\u001b[32m628\u001b[39m \u001b[43mdispatch_proxy_set_data\u001b[49m\u001b[43m(\u001b[49m\u001b[38;5;28;43mself\u001b[39;49m\u001b[43m.\u001b[49m\u001b[43mproxy\u001b[49m\u001b[43m,\u001b[49m\u001b[43m \u001b[49m\u001b[43mnew\u001b[49m\u001b[43m,\u001b[49m\u001b[43m \u001b[49m\u001b[43mcat_codes\u001b[49m\u001b[43m)\u001b[49m\n\u001b[32m    629\u001b[39m \u001b[38;5;28mself\u001b[39m.proxy.set_info(\n\u001b[32m    630\u001b[39m     feature_names=feature_names,\n\u001b[32m    631\u001b[39m     feature_types=feature_types,\n\u001b[32m    632\u001b[39m     **kwargs,\n\u001b[32m    633\u001b[39m )\n\u001b[32m    634\u001b[39m \u001b[38;5;28mself\u001b[39m._data_ref = ref\n",
      "\u001b[36mFile \u001b[39m\u001b[32mc:\\Users\\esthelle.kuissu\\OneDrive - Exiom Partners\\Documents\\Code_rapport_stage\\EX_RAP_STAGE\\Exiom_Stage\\.venv\\Lib\\site-packages\\xgboost\\data.py:1730\u001b[39m, in \u001b[36mdispatch_proxy_set_data\u001b[39m\u001b[34m(proxy, data, cat_codes)\u001b[39m\n\u001b[32m   1724\u001b[39m \u001b[38;5;250m\u001b[39m\u001b[33;03m\"\"\"Dispatch for QuantileDMatrix.\"\"\"\u001b[39;00m\n\u001b[32m   1725\u001b[39m \u001b[38;5;28;01mif\u001b[39;00m (\n\u001b[32m   1726\u001b[39m     \u001b[38;5;129;01mnot\u001b[39;00m _is_cudf_ser(data)\n\u001b[32m   1727\u001b[39m     \u001b[38;5;129;01mand\u001b[39;00m \u001b[38;5;129;01mnot\u001b[39;00m _is_pandas_series(data)\n\u001b[32m   1728\u001b[39m     \u001b[38;5;129;01mand\u001b[39;00m \u001b[38;5;129;01mnot\u001b[39;00m _is_polars_series(data)\n\u001b[32m   1729\u001b[39m ):\n\u001b[32m-> \u001b[39m\u001b[32m1730\u001b[39m     \u001b[43m_check_data_shape\u001b[49m\u001b[43m(\u001b[49m\u001b[43mdata\u001b[49m\u001b[43m)\u001b[49m\n\u001b[32m   1732\u001b[39m \u001b[38;5;28;01mif\u001b[39;00m _is_cudf_df(data):\n\u001b[32m   1733\u001b[39m     \u001b[38;5;66;03m# pylint: disable=W0212\u001b[39;00m\n\u001b[32m   1734\u001b[39m     proxy._ref_data_from_cuda_columnar(data, cast(List, cat_codes))\n",
      "\u001b[36mFile \u001b[39m\u001b[32mc:\\Users\\esthelle.kuissu\\OneDrive - Exiom Partners\\Documents\\Code_rapport_stage\\EX_RAP_STAGE\\Exiom_Stage\\.venv\\Lib\\site-packages\\xgboost\\data.py:85\u001b[39m, in \u001b[36m_check_data_shape\u001b[39m\u001b[34m(data)\u001b[39m\n\u001b[32m     84\u001b[39m \u001b[38;5;28;01mdef\u001b[39;00m\u001b[38;5;250m \u001b[39m\u001b[34m_check_data_shape\u001b[39m(data: DataType) -> \u001b[38;5;28;01mNone\u001b[39;00m:\n\u001b[32m---> \u001b[39m\u001b[32m85\u001b[39m     \u001b[38;5;28;01mif\u001b[39;00m \u001b[38;5;28;43mhasattr\u001b[39;49m\u001b[43m(\u001b[49m\u001b[43mdata\u001b[49m\u001b[43m,\u001b[49m\u001b[43m \u001b[49m\u001b[33;43m\"\u001b[39;49m\u001b[33;43mshape\u001b[39;49m\u001b[33;43m\"\u001b[39;49m\u001b[43m)\u001b[49m \u001b[38;5;129;01mand\u001b[39;00m \u001b[38;5;28mlen\u001b[39m(data.shape) != \u001b[32m2\u001b[39m:\n\u001b[32m     86\u001b[39m         \u001b[38;5;28;01mraise\u001b[39;00m \u001b[38;5;167;01mValueError\u001b[39;00m(\u001b[33m\"\u001b[39m\u001b[33mPlease reshape the input data into 2-dimensional matrix.\u001b[39m\u001b[33m\"\u001b[39m)\n",
      "\u001b[36mFile \u001b[39m\u001b[32mc:\\Users\\esthelle.kuissu\\OneDrive - Exiom Partners\\Documents\\Code_rapport_stage\\EX_RAP_STAGE\\Exiom_Stage\\.venv\\Lib\\site-packages\\xgboost\\data.py:627\u001b[39m, in \u001b[36mPandasTransformed.shape\u001b[39m\u001b[34m(self)\u001b[39m\n\u001b[32m    624\u001b[39m \u001b[38;5;129m@property\u001b[39m\n\u001b[32m    625\u001b[39m \u001b[38;5;28;01mdef\u001b[39;00m\u001b[38;5;250m \u001b[39m\u001b[34mshape\u001b[39m(\u001b[38;5;28mself\u001b[39m) -> Tuple[\u001b[38;5;28mint\u001b[39m, \u001b[38;5;28mint\u001b[39m]:\n\u001b[32m    626\u001b[39m \u001b[38;5;250m    \u001b[39m\u001b[33;03m\"\"\"Return shape of the transformed DataFrame.\"\"\"\u001b[39;00m\n\u001b[32m--> \u001b[39m\u001b[32m627\u001b[39m     \u001b[38;5;28;01mreturn\u001b[39;00m \u001b[38;5;28;43mself\u001b[39;49m\u001b[43m.\u001b[49m\u001b[43mcolumns\u001b[49m\u001b[43m[\u001b[49m\u001b[32;43m0\u001b[39;49m\u001b[43m]\u001b[49m.shape[\u001b[32m0\u001b[39m], \u001b[38;5;28mlen\u001b[39m(\u001b[38;5;28mself\u001b[39m.columns)\n",
      "\u001b[31mIndexError\u001b[39m: list index out of range"
     ]
    }
   ],
   "source": [
    "# 🧪 Séparation en pool + test\n",
    "X_pool, X_test, y_pool, y_test = train_test_split(X, y, test_size=0.2, stratify=y, random_state=42)\n",
    "idx_0 = np.where(y_pool == 0)[0]\n",
    "idx_1 = np.where(y_pool == 1)[0]\n",
    "\n",
    "n_models = 5\n",
    "models = []\n",
    "\n",
    "for i in range(n_models):\n",
    "    # 🎲 Échantillonnage aléatoire de cas de classe 1 différents à chaque itération\n",
    "    np.random.shuffle(idx_1)\n",
    "    sample_1 = idx_1[:len(idx_0)]\n",
    "\n",
    "    selected_indices = list(idx_0) + list(sample_1)\n",
    "\n",
    "    # 🤖 Entraînement sur sous-base équilibrée\n",
    "    X_train = X_pool[selected_indices]\n",
    "    y_train = y_pool[selected_indices]\n",
    "    model = XGBClassifier(use_label_encoder=False, eval_metric='logloss', random_state=i)\n",
    "    model.fit(X_train, y_train)\n",
    "    models.append((f\"xgb_{i}\", model))\n",
    "\n",
    "# 🧠 Fusion des modèles\n",
    "ensemble = VotingClassifier(estimators=models, voting='soft')\n",
    "ensemble.fit(X_pool[np.concatenate([idx_0, idx_1[:len(idx_0)*n_models]])],\n",
    "             y_pool[np.concatenate([idx_0, idx_1[:len(idx_0)*n_models]])])\n",
    "\n",
    "# 📊 Évaluation finale\n",
    "y_pred = ensemble.predict(X_test)\n",
    "print(classification_report(y_test, y_pred, digits=4))"
   ]
  },
  {
   "cell_type": "code",
   "execution_count": 36,
   "id": "bf5b3c8b",
   "metadata": {},
   "outputs": [
    {
     "ename": "IndexError",
     "evalue": "list index out of range",
     "output_type": "error",
     "traceback": [
      "\u001b[31m---------------------------------------------------------------------------\u001b[39m",
      "\u001b[31mIndexError\u001b[39m                                Traceback (most recent call last)",
      "\u001b[36mCell\u001b[39m\u001b[36m \u001b[39m\u001b[32mIn[36]\u001b[39m\u001b[32m, line 28\u001b[39m\n\u001b[32m     26\u001b[39m     y_train = y_pool[selected_indices]\n\u001b[32m     27\u001b[39m     model = XGBClassifier(use_label_encoder=\u001b[38;5;28;01mFalse\u001b[39;00m, eval_metric=\u001b[33m'\u001b[39m\u001b[33mlogloss\u001b[39m\u001b[33m'\u001b[39m, random_state=i)\n\u001b[32m---> \u001b[39m\u001b[32m28\u001b[39m     \u001b[43mmodel\u001b[49m\u001b[43m.\u001b[49m\u001b[43mfit\u001b[49m\u001b[43m(\u001b[49m\u001b[43mX_train\u001b[49m\u001b[43m,\u001b[49m\u001b[43m \u001b[49m\u001b[43my_train\u001b[49m\u001b[43m)\u001b[49m\n\u001b[32m     29\u001b[39m     models.append((\u001b[33mf\u001b[39m\u001b[33m\"\u001b[39m\u001b[33mxgb_\u001b[39m\u001b[38;5;132;01m{\u001b[39;00mi\u001b[38;5;132;01m}\u001b[39;00m\u001b[33m\"\u001b[39m, model))\n\u001b[32m     31\u001b[39m \u001b[38;5;66;03m# 🧠 Fusion Voting (soft)\u001b[39;00m\n",
      "\u001b[36mFile \u001b[39m\u001b[32mc:\\Users\\esthelle.kuissu\\OneDrive - Exiom Partners\\Documents\\Code_rapport_stage\\EX_RAP_STAGE\\Exiom_Stage\\.venv\\Lib\\site-packages\\xgboost\\core.py:729\u001b[39m, in \u001b[36mrequire_keyword_args.<locals>.throw_if.<locals>.inner_f\u001b[39m\u001b[34m(*args, **kwargs)\u001b[39m\n\u001b[32m    727\u001b[39m \u001b[38;5;28;01mfor\u001b[39;00m k, arg \u001b[38;5;129;01min\u001b[39;00m \u001b[38;5;28mzip\u001b[39m(sig.parameters, args):\n\u001b[32m    728\u001b[39m     kwargs[k] = arg\n\u001b[32m--> \u001b[39m\u001b[32m729\u001b[39m \u001b[38;5;28;01mreturn\u001b[39;00m \u001b[43mfunc\u001b[49m\u001b[43m(\u001b[49m\u001b[43m*\u001b[49m\u001b[43m*\u001b[49m\u001b[43mkwargs\u001b[49m\u001b[43m)\u001b[49m\n",
      "\u001b[36mFile \u001b[39m\u001b[32mc:\\Users\\esthelle.kuissu\\OneDrive - Exiom Partners\\Documents\\Code_rapport_stage\\EX_RAP_STAGE\\Exiom_Stage\\.venv\\Lib\\site-packages\\xgboost\\sklearn.py:1663\u001b[39m, in \u001b[36mXGBClassifier.fit\u001b[39m\u001b[34m(self, X, y, sample_weight, base_margin, eval_set, verbose, xgb_model, sample_weight_eval_set, base_margin_eval_set, feature_weights)\u001b[39m\n\u001b[32m   1658\u001b[39m     params[\u001b[33m\"\u001b[39m\u001b[33mnum_class\u001b[39m\u001b[33m\"\u001b[39m] = \u001b[38;5;28mself\u001b[39m.n_classes_\n\u001b[32m   1660\u001b[39m model, metric, params, feature_weights = \u001b[38;5;28mself\u001b[39m._configure_fit(\n\u001b[32m   1661\u001b[39m     xgb_model, params, feature_weights\n\u001b[32m   1662\u001b[39m )\n\u001b[32m-> \u001b[39m\u001b[32m1663\u001b[39m train_dmatrix, evals = \u001b[43m_wrap_evaluation_matrices\u001b[49m\u001b[43m(\u001b[49m\n\u001b[32m   1664\u001b[39m \u001b[43m    \u001b[49m\u001b[43mmissing\u001b[49m\u001b[43m=\u001b[49m\u001b[38;5;28;43mself\u001b[39;49m\u001b[43m.\u001b[49m\u001b[43mmissing\u001b[49m\u001b[43m,\u001b[49m\n\u001b[32m   1665\u001b[39m \u001b[43m    \u001b[49m\u001b[43mX\u001b[49m\u001b[43m=\u001b[49m\u001b[43mX\u001b[49m\u001b[43m,\u001b[49m\n\u001b[32m   1666\u001b[39m \u001b[43m    \u001b[49m\u001b[43my\u001b[49m\u001b[43m=\u001b[49m\u001b[43my\u001b[49m\u001b[43m,\u001b[49m\n\u001b[32m   1667\u001b[39m \u001b[43m    \u001b[49m\u001b[43mgroup\u001b[49m\u001b[43m=\u001b[49m\u001b[38;5;28;43;01mNone\u001b[39;49;00m\u001b[43m,\u001b[49m\n\u001b[32m   1668\u001b[39m \u001b[43m    \u001b[49m\u001b[43mqid\u001b[49m\u001b[43m=\u001b[49m\u001b[38;5;28;43;01mNone\u001b[39;49;00m\u001b[43m,\u001b[49m\n\u001b[32m   1669\u001b[39m \u001b[43m    \u001b[49m\u001b[43msample_weight\u001b[49m\u001b[43m=\u001b[49m\u001b[43msample_weight\u001b[49m\u001b[43m,\u001b[49m\n\u001b[32m   1670\u001b[39m \u001b[43m    \u001b[49m\u001b[43mbase_margin\u001b[49m\u001b[43m=\u001b[49m\u001b[43mbase_margin\u001b[49m\u001b[43m,\u001b[49m\n\u001b[32m   1671\u001b[39m \u001b[43m    \u001b[49m\u001b[43mfeature_weights\u001b[49m\u001b[43m=\u001b[49m\u001b[43mfeature_weights\u001b[49m\u001b[43m,\u001b[49m\n\u001b[32m   1672\u001b[39m \u001b[43m    \u001b[49m\u001b[43meval_set\u001b[49m\u001b[43m=\u001b[49m\u001b[43meval_set\u001b[49m\u001b[43m,\u001b[49m\n\u001b[32m   1673\u001b[39m \u001b[43m    \u001b[49m\u001b[43msample_weight_eval_set\u001b[49m\u001b[43m=\u001b[49m\u001b[43msample_weight_eval_set\u001b[49m\u001b[43m,\u001b[49m\n\u001b[32m   1674\u001b[39m \u001b[43m    \u001b[49m\u001b[43mbase_margin_eval_set\u001b[49m\u001b[43m=\u001b[49m\u001b[43mbase_margin_eval_set\u001b[49m\u001b[43m,\u001b[49m\n\u001b[32m   1675\u001b[39m \u001b[43m    \u001b[49m\u001b[43meval_group\u001b[49m\u001b[43m=\u001b[49m\u001b[38;5;28;43;01mNone\u001b[39;49;00m\u001b[43m,\u001b[49m\n\u001b[32m   1676\u001b[39m \u001b[43m    \u001b[49m\u001b[43meval_qid\u001b[49m\u001b[43m=\u001b[49m\u001b[38;5;28;43;01mNone\u001b[39;49;00m\u001b[43m,\u001b[49m\n\u001b[32m   1677\u001b[39m \u001b[43m    \u001b[49m\u001b[43mcreate_dmatrix\u001b[49m\u001b[43m=\u001b[49m\u001b[38;5;28;43mself\u001b[39;49m\u001b[43m.\u001b[49m\u001b[43m_create_dmatrix\u001b[49m\u001b[43m,\u001b[49m\n\u001b[32m   1678\u001b[39m \u001b[43m    \u001b[49m\u001b[43menable_categorical\u001b[49m\u001b[43m=\u001b[49m\u001b[38;5;28;43mself\u001b[39;49m\u001b[43m.\u001b[49m\u001b[43menable_categorical\u001b[49m\u001b[43m,\u001b[49m\n\u001b[32m   1679\u001b[39m \u001b[43m    \u001b[49m\u001b[43mfeature_types\u001b[49m\u001b[43m=\u001b[49m\u001b[38;5;28;43mself\u001b[39;49m\u001b[43m.\u001b[49m\u001b[43mfeature_types\u001b[49m\u001b[43m,\u001b[49m\n\u001b[32m   1680\u001b[39m \u001b[43m\u001b[49m\u001b[43m)\u001b[49m\n\u001b[32m   1682\u001b[39m \u001b[38;5;28mself\u001b[39m._Booster = train(\n\u001b[32m   1683\u001b[39m     params,\n\u001b[32m   1684\u001b[39m     train_dmatrix,\n\u001b[32m   (...)\u001b[39m\u001b[32m   1693\u001b[39m     callbacks=\u001b[38;5;28mself\u001b[39m.callbacks,\n\u001b[32m   1694\u001b[39m )\n\u001b[32m   1696\u001b[39m \u001b[38;5;28;01mif\u001b[39;00m \u001b[38;5;129;01mnot\u001b[39;00m \u001b[38;5;28mcallable\u001b[39m(\u001b[38;5;28mself\u001b[39m.objective):\n",
      "\u001b[36mFile \u001b[39m\u001b[32mc:\\Users\\esthelle.kuissu\\OneDrive - Exiom Partners\\Documents\\Code_rapport_stage\\EX_RAP_STAGE\\Exiom_Stage\\.venv\\Lib\\site-packages\\xgboost\\sklearn.py:628\u001b[39m, in \u001b[36m_wrap_evaluation_matrices\u001b[39m\u001b[34m(missing, X, y, group, qid, sample_weight, base_margin, feature_weights, eval_set, sample_weight_eval_set, base_margin_eval_set, eval_group, eval_qid, create_dmatrix, enable_categorical, feature_types)\u001b[39m\n\u001b[32m    607\u001b[39m \u001b[38;5;28;01mdef\u001b[39;00m\u001b[38;5;250m \u001b[39m\u001b[34m_wrap_evaluation_matrices\u001b[39m(\n\u001b[32m    608\u001b[39m     *,\n\u001b[32m    609\u001b[39m     missing: \u001b[38;5;28mfloat\u001b[39m,\n\u001b[32m   (...)\u001b[39m\u001b[32m    624\u001b[39m     feature_types: Optional[FeatureTypes],\n\u001b[32m    625\u001b[39m ) -> Tuple[Any, List[Tuple[Any, \u001b[38;5;28mstr\u001b[39m]]]:\n\u001b[32m    626\u001b[39m \u001b[38;5;250m    \u001b[39m\u001b[33;03m\"\"\"Convert array_like evaluation matrices into DMatrix.  Perform validation on the\u001b[39;00m\n\u001b[32m    627\u001b[39m \u001b[33;03m    way.\"\"\"\u001b[39;00m\n\u001b[32m--> \u001b[39m\u001b[32m628\u001b[39m     train_dmatrix = \u001b[43mcreate_dmatrix\u001b[49m\u001b[43m(\u001b[49m\n\u001b[32m    629\u001b[39m \u001b[43m        \u001b[49m\u001b[43mdata\u001b[49m\u001b[43m=\u001b[49m\u001b[43mX\u001b[49m\u001b[43m,\u001b[49m\n\u001b[32m    630\u001b[39m \u001b[43m        \u001b[49m\u001b[43mlabel\u001b[49m\u001b[43m=\u001b[49m\u001b[43my\u001b[49m\u001b[43m,\u001b[49m\n\u001b[32m    631\u001b[39m \u001b[43m        \u001b[49m\u001b[43mgroup\u001b[49m\u001b[43m=\u001b[49m\u001b[43mgroup\u001b[49m\u001b[43m,\u001b[49m\n\u001b[32m    632\u001b[39m \u001b[43m        \u001b[49m\u001b[43mqid\u001b[49m\u001b[43m=\u001b[49m\u001b[43mqid\u001b[49m\u001b[43m,\u001b[49m\n\u001b[32m    633\u001b[39m \u001b[43m        \u001b[49m\u001b[43mweight\u001b[49m\u001b[43m=\u001b[49m\u001b[43msample_weight\u001b[49m\u001b[43m,\u001b[49m\n\u001b[32m    634\u001b[39m \u001b[43m        \u001b[49m\u001b[43mbase_margin\u001b[49m\u001b[43m=\u001b[49m\u001b[43mbase_margin\u001b[49m\u001b[43m,\u001b[49m\n\u001b[32m    635\u001b[39m \u001b[43m        \u001b[49m\u001b[43mfeature_weights\u001b[49m\u001b[43m=\u001b[49m\u001b[43mfeature_weights\u001b[49m\u001b[43m,\u001b[49m\n\u001b[32m    636\u001b[39m \u001b[43m        \u001b[49m\u001b[43mmissing\u001b[49m\u001b[43m=\u001b[49m\u001b[43mmissing\u001b[49m\u001b[43m,\u001b[49m\n\u001b[32m    637\u001b[39m \u001b[43m        \u001b[49m\u001b[43menable_categorical\u001b[49m\u001b[43m=\u001b[49m\u001b[43menable_categorical\u001b[49m\u001b[43m,\u001b[49m\n\u001b[32m    638\u001b[39m \u001b[43m        \u001b[49m\u001b[43mfeature_types\u001b[49m\u001b[43m=\u001b[49m\u001b[43mfeature_types\u001b[49m\u001b[43m,\u001b[49m\n\u001b[32m    639\u001b[39m \u001b[43m        \u001b[49m\u001b[43mref\u001b[49m\u001b[43m=\u001b[49m\u001b[38;5;28;43;01mNone\u001b[39;49;00m\u001b[43m,\u001b[49m\n\u001b[32m    640\u001b[39m \u001b[43m    \u001b[49m\u001b[43m)\u001b[49m\n\u001b[32m    642\u001b[39m     n_validation = \u001b[32m0\u001b[39m \u001b[38;5;28;01mif\u001b[39;00m eval_set \u001b[38;5;129;01mis\u001b[39;00m \u001b[38;5;28;01mNone\u001b[39;00m \u001b[38;5;28;01melse\u001b[39;00m \u001b[38;5;28mlen\u001b[39m(eval_set)\n\u001b[32m    644\u001b[39m     \u001b[38;5;28;01mdef\u001b[39;00m\u001b[38;5;250m \u001b[39m\u001b[34mvalidate_or_none\u001b[39m(meta: Optional[Sequence], name: \u001b[38;5;28mstr\u001b[39m) -> Sequence:\n",
      "\u001b[36mFile \u001b[39m\u001b[32mc:\\Users\\esthelle.kuissu\\OneDrive - Exiom Partners\\Documents\\Code_rapport_stage\\EX_RAP_STAGE\\Exiom_Stage\\.venv\\Lib\\site-packages\\xgboost\\sklearn.py:1137\u001b[39m, in \u001b[36mXGBModel._create_dmatrix\u001b[39m\u001b[34m(self, ref, **kwargs)\u001b[39m\n\u001b[32m   1135\u001b[39m \u001b[38;5;28;01mif\u001b[39;00m _can_use_qdm(\u001b[38;5;28mself\u001b[39m.tree_method, \u001b[38;5;28mself\u001b[39m.device) \u001b[38;5;129;01mand\u001b[39;00m \u001b[38;5;28mself\u001b[39m.booster != \u001b[33m\"\u001b[39m\u001b[33mgblinear\u001b[39m\u001b[33m\"\u001b[39m:\n\u001b[32m   1136\u001b[39m     \u001b[38;5;28;01mtry\u001b[39;00m:\n\u001b[32m-> \u001b[39m\u001b[32m1137\u001b[39m         \u001b[38;5;28;01mreturn\u001b[39;00m \u001b[43mQuantileDMatrix\u001b[49m\u001b[43m(\u001b[49m\n\u001b[32m   1138\u001b[39m \u001b[43m            \u001b[49m\u001b[43m*\u001b[49m\u001b[43m*\u001b[49m\u001b[43mkwargs\u001b[49m\u001b[43m,\u001b[49m\u001b[43m \u001b[49m\u001b[43mref\u001b[49m\u001b[43m=\u001b[49m\u001b[43mref\u001b[49m\u001b[43m,\u001b[49m\u001b[43m \u001b[49m\u001b[43mnthread\u001b[49m\u001b[43m=\u001b[49m\u001b[38;5;28;43mself\u001b[39;49m\u001b[43m.\u001b[49m\u001b[43mn_jobs\u001b[49m\u001b[43m,\u001b[49m\u001b[43m \u001b[49m\u001b[43mmax_bin\u001b[49m\u001b[43m=\u001b[49m\u001b[38;5;28;43mself\u001b[39;49m\u001b[43m.\u001b[49m\u001b[43mmax_bin\u001b[49m\n\u001b[32m   1139\u001b[39m \u001b[43m        \u001b[49m\u001b[43m)\u001b[49m\n\u001b[32m   1140\u001b[39m     \u001b[38;5;28;01mexcept\u001b[39;00m \u001b[38;5;167;01mTypeError\u001b[39;00m:  \u001b[38;5;66;03m# `QuantileDMatrix` supports lesser types than DMatrix\u001b[39;00m\n\u001b[32m   1141\u001b[39m         \u001b[38;5;28;01mpass\u001b[39;00m\n",
      "\u001b[36mFile \u001b[39m\u001b[32mc:\\Users\\esthelle.kuissu\\OneDrive - Exiom Partners\\Documents\\Code_rapport_stage\\EX_RAP_STAGE\\Exiom_Stage\\.venv\\Lib\\site-packages\\xgboost\\core.py:729\u001b[39m, in \u001b[36mrequire_keyword_args.<locals>.throw_if.<locals>.inner_f\u001b[39m\u001b[34m(*args, **kwargs)\u001b[39m\n\u001b[32m    727\u001b[39m \u001b[38;5;28;01mfor\u001b[39;00m k, arg \u001b[38;5;129;01min\u001b[39;00m \u001b[38;5;28mzip\u001b[39m(sig.parameters, args):\n\u001b[32m    728\u001b[39m     kwargs[k] = arg\n\u001b[32m--> \u001b[39m\u001b[32m729\u001b[39m \u001b[38;5;28;01mreturn\u001b[39;00m \u001b[43mfunc\u001b[49m\u001b[43m(\u001b[49m\u001b[43m*\u001b[49m\u001b[43m*\u001b[49m\u001b[43mkwargs\u001b[49m\u001b[43m)\u001b[49m\n",
      "\u001b[36mFile \u001b[39m\u001b[32mc:\\Users\\esthelle.kuissu\\OneDrive - Exiom Partners\\Documents\\Code_rapport_stage\\EX_RAP_STAGE\\Exiom_Stage\\.venv\\Lib\\site-packages\\xgboost\\core.py:1614\u001b[39m, in \u001b[36mQuantileDMatrix.__init__\u001b[39m\u001b[34m(self, data, label, weight, base_margin, missing, silent, feature_names, feature_types, nthread, max_bin, ref, group, qid, label_lower_bound, label_upper_bound, feature_weights, enable_categorical, max_quantile_batches, data_split_mode)\u001b[39m\n\u001b[32m   1594\u001b[39m     \u001b[38;5;28;01mif\u001b[39;00m \u001b[38;5;28many\u001b[39m(\n\u001b[32m   1595\u001b[39m         info \u001b[38;5;129;01mis\u001b[39;00m \u001b[38;5;129;01mnot\u001b[39;00m \u001b[38;5;28;01mNone\u001b[39;00m\n\u001b[32m   1596\u001b[39m         \u001b[38;5;28;01mfor\u001b[39;00m info \u001b[38;5;129;01min\u001b[39;00m (\n\u001b[32m   (...)\u001b[39m\u001b[32m   1607\u001b[39m         )\n\u001b[32m   1608\u001b[39m     ):\n\u001b[32m   1609\u001b[39m         \u001b[38;5;28;01mraise\u001b[39;00m \u001b[38;5;167;01mValueError\u001b[39;00m(\n\u001b[32m   1610\u001b[39m             \u001b[33m\"\u001b[39m\u001b[33mIf data iterator is used as input, data like label should be \u001b[39m\u001b[33m\"\u001b[39m\n\u001b[32m   1611\u001b[39m             \u001b[33m\"\u001b[39m\u001b[33mspecified as batch argument.\u001b[39m\u001b[33m\"\u001b[39m\n\u001b[32m   1612\u001b[39m         )\n\u001b[32m-> \u001b[39m\u001b[32m1614\u001b[39m \u001b[38;5;28;43mself\u001b[39;49m\u001b[43m.\u001b[49m\u001b[43m_init\u001b[49m\u001b[43m(\u001b[49m\n\u001b[32m   1615\u001b[39m \u001b[43m    \u001b[49m\u001b[43mdata\u001b[49m\u001b[43m,\u001b[49m\n\u001b[32m   1616\u001b[39m \u001b[43m    \u001b[49m\u001b[43mref\u001b[49m\u001b[43m=\u001b[49m\u001b[43mref\u001b[49m\u001b[43m,\u001b[49m\n\u001b[32m   1617\u001b[39m \u001b[43m    \u001b[49m\u001b[43mlabel\u001b[49m\u001b[43m=\u001b[49m\u001b[43mlabel\u001b[49m\u001b[43m,\u001b[49m\n\u001b[32m   1618\u001b[39m \u001b[43m    \u001b[49m\u001b[43mweight\u001b[49m\u001b[43m=\u001b[49m\u001b[43mweight\u001b[49m\u001b[43m,\u001b[49m\n\u001b[32m   1619\u001b[39m \u001b[43m    \u001b[49m\u001b[43mbase_margin\u001b[49m\u001b[43m=\u001b[49m\u001b[43mbase_margin\u001b[49m\u001b[43m,\u001b[49m\n\u001b[32m   1620\u001b[39m \u001b[43m    \u001b[49m\u001b[43mgroup\u001b[49m\u001b[43m=\u001b[49m\u001b[43mgroup\u001b[49m\u001b[43m,\u001b[49m\n\u001b[32m   1621\u001b[39m \u001b[43m    \u001b[49m\u001b[43mqid\u001b[49m\u001b[43m=\u001b[49m\u001b[43mqid\u001b[49m\u001b[43m,\u001b[49m\n\u001b[32m   1622\u001b[39m \u001b[43m    \u001b[49m\u001b[43mlabel_lower_bound\u001b[49m\u001b[43m=\u001b[49m\u001b[43mlabel_lower_bound\u001b[49m\u001b[43m,\u001b[49m\n\u001b[32m   1623\u001b[39m \u001b[43m    \u001b[49m\u001b[43mlabel_upper_bound\u001b[49m\u001b[43m=\u001b[49m\u001b[43mlabel_upper_bound\u001b[49m\u001b[43m,\u001b[49m\n\u001b[32m   1624\u001b[39m \u001b[43m    \u001b[49m\u001b[43mfeature_weights\u001b[49m\u001b[43m=\u001b[49m\u001b[43mfeature_weights\u001b[49m\u001b[43m,\u001b[49m\n\u001b[32m   1625\u001b[39m \u001b[43m    \u001b[49m\u001b[43mfeature_names\u001b[49m\u001b[43m=\u001b[49m\u001b[43mfeature_names\u001b[49m\u001b[43m,\u001b[49m\n\u001b[32m   1626\u001b[39m \u001b[43m    \u001b[49m\u001b[43mfeature_types\u001b[49m\u001b[43m=\u001b[49m\u001b[43mfeature_types\u001b[49m\u001b[43m,\u001b[49m\n\u001b[32m   1627\u001b[39m \u001b[43m    \u001b[49m\u001b[43menable_categorical\u001b[49m\u001b[43m=\u001b[49m\u001b[43menable_categorical\u001b[49m\u001b[43m,\u001b[49m\n\u001b[32m   1628\u001b[39m \u001b[43m    \u001b[49m\u001b[43mmax_quantile_blocks\u001b[49m\u001b[43m=\u001b[49m\u001b[43mmax_quantile_batches\u001b[49m\u001b[43m,\u001b[49m\n\u001b[32m   1629\u001b[39m \u001b[43m\u001b[49m\u001b[43m)\u001b[49m\n",
      "\u001b[36mFile \u001b[39m\u001b[32mc:\\Users\\esthelle.kuissu\\OneDrive - Exiom Partners\\Documents\\Code_rapport_stage\\EX_RAP_STAGE\\Exiom_Stage\\.venv\\Lib\\site-packages\\xgboost\\core.py:1678\u001b[39m, in \u001b[36mQuantileDMatrix._init\u001b[39m\u001b[34m(self, data, ref, enable_categorical, max_quantile_blocks, **meta)\u001b[39m\n\u001b[32m   1663\u001b[39m config = make_jcargs(\n\u001b[32m   1664\u001b[39m     nthread=\u001b[38;5;28mself\u001b[39m.nthread,\n\u001b[32m   1665\u001b[39m     missing=\u001b[38;5;28mself\u001b[39m.missing,\n\u001b[32m   1666\u001b[39m     max_bin=\u001b[38;5;28mself\u001b[39m.max_bin,\n\u001b[32m   1667\u001b[39m     max_quantile_blocks=max_quantile_blocks,\n\u001b[32m   1668\u001b[39m )\n\u001b[32m   1669\u001b[39m ret = _LIB.XGQuantileDMatrixCreateFromCallback(\n\u001b[32m   1670\u001b[39m     \u001b[38;5;28;01mNone\u001b[39;00m,\n\u001b[32m   1671\u001b[39m     it.proxy.handle,\n\u001b[32m   (...)\u001b[39m\u001b[32m   1676\u001b[39m     ctypes.byref(handle),\n\u001b[32m   1677\u001b[39m )\n\u001b[32m-> \u001b[39m\u001b[32m1678\u001b[39m \u001b[43mit\u001b[49m\u001b[43m.\u001b[49m\u001b[43mreraise\u001b[49m\u001b[43m(\u001b[49m\u001b[43m)\u001b[49m\n\u001b[32m   1679\u001b[39m \u001b[38;5;66;03m# delay check_call to throw intermediate exception first\u001b[39;00m\n\u001b[32m   1680\u001b[39m _check_call(ret)\n",
      "\u001b[36mFile \u001b[39m\u001b[32mc:\\Users\\esthelle.kuissu\\OneDrive - Exiom Partners\\Documents\\Code_rapport_stage\\EX_RAP_STAGE\\Exiom_Stage\\.venv\\Lib\\site-packages\\xgboost\\core.py:572\u001b[39m, in \u001b[36mDataIter.reraise\u001b[39m\u001b[34m(self)\u001b[39m\n\u001b[32m    570\u001b[39m exc = \u001b[38;5;28mself\u001b[39m._exception\n\u001b[32m    571\u001b[39m \u001b[38;5;28mself\u001b[39m._exception = \u001b[38;5;28;01mNone\u001b[39;00m\n\u001b[32m--> \u001b[39m\u001b[32m572\u001b[39m \u001b[38;5;28;01mraise\u001b[39;00m exc\n",
      "\u001b[36mFile \u001b[39m\u001b[32mc:\\Users\\esthelle.kuissu\\OneDrive - Exiom Partners\\Documents\\Code_rapport_stage\\EX_RAP_STAGE\\Exiom_Stage\\.venv\\Lib\\site-packages\\xgboost\\core.py:553\u001b[39m, in \u001b[36mDataIter._handle_exception\u001b[39m\u001b[34m(self, fn, dft_ret)\u001b[39m\n\u001b[32m    550\u001b[39m     \u001b[38;5;28;01mreturn\u001b[39;00m dft_ret\n\u001b[32m    552\u001b[39m \u001b[38;5;28;01mtry\u001b[39;00m:\n\u001b[32m--> \u001b[39m\u001b[32m553\u001b[39m     \u001b[38;5;28;01mreturn\u001b[39;00m \u001b[43mfn\u001b[49m\u001b[43m(\u001b[49m\u001b[43m)\u001b[49m\n\u001b[32m    554\u001b[39m \u001b[38;5;28;01mexcept\u001b[39;00m \u001b[38;5;167;01mException\u001b[39;00m \u001b[38;5;28;01mas\u001b[39;00m e:  \u001b[38;5;66;03m# pylint: disable=broad-except\u001b[39;00m\n\u001b[32m    555\u001b[39m     \u001b[38;5;66;03m# Defer the exception in order to return 0 and stop the iteration.\u001b[39;00m\n\u001b[32m    556\u001b[39m     \u001b[38;5;66;03m# Exception inside a ctype callback function has no effect except\u001b[39;00m\n\u001b[32m    557\u001b[39m     \u001b[38;5;66;03m# for printing to stderr (doesn't stop the execution).\u001b[39;00m\n\u001b[32m    558\u001b[39m     tb = sys.exc_info()[\u001b[32m2\u001b[39m]\n",
      "\u001b[36mFile \u001b[39m\u001b[32mc:\\Users\\esthelle.kuissu\\OneDrive - Exiom Partners\\Documents\\Code_rapport_stage\\EX_RAP_STAGE\\Exiom_Stage\\.venv\\Lib\\site-packages\\xgboost\\core.py:640\u001b[39m, in \u001b[36mDataIter._next_wrapper.<locals>.<lambda>\u001b[39m\u001b[34m()\u001b[39m\n\u001b[32m    638\u001b[39m     \u001b[38;5;28mself\u001b[39m._temporary_data = \u001b[38;5;28;01mNone\u001b[39;00m\n\u001b[32m    639\u001b[39m \u001b[38;5;66;03m# pylint: disable=not-callable\u001b[39;00m\n\u001b[32m--> \u001b[39m\u001b[32m640\u001b[39m \u001b[38;5;28;01mreturn\u001b[39;00m \u001b[38;5;28mself\u001b[39m._handle_exception(\u001b[38;5;28;01mlambda\u001b[39;00m: \u001b[38;5;28mint\u001b[39m(\u001b[38;5;28;43mself\u001b[39;49m\u001b[43m.\u001b[49m\u001b[43mnext\u001b[49m\u001b[43m(\u001b[49m\u001b[43minput_data\u001b[49m\u001b[43m)\u001b[49m), \u001b[32m0\u001b[39m)\n",
      "\u001b[36mFile \u001b[39m\u001b[32mc:\\Users\\esthelle.kuissu\\OneDrive - Exiom Partners\\Documents\\Code_rapport_stage\\EX_RAP_STAGE\\Exiom_Stage\\.venv\\Lib\\site-packages\\xgboost\\data.py:1654\u001b[39m, in \u001b[36mSingleBatchInternalIter.next\u001b[39m\u001b[34m(self, input_data)\u001b[39m\n\u001b[32m   1652\u001b[39m     \u001b[38;5;28;01mreturn\u001b[39;00m \u001b[38;5;28;01mFalse\u001b[39;00m\n\u001b[32m   1653\u001b[39m \u001b[38;5;28mself\u001b[39m.it += \u001b[32m1\u001b[39m\n\u001b[32m-> \u001b[39m\u001b[32m1654\u001b[39m \u001b[43minput_data\u001b[49m\u001b[43m(\u001b[49m\u001b[43m*\u001b[49m\u001b[43m*\u001b[49m\u001b[38;5;28;43mself\u001b[39;49m\u001b[43m.\u001b[49m\u001b[43mkwargs\u001b[49m\u001b[43m)\u001b[49m\n\u001b[32m   1655\u001b[39m \u001b[38;5;28;01mreturn\u001b[39;00m \u001b[38;5;28;01mTrue\u001b[39;00m\n",
      "\u001b[36mFile \u001b[39m\u001b[32mc:\\Users\\esthelle.kuissu\\OneDrive - Exiom Partners\\Documents\\Code_rapport_stage\\EX_RAP_STAGE\\Exiom_Stage\\.venv\\Lib\\site-packages\\xgboost\\core.py:729\u001b[39m, in \u001b[36mrequire_keyword_args.<locals>.throw_if.<locals>.inner_f\u001b[39m\u001b[34m(*args, **kwargs)\u001b[39m\n\u001b[32m    727\u001b[39m \u001b[38;5;28;01mfor\u001b[39;00m k, arg \u001b[38;5;129;01min\u001b[39;00m \u001b[38;5;28mzip\u001b[39m(sig.parameters, args):\n\u001b[32m    728\u001b[39m     kwargs[k] = arg\n\u001b[32m--> \u001b[39m\u001b[32m729\u001b[39m \u001b[38;5;28;01mreturn\u001b[39;00m \u001b[43mfunc\u001b[49m\u001b[43m(\u001b[49m\u001b[43m*\u001b[49m\u001b[43m*\u001b[49m\u001b[43mkwargs\u001b[49m\u001b[43m)\u001b[49m\n",
      "\u001b[36mFile \u001b[39m\u001b[32mc:\\Users\\esthelle.kuissu\\OneDrive - Exiom Partners\\Documents\\Code_rapport_stage\\EX_RAP_STAGE\\Exiom_Stage\\.venv\\Lib\\site-packages\\xgboost\\core.py:628\u001b[39m, in \u001b[36mDataIter._next_wrapper.<locals>.input_data\u001b[39m\u001b[34m(data, feature_names, feature_types, **kwargs)\u001b[39m\n\u001b[32m    626\u001b[39m \u001b[38;5;66;03m# Stage the data, meta info are copied inside C++ MetaInfo.\u001b[39;00m\n\u001b[32m    627\u001b[39m \u001b[38;5;28mself\u001b[39m._temporary_data = (new, cat_codes, feature_names, feature_types)\n\u001b[32m--> \u001b[39m\u001b[32m628\u001b[39m \u001b[43mdispatch_proxy_set_data\u001b[49m\u001b[43m(\u001b[49m\u001b[38;5;28;43mself\u001b[39;49m\u001b[43m.\u001b[49m\u001b[43mproxy\u001b[49m\u001b[43m,\u001b[49m\u001b[43m \u001b[49m\u001b[43mnew\u001b[49m\u001b[43m,\u001b[49m\u001b[43m \u001b[49m\u001b[43mcat_codes\u001b[49m\u001b[43m)\u001b[49m\n\u001b[32m    629\u001b[39m \u001b[38;5;28mself\u001b[39m.proxy.set_info(\n\u001b[32m    630\u001b[39m     feature_names=feature_names,\n\u001b[32m    631\u001b[39m     feature_types=feature_types,\n\u001b[32m    632\u001b[39m     **kwargs,\n\u001b[32m    633\u001b[39m )\n\u001b[32m    634\u001b[39m \u001b[38;5;28mself\u001b[39m._data_ref = ref\n",
      "\u001b[36mFile \u001b[39m\u001b[32mc:\\Users\\esthelle.kuissu\\OneDrive - Exiom Partners\\Documents\\Code_rapport_stage\\EX_RAP_STAGE\\Exiom_Stage\\.venv\\Lib\\site-packages\\xgboost\\data.py:1730\u001b[39m, in \u001b[36mdispatch_proxy_set_data\u001b[39m\u001b[34m(proxy, data, cat_codes)\u001b[39m\n\u001b[32m   1724\u001b[39m \u001b[38;5;250m\u001b[39m\u001b[33;03m\"\"\"Dispatch for QuantileDMatrix.\"\"\"\u001b[39;00m\n\u001b[32m   1725\u001b[39m \u001b[38;5;28;01mif\u001b[39;00m (\n\u001b[32m   1726\u001b[39m     \u001b[38;5;129;01mnot\u001b[39;00m _is_cudf_ser(data)\n\u001b[32m   1727\u001b[39m     \u001b[38;5;129;01mand\u001b[39;00m \u001b[38;5;129;01mnot\u001b[39;00m _is_pandas_series(data)\n\u001b[32m   1728\u001b[39m     \u001b[38;5;129;01mand\u001b[39;00m \u001b[38;5;129;01mnot\u001b[39;00m _is_polars_series(data)\n\u001b[32m   1729\u001b[39m ):\n\u001b[32m-> \u001b[39m\u001b[32m1730\u001b[39m     \u001b[43m_check_data_shape\u001b[49m\u001b[43m(\u001b[49m\u001b[43mdata\u001b[49m\u001b[43m)\u001b[49m\n\u001b[32m   1732\u001b[39m \u001b[38;5;28;01mif\u001b[39;00m _is_cudf_df(data):\n\u001b[32m   1733\u001b[39m     \u001b[38;5;66;03m# pylint: disable=W0212\u001b[39;00m\n\u001b[32m   1734\u001b[39m     proxy._ref_data_from_cuda_columnar(data, cast(List, cat_codes))\n",
      "\u001b[36mFile \u001b[39m\u001b[32mc:\\Users\\esthelle.kuissu\\OneDrive - Exiom Partners\\Documents\\Code_rapport_stage\\EX_RAP_STAGE\\Exiom_Stage\\.venv\\Lib\\site-packages\\xgboost\\data.py:85\u001b[39m, in \u001b[36m_check_data_shape\u001b[39m\u001b[34m(data)\u001b[39m\n\u001b[32m     84\u001b[39m \u001b[38;5;28;01mdef\u001b[39;00m\u001b[38;5;250m \u001b[39m\u001b[34m_check_data_shape\u001b[39m(data: DataType) -> \u001b[38;5;28;01mNone\u001b[39;00m:\n\u001b[32m---> \u001b[39m\u001b[32m85\u001b[39m     \u001b[38;5;28;01mif\u001b[39;00m \u001b[38;5;28;43mhasattr\u001b[39;49m\u001b[43m(\u001b[49m\u001b[43mdata\u001b[49m\u001b[43m,\u001b[49m\u001b[43m \u001b[49m\u001b[33;43m\"\u001b[39;49m\u001b[33;43mshape\u001b[39;49m\u001b[33;43m\"\u001b[39;49m\u001b[43m)\u001b[49m \u001b[38;5;129;01mand\u001b[39;00m \u001b[38;5;28mlen\u001b[39m(data.shape) != \u001b[32m2\u001b[39m:\n\u001b[32m     86\u001b[39m         \u001b[38;5;28;01mraise\u001b[39;00m \u001b[38;5;167;01mValueError\u001b[39;00m(\u001b[33m\"\u001b[39m\u001b[33mPlease reshape the input data into 2-dimensional matrix.\u001b[39m\u001b[33m\"\u001b[39m)\n",
      "\u001b[36mFile \u001b[39m\u001b[32mc:\\Users\\esthelle.kuissu\\OneDrive - Exiom Partners\\Documents\\Code_rapport_stage\\EX_RAP_STAGE\\Exiom_Stage\\.venv\\Lib\\site-packages\\xgboost\\data.py:627\u001b[39m, in \u001b[36mPandasTransformed.shape\u001b[39m\u001b[34m(self)\u001b[39m\n\u001b[32m    624\u001b[39m \u001b[38;5;129m@property\u001b[39m\n\u001b[32m    625\u001b[39m \u001b[38;5;28;01mdef\u001b[39;00m\u001b[38;5;250m \u001b[39m\u001b[34mshape\u001b[39m(\u001b[38;5;28mself\u001b[39m) -> Tuple[\u001b[38;5;28mint\u001b[39m, \u001b[38;5;28mint\u001b[39m]:\n\u001b[32m    626\u001b[39m \u001b[38;5;250m    \u001b[39m\u001b[33;03m\"\"\"Return shape of the transformed DataFrame.\"\"\"\u001b[39;00m\n\u001b[32m--> \u001b[39m\u001b[32m627\u001b[39m     \u001b[38;5;28;01mreturn\u001b[39;00m \u001b[38;5;28;43mself\u001b[39;49m\u001b[43m.\u001b[49m\u001b[43mcolumns\u001b[49m\u001b[43m[\u001b[49m\u001b[32;43m0\u001b[39;49m\u001b[43m]\u001b[49m.shape[\u001b[32m0\u001b[39m], \u001b[38;5;28mlen\u001b[39m(\u001b[38;5;28mself\u001b[39m.columns)\n",
      "\u001b[31mIndexError\u001b[39m: list index out of range"
     ]
    }
   ],
   "source": [
    "# ✂️ Séparation en pool d'entraînement et jeu de test\n",
    "X_pool, X_test, y_pool, y_test = train_test_split(X, y, test_size=0.2, stratify=y, random_state=42)\n",
    "\n",
    "# 📦 Initialisation\n",
    "used_indices = set()\n",
    "n_models = 5\n",
    "models = []\n",
    "\n",
    "# 📌 Indices des deux classes\n",
    "idx_0 = np.where(y_pool == 0)[0]\n",
    "idx_1 = np.where(y_pool == 1)[0]\n",
    "\n",
    "for i in range(n_models):\n",
    "    free_1 = [ix for ix in idx_1 if ix not in used_indices]\n",
    "    if len(free_1) < len(idx_0):\n",
    "        print(f\"⛔️ Pas assez de classe 1 restantes pour équilibrer à l’itération {i}\")\n",
    "        break\n",
    "\n",
    "    np.random.shuffle(free_1)\n",
    "    sample_1 = free_1[:len(idx_0)]\n",
    "    selected_indices = list(idx_0) + list(sample_1)\n",
    "    used_indices.update(sample_1)\n",
    "\n",
    "    # 🔧 Entraînement sur la sous-base équilibrée\n",
    "    X_train = X_pool[selected_indices]\n",
    "    y_train = y_pool[selected_indices]\n",
    "    model = XGBClassifier(use_label_encoder=False, eval_metric='logloss', random_state=i)\n",
    "    model.fit(X_train, y_train)\n",
    "    models.append((f\"xgb_{i}\", model))\n",
    "\n",
    "# 🧠 Fusion Voting (soft)\n",
    "ensemble = VotingClassifier(estimators=models, voting='soft')\n",
    "ensemble.fit(X_pool[list(used_indices) + list(idx_0)], y_pool[list(used_indices) + list(idx_0)])\n",
    "\n",
    "# 📊 Évaluation finale\n",
    "y_pred = ensemble.predict(X_test)\n",
    "print(classification_report(y_test, y_pred, digits=4))"
   ]
  },
  {
   "cell_type": "markdown",
   "id": "e9dcf24d",
   "metadata": {},
   "source": [
    "# STOP"
   ]
  },
  {
   "cell_type": "code",
   "execution_count": 30,
   "id": "32277d86",
   "metadata": {},
   "outputs": [
    {
     "name": "stdout",
     "output_type": "stream",
     "text": [
      "Requirement already satisfied: imbalanced-learn in c:\\users\\esthelle.kuissu\\onedrive - exiom partners\\documents\\code_rapport_stage\\exiom_stage\\.venv\\lib\\site-packages (0.13.0)\n",
      "Requirement already satisfied: numpy<3,>=1.24.3 in c:\\users\\esthelle.kuissu\\onedrive - exiom partners\\documents\\code_rapport_stage\\exiom_stage\\.venv\\lib\\site-packages (from imbalanced-learn) (2.3.1)\n",
      "Requirement already satisfied: scipy<2,>=1.10.1 in c:\\users\\esthelle.kuissu\\onedrive - exiom partners\\documents\\code_rapport_stage\\exiom_stage\\.venv\\lib\\site-packages (from imbalanced-learn) (1.16.0)\n",
      "Requirement already satisfied: scikit-learn<2,>=1.3.2 in c:\\users\\esthelle.kuissu\\onedrive - exiom partners\\documents\\code_rapport_stage\\exiom_stage\\.venv\\lib\\site-packages (from imbalanced-learn) (1.6.1)\n",
      "Requirement already satisfied: sklearn-compat<1,>=0.1 in c:\\users\\esthelle.kuissu\\onedrive - exiom partners\\documents\\code_rapport_stage\\exiom_stage\\.venv\\lib\\site-packages (from imbalanced-learn) (0.1.3)\n",
      "Requirement already satisfied: joblib<2,>=1.1.1 in c:\\users\\esthelle.kuissu\\onedrive - exiom partners\\documents\\code_rapport_stage\\exiom_stage\\.venv\\lib\\site-packages (from imbalanced-learn) (1.5.1)\n",
      "Requirement already satisfied: threadpoolctl<4,>=2.0.0 in c:\\users\\esthelle.kuissu\\onedrive - exiom partners\\documents\\code_rapport_stage\\exiom_stage\\.venv\\lib\\site-packages (from imbalanced-learn) (3.6.0)\n"
     ]
    }
   ],
   "source": [
    "!pip install imbalanced-learn"
   ]
  },
  {
   "cell_type": "code",
   "execution_count": 40,
   "id": "c41669e4",
   "metadata": {},
   "outputs": [
    {
     "name": "stdout",
     "output_type": "stream",
     "text": [
      "Requirement already satisfied: scikit-learn in c:\\users\\esthelle.kuissu\\onedrive - exiom partners\\documents\\code_rapport_stage\\note_book\\exiom_stage\\.venv\\lib\\site-packages (1.7.0)\n",
      "Requirement already satisfied: numpy>=1.22.0 in c:\\users\\esthelle.kuissu\\onedrive - exiom partners\\documents\\code_rapport_stage\\note_book\\exiom_stage\\.venv\\lib\\site-packages (from scikit-learn) (1.26.4)\n",
      "Requirement already satisfied: scipy>=1.8.0 in c:\\users\\esthelle.kuissu\\onedrive - exiom partners\\documents\\code_rapport_stage\\note_book\\exiom_stage\\.venv\\lib\\site-packages (from scikit-learn) (1.16.0)\n",
      "Requirement already satisfied: joblib>=1.2.0 in c:\\users\\esthelle.kuissu\\onedrive - exiom partners\\documents\\code_rapport_stage\\note_book\\exiom_stage\\.venv\\lib\\site-packages (from scikit-learn) (1.5.1)\n",
      "Requirement already satisfied: threadpoolctl>=3.1.0 in c:\\users\\esthelle.kuissu\\onedrive - exiom partners\\documents\\code_rapport_stage\\note_book\\exiom_stage\\.venv\\lib\\site-packages (from scikit-learn) (3.6.0)\n",
      "Note: you may need to restart the kernel to use updated packages.\n"
     ]
    }
   ],
   "source": [
    "pip install --upgrade scikit-learn\n"
   ]
  },
  {
   "cell_type": "code",
   "execution_count": 47,
   "id": "b97ed183",
   "metadata": {},
   "outputs": [
    {
     "name": "stdout",
     "output_type": "stream",
     "text": [
      "Requirement already satisfied: scikit-learn in c:\\users\\esthelle.kuissu\\onedrive - exiom partners\\documents\\code_rapport_stage\\note_book\\exiom_stage\\.venv\\lib\\site-packages (1.6.1)\n",
      "Collecting scikit-learn\n",
      "  Using cached scikit_learn-1.7.0-cp311-cp311-win_amd64.whl.metadata (14 kB)\n",
      "Requirement already satisfied: numpy>=1.22.0 in c:\\users\\esthelle.kuissu\\onedrive - exiom partners\\documents\\code_rapport_stage\\note_book\\exiom_stage\\.venv\\lib\\site-packages (from scikit-learn) (1.26.4)\n",
      "Requirement already satisfied: scipy>=1.8.0 in c:\\users\\esthelle.kuissu\\onedrive - exiom partners\\documents\\code_rapport_stage\\note_book\\exiom_stage\\.venv\\lib\\site-packages (from scikit-learn) (1.16.0)\n",
      "Requirement already satisfied: joblib>=1.2.0 in c:\\users\\esthelle.kuissu\\onedrive - exiom partners\\documents\\code_rapport_stage\\note_book\\exiom_stage\\.venv\\lib\\site-packages (from scikit-learn) (1.5.1)\n",
      "Requirement already satisfied: threadpoolctl>=3.1.0 in c:\\users\\esthelle.kuissu\\onedrive - exiom partners\\documents\\code_rapport_stage\\note_book\\exiom_stage\\.venv\\lib\\site-packages (from scikit-learn) (3.6.0)\n",
      "Using cached scikit_learn-1.7.0-cp311-cp311-win_amd64.whl (10.7 MB)\n",
      "Installing collected packages: scikit-learn\n",
      "  Attempting uninstall: scikit-learn\n",
      "    Found existing installation: scikit-learn 1.6.1\n",
      "    Uninstalling scikit-learn-1.6.1:\n",
      "      Successfully uninstalled scikit-learn-1.6.1\n",
      "Successfully installed scikit-learn-1.7.0\n",
      "Note: you may need to restart the kernel to use updated packages.\n"
     ]
    },
    {
     "name": "stderr",
     "output_type": "stream",
     "text": [
      "ERROR: pip's dependency resolver does not currently take into account all the packages that are installed. This behaviour is the source of the following dependency conflicts.\n",
      "sklearn-compat 0.1.3 requires scikit-learn<1.7,>=1.2, but you have scikit-learn 1.7.0 which is incompatible.\n"
     ]
    }
   ],
   "source": [
    "pip install --upgrade scikit-learn\n"
   ]
  },
  {
   "cell_type": "code",
   "execution_count": 42,
   "id": "15d7a41a",
   "metadata": {},
   "outputs": [
    {
     "name": "stdout",
     "output_type": "stream",
     "text": [
      "Collecting scikit-learn==1.3.2\n",
      "  Using cached scikit_learn-1.3.2-cp311-cp311-win_amd64.whl.metadata (11 kB)\n",
      "Requirement already satisfied: numpy<2.0,>=1.17.3 in c:\\users\\esthelle.kuissu\\onedrive - exiom partners\\documents\\code_rapport_stage\\note_book\\exiom_stage\\.venv\\lib\\site-packages (from scikit-learn==1.3.2) (1.26.4)\n",
      "Requirement already satisfied: scipy>=1.5.0 in c:\\users\\esthelle.kuissu\\onedrive - exiom partners\\documents\\code_rapport_stage\\note_book\\exiom_stage\\.venv\\lib\\site-packages (from scikit-learn==1.3.2) (1.16.0)\n",
      "Requirement already satisfied: joblib>=1.1.1 in c:\\users\\esthelle.kuissu\\onedrive - exiom partners\\documents\\code_rapport_stage\\note_book\\exiom_stage\\.venv\\lib\\site-packages (from scikit-learn==1.3.2) (1.5.1)\n",
      "Requirement already satisfied: threadpoolctl>=2.0.0 in c:\\users\\esthelle.kuissu\\onedrive - exiom partners\\documents\\code_rapport_stage\\note_book\\exiom_stage\\.venv\\lib\\site-packages (from scikit-learn==1.3.2) (3.6.0)\n",
      "Using cached scikit_learn-1.3.2-cp311-cp311-win_amd64.whl (9.2 MB)\n",
      "Installing collected packages: scikit-learn\n",
      "  Attempting uninstall: scikit-learn\n",
      "    Found existing installation: scikit-learn 1.7.0\n",
      "    Uninstalling scikit-learn-1.7.0:\n",
      "      Successfully uninstalled scikit-learn-1.7.0\n",
      "Successfully installed scikit-learn-1.3.2\n"
     ]
    },
    {
     "name": "stderr",
     "output_type": "stream",
     "text": [
      "  WARNING: Failed to remove contents in a temporary directory 'C:\\Users\\esthelle.kuissu\\OneDrive - Exiom Partners\\Documents\\Code_rapport_stage\\Note_book\\Exiom_Stage\\.venv\\Lib\\site-packages\\~.learn'.\n",
      "  You can safely remove it manually.\n"
     ]
    }
   ],
   "source": [
    "! pip install scikit-learn==1.3.2\n",
    "\n"
   ]
  },
  {
   "cell_type": "code",
   "execution_count": 25,
   "id": "77f78bb5",
   "metadata": {},
   "outputs": [],
   "source": [
    "import pandas as pd\n",
    "import numpy as np\n",
    "import joblib\n",
    "\n",
    "from sklearn.model_selection import train_test_split, GridSearchCV, StratifiedKFold\n",
    "from sklearn.preprocessing import OneHotEncoder, StandardScaler\n",
    "from sklearn.compose import ColumnTransformer\n",
    "from sklearn.pipeline import Pipeline\n",
    "from sklearn.linear_model import LogisticRegression\n",
    "from sklearn.metrics import (log_loss, classification_report,\n",
    "                             confusion_matrix, ConfusionMatrixDisplay,\n",
    "                             brier_score_loss)\n",
    "from sklearn.calibration import CalibratedClassifierCV\n",
    "from sklearn.utils.class_weight import compute_class_weight\n",
    "\n",
    "from imblearn.pipeline import Pipeline as ImbPipeline\n",
    "from imblearn.over_sampling import SMOTE\n",
    "\n",
    "import matplotlib.pyplot as plt\n"
   ]
  },
  {
   "cell_type": "code",
   "execution_count": null,
   "id": "c06a47f1",
   "metadata": {},
   "outputs": [
    {
     "name": "stdout",
     "output_type": "stream",
     "text": [
      "Variables quantitatives : ['nab50', 'NB_PIECE_REMPLACEE', 'NB_PIECE_REPAREE', 'annee_sortie_veh', 'year_2020', 'year_2021', 'year_2022', 'year_2023', 'year_2024']\n"
     ]
    }
   ],
   "source": []
  },
  {
   "cell_type": "code",
   "execution_count": 30,
   "id": "b8a8ec9a",
   "metadata": {},
   "outputs": [
    {
     "data": {
      "text/plain": [
       "['nab50',\n",
       " 'NB_PIECE_REMPLACEE',\n",
       " 'NB_PIECE_REPAREE',\n",
       " 'annee_sortie_veh',\n",
       " 'year_2020',\n",
       " 'year_2021',\n",
       " 'year_2022',\n",
       " 'year_2023',\n",
       " 'year_2024',\n",
       " 'aac',\n",
       " 'sport',\n",
       " 'trans',\n",
       " 'suspe',\n",
       " 'boite',\n",
       " 'elt_secu',\n",
       " 'vu',\n",
       " 'pickup',\n",
       " 'luxe',\n",
       " 'prestige',\n",
       " 'soumis_crm',\n",
       " 'LIB_CHOC',\n",
       " 'LIB_INTENS',\n",
       " 'GARAGE_AGREE_O_N',\n",
       " 'date_nais_f',\n",
       " 'date_permis_f',\n",
       " 'formule_ratt_g',\n",
       " 'sitfam_g',\n",
       " 'usage2_g',\n",
       " 'orig_attest_g',\n",
       " 'caros_g',\n",
       " 'segment_g',\n",
       " 'energ_g',\n",
       " 'frein_g',\n",
       " 'alim_g',\n",
       " 'suspe_g',\n",
       " 'crash_g',\n",
       " 'fract_paiem_soc_g',\n",
       " 'cdval_g',\n",
       " 'modele2_g',\n",
       " 'profess_g',\n",
       " 'marq_g',\n",
       " 'garag_g',\n",
       " 'Region']"
      ]
     },
     "execution_count": 30,
     "metadata": {},
     "output_type": "execute_result"
    }
   ],
   "source": [
    "list(X_train.columns)"
   ]
  },
  {
   "cell_type": "code",
   "execution_count": 49,
   "id": "0e95254c",
   "metadata": {},
   "outputs": [
    {
     "name": "stdout",
     "output_type": "stream",
     "text": [
      "Name: scikit-learn\n",
      "Version: 1.7.0\n",
      "Summary: A set of python modules for machine learning and data mining\n",
      "Home-page: https://scikit-learn.org\n",
      "Author: \n",
      "Author-email: \n",
      "License: BSD 3-Clause License\n",
      "\n",
      " Copyright (c) 2007-2024 The scikit-learn developers.\n",
      " All rights reserved.\n",
      "\n",
      " Redistribution and use in source and binary forms, with or without\n",
      " modification, are permitted provided that the following conditions are met:\n",
      "\n",
      " * Redistributions of source code must retain the above copyright notice, this\n",
      "   list of conditions and the following disclaimer.\n",
      "\n",
      " * Redistributions in binary form must reproduce the above copyright notice,\n",
      "   this list of conditions and the following disclaimer in the documentation\n",
      "   and/or other materials provided with the distribution.\n",
      "\n",
      " * Neither the name of the copyright holder nor the names of its\n",
      "   contributors may be used to endorse or promote products derived from\n",
      "   this software without specific prior written permission.\n",
      "\n",
      " THIS SOFTWARE IS PROVIDED BY THE COPYRIGHT HOLDERS AND CONTRIBUTORS \"AS IS\"\n",
      " AND ANY EXPRESS OR IMPLIED WARRANTIES, INCLUDING, BUT NOT LIMITED TO, THE\n",
      " IMPLIED WARRANTIES OF MERCHANTABILITY AND FITNESS FOR A PARTICULAR PURPOSE ARE\n",
      " DISCLAIMED. IN NO EVENT SHALL THE COPYRIGHT HOLDER OR CONTRIBUTORS BE LIABLE\n",
      " FOR ANY DIRECT, INDIRECT, INCIDENTAL, SPECIAL, EXEMPLARY, OR CONSEQUENTIAL\n",
      " DAMAGES (INCLUDING, BUT NOT LIMITED TO, PROCUREMENT OF SUBSTITUTE GOODS OR\n",
      " SERVICES; LOSS OF USE, DATA, OR PROFITS; OR BUSINESS INTERRUPTION) HOWEVER\n",
      " CAUSED AND ON ANY THEORY OF LIABILITY, WHETHER IN CONTRACT, STRICT LIABILITY,\n",
      " OR TORT (INCLUDING NEGLIGENCE OR OTHERWISE) ARISING IN ANY WAY OUT OF THE USE\n",
      " OF THIS SOFTWARE, EVEN IF ADVISED OF THE POSSIBILITY OF SUCH DAMAGE.\n",
      "\n",
      " ----\n",
      "\n",
      " This binary distribution of scikit-learn also bundles the following software:\n",
      "\n",
      " ----\n",
      "\n",
      " Name: Microsoft Visual C++ Runtime Files\n",
      " Files: sklearn\\.libs\\*.dll\n",
      " Availability: https://learn.microsoft.com/en-us/visualstudio/releases/2015/2015-redistribution-vs\n",
      "\n",
      " Subject to the License Terms for the software, you may copy and distribute with your\n",
      " program any of the files within the followng folder and its subfolders except as noted\n",
      " below. You may not modify these files.\n",
      "\n",
      " C:\\Program Files (x86)\\Microsoft Visual Studio 14.0\\VC\\redist\n",
      "\n",
      " You may not distribute the contents of the following folders:\n",
      "\n",
      " C:\\Program Files (x86)\\Microsoft Visual Studio 14.0\\VC\\redist\\debug_nonredist\n",
      " C:\\Program Files (x86)\\Microsoft Visual Studio 14.0\\VC\\redist\\onecore\\debug_nonredist\n",
      "\n",
      " Subject to the License Terms for the software, you may copy and distribute the following\n",
      " files with your program in your program’s application local folder or by deploying them\n",
      " into the Global Assembly Cache (GAC):\n",
      "\n",
      " VC\\atlmfc\\lib\\mfcmifc80.dll\n",
      " VC\\atlmfc\\lib\\amd64\\mfcmifc80.dll\n",
      "\n",
      "Location: c:\\Users\\esthelle.kuissu\\OneDrive - Exiom Partners\\Documents\\Code_rapport_stage\\Note_book\\Exiom_Stage\\.venv\\Lib\\site-packages\n",
      "Requires: joblib, numpy, scipy, threadpoolctl\n",
      "Required-by: imbalanced-learn, sklearn-compat\n",
      "Name: imbalanced-learn\n",
      "Version: 0.13.0\n",
      "Summary: Toolbox for imbalanced dataset in machine learning\n",
      "Home-page: https://imbalanced-learn.org/\n",
      "Author: \n",
      "Author-email: \"G. Lemaitre\" <g.lemaitre58@gmail.com>, \"C. Aridas\" <ichkoar@gmail.com>\n",
      "License: \n",
      "Location: c:\\Users\\esthelle.kuissu\\OneDrive - Exiom Partners\\Documents\\Code_rapport_stage\\Note_book\\Exiom_Stage\\.venv\\Lib\\site-packages\n",
      "Requires: joblib, numpy, scikit-learn, scipy, sklearn-compat, threadpoolctl\n",
      "Required-by: \n"
     ]
    }
   ],
   "source": [
    "! pip show scikit-learn\n",
    "! pip show imbalanced-learn\n"
   ]
  },
  {
   "cell_type": "code",
   "execution_count": null,
   "id": "b031f3e5",
   "metadata": {},
   "outputs": [
    {
     "name": "stdout",
     "output_type": "stream",
     "text": [
      "Collecting scikit-learn<1.7\n",
      "  Using cached scikit_learn-1.6.1-cp311-cp311-win_amd64.whl.metadata (15 kB)\n",
      "Requirement already satisfied: numpy>=1.19.5 in c:\\users\\esthelle.kuissu\\onedrive - exiom partners\\documents\\code_rapport_stage\\note_book\\exiom_stage\\.venv\\lib\\site-packages (from scikit-learn<1.7) (1.26.4)\n",
      "Requirement already satisfied: scipy>=1.6.0 in c:\\users\\esthelle.kuissu\\onedrive - exiom partners\\documents\\code_rapport_stage\\note_book\\exiom_stage\\.venv\\lib\\site-packages (from scikit-learn<1.7) (1.16.0)\n",
      "Requirement already satisfied: joblib>=1.2.0 in c:\\users\\esthelle.kuissu\\onedrive - exiom partners\\documents\\code_rapport_stage\\note_book\\exiom_stage\\.venv\\lib\\site-packages (from scikit-learn<1.7) (1.5.1)\n",
      "Requirement already satisfied: threadpoolctl>=3.1.0 in c:\\users\\esthelle.kuissu\\onedrive - exiom partners\\documents\\code_rapport_stage\\note_book\\exiom_stage\\.venv\\lib\\site-packages (from scikit-learn<1.7) (3.6.0)\n",
      "Using cached scikit_learn-1.6.1-cp311-cp311-win_amd64.whl (11.1 MB)\n",
      "Installing collected packages: scikit-learn\n",
      "  Attempting uninstall: scikit-learn\n",
      "    Found existing installation: scikit-learn 1.7.0\n",
      "    Uninstalling scikit-learn-1.7.0:\n",
      "      Successfully uninstalled scikit-learn-1.7.0\n",
      "Successfully installed scikit-learn-1.6.1\n"
     ]
    }
   ],
   "source": [
    "! pip install \"scikit-learn<1.7\" --upgrade"
   ]
  },
  {
   "cell_type": "code",
   "execution_count": null,
   "id": "80e31e6f",
   "metadata": {},
   "outputs": [],
   "source": [
    "major_class_size = y_train.value_counts().max()"
   ]
  },
  {
   "cell_type": "code",
   "execution_count": 37,
   "id": "b40c96e2",
   "metadata": {},
   "outputs": [
    {
     "data": {
      "text/plain": [
       "736077"
      ]
     },
     "execution_count": 37,
     "metadata": {},
     "output_type": "execute_result"
    }
   ],
   "source": [
    "major_class_size "
   ]
  },
  {
   "cell_type": "code",
   "execution_count": 28,
   "id": "072436cc",
   "metadata": {},
   "outputs": [],
   "source": [
    "from sklearn.metrics import brier_score_loss"
   ]
  },
  {
   "cell_type": "code",
   "execution_count": 29,
   "id": "4760323d",
   "metadata": {},
   "outputs": [],
   "source": [
    "from sklearn.metrics import classification_report\n",
    "from sklearn.metrics import ConfusionMatrixDisplay"
   ]
  },
  {
   "cell_type": "code",
   "execution_count": 40,
   "id": "be356e9a",
   "metadata": {},
   "outputs": [
    {
     "name": "stdout",
     "output_type": "stream",
     "text": [
      "Collecting matplotlib\n",
      "  Using cached matplotlib-3.10.3-cp311-cp311-win_amd64.whl.metadata (11 kB)\n",
      "Collecting contourpy>=1.0.1 (from matplotlib)\n",
      "  Using cached contourpy-1.3.2-cp311-cp311-win_amd64.whl.metadata (5.5 kB)\n",
      "Collecting cycler>=0.10 (from matplotlib)\n",
      "  Using cached cycler-0.12.1-py3-none-any.whl.metadata (3.8 kB)\n",
      "Collecting fonttools>=4.22.0 (from matplotlib)\n",
      "  Using cached fonttools-4.58.4-cp311-cp311-win_amd64.whl.metadata (108 kB)\n",
      "Collecting kiwisolver>=1.3.1 (from matplotlib)\n",
      "  Using cached kiwisolver-1.4.8-cp311-cp311-win_amd64.whl.metadata (6.3 kB)\n",
      "Requirement already satisfied: numpy>=1.23 in c:\\users\\esthelle.kuissu\\onedrive - exiom partners\\documents\\code_rapport_stage\\exiom_stage\\.venv\\lib\\site-packages (from matplotlib) (2.3.1)\n",
      "Requirement already satisfied: packaging>=20.0 in c:\\users\\esthelle.kuissu\\onedrive - exiom partners\\documents\\code_rapport_stage\\exiom_stage\\.venv\\lib\\site-packages (from matplotlib) (25.0)\n",
      "Collecting pillow>=8 (from matplotlib)\n",
      "  Downloading pillow-11.3.0-cp311-cp311-win_amd64.whl.metadata (9.2 kB)\n",
      "Collecting pyparsing>=2.3.1 (from matplotlib)\n",
      "  Using cached pyparsing-3.2.3-py3-none-any.whl.metadata (5.0 kB)\n",
      "Requirement already satisfied: python-dateutil>=2.7 in c:\\users\\esthelle.kuissu\\onedrive - exiom partners\\documents\\code_rapport_stage\\exiom_stage\\.venv\\lib\\site-packages (from matplotlib) (2.9.0.post0)\n",
      "Requirement already satisfied: six>=1.5 in c:\\users\\esthelle.kuissu\\onedrive - exiom partners\\documents\\code_rapport_stage\\exiom_stage\\.venv\\lib\\site-packages (from python-dateutil>=2.7->matplotlib) (1.17.0)\n",
      "Using cached matplotlib-3.10.3-cp311-cp311-win_amd64.whl (8.1 MB)\n",
      "Using cached contourpy-1.3.2-cp311-cp311-win_amd64.whl (222 kB)\n",
      "Using cached cycler-0.12.1-py3-none-any.whl (8.3 kB)\n",
      "Using cached fonttools-4.58.4-cp311-cp311-win_amd64.whl (2.2 MB)\n",
      "Using cached kiwisolver-1.4.8-cp311-cp311-win_amd64.whl (71 kB)\n",
      "Downloading pillow-11.3.0-cp311-cp311-win_amd64.whl (7.0 MB)\n",
      "   ---------------------------------------- 0.0/7.0 MB ? eta -:--:--\n",
      "   ---------------------------------------  6.8/7.0 MB 41.7 MB/s eta 0:00:01\n",
      "   ---------------------------------------- 7.0/7.0 MB 33.1 MB/s eta 0:00:00\n",
      "Using cached pyparsing-3.2.3-py3-none-any.whl (111 kB)\n",
      "Installing collected packages: pyparsing, pillow, kiwisolver, fonttools, cycler, contourpy, matplotlib\n",
      "\n",
      "   ---------------------------------------- 0/7 [pyparsing]\n",
      "   ----- ---------------------------------- 1/7 [pillow]\n",
      "   ----- ---------------------------------- 1/7 [pillow]\n",
      "   ----- ---------------------------------- 1/7 [pillow]\n",
      "   ----- ---------------------------------- 1/7 [pillow]\n",
      "   ----- ---------------------------------- 1/7 [pillow]\n",
      "   ----------------- ---------------------- 3/7 [fonttools]\n",
      "   ----------------- ---------------------- 3/7 [fonttools]\n",
      "   ----------------- ---------------------- 3/7 [fonttools]\n",
      "   ----------------- ---------------------- 3/7 [fonttools]\n",
      "   ----------------- ---------------------- 3/7 [fonttools]\n",
      "   ----------------- ---------------------- 3/7 [fonttools]\n",
      "   ----------------- ---------------------- 3/7 [fonttools]\n",
      "   ----------------- ---------------------- 3/7 [fonttools]\n",
      "   ----------------- ---------------------- 3/7 [fonttools]\n",
      "   ----------------- ---------------------- 3/7 [fonttools]\n",
      "   ----------------- ---------------------- 3/7 [fonttools]\n",
      "   ----------------- ---------------------- 3/7 [fonttools]\n",
      "   ----------------- ---------------------- 3/7 [fonttools]\n",
      "   ----------------- ---------------------- 3/7 [fonttools]\n",
      "   ----------------- ---------------------- 3/7 [fonttools]\n",
      "   ---------------------------- ----------- 5/7 [contourpy]\n",
      "   ---------------------------------- ----- 6/7 [matplotlib]\n",
      "   ---------------------------------- ----- 6/7 [matplotlib]\n",
      "   ---------------------------------- ----- 6/7 [matplotlib]\n",
      "   ---------------------------------- ----- 6/7 [matplotlib]\n",
      "   ---------------------------------- ----- 6/7 [matplotlib]\n",
      "   ---------------------------------- ----- 6/7 [matplotlib]\n",
      "   ---------------------------------- ----- 6/7 [matplotlib]\n",
      "   ---------------------------------- ----- 6/7 [matplotlib]\n",
      "   ---------------------------------- ----- 6/7 [matplotlib]\n",
      "   ---------------------------------- ----- 6/7 [matplotlib]\n",
      "   ---------------------------------- ----- 6/7 [matplotlib]\n",
      "   ---------------------------------- ----- 6/7 [matplotlib]\n",
      "   ---------------------------------- ----- 6/7 [matplotlib]\n",
      "   ---------------------------------- ----- 6/7 [matplotlib]\n",
      "   ---------------------------------- ----- 6/7 [matplotlib]\n",
      "   ---------------------------------- ----- 6/7 [matplotlib]\n",
      "   ---------------------------------- ----- 6/7 [matplotlib]\n",
      "   ---------------------------------- ----- 6/7 [matplotlib]\n",
      "   ---------------------------------- ----- 6/7 [matplotlib]\n",
      "   ---------------------------------- ----- 6/7 [matplotlib]\n",
      "   ---------------------------------- ----- 6/7 [matplotlib]\n",
      "   ---------------------------------------- 7/7 [matplotlib]\n",
      "\n",
      "Successfully installed contourpy-1.3.2 cycler-0.12.1 fonttools-4.58.4 kiwisolver-1.4.8 matplotlib-3.10.3 pillow-11.3.0 pyparsing-3.2.3\n"
     ]
    }
   ],
   "source": [
    "! pip install matplotlib"
   ]
  },
  {
   "cell_type": "code",
   "execution_count": 30,
   "id": "386d8ff3",
   "metadata": {},
   "outputs": [
    {
     "data": {
      "text/plain": [
       "structure_id\n",
       "2    0.918403\n",
       "1    0.081597\n",
       "Name: proportion, dtype: float64"
      ]
     },
     "execution_count": 30,
     "metadata": {},
     "output_type": "execute_result"
    }
   ],
   "source": [
    "datap_s['structure_id'].value_counts(normalize=True)"
   ]
  },
  {
   "cell_type": "code",
   "execution_count": 38,
   "id": "b5933b2b",
   "metadata": {},
   "outputs": [
    {
     "name": "stdout",
     "output_type": "stream",
     "text": [
      "['nab50', 'NB_PIECE_REMPLACEE', 'NB_PIECE_REPAREE', 'annee_sortie_veh', 'year_2020', 'year_2021', 'year_2022', 'year_2023', 'year_2024', 'aac', 'sport', 'trans', 'suspe', 'boite', 'elt_secu', 'vu', 'pickup', 'luxe', 'prestige', 'soumis_crm', 'LIB_CHOC', 'LIB_INTENS', 'GARAGE_AGREE_O_N', 'date_nais_f', 'date_permis_f', 'formule_ratt_g', 'sitfam_g', 'usage2_g', 'orig_attest_g', 'caros_g', 'segment_g', 'energ_g', 'frein_g', 'alim_g', 'suspe_g', 'crash_g', 'fract_paiem_soc_g', 'cdval_g', 'modele2_g', 'profess_g', 'marq_g', 'garag_g', 'Region']\n"
     ]
    }
   ],
   "source": [
    "print(list(X_train.columns))"
   ]
  },
  {
   "cell_type": "code",
   "execution_count": 64,
   "id": "f3f56ff1",
   "metadata": {},
   "outputs": [
    {
     "name": "stdout",
     "output_type": "stream",
     "text": [
      "Collecting optuna-integration[sklearn]\n",
      "  Downloading optuna_integration-4.4.0-py3-none-any.whl.metadata (12 kB)\n",
      "Requirement already satisfied: optuna in c:\\users\\esthelle.kuissu\\onedrive - exiom partners\\documents\\code_rapport_stage\\exiom_stage\\.venv\\lib\\site-packages (from optuna-integration[sklearn]) (4.4.0)\n",
      "Requirement already satisfied: pandas in c:\\users\\esthelle.kuissu\\onedrive - exiom partners\\documents\\code_rapport_stage\\exiom_stage\\.venv\\lib\\site-packages (from optuna-integration[sklearn]) (2.3.0)\n",
      "Requirement already satisfied: scikit-learn in c:\\users\\esthelle.kuissu\\onedrive - exiom partners\\documents\\code_rapport_stage\\exiom_stage\\.venv\\lib\\site-packages (from optuna-integration[sklearn]) (1.6.1)\n",
      "Requirement already satisfied: scipy in c:\\users\\esthelle.kuissu\\onedrive - exiom partners\\documents\\code_rapport_stage\\exiom_stage\\.venv\\lib\\site-packages (from optuna-integration[sklearn]) (1.16.0)\n",
      "Requirement already satisfied: alembic>=1.5.0 in c:\\users\\esthelle.kuissu\\onedrive - exiom partners\\documents\\code_rapport_stage\\exiom_stage\\.venv\\lib\\site-packages (from optuna->optuna-integration[sklearn]) (1.16.2)\n",
      "Requirement already satisfied: colorlog in c:\\users\\esthelle.kuissu\\onedrive - exiom partners\\documents\\code_rapport_stage\\exiom_stage\\.venv\\lib\\site-packages (from optuna->optuna-integration[sklearn]) (6.9.0)\n",
      "Requirement already satisfied: numpy in c:\\users\\esthelle.kuissu\\onedrive - exiom partners\\documents\\code_rapport_stage\\exiom_stage\\.venv\\lib\\site-packages (from optuna->optuna-integration[sklearn]) (2.3.1)\n",
      "Requirement already satisfied: packaging>=20.0 in c:\\users\\esthelle.kuissu\\onedrive - exiom partners\\documents\\code_rapport_stage\\exiom_stage\\.venv\\lib\\site-packages (from optuna->optuna-integration[sklearn]) (25.0)\n",
      "Requirement already satisfied: sqlalchemy>=1.4.2 in c:\\users\\esthelle.kuissu\\onedrive - exiom partners\\documents\\code_rapport_stage\\exiom_stage\\.venv\\lib\\site-packages (from optuna->optuna-integration[sklearn]) (2.0.41)\n",
      "Requirement already satisfied: tqdm in c:\\users\\esthelle.kuissu\\onedrive - exiom partners\\documents\\code_rapport_stage\\exiom_stage\\.venv\\lib\\site-packages (from optuna->optuna-integration[sklearn]) (4.67.1)\n",
      "Requirement already satisfied: PyYAML in c:\\users\\esthelle.kuissu\\onedrive - exiom partners\\documents\\code_rapport_stage\\exiom_stage\\.venv\\lib\\site-packages (from optuna->optuna-integration[sklearn]) (6.0.2)\n",
      "Requirement already satisfied: Mako in c:\\users\\esthelle.kuissu\\onedrive - exiom partners\\documents\\code_rapport_stage\\exiom_stage\\.venv\\lib\\site-packages (from alembic>=1.5.0->optuna->optuna-integration[sklearn]) (1.3.10)\n",
      "Requirement already satisfied: typing-extensions>=4.12 in c:\\users\\esthelle.kuissu\\onedrive - exiom partners\\documents\\code_rapport_stage\\exiom_stage\\.venv\\lib\\site-packages (from alembic>=1.5.0->optuna->optuna-integration[sklearn]) (4.14.0)\n",
      "Requirement already satisfied: greenlet>=1 in c:\\users\\esthelle.kuissu\\onedrive - exiom partners\\documents\\code_rapport_stage\\exiom_stage\\.venv\\lib\\site-packages (from sqlalchemy>=1.4.2->optuna->optuna-integration[sklearn]) (3.2.3)\n",
      "Requirement already satisfied: colorama in c:\\users\\esthelle.kuissu\\onedrive - exiom partners\\documents\\code_rapport_stage\\exiom_stage\\.venv\\lib\\site-packages (from colorlog->optuna->optuna-integration[sklearn]) (0.4.6)\n",
      "Requirement already satisfied: MarkupSafe>=0.9.2 in c:\\users\\esthelle.kuissu\\onedrive - exiom partners\\documents\\code_rapport_stage\\exiom_stage\\.venv\\lib\\site-packages (from Mako->alembic>=1.5.0->optuna->optuna-integration[sklearn]) (3.0.2)\n",
      "Requirement already satisfied: python-dateutil>=2.8.2 in c:\\users\\esthelle.kuissu\\onedrive - exiom partners\\documents\\code_rapport_stage\\exiom_stage\\.venv\\lib\\site-packages (from pandas->optuna-integration[sklearn]) (2.9.0.post0)\n",
      "Requirement already satisfied: pytz>=2020.1 in c:\\users\\esthelle.kuissu\\onedrive - exiom partners\\documents\\code_rapport_stage\\exiom_stage\\.venv\\lib\\site-packages (from pandas->optuna-integration[sklearn]) (2025.2)\n",
      "Requirement already satisfied: tzdata>=2022.7 in c:\\users\\esthelle.kuissu\\onedrive - exiom partners\\documents\\code_rapport_stage\\exiom_stage\\.venv\\lib\\site-packages (from pandas->optuna-integration[sklearn]) (2025.2)\n",
      "Requirement already satisfied: six>=1.5 in c:\\users\\esthelle.kuissu\\onedrive - exiom partners\\documents\\code_rapport_stage\\exiom_stage\\.venv\\lib\\site-packages (from python-dateutil>=2.8.2->pandas->optuna-integration[sklearn]) (1.17.0)\n",
      "Requirement already satisfied: joblib>=1.2.0 in c:\\users\\esthelle.kuissu\\onedrive - exiom partners\\documents\\code_rapport_stage\\exiom_stage\\.venv\\lib\\site-packages (from scikit-learn->optuna-integration[sklearn]) (1.5.1)\n",
      "Requirement already satisfied: threadpoolctl>=3.1.0 in c:\\users\\esthelle.kuissu\\onedrive - exiom partners\\documents\\code_rapport_stage\\exiom_stage\\.venv\\lib\\site-packages (from scikit-learn->optuna-integration[sklearn]) (3.6.0)\n",
      "Downloading optuna_integration-4.4.0-py3-none-any.whl (98 kB)\n",
      "Installing collected packages: optuna-integration\n",
      "Successfully installed optuna-integration-4.4.0\n"
     ]
    }
   ],
   "source": [
    "! pip install optuna-integration[sklearn]"
   ]
  },
  {
   "cell_type": "code",
   "execution_count": 62,
   "id": "442c0133",
   "metadata": {},
   "outputs": [
    {
     "name": "stdout",
     "output_type": "stream",
     "text": [
      "Collecting optuna\n",
      "  Using cached optuna-4.4.0-py3-none-any.whl.metadata (17 kB)\n",
      "Collecting alembic>=1.5.0 (from optuna)\n",
      "  Using cached alembic-1.16.2-py3-none-any.whl.metadata (7.3 kB)\n",
      "Collecting colorlog (from optuna)\n",
      "  Using cached colorlog-6.9.0-py3-none-any.whl.metadata (10 kB)\n",
      "Requirement already satisfied: numpy in c:\\users\\esthelle.kuissu\\onedrive - exiom partners\\documents\\code_rapport_stage\\exiom_stage\\.venv\\lib\\site-packages (from optuna) (2.3.1)\n",
      "Requirement already satisfied: packaging>=20.0 in c:\\users\\esthelle.kuissu\\onedrive - exiom partners\\documents\\code_rapport_stage\\exiom_stage\\.venv\\lib\\site-packages (from optuna) (25.0)\n",
      "Collecting sqlalchemy>=1.4.2 (from optuna)\n",
      "  Using cached sqlalchemy-2.0.41-cp311-cp311-win_amd64.whl.metadata (9.8 kB)\n",
      "Collecting tqdm (from optuna)\n",
      "  Using cached tqdm-4.67.1-py3-none-any.whl.metadata (57 kB)\n",
      "Collecting PyYAML (from optuna)\n",
      "  Using cached PyYAML-6.0.2-cp311-cp311-win_amd64.whl.metadata (2.1 kB)\n",
      "Collecting Mako (from alembic>=1.5.0->optuna)\n",
      "  Using cached mako-1.3.10-py3-none-any.whl.metadata (2.9 kB)\n",
      "Requirement already satisfied: typing-extensions>=4.12 in c:\\users\\esthelle.kuissu\\onedrive - exiom partners\\documents\\code_rapport_stage\\exiom_stage\\.venv\\lib\\site-packages (from alembic>=1.5.0->optuna) (4.14.0)\n",
      "Collecting greenlet>=1 (from sqlalchemy>=1.4.2->optuna)\n",
      "  Using cached greenlet-3.2.3-cp311-cp311-win_amd64.whl.metadata (4.2 kB)\n",
      "Requirement already satisfied: colorama in c:\\users\\esthelle.kuissu\\onedrive - exiom partners\\documents\\code_rapport_stage\\exiom_stage\\.venv\\lib\\site-packages (from colorlog->optuna) (0.4.6)\n",
      "Collecting MarkupSafe>=0.9.2 (from Mako->alembic>=1.5.0->optuna)\n",
      "  Using cached MarkupSafe-3.0.2-cp311-cp311-win_amd64.whl.metadata (4.1 kB)\n",
      "Downloading optuna-4.4.0-py3-none-any.whl (395 kB)\n",
      "Downloading alembic-1.16.2-py3-none-any.whl (242 kB)\n",
      "Downloading sqlalchemy-2.0.41-cp311-cp311-win_amd64.whl (2.1 MB)\n",
      "   ---------------------------------------- 0.0/2.1 MB ? eta -:--:--\n",
      "   ---------------------------------------- 0.0/2.1 MB ? eta -:--:--\n",
      "   ---------------------------------------- 0.0/2.1 MB ? eta -:--:--\n",
      "   --------- ------------------------------ 0.5/2.1 MB 2.8 MB/s eta 0:00:01\n",
      "   -------------- ------------------------- 0.8/2.1 MB 1.8 MB/s eta 0:00:01\n",
      "   ----------------------------- ---------- 1.6/2.1 MB 2.1 MB/s eta 0:00:01\n",
      "   ---------------------------------------- 2.1/2.1 MB 2.2 MB/s eta 0:00:00\n",
      "Downloading greenlet-3.2.3-cp311-cp311-win_amd64.whl (297 kB)\n",
      "Downloading colorlog-6.9.0-py3-none-any.whl (11 kB)\n",
      "Downloading mako-1.3.10-py3-none-any.whl (78 kB)\n",
      "Downloading MarkupSafe-3.0.2-cp311-cp311-win_amd64.whl (15 kB)\n",
      "Downloading PyYAML-6.0.2-cp311-cp311-win_amd64.whl (161 kB)\n",
      "Downloading tqdm-4.67.1-py3-none-any.whl (78 kB)\n",
      "Installing collected packages: tqdm, PyYAML, MarkupSafe, greenlet, colorlog, sqlalchemy, Mako, alembic, optuna\n",
      "\n",
      "   ---------------------------------------- 0/9 [tqdm]\n",
      "   ---------------------------------------- 0/9 [tqdm]\n",
      "   ---------------------------------------- 0/9 [tqdm]\n",
      "   ---- ----------------------------------- 1/9 [PyYAML]\n",
      "   ------------- -------------------------- 3/9 [greenlet]\n",
      "   ------------- -------------------------- 3/9 [greenlet]\n",
      "   ----------------- ---------------------- 4/9 [colorlog]\n",
      "   ---------------------- ----------------- 5/9 [sqlalchemy]\n",
      "   ---------------------- ----------------- 5/9 [sqlalchemy]\n",
      "   ---------------------- ----------------- 5/9 [sqlalchemy]\n",
      "   ---------------------- ----------------- 5/9 [sqlalchemy]\n",
      "   ---------------------- ----------------- 5/9 [sqlalchemy]\n",
      "   ---------------------- ----------------- 5/9 [sqlalchemy]\n",
      "   ---------------------- ----------------- 5/9 [sqlalchemy]\n",
      "   ---------------------- ----------------- 5/9 [sqlalchemy]\n",
      "   ---------------------- ----------------- 5/9 [sqlalchemy]\n",
      "   ---------------------- ----------------- 5/9 [sqlalchemy]\n",
      "   ---------------------- ----------------- 5/9 [sqlalchemy]\n",
      "   ---------------------- ----------------- 5/9 [sqlalchemy]\n",
      "   ---------------------- ----------------- 5/9 [sqlalchemy]\n",
      "   ---------------------- ----------------- 5/9 [sqlalchemy]\n",
      "   ---------------------- ----------------- 5/9 [sqlalchemy]\n",
      "   ---------------------- ----------------- 5/9 [sqlalchemy]\n",
      "   ---------------------- ----------------- 5/9 [sqlalchemy]\n",
      "   -------------------------- ------------- 6/9 [Mako]\n",
      "   ------------------------------- -------- 7/9 [alembic]\n",
      "   ------------------------------- -------- 7/9 [alembic]\n",
      "   ------------------------------- -------- 7/9 [alembic]\n",
      "   ------------------------------- -------- 7/9 [alembic]\n",
      "   ----------------------------------- ---- 8/9 [optuna]\n",
      "   ----------------------------------- ---- 8/9 [optuna]\n",
      "   ----------------------------------- ---- 8/9 [optuna]\n",
      "   ----------------------------------- ---- 8/9 [optuna]\n",
      "   ----------------------------------- ---- 8/9 [optuna]\n",
      "   ----------------------------------- ---- 8/9 [optuna]\n",
      "   ----------------------------------- ---- 8/9 [optuna]\n",
      "   ---------------------------------------- 9/9 [optuna]\n",
      "\n",
      "Successfully installed Mako-1.3.10 MarkupSafe-3.0.2 PyYAML-6.0.2 alembic-1.16.2 colorlog-6.9.0 greenlet-3.2.3 optuna-4.4.0 sqlalchemy-2.0.41 tqdm-4.67.1\n"
     ]
    }
   ],
   "source": [
    "! pip install optuna"
   ]
  },
  {
   "cell_type": "code",
   "execution_count": null,
   "id": "7b87293b",
   "metadata": {},
   "outputs": [
    {
     "name": "stderr",
     "output_type": "stream",
     "text": [
      "[I 2025-07-07 13:58:54,968] A new study created in memory with name: no-name-c0b270b0-0abb-40e8-aa4a-124584fbdcbc\n",
      "Best trial: 0. Best value: -0.563894:   5%|▌         | 1/20 [17:14<5:27:35, 1034.52s/it, 1034.52/1800 seconds]"
     ]
    },
    {
     "name": "stdout",
     "output_type": "stream",
     "text": [
      "[I 2025-07-07 14:16:09,488] Trial 0 finished with value: -0.5638936659308412 and parameters: {'C': 0.06100873000233317, 'ratio': 0.9754634026023974}. Best is trial 0 with value: -0.5638936659308412.\n"
     ]
    },
    {
     "name": "stderr",
     "output_type": "stream",
     "text": [
      "Best trial: 1. Best value: -0.558428:  10%|█         | 2/20 [40:15<6:02:22, 1207.91s/it, 2415.81/1800 seconds]\n"
     ]
    },
    {
     "name": "stdout",
     "output_type": "stream",
     "text": [
      "[I 2025-07-07 14:39:10,771] Trial 1 finished with value: -0.5584275453937302 and parameters: {'C': 5.478901514882869, 'ratio': 0.7375664847363447}. Best is trial 1 with value: -0.5584275453937302.\n",
      "\n",
      "=== BEST TRIAL ===\n",
      "Mean neg-logloss : -0.5584275453937302\n",
      "Hyper-params     : {'C': 5.478901514882869, 'ratio': 0.7375664847363447}\n"
     ]
    },
    {
     "name": "stderr",
     "output_type": "stream",
     "text": [
      "c:\\Users\\esthelle.kuissu\\OneDrive - Exiom Partners\\Documents\\Code_rapport_stage\\Exiom_Stage\\.venv\\Lib\\site-packages\\sklearn\\linear_model\\_logistic.py:1237: FutureWarning: 'multi_class' was deprecated in version 1.5 and will be removed in 1.7. From then on, binary problems will be fit as proper binary  logistic regression models (as if multi_class='ovr' were set). Leave it to its default value to avoid this warning.\n",
      "  warnings.warn(\n",
      "c:\\Users\\esthelle.kuissu\\OneDrive - Exiom Partners\\Documents\\Code_rapport_stage\\Exiom_Stage\\.venv\\Lib\\site-packages\\sklearn\\linear_model\\_sag.py:348: ConvergenceWarning: The max_iter was reached which means the coef_ did not converge\n",
      "  warnings.warn(\n"
     ]
    },
    {
     "name": "stdout",
     "output_type": "stream",
     "text": [
      "\n",
      "=== METRIQUES TEST ===\n"
     ]
    },
    {
     "name": "stderr",
     "output_type": "stream",
     "text": [
      "c:\\Users\\esthelle.kuissu\\OneDrive - Exiom Partners\\Documents\\Code_rapport_stage\\Exiom_Stage\\.venv\\Lib\\site-packages\\sklearn\\preprocessing\\_encoders.py:246: UserWarning: Found unknown categories in columns [5, 14, 15] during transform. These unknown categories will be encoded as all zeros\n",
      "  warnings.warn(\n",
      "c:\\Users\\esthelle.kuissu\\OneDrive - Exiom Partners\\Documents\\Code_rapport_stage\\Exiom_Stage\\.venv\\Lib\\site-packages\\sklearn\\preprocessing\\_encoders.py:246: UserWarning: Found unknown categories in columns [5, 14, 15] during transform. These unknown categories will be encoded as all zeros\n",
      "  warnings.warn(\n",
      "c:\\Users\\esthelle.kuissu\\OneDrive - Exiom Partners\\Documents\\Code_rapport_stage\\Exiom_Stage\\.venv\\Lib\\site-packages\\sklearn\\preprocessing\\_encoders.py:246: UserWarning: Found unknown categories in columns [5, 14, 15] during transform. These unknown categories will be encoded as all zeros\n",
      "  warnings.warn(\n"
     ]
    },
    {
     "name": "stdout",
     "output_type": "stream",
     "text": [
      "Log-loss : 0.2703\n"
     ]
    }
   ],
   "source": [
    "# ==============================================================  \n",
    "# 0. Imports  \n",
    "# ==============================================================  \n",
    "import optuna  \n",
    "from imblearn.over_sampling import SMOTE  \n",
    "from imblearn.pipeline import Pipeline as ImbPipeline  \n",
    "from sklearn.linear_model import LogisticRegression  \n",
    "from sklearn.model_selection import StratifiedKFold, cross_val_score  \n",
    "from sklearn.compose import ColumnTransformer  \n",
    "from sklearn.preprocessing import StandardScaler, OneHotEncoder  \n",
    "from sklearn.metrics import log_loss  \n",
    "import numpy as np  \n",
    "\n",
    "# ==============================================================  \n",
    "# 1. Prétraitement  \n",
    "# ==============================================================  \n",
    "preprocess = ColumnTransformer(  \n",
    "    transformers=[  \n",
    "        (\"num\", StandardScaler(), var_quanti),  \n",
    "        (\"cat\", OneHotEncoder(drop=\"first\", handle_unknown=\"ignore\", sparse_output=True), var_quali)  \n",
    "    ],  \n",
    "    remainder=\"drop\"  \n",
    ")  \n",
    "\n",
    "# ==============================================================  \n",
    "# 2. Constantes  \n",
    "# ==============================================================  \n",
    "minor_class = 1  \n",
    "counts = y_train.value_counts()  \n",
    "n_major = counts.max()  \n",
    "RATIO_MIN, RATIO_MAX = 0.50, 1.00  \n",
    "\n",
    "# ==============================================================  \n",
    "# 3. Fonction objective Optuna  \n",
    "# ==============================================================  \n",
    "def objective(trial):  \n",
    "    C = trial.suggest_float(\"C\", 1e-3, 10, log=True)  \n",
    "    ratio = trial.suggest_float(\"ratio\", RATIO_MIN, RATIO_MAX)  \n",
    "\n",
    "    smote = SMOTE(  \n",
    "        sampling_strategy={minor_class: int(ratio * n_major)},  \n",
    "        k_neighbors=5,  \n",
    "        random_state=42  \n",
    "    )  \n",
    "\n",
    "    logit = LogisticRegression(  \n",
    "        solver=\"saga\",  \n",
    "        class_weight=\"balanced\",  \n",
    "        C=C,  \n",
    "        max_iter=400,  \n",
    "        n_jobs=-1  \n",
    "    )  \n",
    "\n",
    "    pipe = ImbPipeline([  \n",
    "        (\"prep\", preprocess),  \n",
    "        (\"smote\", smote),  \n",
    "        (\"clf\", logit)  \n",
    "    ])  \n",
    "\n",
    "    cv = StratifiedKFold(n_splits=3, shuffle=True, random_state=42)  # Réduit à 3 folds  \n",
    "\n",
    "    try:  \n",
    "        scores = cross_val_score(  \n",
    "            pipe, X_train, y_train,  \n",
    "            cv=cv,  \n",
    "            scoring=\"neg_log_loss\",  \n",
    "            n_jobs=-1  # Parallélisation des folds  \n",
    "        )  \n",
    "        return scores.mean()  \n",
    "\n",
    "    except ValueError as e:  \n",
    "        trial.set_user_attr(\"error_msg\", str(e))  \n",
    "        raise optuna.exceptions.TrialPruned()  \n",
    "\n",
    "# ==============================================================  \n",
    "# 4. Optimisation  \n",
    "# ==============================================================  \n",
    "study = optuna.create_study(direction=\"maximize\")  \n",
    "study.optimize(objective, n_trials=10, show_progress_bar=True)  # Moins d’essais, durée max 30 min  \n",
    "\n",
    "print(\"\\n=== BEST TRIAL ===\")  \n",
    "print(\"Mean neg-logloss :\", study.best_value)  \n",
    "print(\"Hyper-params     :\", study.best_params)  \n",
    "\n",
    "# ==============================================================  \n",
    "# 5. Refit avec les meilleurs paramètres  \n",
    "# ==============================================================  \n",
    "best_C = study.best_params[\"C\"]  \n",
    "best_ratio = study.best_params[\"ratio\"]  \n",
    "\n",
    "smote_best = SMOTE(  \n",
    "    sampling_strategy={minor_class: int(best_ratio * n_major)},  \n",
    "    k_neighbors=5,  \n",
    "    random_state=42  \n",
    ")  \n",
    "\n",
    "logit_best = LogisticRegression(\n",
    "    solver=\"saga\",                # Optimiseur compatible multinomial + sparse\n",
    "    multi_class=\"multinomial\",   # ← active la régression logistique multinomiale\n",
    "    class_weight=\"balanced\",     # Gère le déséquilibre entre classes\n",
    "    C=best_C,                     # Hyperparamètre optimisé\n",
    "    max_iter=400,                # Nombre d’itérations max\n",
    "    n_jobs=-1                    # Parallélisation\n",
    ")\n",
    "\n",
    "\n",
    "best_pipe = ImbPipeline([  \n",
    "    (\"prep\", preprocess),  \n",
    "    (\"smote\", smote_best),  \n",
    "    (\"clf\", logit_best)  \n",
    "]).fit(X_train, y_train)  \n",
    "\n",
    "# ==============================================================  \n",
    "# 6. Calibration (optionnelle)  \n",
    "# ==============================================================  \n",
    "from sklearn.calibration import CalibratedClassifierCV  \n",
    "\n",
    "calibrated = CalibratedClassifierCV(  \n",
    "    estimator=best_pipe,  \n",
    "    method=\"isotonic\",  \n",
    "    cv=3,  # Réduit à 3 folds  \n",
    "    n_jobs=-1  \n",
    ").fit(X_train, y_train)  \n",
    "\n",
    "print(\"\\n=== METRIQUES TEST ===\")  \n",
    "print(\"Log-loss :\", round(log_loss(y_test, calibrated.predict_proba(X_test)), 4))  "
   ]
  },
  {
   "cell_type": "code",
   "execution_count": 41,
   "id": "c087488c",
   "metadata": {},
   "outputs": [
    {
     "data": {
      "text/plain": [
       "structure_id\n",
       "2    0.918403\n",
       "1    0.081597\n",
       "Name: proportion, dtype: float64"
      ]
     },
     "execution_count": 41,
     "metadata": {},
     "output_type": "execute_result"
    }
   ],
   "source": [
    "y_train.value_counts(normalize=True)"
   ]
  },
  {
   "cell_type": "code",
   "execution_count": 42,
   "id": "4ef2fe2e",
   "metadata": {},
   "outputs": [
    {
     "data": {
      "text/plain": [
       "structure_id\n",
       "2    0.918401\n",
       "1    0.081599\n",
       "Name: proportion, dtype: float64"
      ]
     },
     "execution_count": 42,
     "metadata": {},
     "output_type": "execute_result"
    }
   ],
   "source": [
    "y_test.value_counts(normalize=True)"
   ]
  },
  {
   "cell_type": "code",
   "execution_count": 35,
   "id": "fa0365fa",
   "metadata": {},
   "outputs": [
    {
     "name": "stderr",
     "output_type": "stream",
     "text": [
      "[I 2025-07-07 15:54:09,346] A new study created in memory with name: no-name-ec46c9a7-0e22-4634-a484-71512aa41ac6\n",
      "Best trial: 0. Best value: -0.552582:  10%|█         | 1/10 [39:25<5:54:47, 2365.25s/it]"
     ]
    },
    {
     "name": "stdout",
     "output_type": "stream",
     "text": [
      "[I 2025-07-07 16:33:34,575] Trial 0 finished with value: -0.5525819982939896 and parameters: {'C': 0.13609306214999534, 'ratio': 1.1080426639492496}. Best is trial 0 with value: -0.5525819982939896.\n"
     ]
    },
    {
     "name": "stderr",
     "output_type": "stream",
     "text": [
      "Best trial: 0. Best value: -0.552582:  20%|██        | 2/10 [1:18:17<5:12:46, 2345.86s/it]"
     ]
    },
    {
     "name": "stdout",
     "output_type": "stream",
     "text": [
      "[I 2025-07-07 17:12:26,870] Trial 1 finished with value: -0.6073057291004575 and parameters: {'C': 0.002520234558032868, 'ratio': 0.9571270537220912}. Best is trial 0 with value: -0.5525819982939896.\n"
     ]
    },
    {
     "name": "stderr",
     "output_type": "stream",
     "text": [
      "Best trial: 0. Best value: -0.552582:  30%|███       | 3/10 [2:13:24<5:24:52, 2784.70s/it]"
     ]
    },
    {
     "name": "stdout",
     "output_type": "stream",
     "text": [
      "[I 2025-07-07 18:07:33,790] Trial 2 finished with value: -0.5912269887608846 and parameters: {'C': 0.005011209746919838, 'ratio': 1.8747514526432463}. Best is trial 0 with value: -0.5525819982939896.\n"
     ]
    },
    {
     "name": "stderr",
     "output_type": "stream",
     "text": [
      "Best trial: 3. Best value: -0.551457:  40%|████      | 4/10 [2:49:39<4:14:23, 2543.94s/it]"
     ]
    },
    {
     "name": "stdout",
     "output_type": "stream",
     "text": [
      "[I 2025-07-07 18:43:48,628] Trial 3 finished with value: -0.5514571856244918 and parameters: {'C': 0.11743316067987294, 'ratio': 0.8423290670570618}. Best is trial 3 with value: -0.5514571856244918.\n"
     ]
    },
    {
     "name": "stderr",
     "output_type": "stream",
     "text": [
      "Best trial: 3. Best value: -0.551457:  50%|█████     | 5/10 [3:06:43<2:46:19, 1995.99s/it]"
     ]
    },
    {
     "name": "stdout",
     "output_type": "stream",
     "text": [
      "[I 2025-07-07 19:00:53,068] Trial 4 finished with value: -0.5722935706859038 and parameters: {'C': 0.014601227088458941, 'ratio': 1.5522658891279766}. Best is trial 3 with value: -0.5514571856244918.\n"
     ]
    },
    {
     "name": "stderr",
     "output_type": "stream",
     "text": [
      "Best trial: 3. Best value: -0.551457:  60%|██████    | 6/10 [5:44:25<5:02:17, 4534.43s/it]"
     ]
    },
    {
     "name": "stdout",
     "output_type": "stream",
     "text": [
      "[I 2025-07-07 21:38:34,978] Trial 5 finished with value: -0.5596778758654243 and parameters: {'C': 0.026097372362929402, 'ratio': 1.7576807323793773}. Best is trial 3 with value: -0.5514571856244918.\n"
     ]
    },
    {
     "name": "stderr",
     "output_type": "stream",
     "text": [
      "Best trial: 3. Best value: -0.551457:  70%|███████   | 7/10 [6:29:35<3:16:53, 3938.00s/it]"
     ]
    },
    {
     "name": "stdout",
     "output_type": "stream",
     "text": [
      "[I 2025-07-07 22:23:45,050] Trial 6 finished with value: -0.5908980741815576 and parameters: {'C': 0.004986986501110416, 'ratio': 1.9284034493969366}. Best is trial 3 with value: -0.5514571856244918.\n"
     ]
    },
    {
     "name": "stderr",
     "output_type": "stream",
     "text": [
      "Best trial: 3. Best value: -0.551457:  80%|████████  | 8/10 [7:05:24<1:52:16, 3368.42s/it]"
     ]
    },
    {
     "name": "stdout",
     "output_type": "stream",
     "text": [
      "[I 2025-07-07 22:59:33,922] Trial 7 finished with value: -0.5926575367061021 and parameters: {'C': 4.670360613846082, 'ratio': 1.2409456955146239}. Best is trial 3 with value: -0.5514571856244918.\n"
     ]
    },
    {
     "name": "stderr",
     "output_type": "stream",
     "text": [
      "Best trial: 3. Best value: -0.551457:  90%|█████████ | 9/10 [7:50:45<52:45, 3165.89s/it]  "
     ]
    },
    {
     "name": "stdout",
     "output_type": "stream",
     "text": [
      "[I 2025-07-07 23:44:54,512] Trial 8 finished with value: -0.5967782599072143 and parameters: {'C': 1.8419097758932979, 'ratio': 1.946395009660732}. Best is trial 3 with value: -0.5514571856244918.\n"
     ]
    },
    {
     "name": "stderr",
     "output_type": "stream",
     "text": [
      "Best trial: 3. Best value: -0.551457: 100%|██████████| 10/10 [8:14:23<00:00, 2966.32s/it]"
     ]
    },
    {
     "name": "stdout",
     "output_type": "stream",
     "text": [
      "[I 2025-07-08 00:08:32,477] Trial 9 finished with value: -0.5694897966721465 and parameters: {'C': 0.6790766644371478, 'ratio': 0.7830943374600676}. Best is trial 3 with value: -0.5514571856244918.\n",
      "\n",
      "=== BEST TRIAL ===\n",
      "Mean neg-logloss : -0.5514571856244918\n",
      "Hyper-params     : {'C': 0.11743316067987294, 'ratio': 0.8423290670570618}\n"
     ]
    },
    {
     "name": "stderr",
     "output_type": "stream",
     "text": [
      "\n"
     ]
    }
   ],
   "source": [
    "# ==============================================================  \n",
    "# 0. Imports  \n",
    "# ==============================================================  \n",
    "import optuna  \n",
    "from imblearn.over_sampling import SMOTE  \n",
    "from imblearn.pipeline import Pipeline as ImbPipeline  \n",
    "from sklearn.linear_model import LogisticRegression  \n",
    "from sklearn.model_selection import StratifiedKFold, cross_val_score  \n",
    "from sklearn.compose import ColumnTransformer  \n",
    "from sklearn.preprocessing import StandardScaler, OneHotEncoder  \n",
    "from sklearn.metrics import log_loss  \n",
    "import numpy as np  \n",
    "\n",
    "# ==============================================================  \n",
    "# 1. Prétraitement  \n",
    "# ==============================================================  \n",
    "preprocess = ColumnTransformer(\n",
    "    transformers=[\n",
    "        (\"num\", StandardScaler(), var_quanti),\n",
    "        (\"cat\", OneHotEncoder(drop=\"first\", handle_unknown=\"ignore\", sparse_output=True), var_quali)\n",
    "    ],\n",
    "    remainder=\"drop\"\n",
    ")\n",
    "\n",
    "# ==============================================================  \n",
    "# 2. Constantes  \n",
    "# ==============================================================  \n",
    "minor_class = 1  \n",
    "counts = y_train.value_counts()  \n",
    "n_major = counts.max()  \n",
    "RATIO_MIN, RATIO_MAX = 0.5, 2.0  # Étend le suréchantillonnage\n",
    "\n",
    "# ==============================================================  \n",
    "# 3. Fonction objective Optuna  \n",
    "# ==============================================================  \n",
    "def objective(trial):\n",
    "    C = trial.suggest_float(\"C\", 1e-3, 10, log=True)\n",
    "    ratio = trial.suggest_float(\"ratio\", RATIO_MIN, RATIO_MAX)\n",
    "\n",
    "    smote = SMOTE(\n",
    "        sampling_strategy={minor_class: int(ratio * n_major)},\n",
    "        k_neighbors=5,\n",
    "        random_state=42\n",
    "    )\n",
    "\n",
    "    logit = LogisticRegression(\n",
    "        solver=\"saga\",\n",
    "        multi_class=\"multinomial\",     # ← multinomial ici\n",
    "        class_weight=\"balanced\",\n",
    "        C=C,\n",
    "        max_iter=600,\n",
    "        n_jobs=-1\n",
    "    )\n",
    "\n",
    "    pipe = ImbPipeline([\n",
    "        (\"prep\", preprocess),\n",
    "        (\"smote\", smote),\n",
    "        (\"clf\", logit)\n",
    "    ])\n",
    "\n",
    "    cv = StratifiedKFold(n_splits=3, shuffle=True, random_state=42)\n",
    "    try:\n",
    "        scores = cross_val_score(pipe, X_train, y_train, cv=cv, scoring=\"neg_log_loss\", n_jobs=-1)\n",
    "        return scores.mean()\n",
    "    except ValueError as e:\n",
    "        trial.set_user_attr(\"error_msg\", str(e))\n",
    "        raise optuna.exceptions.TrialPruned()\n",
    "\n",
    "# ==============================================================  \n",
    "# 4. Optimisation sans timeout  \n",
    "# ==============================================================  \n",
    "study = optuna.create_study(direction=\"maximize\")\n",
    "study.optimize(objective, n_trials=10, show_progress_bar=True)  # ← 10 essais, pas de timeout\n",
    "\n",
    "print(\"\\n=== BEST TRIAL ===\")\n",
    "print(\"Mean neg-logloss :\", study.best_value)\n",
    "print(\"Hyper-params     :\", study.best_params)"
   ]
  },
  {
   "cell_type": "code",
   "execution_count": 36,
   "id": "34136411",
   "metadata": {},
   "outputs": [
    {
     "name": "stderr",
     "output_type": "stream",
     "text": [
      "c:\\Users\\esthelle.kuissu\\OneDrive - Exiom Partners\\Documents\\Code_rapport_stage\\Exiom_Stage\\.venv\\Lib\\site-packages\\sklearn\\preprocessing\\_encoders.py:246: UserWarning: Found unknown categories in columns [5, 14, 15] during transform. These unknown categories will be encoded as all zeros\n",
      "  warnings.warn(\n",
      "c:\\Users\\esthelle.kuissu\\OneDrive - Exiom Partners\\Documents\\Code_rapport_stage\\Exiom_Stage\\.venv\\Lib\\site-packages\\sklearn\\preprocessing\\_encoders.py:246: UserWarning: Found unknown categories in columns [5, 14, 15] during transform. These unknown categories will be encoded as all zeros\n",
      "  warnings.warn(\n",
      "c:\\Users\\esthelle.kuissu\\OneDrive - Exiom Partners\\Documents\\Code_rapport_stage\\Exiom_Stage\\.venv\\Lib\\site-packages\\sklearn\\preprocessing\\_encoders.py:246: UserWarning: Found unknown categories in columns [5, 14, 15] during transform. These unknown categories will be encoded as all zeros\n",
      "  warnings.warn(\n",
      "c:\\Users\\esthelle.kuissu\\OneDrive - Exiom Partners\\Documents\\Code_rapport_stage\\Exiom_Stage\\.venv\\Lib\\site-packages\\sklearn\\preprocessing\\_encoders.py:246: UserWarning: Found unknown categories in columns [5, 14, 15] during transform. These unknown categories will be encoded as all zeros\n",
      "  warnings.warn(\n",
      "c:\\Users\\esthelle.kuissu\\OneDrive - Exiom Partners\\Documents\\Code_rapport_stage\\Exiom_Stage\\.venv\\Lib\\site-packages\\sklearn\\preprocessing\\_encoders.py:246: UserWarning: Found unknown categories in columns [5, 14, 15] during transform. These unknown categories will be encoded as all zeros\n",
      "  warnings.warn(\n",
      "c:\\Users\\esthelle.kuissu\\OneDrive - Exiom Partners\\Documents\\Code_rapport_stage\\Exiom_Stage\\.venv\\Lib\\site-packages\\sklearn\\preprocessing\\_encoders.py:246: UserWarning: Found unknown categories in columns [5, 14, 15] during transform. These unknown categories will be encoded as all zeros\n",
      "  warnings.warn(\n"
     ]
    },
    {
     "name": "stdout",
     "output_type": "stream",
     "text": [
      "\n",
      "=== MÉTRIQUES TEST ===\n",
      "Log‑loss : 0.266\n",
      "Brier     : 0.0728\n",
      "\n",
      "=== RAPPORT DE CLASSIFICATION ===\n",
      "              precision    recall  f1-score   support\n",
      "\n",
      "           1      0.000     0.000     0.000     16350\n",
      "           2      0.918     1.000     0.957    184019\n",
      "\n",
      "    accuracy                          0.918    200369\n",
      "   macro avg      0.459     0.500     0.479    200369\n",
      "weighted avg      0.843     0.918     0.879    200369\n",
      "\n"
     ]
    },
    {
     "name": "stderr",
     "output_type": "stream",
     "text": [
      "c:\\Users\\esthelle.kuissu\\OneDrive - Exiom Partners\\Documents\\Code_rapport_stage\\Exiom_Stage\\.venv\\Lib\\site-packages\\sklearn\\metrics\\_classification.py:1565: UndefinedMetricWarning: Precision is ill-defined and being set to 0.0 in labels with no predicted samples. Use `zero_division` parameter to control this behavior.\n",
      "  _warn_prf(average, modifier, f\"{metric.capitalize()} is\", len(result))\n",
      "c:\\Users\\esthelle.kuissu\\OneDrive - Exiom Partners\\Documents\\Code_rapport_stage\\Exiom_Stage\\.venv\\Lib\\site-packages\\sklearn\\metrics\\_classification.py:1565: UndefinedMetricWarning: Precision is ill-defined and being set to 0.0 in labels with no predicted samples. Use `zero_division` parameter to control this behavior.\n",
      "  _warn_prf(average, modifier, f\"{metric.capitalize()} is\", len(result))\n",
      "c:\\Users\\esthelle.kuissu\\OneDrive - Exiom Partners\\Documents\\Code_rapport_stage\\Exiom_Stage\\.venv\\Lib\\site-packages\\sklearn\\metrics\\_classification.py:1565: UndefinedMetricWarning: Precision is ill-defined and being set to 0.0 in labels with no predicted samples. Use `zero_division` parameter to control this behavior.\n",
      "  _warn_prf(average, modifier, f\"{metric.capitalize()} is\", len(result))\n"
     ]
    },
    {
     "data": {
      "image/png": "[encoded data removed]",
      "text/plain": [
       "<Figure size 640x480 with 2 Axes>"
      ]
     },
     "metadata": {},
     "output_type": "display_data"
    }
   ],
   "source": [
    "# ==============================================================  \n",
    "# 5. Refit avec les meilleurs hyperparamètres  \n",
    "# ==============================================================  \n",
    "from sklearn.calibration import CalibratedClassifierCV\n",
    "from sklearn.metrics import (\n",
    "    log_loss, brier_score_loss, classification_report,\n",
    "    confusion_matrix, ConfusionMatrixDisplay\n",
    ")\n",
    "import matplotlib.pyplot as plt\n",
    "import pandas as pd\n",
    "\n",
    "# Récupération des meilleurs paramètres\n",
    "best_C = study.best_params[\"C\"]\n",
    "best_ratio = study.best_params[\"ratio\"]\n",
    "\n",
    "# SMOTE avec le meilleur ratio\n",
    "smote_best = SMOTE(\n",
    "    sampling_strategy={minor_class: int(best_ratio * n_major)},\n",
    "    k_neighbors=5,\n",
    "    random_state=42\n",
    ")\n",
    "\n",
    "# Modèle logistique multinomial\n",
    "logit_best = LogisticRegression(\n",
    "    solver=\"saga\",\n",
    "    multi_class=\"multinomial\",\n",
    "    class_weight=\"balanced\",\n",
    "    C=best_C,\n",
    "    max_iter=600,\n",
    "    n_jobs=-1\n",
    ")\n",
    "\n",
    "# Pipeline complet\n",
    "best_pipe = ImbPipeline([\n",
    "    (\"prep\", preprocess),\n",
    "    (\"smote\", smote_best),\n",
    "    (\"clf\", logit_best)\n",
    "])\n",
    "\n",
    "# Calibration sur le train\n",
    "calibrated = CalibratedClassifierCV(\n",
    "    estimator=best_pipe,\n",
    "    method=\"isotonic\",\n",
    "    cv=3,\n",
    "    n_jobs=-1\n",
    ").fit(X_train, y_train)\n",
    "\n",
    "# ==============================================================  \n",
    "# 6. Évaluation sur le jeu de test  \n",
    "# ==============================================================  \n",
    "proba_test = calibrated.predict_proba(X_test)\n",
    "y_pred     = calibrated.predict(X_test)\n",
    "\n",
    "print(\"\\n=== MÉTRIQUES TEST ===\")\n",
    "print(\"Log‑loss :\", round(log_loss(y_test, proba_test), 4))\n",
    "print(\"Brier     :\", round(brier_score_loss(\n",
    "    pd.get_dummies(y_test).values.ravel(),\n",
    "    proba_test.ravel()\n",
    "), 4))\n",
    "\n",
    "print(\"\\n=== RAPPORT DE CLASSIFICATION ===\")\n",
    "print(classification_report(y_test, y_pred, digits=3))\n",
    "\n",
    "# Matrice de confusion normalisée\n",
    "cm = confusion_matrix(y_test, y_pred, normalize=\"true\")\n",
    "disp = ConfusionMatrixDisplay(\n",
    "    confusion_matrix=cm,\n",
    "    display_labels=calibrated.classes_  # ou liste personnalisée\n",
    ")\n",
    "disp.plot(values_format=\".2f\", cmap=\"Blues\")\n",
    "plt.title(\"Matrice de confusion normalisée – test set\")\n",
    "plt.tight_layout()\n",
    "plt.show()"
   ]
  },
  {
   "cell_type": "code",
   "execution_count": null,
   "id": "ec9ee733",
   "metadata": {},
   "outputs": [],
   "source": [
    "# 5. Re‑fit avec les meilleurs hyper‑paramètres\n",
    "# ==============================================================\n",
    "best_C     = study.best_value[\"C\"]\n",
    "best_ratio = study.best_params[\"ratio\"]\n",
    "\n",
    "smote_best = SMOTE(\n",
    "    sampling_strategy={minor_class: int(best_ratio * n_major)},\n",
    "    k_neighbors=5,\n",
    "    random_state=42\n",
    ")\n",
    "\n",
    "logit_best = LogisticRegression(\n",
    "    solver=\"saga\",\n",
    "    class_weight=\"balanced\",\n",
    "    C=best_C,\n",
    "    max_iter=400,\n",
    "    n_jobs=-1\n",
    ")\n",
    "\n",
    "best_pipe = ImbPipeline([\n",
    "    (\"prep\",  preprocess),\n",
    "    (\"smote\", smote_best),\n",
    "    (\"clf\",   logit_best)\n",
    "]).fit(X_train, y_train)\n",
    "\n",
    "\n",
    "\n",
    "# ==============================================================\n",
    "# 6. (Option) calibration\n",
    "# ==============================================================\n",
    "from sklearn.calibration import CalibratedClassifierCV\n",
    "\n",
    "calibrated = CalibratedClassifierCV(\n",
    "    estimator=best_pipe,\n",
    "    method=\"isotonic\",\n",
    "    cv=5,\n",
    "    n_jobs=-1\n",
    ").fit(X_train, y_train)\n",
    "\n",
    "print(\"\\n=== METRIQUES TEST ===\")\n",
    "print(\"Log‑loss :\", log_loss(y_test, calibrated.predict_proba(X_test)).round(4))\n"
   ]
  },
  {
   "cell_type": "code",
   "execution_count": null,
   "id": "b1317e36",
   "metadata": {},
   "outputs": [],
   "source": [
    "# ==============================================================\n",
    "# 0. Imports\n",
    "# ==============================================================\n",
    "import optuna\n",
    "from imblearn.over_sampling import SMOTE\n",
    "from imblearn.pipeline      import Pipeline as ImbPipeline\n",
    "from sklearn.linear_model   import LogisticRegression\n",
    "from sklearn.model_selection import StratifiedKFold, cross_val_score\n",
    "from sklearn.compose        import ColumnTransformer\n",
    "from sklearn.preprocessing  import StandardScaler, OneHotEncoder\n",
    "from sklearn.metrics        import log_loss\n",
    "import numpy as np\n",
    "\n",
    "# ==============================================================\n",
    "# 1. Prétraitement (One‑Hot sparse + StandardScaler)\n",
    "# ==============================================================\n",
    "preprocess = ColumnTransformer(\n",
    "    transformers=[\n",
    "        (\"num\", StandardScaler(), var_quanti),\n",
    "        (\"cat\", OneHotEncoder(drop=\"first\",\n",
    "                              handle_unknown=\"ignore\",\n",
    "                              sparse_output=True),\n",
    "                var_quali)\n",
    "    ],\n",
    "    remainder=\"drop\"\n",
    ")\n",
    "\n",
    "# ==============================================================\n",
    "# 2. Constantes globales\n",
    "# ==============================================================\n",
    "minor_class = 1                                # classe rare à booster\n",
    "counts      = y_train.value_counts()\n",
    "n_major     = counts.max()                     # effectif classe dominante\n",
    "\n",
    "# Limites raisonnables : 0.5 (minorité = 50 % de majorité) à 1.0\n",
    "RATIO_MIN, RATIO_MAX = 0.50, 1.00\n",
    "\n",
    "# ==============================================================\n",
    "# 3. Fonction objective Optuna\n",
    "# ==============================================================\n",
    "def objective(trial):\n",
    "\n",
    "    # --- hyper‑paramètres explorés ---------------------------------\n",
    "    C      = trial.suggest_float(\"C\", 1e-3, 10, log=True)\n",
    "    ratio  = trial.suggest_float(\"ratio\", RATIO_MIN, RATIO_MAX)\n",
    "\n",
    "    smote = SMOTE(\n",
    "        sampling_strategy={minor_class: int(ratio * n_major)},\n",
    "        k_neighbors=5,\n",
    "        random_state=42\n",
    "    )\n",
    "\n",
    "    logit = LogisticRegression(\n",
    "        solver=\"saga\",             # accepte CSR\n",
    "        class_weight=\"balanced\",\n",
    "        C=C,\n",
    "        max_iter=400,\n",
    "        n_jobs=-1\n",
    "    )\n",
    "\n",
    "    pipe = ImbPipeline([\n",
    "        (\"prep\",  preprocess),\n",
    "        (\"smote\", smote),\n",
    "        (\"clf\",   logit)\n",
    "    ])\n",
    "\n",
    "    # --- validation croisée ---------------------------------------\n",
    "    cv = StratifiedKFold(n_splits=5, shuffle=True, random_state=42)\n",
    "    try:\n",
    "        scores = cross_val_score(\n",
    "            pipe, X_train, y_train,\n",
    "            cv=cv,\n",
    "            scoring=\"neg_log_loss\",   # log‑loss (négatif) natif\n",
    "            n_jobs=1\n",
    "        )\n",
    "        return scores.mean()          # Optuna maximise -> valeur négative OK\n",
    "\n",
    "    except ValueError as e:\n",
    "        # stocke l'erreur pour diagnostic et prune l’essai\n",
    "        trial.set_user_attr(\"error_msg\", str(e))\n",
    "        raise optuna.exceptions.TrialPruned()\n",
    "\n",
    "# ==============================================================\n",
    "# 4. Lancement de l’optimisation\n",
    "# ==============================================================\n",
    "study = optuna.create_study(direction=\"maximize\")   # maximise le score négatif\n",
    "study.optimize(objective, n_trials=40, timeout=3600, show_progress_bar=True)\n",
    "\n",
    "print(\"\\n=== BEST TRIAL ===\")\n",
    "print(\"Mean neg‑logloss :\", study.best_value)\n",
    "print(\"Hyper‑params     :\", study.best_params)\n",
    "\n",
    "# ==============================================================\n",
    "# 5. Re‑fit avec les meilleurs hyper‑paramètres\n",
    "# ==============================================================\n",
    "best_C     = study.best_params[\"C\"]\n",
    "best_ratio = study.best_params[\"ratio\"]\n",
    "\n",
    "smote_best = SMOTE(\n",
    "    sampling_strategy={minor_class: int(best_ratio * n_major)},\n",
    "    k_neighbors=5,\n",
    "    random_state=42\n",
    ")\n",
    "\n",
    "logit_best = LogisticRegression(\n",
    "    solver=\"saga\",\n",
    "    class_weight=\"balanced\",\n",
    "    C=best_C,\n",
    "    max_iter=400,\n",
    "    n_jobs=-1\n",
    ")\n",
    "\n",
    "best_pipe = ImbPipeline([\n",
    "    (\"prep\",  preprocess),\n",
    "    (\"smote\", smote_best),\n",
    "    (\"clf\",   logit_best)\n",
    "]).fit(X_train, y_train)\n",
    "\n",
    "# ==============================================================\n",
    "# 6. (Option) calibration\n",
    "# ==============================================================\n",
    "from sklearn.calibration import CalibratedClassifierCV\n",
    "\n",
    "calibrated = CalibratedClassifierCV(\n",
    "    estimator=best_pipe,\n",
    "    method=\"isotonic\",\n",
    "    cv=5,\n",
    "    n_jobs=-1\n",
    ").fit(X_train, y_train)\n",
    "\n",
    "print(\"\\n=== METRIQUES TEST ===\")\n",
    "print(\"Log‑loss :\", log_loss(y_test, calibrated.predict_proba(X_test)).round(4))\n"
   ]
  },
  {
   "cell_type": "code",
   "execution_count": 34,
   "id": "08b13246",
   "metadata": {},
   "outputs": [
    {
     "name": "stderr",
     "output_type": "stream",
     "text": [
      "c:\\Users\\esthelle.kuissu\\OneDrive - Exiom Partners\\Documents\\Code_rapport_stage\\Exiom_Stage\\.venv\\Lib\\site-packages\\sklearn\\preprocessing\\_encoders.py:246: UserWarning: Found unknown categories in columns [5, 14, 15] during transform. These unknown categories will be encoded as all zeros\n",
      "  warnings.warn(\n",
      "c:\\Users\\esthelle.kuissu\\OneDrive - Exiom Partners\\Documents\\Code_rapport_stage\\Exiom_Stage\\.venv\\Lib\\site-packages\\sklearn\\preprocessing\\_encoders.py:246: UserWarning: Found unknown categories in columns [5, 14, 15] during transform. These unknown categories will be encoded as all zeros\n",
      "  warnings.warn(\n",
      "c:\\Users\\esthelle.kuissu\\OneDrive - Exiom Partners\\Documents\\Code_rapport_stage\\Exiom_Stage\\.venv\\Lib\\site-packages\\sklearn\\preprocessing\\_encoders.py:246: UserWarning: Found unknown categories in columns [5, 14, 15] during transform. These unknown categories will be encoded as all zeros\n",
      "  warnings.warn(\n",
      "c:\\Users\\esthelle.kuissu\\OneDrive - Exiom Partners\\Documents\\Code_rapport_stage\\Exiom_Stage\\.venv\\Lib\\site-packages\\sklearn\\preprocessing\\_encoders.py:246: UserWarning: Found unknown categories in columns [5, 14, 15] during transform. These unknown categories will be encoded as all zeros\n",
      "  warnings.warn(\n",
      "c:\\Users\\esthelle.kuissu\\OneDrive - Exiom Partners\\Documents\\Code_rapport_stage\\Exiom_Stage\\.venv\\Lib\\site-packages\\sklearn\\preprocessing\\_encoders.py:246: UserWarning: Found unknown categories in columns [5, 14, 15] during transform. These unknown categories will be encoded as all zeros\n",
      "  warnings.warn(\n",
      "c:\\Users\\esthelle.kuissu\\OneDrive - Exiom Partners\\Documents\\Code_rapport_stage\\Exiom_Stage\\.venv\\Lib\\site-packages\\sklearn\\preprocessing\\_encoders.py:246: UserWarning: Found unknown categories in columns [5, 14, 15] during transform. These unknown categories will be encoded as all zeros\n",
      "  warnings.warn(\n"
     ]
    },
    {
     "name": "stdout",
     "output_type": "stream",
     "text": [
      "\n",
      "=== METRIQUES TEST ===\n",
      "Log‑loss : 0.2703116939938663\n",
      "Brier     : 0.07328027823271355\n",
      "\n",
      "               precision    recall  f1-score   support\n",
      "\n",
      "           1      0.000     0.000     0.000     16350\n",
      "           2      0.918     1.000     0.957    184019\n",
      "\n",
      "    accuracy                          0.918    200369\n",
      "   macro avg      0.459     0.500     0.479    200369\n",
      "weighted avg      0.843     0.918     0.879    200369\n",
      "\n"
     ]
    },
    {
     "name": "stderr",
     "output_type": "stream",
     "text": [
      "c:\\Users\\esthelle.kuissu\\OneDrive - Exiom Partners\\Documents\\Code_rapport_stage\\Exiom_Stage\\.venv\\Lib\\site-packages\\sklearn\\metrics\\_classification.py:1565: UndefinedMetricWarning: Precision is ill-defined and being set to 0.0 in labels with no predicted samples. Use `zero_division` parameter to control this behavior.\n",
      "  _warn_prf(average, modifier, f\"{metric.capitalize()} is\", len(result))\n",
      "c:\\Users\\esthelle.kuissu\\OneDrive - Exiom Partners\\Documents\\Code_rapport_stage\\Exiom_Stage\\.venv\\Lib\\site-packages\\sklearn\\metrics\\_classification.py:1565: UndefinedMetricWarning: Precision is ill-defined and being set to 0.0 in labels with no predicted samples. Use `zero_division` parameter to control this behavior.\n",
      "  _warn_prf(average, modifier, f\"{metric.capitalize()} is\", len(result))\n",
      "c:\\Users\\esthelle.kuissu\\OneDrive - Exiom Partners\\Documents\\Code_rapport_stage\\Exiom_Stage\\.venv\\Lib\\site-packages\\sklearn\\metrics\\_classification.py:1565: UndefinedMetricWarning: Precision is ill-defined and being set to 0.0 in labels with no predicted samples. Use `zero_division` parameter to control this behavior.\n",
      "  _warn_prf(average, modifier, f\"{metric.capitalize()} is\", len(result))\n"
     ]
    },
    {
     "ename": "ValueError",
     "evalue": "The number of FixedLocator locations (2), usually from a call to set_ticks, does not match the number of labels (3).",
     "output_type": "error",
     "traceback": [
      "\u001b[31m---------------------------------------------------------------------------\u001b[39m",
      "\u001b[31mValueError\u001b[39m                                Traceback (most recent call last)",
      "\u001b[36mCell\u001b[39m\u001b[36m \u001b[39m\u001b[32mIn[34]\u001b[39m\u001b[32m, line 20\u001b[39m\n\u001b[32m     15\u001b[39m cm = confusion_matrix(y_test, y_pred, normalize=\u001b[33m\"\u001b[39m\u001b[33mtrue\u001b[39m\u001b[33m\"\u001b[39m)\n\u001b[32m     16\u001b[39m disp = ConfusionMatrixDisplay(confusion_matrix=cm,\n\u001b[32m     17\u001b[39m                               display_labels=[\u001b[33m\"\u001b[39m\u001b[33mMO+Peinture\u001b[39m\u001b[33m\"\u001b[39m,\n\u001b[32m     18\u001b[39m                                               \u001b[33m\"\u001b[39m\u001b[33mMO+Pièces\u001b[39m\u001b[33m\"\u001b[39m,\n\u001b[32m     19\u001b[39m                                               \u001b[33m\"\u001b[39m\u001b[33mMO+Peinture+Pièces\u001b[39m\u001b[33m\"\u001b[39m])\n\u001b[32m---> \u001b[39m\u001b[32m20\u001b[39m \u001b[43mdisp\u001b[49m\u001b[43m.\u001b[49m\u001b[43mplot\u001b[49m\u001b[43m(\u001b[49m\u001b[43mvalues_format\u001b[49m\u001b[43m=\u001b[49m\u001b[33;43m\"\u001b[39;49m\u001b[33;43m.2f\u001b[39;49m\u001b[33;43m\"\u001b[39;49m\u001b[43m)\u001b[49m\n\u001b[32m     21\u001b[39m plt.title(\u001b[33m\"\u001b[39m\u001b[33mConfusion matrix normalisée – test set\u001b[39m\u001b[33m\"\u001b[39m)\n\u001b[32m     22\u001b[39m plt.tight_layout()\n",
      "\u001b[36mFile \u001b[39m\u001b[32mc:\\Users\\esthelle.kuissu\\OneDrive - Exiom Partners\\Documents\\Code_rapport_stage\\Exiom_Stage\\.venv\\Lib\\site-packages\\sklearn\\metrics\\_plot\\confusion_matrix.py:185\u001b[39m, in \u001b[36mConfusionMatrixDisplay.plot\u001b[39m\u001b[34m(self, include_values, cmap, xticks_rotation, values_format, ax, colorbar, im_kw, text_kw)\u001b[39m\n\u001b[32m    183\u001b[39m \u001b[38;5;28;01mif\u001b[39;00m colorbar:\n\u001b[32m    184\u001b[39m     fig.colorbar(\u001b[38;5;28mself\u001b[39m.im_, ax=ax)\n\u001b[32m--> \u001b[39m\u001b[32m185\u001b[39m \u001b[43max\u001b[49m\u001b[43m.\u001b[49m\u001b[43mset\u001b[49m\u001b[43m(\u001b[49m\n\u001b[32m    186\u001b[39m \u001b[43m    \u001b[49m\u001b[43mxticks\u001b[49m\u001b[43m=\u001b[49m\u001b[43mnp\u001b[49m\u001b[43m.\u001b[49m\u001b[43marange\u001b[49m\u001b[43m(\u001b[49m\u001b[43mn_classes\u001b[49m\u001b[43m)\u001b[49m\u001b[43m,\u001b[49m\n\u001b[32m    187\u001b[39m \u001b[43m    \u001b[49m\u001b[43myticks\u001b[49m\u001b[43m=\u001b[49m\u001b[43mnp\u001b[49m\u001b[43m.\u001b[49m\u001b[43marange\u001b[49m\u001b[43m(\u001b[49m\u001b[43mn_classes\u001b[49m\u001b[43m)\u001b[49m\u001b[43m,\u001b[49m\n\u001b[32m    188\u001b[39m \u001b[43m    \u001b[49m\u001b[43mxticklabels\u001b[49m\u001b[43m=\u001b[49m\u001b[43mdisplay_labels\u001b[49m\u001b[43m,\u001b[49m\n\u001b[32m    189\u001b[39m \u001b[43m    \u001b[49m\u001b[43myticklabels\u001b[49m\u001b[43m=\u001b[49m\u001b[43mdisplay_labels\u001b[49m\u001b[43m,\u001b[49m\n\u001b[32m    190\u001b[39m \u001b[43m    \u001b[49m\u001b[43mylabel\u001b[49m\u001b[43m=\u001b[49m\u001b[33;43m\"\u001b[39;49m\u001b[33;43mTrue label\u001b[39;49m\u001b[33;43m\"\u001b[39;49m\u001b[43m,\u001b[49m\n\u001b[32m    191\u001b[39m \u001b[43m    \u001b[49m\u001b[43mxlabel\u001b[49m\u001b[43m=\u001b[49m\u001b[33;43m\"\u001b[39;49m\u001b[33;43mPredicted label\u001b[39;49m\u001b[33;43m\"\u001b[39;49m\u001b[43m,\u001b[49m\n\u001b[32m    192\u001b[39m \u001b[43m\u001b[49m\u001b[43m)\u001b[49m\n\u001b[32m    194\u001b[39m ax.set_ylim((n_classes - \u001b[32m0.5\u001b[39m, -\u001b[32m0.5\u001b[39m))\n\u001b[32m    195\u001b[39m plt.setp(ax.get_xticklabels(), rotation=xticks_rotation)\n",
      "\u001b[36mFile \u001b[39m\u001b[32mc:\\Users\\esthelle.kuissu\\OneDrive - Exiom Partners\\Documents\\Code_rapport_stage\\Exiom_Stage\\.venv\\Lib\\site-packages\\matplotlib\\artist.py:146\u001b[39m, in \u001b[36mArtist.__init_subclass__.<locals>.<lambda>\u001b[39m\u001b[34m(self, **kwargs)\u001b[39m\n\u001b[32m    138\u001b[39m \u001b[38;5;28;01mif\u001b[39;00m \u001b[38;5;129;01mnot\u001b[39;00m \u001b[38;5;28mhasattr\u001b[39m(\u001b[38;5;28mcls\u001b[39m.set, \u001b[33m'\u001b[39m\u001b[33m_autogenerated_signature\u001b[39m\u001b[33m'\u001b[39m):\n\u001b[32m    139\u001b[39m     \u001b[38;5;66;03m# Don't overwrite cls.set if the subclass or one of its parents\u001b[39;00m\n\u001b[32m    140\u001b[39m     \u001b[38;5;66;03m# has defined a set method set itself.\u001b[39;00m\n\u001b[32m    141\u001b[39m     \u001b[38;5;66;03m# If there was no explicit definition, cls.set is inherited from\u001b[39;00m\n\u001b[32m    142\u001b[39m     \u001b[38;5;66;03m# the hierarchy of auto-generated set methods, which hold the\u001b[39;00m\n\u001b[32m    143\u001b[39m     \u001b[38;5;66;03m# flag _autogenerated_signature.\u001b[39;00m\n\u001b[32m    144\u001b[39m     \u001b[38;5;28;01mreturn\u001b[39;00m\n\u001b[32m--> \u001b[39m\u001b[32m146\u001b[39m \u001b[38;5;28mcls\u001b[39m.set = \u001b[38;5;28;01mlambda\u001b[39;00m \u001b[38;5;28mself\u001b[39m, **kwargs: \u001b[43mArtist\u001b[49m\u001b[43m.\u001b[49m\u001b[43mset\u001b[49m\u001b[43m(\u001b[49m\u001b[38;5;28;43mself\u001b[39;49m\u001b[43m,\u001b[49m\u001b[43m \u001b[49m\u001b[43m*\u001b[49m\u001b[43m*\u001b[49m\u001b[43mkwargs\u001b[49m\u001b[43m)\u001b[49m\n\u001b[32m    147\u001b[39m \u001b[38;5;28mcls\u001b[39m.set.\u001b[34m__name__\u001b[39m = \u001b[33m\"\u001b[39m\u001b[33mset\u001b[39m\u001b[33m\"\u001b[39m\n\u001b[32m    148\u001b[39m \u001b[38;5;28mcls\u001b[39m.set.\u001b[34m__qualname__\u001b[39m = \u001b[33mf\u001b[39m\u001b[33m\"\u001b[39m\u001b[38;5;132;01m{\u001b[39;00m\u001b[38;5;28mcls\u001b[39m.\u001b[34m__qualname__\u001b[39m\u001b[38;5;132;01m}\u001b[39;00m\u001b[33m.set\u001b[39m\u001b[33m\"\u001b[39m\n",
      "\u001b[36mFile \u001b[39m\u001b[32mc:\\Users\\esthelle.kuissu\\OneDrive - Exiom Partners\\Documents\\Code_rapport_stage\\Exiom_Stage\\.venv\\Lib\\site-packages\\matplotlib\\artist.py:1241\u001b[39m, in \u001b[36mArtist.set\u001b[39m\u001b[34m(self, **kwargs)\u001b[39m\n\u001b[32m   1237\u001b[39m \u001b[38;5;28;01mdef\u001b[39;00m\u001b[38;5;250m \u001b[39m\u001b[34mset\u001b[39m(\u001b[38;5;28mself\u001b[39m, **kwargs):\n\u001b[32m   1238\u001b[39m     \u001b[38;5;66;03m# docstring and signature are auto-generated via\u001b[39;00m\n\u001b[32m   1239\u001b[39m     \u001b[38;5;66;03m# Artist._update_set_signature_and_docstring() at the end of the\u001b[39;00m\n\u001b[32m   1240\u001b[39m     \u001b[38;5;66;03m# module.\u001b[39;00m\n\u001b[32m-> \u001b[39m\u001b[32m1241\u001b[39m     \u001b[38;5;28;01mreturn\u001b[39;00m \u001b[38;5;28;43mself\u001b[39;49m\u001b[43m.\u001b[49m\u001b[43m_internal_update\u001b[49m\u001b[43m(\u001b[49m\u001b[43mcbook\u001b[49m\u001b[43m.\u001b[49m\u001b[43mnormalize_kwargs\u001b[49m\u001b[43m(\u001b[49m\u001b[43mkwargs\u001b[49m\u001b[43m,\u001b[49m\u001b[43m \u001b[49m\u001b[38;5;28;43mself\u001b[39;49m\u001b[43m)\u001b[49m\u001b[43m)\u001b[49m\n",
      "\u001b[36mFile \u001b[39m\u001b[32mc:\\Users\\esthelle.kuissu\\OneDrive - Exiom Partners\\Documents\\Code_rapport_stage\\Exiom_Stage\\.venv\\Lib\\site-packages\\matplotlib\\artist.py:1233\u001b[39m, in \u001b[36mArtist._internal_update\u001b[39m\u001b[34m(self, kwargs)\u001b[39m\n\u001b[32m   1226\u001b[39m \u001b[38;5;28;01mdef\u001b[39;00m\u001b[38;5;250m \u001b[39m\u001b[34m_internal_update\u001b[39m(\u001b[38;5;28mself\u001b[39m, kwargs):\n\u001b[32m   1227\u001b[39m \u001b[38;5;250m    \u001b[39m\u001b[33;03m\"\"\"\u001b[39;00m\n\u001b[32m   1228\u001b[39m \u001b[33;03m    Update artist properties without prenormalizing them, but generating\u001b[39;00m\n\u001b[32m   1229\u001b[39m \u001b[33;03m    errors as if calling `set`.\u001b[39;00m\n\u001b[32m   1230\u001b[39m \n\u001b[32m   1231\u001b[39m \u001b[33;03m    The lack of prenormalization is to maintain backcompatibility.\u001b[39;00m\n\u001b[32m   1232\u001b[39m \u001b[33;03m    \"\"\"\u001b[39;00m\n\u001b[32m-> \u001b[39m\u001b[32m1233\u001b[39m     \u001b[38;5;28;01mreturn\u001b[39;00m \u001b[38;5;28;43mself\u001b[39;49m\u001b[43m.\u001b[49m\u001b[43m_update_props\u001b[49m\u001b[43m(\u001b[49m\n\u001b[32m   1234\u001b[39m \u001b[43m        \u001b[49m\u001b[43mkwargs\u001b[49m\u001b[43m,\u001b[49m\u001b[43m \u001b[49m\u001b[33;43m\"\u001b[39;49m\u001b[38;5;132;43;01m{cls.__name__}\u001b[39;49;00m\u001b[33;43m.set() got an unexpected keyword argument \u001b[39;49m\u001b[33;43m\"\u001b[39;49m\n\u001b[32m   1235\u001b[39m \u001b[43m        \u001b[49m\u001b[33;43m\"\u001b[39;49m\u001b[38;5;132;43;01m{prop_name!r}\u001b[39;49;00m\u001b[33;43m\"\u001b[39;49m\u001b[43m)\u001b[49m\n",
      "\u001b[36mFile \u001b[39m\u001b[32mc:\\Users\\esthelle.kuissu\\OneDrive - Exiom Partners\\Documents\\Code_rapport_stage\\Exiom_Stage\\.venv\\Lib\\site-packages\\matplotlib\\artist.py:1209\u001b[39m, in \u001b[36mArtist._update_props\u001b[39m\u001b[34m(self, props, errfmt)\u001b[39m\n\u001b[32m   1205\u001b[39m             \u001b[38;5;28;01mif\u001b[39;00m \u001b[38;5;129;01mnot\u001b[39;00m \u001b[38;5;28mcallable\u001b[39m(func):\n\u001b[32m   1206\u001b[39m                 \u001b[38;5;28;01mraise\u001b[39;00m \u001b[38;5;167;01mAttributeError\u001b[39;00m(\n\u001b[32m   1207\u001b[39m                     errfmt.format(\u001b[38;5;28mcls\u001b[39m=\u001b[38;5;28mtype\u001b[39m(\u001b[38;5;28mself\u001b[39m), prop_name=k),\n\u001b[32m   1208\u001b[39m                     name=k)\n\u001b[32m-> \u001b[39m\u001b[32m1209\u001b[39m             ret.append(\u001b[43mfunc\u001b[49m\u001b[43m(\u001b[49m\u001b[43mv\u001b[49m\u001b[43m)\u001b[49m)\n\u001b[32m   1210\u001b[39m \u001b[38;5;28;01mif\u001b[39;00m ret:\n\u001b[32m   1211\u001b[39m     \u001b[38;5;28mself\u001b[39m.pchanged()\n",
      "\u001b[36mFile \u001b[39m\u001b[32mc:\\Users\\esthelle.kuissu\\OneDrive - Exiom Partners\\Documents\\Code_rapport_stage\\Exiom_Stage\\.venv\\Lib\\site-packages\\matplotlib\\axes\\_base.py:74\u001b[39m, in \u001b[36m_axis_method_wrapper.__set_name__.<locals>.wrapper\u001b[39m\u001b[34m(self, *args, **kwargs)\u001b[39m\n\u001b[32m     73\u001b[39m \u001b[38;5;28;01mdef\u001b[39;00m\u001b[38;5;250m \u001b[39m\u001b[34mwrapper\u001b[39m(\u001b[38;5;28mself\u001b[39m, *args, **kwargs):\n\u001b[32m---> \u001b[39m\u001b[32m74\u001b[39m     \u001b[38;5;28;01mreturn\u001b[39;00m \u001b[43mget_method\u001b[49m\u001b[43m(\u001b[49m\u001b[38;5;28;43mself\u001b[39;49m\u001b[43m)\u001b[49m\u001b[43m(\u001b[49m\u001b[43m*\u001b[49m\u001b[43margs\u001b[49m\u001b[43m,\u001b[49m\u001b[43m \u001b[49m\u001b[43m*\u001b[49m\u001b[43m*\u001b[49m\u001b[43mkwargs\u001b[49m\u001b[43m)\u001b[49m\n",
      "\u001b[36mFile \u001b[39m\u001b[32mc:\\Users\\esthelle.kuissu\\OneDrive - Exiom Partners\\Documents\\Code_rapport_stage\\Exiom_Stage\\.venv\\Lib\\site-packages\\matplotlib\\axis.py:2106\u001b[39m, in \u001b[36mAxis.set_ticklabels\u001b[39m\u001b[34m(self, labels, minor, fontdict, **kwargs)\u001b[39m\n\u001b[32m   2102\u001b[39m \u001b[38;5;28;01melif\u001b[39;00m \u001b[38;5;28misinstance\u001b[39m(locator, mticker.FixedLocator):\n\u001b[32m   2103\u001b[39m     \u001b[38;5;66;03m# Passing [] as a list of labels is often used as a way to\u001b[39;00m\n\u001b[32m   2104\u001b[39m     \u001b[38;5;66;03m# remove all tick labels, so only error for > 0 labels\u001b[39;00m\n\u001b[32m   2105\u001b[39m     \u001b[38;5;28;01mif\u001b[39;00m \u001b[38;5;28mlen\u001b[39m(locator.locs) != \u001b[38;5;28mlen\u001b[39m(labels) \u001b[38;5;129;01mand\u001b[39;00m \u001b[38;5;28mlen\u001b[39m(labels) != \u001b[32m0\u001b[39m:\n\u001b[32m-> \u001b[39m\u001b[32m2106\u001b[39m         \u001b[38;5;28;01mraise\u001b[39;00m \u001b[38;5;167;01mValueError\u001b[39;00m(\n\u001b[32m   2107\u001b[39m             \u001b[33m\"\u001b[39m\u001b[33mThe number of FixedLocator locations\u001b[39m\u001b[33m\"\u001b[39m\n\u001b[32m   2108\u001b[39m             \u001b[33mf\u001b[39m\u001b[33m\"\u001b[39m\u001b[33m (\u001b[39m\u001b[38;5;132;01m{\u001b[39;00m\u001b[38;5;28mlen\u001b[39m(locator.locs)\u001b[38;5;132;01m}\u001b[39;00m\u001b[33m), usually from a call to\u001b[39m\u001b[33m\"\u001b[39m\n\u001b[32m   2109\u001b[39m             \u001b[33m\"\u001b[39m\u001b[33m set_ticks, does not match\u001b[39m\u001b[33m\"\u001b[39m\n\u001b[32m   2110\u001b[39m             \u001b[33mf\u001b[39m\u001b[33m\"\u001b[39m\u001b[33m the number of labels (\u001b[39m\u001b[38;5;132;01m{\u001b[39;00m\u001b[38;5;28mlen\u001b[39m(labels)\u001b[38;5;132;01m}\u001b[39;00m\u001b[33m).\u001b[39m\u001b[33m\"\u001b[39m)\n\u001b[32m   2111\u001b[39m     tickd = {loc: lab \u001b[38;5;28;01mfor\u001b[39;00m loc, lab \u001b[38;5;129;01min\u001b[39;00m \u001b[38;5;28mzip\u001b[39m(locator.locs, labels)}\n\u001b[32m   2112\u001b[39m     func = functools.partial(\u001b[38;5;28mself\u001b[39m._format_with_dict, tickd)\n",
      "\u001b[31mValueError\u001b[39m: The number of FixedLocator locations (2), usually from a call to set_ticks, does not match the number of labels (3)."
     ]
    },
    {
     "data": {
      "image/png": "[encoded data removed]",
      "text/plain": [
       "<Figure size 640x480 with 2 Axes>"
      ]
     },
     "metadata": {},
     "output_type": "display_data"
    }
   ],
   "source": [
    "# ---------------------------------------------------------------------------\n",
    "# 9. ÉVALUATION SUR LE TEST ---------------------------------------------------\n",
    "# ---------------------------------------------------------------------------\n",
    "import matplotlib.pyplot as plt\n",
    "\n",
    "proba_test = calibrated.predict_proba(X_test)\n",
    "y_pred     = calibrated.predict(X_test)\n",
    "\n",
    "print(\"\\n=== METRIQUES TEST ===\")\n",
    "print(\"Log‑loss :\", log_loss(y_test, proba_test))\n",
    "print(\"Brier     :\", brier_score_loss(\n",
    "    pd.get_dummies(y_test).values.ravel(), proba_test.ravel()))\n",
    "print(\"\\n\", classification_report(y_test, y_pred, digits=3))\n",
    "\n",
    "cm = confusion_matrix(y_test, y_pred, normalize=\"true\")\n",
    "disp = ConfusionMatrixDisplay(confusion_matrix=cm,\n",
    "                              display_labels=[\"MO+Peinture\",\n",
    "                                              \"MO+Pièces\",\n",
    "                                              \"MO+Peinture+Pièces\"])\n",
    "disp.plot(values_format=\".2f\")\n",
    "plt.title(\"Confusion matrix normalisée – test set\")\n",
    "plt.tight_layout()\n",
    "plt.show()"
   ]
  },
  {
   "cell_type": "code",
   "execution_count": 43,
   "id": "f06c36f2",
   "metadata": {},
   "outputs": [
    {
     "data": {
      "text/plain": [
       "(620863    3\n",
       " 43778     3\n",
       " 152872    3\n",
       " 622096    3\n",
       " 230343    3\n",
       "          ..\n",
       " 889052    3\n",
       " 143147    3\n",
       " 20141     3\n",
       " 671825    3\n",
       " 133555    3\n",
       " Name: structure_id, Length: 200369, dtype: int64,\n",
       " array([3, 3, 3, ..., 3, 3, 3], shape=(200369,)))"
      ]
     },
     "execution_count": 43,
     "metadata": {},
     "output_type": "execute_result"
    }
   ],
   "source": [
    "y_test, y_pred"
   ]
  },
  {
   "cell_type": "code",
   "execution_count": 44,
   "id": "e6a10872",
   "metadata": {},
   "outputs": [],
   "source": [
    "df_comparaison = pd.DataFrame({\n",
    "    'Valeur réelle': y_test,\n",
    "    'Valeur prédite': y_pred  # ou 'Probabilité prédite': proba_test\n",
    "})\n",
    "\n"
   ]
  },
  {
   "cell_type": "code",
   "execution_count": 45,
   "id": "c553c124",
   "metadata": {},
   "outputs": [
    {
     "data": {
      "text/html": [
       "<div>\n",
       "<style scoped>\n",
       "    .dataframe tbody tr th:only-of-type {\n",
       "        vertical-align: middle;\n",
       "    }\n",
       "\n",
       "    .dataframe tbody tr th {\n",
       "        vertical-align: top;\n",
       "    }\n",
       "\n",
       "    .dataframe thead th {\n",
       "        text-align: right;\n",
       "    }\n",
       "</style>\n",
       "<table border=\"1\" class=\"dataframe\">\n",
       "  <thead>\n",
       "    <tr style=\"text-align: right;\">\n",
       "      <th></th>\n",
       "      <th>Valeur réelle</th>\n",
       "      <th>Valeur prédite</th>\n",
       "    </tr>\n",
       "  </thead>\n",
       "  <tbody>\n",
       "    <tr>\n",
       "      <th>620863</th>\n",
       "      <td>3</td>\n",
       "      <td>3</td>\n",
       "    </tr>\n",
       "    <tr>\n",
       "      <th>43778</th>\n",
       "      <td>3</td>\n",
       "      <td>3</td>\n",
       "    </tr>\n",
       "    <tr>\n",
       "      <th>152872</th>\n",
       "      <td>3</td>\n",
       "      <td>3</td>\n",
       "    </tr>\n",
       "    <tr>\n",
       "      <th>622096</th>\n",
       "      <td>3</td>\n",
       "      <td>3</td>\n",
       "    </tr>\n",
       "    <tr>\n",
       "      <th>230343</th>\n",
       "      <td>3</td>\n",
       "      <td>3</td>\n",
       "    </tr>\n",
       "    <tr>\n",
       "      <th>...</th>\n",
       "      <td>...</td>\n",
       "      <td>...</td>\n",
       "    </tr>\n",
       "    <tr>\n",
       "      <th>606410</th>\n",
       "      <td>3</td>\n",
       "      <td>3</td>\n",
       "    </tr>\n",
       "    <tr>\n",
       "      <th>504960</th>\n",
       "      <td>1</td>\n",
       "      <td>1</td>\n",
       "    </tr>\n",
       "    <tr>\n",
       "      <th>15282</th>\n",
       "      <td>1</td>\n",
       "      <td>1</td>\n",
       "    </tr>\n",
       "    <tr>\n",
       "      <th>728987</th>\n",
       "      <td>3</td>\n",
       "      <td>3</td>\n",
       "    </tr>\n",
       "    <tr>\n",
       "      <th>247322</th>\n",
       "      <td>3</td>\n",
       "      <td>3</td>\n",
       "    </tr>\n",
       "  </tbody>\n",
       "</table>\n",
       "<p>100 rows × 2 columns</p>\n",
       "</div>"
      ],
      "text/plain": [
       "        Valeur réelle  Valeur prédite\n",
       "620863              3               3\n",
       "43778               3               3\n",
       "152872              3               3\n",
       "622096              3               3\n",
       "230343              3               3\n",
       "...               ...             ...\n",
       "606410              3               3\n",
       "504960              1               1\n",
       "15282               1               1\n",
       "728987              3               3\n",
       "247322              3               3\n",
       "\n",
       "[100 rows x 2 columns]"
      ]
     },
     "execution_count": 45,
     "metadata": {},
     "output_type": "execute_result"
    }
   ],
   "source": [
    "df_comparaison.head(100)"
   ]
  },
  {
   "cell_type": "code",
   "execution_count": null,
   "id": "686a435c",
   "metadata": {},
   "outputs": [],
   "source": [
    "# ---------------------------------------------------------------------------\n",
    "# 10. PRÉDICTION POUR UN NOUVEAU SINISTRE ------------------------------------\n",
    "# ---------------------------------------------------------------------------\n",
    "nouveau = pd.DataFrame({\n",
    "    \"age_vehicule\": [4],\n",
    "    \"puissance_fiscale\": [6],\n",
    "    \"km_parcourus\": [47_000],\n",
    "    \"type_choc\": [\"arrière\"],\n",
    "    \"zone_impact\": [\"pare_chocs\"],\n",
    "    \"carrosserie\": [\"berline\"],\n",
    "    \"energie\": [\"essence\"]\n",
    "})\n",
    "\n",
    "proba_nouveau = cal_clf.predict_proba(nouveau)[0]\n",
    "print(\"\\nP(combos | sinistre) :\", proba_nouveau)\n",
    "print(\"  ↳ MO+Peinture        :\", proba_nouveau[0])\n",
    "print(\"  ↳ MO+Pièces          :\", proba_nouveau[1])\n",
    "print(\"  ↳ MO+Peinture+Pièces :\", proba_nouveau[2])\n",
    "\n",
    "# ---------------------------------------------------------------------------\n",
    "# 11. SAUVEGARDE DU PIPELINE CALIBRÉ -----------------------------------------\n",
    "# ---------------------------------------------------------------------------\n",
    "joblib.dump(cal_clf, \"artifacts/combo_classifier.pkl\")\n",
    "print(\"\\n✅  Pipeline sauvegardé : artifacts/combo_classifier.pkl\")"
   ]
  },
  {
   "cell_type": "code",
   "execution_count": null,
   "id": "820661dc",
   "metadata": {},
   "outputs": [],
   "source": []
  },
  {
   "cell_type": "code",
   "execution_count": 63,
   "id": "a7a4da73",
   "metadata": {},
   "outputs": [],
   "source": [
    "vars_final_num = [col for col in vars_final_num if col != 'structure_id']\n"
   ]
  },
  {
   "cell_type": "code",
   "execution_count": 27,
   "id": "bfbf2fa6",
   "metadata": {},
   "outputs": [
    {
     "name": "stdout",
     "output_type": "stream",
     "text": [
      "1.7.0\n"
     ]
    }
   ],
   "source": [
    "import sklearn\n",
    "print(sklearn.__version__)\n"
   ]
  },
  {
   "cell_type": "markdown",
   "id": "13149822",
   "metadata": {},
   "source": [
    "# 30 JUIN"
   ]
  },
  {
   "cell_type": "markdown",
   "id": "c31130fb",
   "metadata": {},
   "source": [
    "# STOP "
   ]
  },
  {
   "cell_type": "code",
   "execution_count": 43,
   "id": "a6fca9a9",
   "metadata": {},
   "outputs": [],
   "source": [
    "y_pred = clf.predict(X_test_ohe)\n"
   ]
  },
  {
   "cell_type": "code",
   "execution_count": 65,
   "id": "458d80af",
   "metadata": {},
   "outputs": [
    {
     "name": "stdout",
     "output_type": "stream",
     "text": [
      "    réel  prévu\n",
      "0      5      5\n",
      "1      5      5\n",
      "2      5      2\n",
      "3      2      5\n",
      "4      5      2\n",
      "5      2      5\n",
      "6      5      5\n",
      "7      5      2\n",
      "8      2      5\n",
      "9      5      2\n",
      "10     5      5\n",
      "11     5      5\n",
      "12     2      5\n",
      "13     5      2\n",
      "14     5      5\n",
      "15     5      2\n",
      "16     5      5\n",
      "17     5      2\n",
      "18     5      2\n",
      "19     5      2\n"
     ]
    }
   ],
   "source": [
    "# En tableau côte à côte\n",
    "comparaison = pd.DataFrame({\n",
    "    \"réel\": y_test.values,\n",
    "    \"prévu\": y_pred\n",
    "})\n",
    "\n",
    "print(comparaison.head(20))  # Affiche les 20 premières lignes"
   ]
  },
  {
   "cell_type": "code",
   "execution_count": 66,
   "id": "b70bf8a8",
   "metadata": {},
   "outputs": [
    {
     "name": "stdout",
     "output_type": "stream",
     "text": [
      "Accuracy : 0.6930463295220318\n",
      "Précision : 0.8719043443871974\n",
      "Rappel : 0.6930463295220318\n",
      "F1-score : 0.7604240433091027\n",
      "\n",
      "Rapport complet :\n",
      "               precision    recall  f1-score   support\n",
      "\n",
      "           1       0.00      0.00      0.00         3\n",
      "           2       0.13      0.47      0.20     16270\n",
      "           3       0.00      0.01      0.00        71\n",
      "           4       0.00      0.00      0.00         5\n",
      "           5       0.94      0.71      0.81    184020\n",
      "\n",
      "    accuracy                           0.69    200369\n",
      "   macro avg       0.21      0.24      0.20    200369\n",
      "weighted avg       0.87      0.69      0.76    200369\n",
      "\n"
     ]
    },
    {
     "data": {
      "image/png": "[encoded data removed]",
      "text/plain": [
       "<Figure size 800x600 with 2 Axes>"
      ]
     },
     "metadata": {},
     "output_type": "display_data"
    }
   ],
   "source": [
    "from sklearn.metrics import (\n",
    "    accuracy_score,\n",
    "    precision_score,\n",
    "    recall_score,\n",
    "    f1_score,\n",
    "    confusion_matrix,\n",
    "    classification_report,\n",
    "    roc_auc_score,\n",
    "    roc_curve\n",
    ")\n",
    "import matplotlib.pyplot as plt\n",
    "import seaborn as sns\n",
    "\n",
    "# ⚡ Score global\n",
    "print(\"Accuracy :\", accuracy_score(y_test, y_pred))\n",
    "\n",
    "# 🎯 Précision, Rappel, F1-score\n",
    "print(\"Précision :\", precision_score(y_test, y_pred, average='weighted'))\n",
    "print(\"Rappel :\", recall_score(y_test, y_pred, average='weighted'))\n",
    "print(\"F1-score :\", f1_score(y_test, y_pred, average='weighted'))\n",
    "\n",
    "# 🧾 Rapport complet\n",
    "print(\"\\nRapport complet :\\n\", classification_report(y_test, y_pred))\n",
    "\n",
    "# 🔥 Matrice de confusion\n",
    "cm = confusion_matrix(y_test, y_pred)\n",
    "plt.figure(figsize=(8,6))\n",
    "sns.heatmap(cm, annot=True, fmt='d', cmap='Blues')\n",
    "plt.title(\"Matrice de confusion\")\n",
    "plt.xlabel(\"Prédictions\")\n",
    "plt.ylabel(\"Véritables\")\n",
    "plt.show()\n"
   ]
  },
  {
   "cell_type": "code",
   "execution_count": 91,
   "id": "fa0324c9",
   "metadata": {},
   "outputs": [
    {
     "name": "stdout",
     "output_type": "stream",
     "text": [
      "X_res shape : (3680385, 56075)\n",
      "X_test_ohe shape : (200369, 56075)\n",
      "Are they equal ? False\n"
     ]
    }
   ],
   "source": [
    "print(\"X_res shape :\", X_res.shape)\n",
    "print(\"X_test_ohe shape :\", X_test_ohe.shape)\n",
    "print(\"Are they equal ?\", np.array_equal(X_res, X_test_ohe))"
   ]
  },
  {
   "cell_type": "code",
   "execution_count": 92,
   "id": "312ce92f",
   "metadata": {},
   "outputs": [
    {
     "ename": "KeyboardInterrupt",
     "evalue": "",
     "output_type": "error",
     "traceback": [
      "\u001b[31m---------------------------------------------------------------------------\u001b[39m",
      "\u001b[31mKeyboardInterrupt\u001b[39m                         Traceback (most recent call last)",
      "\u001b[36mCell\u001b[39m\u001b[36m \u001b[39m\u001b[32mIn[92]\u001b[39m\u001b[32m, line 4\u001b[39m\n\u001b[32m      1\u001b[39m \u001b[38;5;28;01mimport\u001b[39;00m\u001b[38;5;250m \u001b[39m\u001b[34;01mnumpy\u001b[39;00m\u001b[38;5;250m \u001b[39m\u001b[38;5;28;01mas\u001b[39;00m\u001b[38;5;250m \u001b[39m\u001b[34;01mnp\u001b[39;00m\n\u001b[32m      2\u001b[39m \u001b[38;5;28;01mfrom\u001b[39;00m\u001b[38;5;250m \u001b[39m\u001b[34;01msklearn\u001b[39;00m\u001b[34;01m.\u001b[39;00m\u001b[34;01mfeature_selection\u001b[39;00m\u001b[38;5;250m \u001b[39m\u001b[38;5;28;01mimport\u001b[39;00m mutual_info_classif\n\u001b[32m----> \u001b[39m\u001b[32m4\u001b[39m mi = \u001b[43mmutual_info_classif\u001b[49m\u001b[43m(\u001b[49m\u001b[43mX_train_ohe\u001b[49m\u001b[43m,\u001b[49m\u001b[43m \u001b[49m\u001b[43my_train\u001b[49m\u001b[43m)\u001b[49m\n\u001b[32m      5\u001b[39m \u001b[38;5;28mprint\u001b[39m(\u001b[33m\"\u001b[39m\u001b[33mTop 10 variables les plus informatives :\u001b[39m\u001b[33m\"\u001b[39m, np.argsort(mi)[-\u001b[32m10\u001b[39m:])\n",
      "\u001b[36mFile \u001b[39m\u001b[32mc:\\Users\\esthelle.kuissu\\OneDrive - Exiom Partners\\Documents\\Code_rapport_stage\\Note_book\\Exiom_Stage\\.venv\\Lib\\site-packages\\sklearn\\utils\\_param_validation.py:218\u001b[39m, in \u001b[36mvalidate_params.<locals>.decorator.<locals>.wrapper\u001b[39m\u001b[34m(*args, **kwargs)\u001b[39m\n\u001b[32m    212\u001b[39m \u001b[38;5;28;01mtry\u001b[39;00m:\n\u001b[32m    213\u001b[39m     \u001b[38;5;28;01mwith\u001b[39;00m config_context(\n\u001b[32m    214\u001b[39m         skip_parameter_validation=(\n\u001b[32m    215\u001b[39m             prefer_skip_nested_validation \u001b[38;5;129;01mor\u001b[39;00m global_skip_validation\n\u001b[32m    216\u001b[39m         )\n\u001b[32m    217\u001b[39m     ):\n\u001b[32m--> \u001b[39m\u001b[32m218\u001b[39m         \u001b[38;5;28;01mreturn\u001b[39;00m \u001b[43mfunc\u001b[49m\u001b[43m(\u001b[49m\u001b[43m*\u001b[49m\u001b[43margs\u001b[49m\u001b[43m,\u001b[49m\u001b[43m \u001b[49m\u001b[43m*\u001b[49m\u001b[43m*\u001b[49m\u001b[43mkwargs\u001b[49m\u001b[43m)\u001b[49m\n\u001b[32m    219\u001b[39m \u001b[38;5;28;01mexcept\u001b[39;00m InvalidParameterError \u001b[38;5;28;01mas\u001b[39;00m e:\n\u001b[32m    220\u001b[39m     \u001b[38;5;66;03m# When the function is just a wrapper around an estimator, we allow\u001b[39;00m\n\u001b[32m    221\u001b[39m     \u001b[38;5;66;03m# the function to delegate validation to the estimator, but we replace\u001b[39;00m\n\u001b[32m    222\u001b[39m     \u001b[38;5;66;03m# the name of the estimator by the name of the function in the error\u001b[39;00m\n\u001b[32m    223\u001b[39m     \u001b[38;5;66;03m# message to avoid confusion.\u001b[39;00m\n\u001b[32m    224\u001b[39m     msg = re.sub(\n\u001b[32m    225\u001b[39m         \u001b[33mr\u001b[39m\u001b[33m\"\u001b[39m\u001b[33mparameter of \u001b[39m\u001b[33m\\\u001b[39m\u001b[33mw+ must be\u001b[39m\u001b[33m\"\u001b[39m,\n\u001b[32m    226\u001b[39m         \u001b[33mf\u001b[39m\u001b[33m\"\u001b[39m\u001b[33mparameter of \u001b[39m\u001b[38;5;132;01m{\u001b[39;00mfunc.\u001b[34m__qualname__\u001b[39m\u001b[38;5;132;01m}\u001b[39;00m\u001b[33m must be\u001b[39m\u001b[33m\"\u001b[39m,\n\u001b[32m    227\u001b[39m         \u001b[38;5;28mstr\u001b[39m(e),\n\u001b[32m    228\u001b[39m     )\n",
      "\u001b[36mFile \u001b[39m\u001b[32mc:\\Users\\esthelle.kuissu\\OneDrive - Exiom Partners\\Documents\\Code_rapport_stage\\Note_book\\Exiom_Stage\\.venv\\Lib\\site-packages\\sklearn\\feature_selection\\_mutual_info.py:571\u001b[39m, in \u001b[36mmutual_info_classif\u001b[39m\u001b[34m(X, y, discrete_features, n_neighbors, copy, random_state, n_jobs)\u001b[39m\n\u001b[32m    475\u001b[39m \u001b[38;5;250m\u001b[39m\u001b[33;03m\"\"\"Estimate mutual information for a discrete target variable.\u001b[39;00m\n\u001b[32m    476\u001b[39m \n\u001b[32m    477\u001b[39m \u001b[33;03mMutual information (MI) [1]_ between two random variables is a non-negative\u001b[39;00m\n\u001b[32m   (...)\u001b[39m\u001b[32m    568\u001b[39m \u001b[33;03m       0.   , 0.   , 0.   , 0.     , 0.])\u001b[39;00m\n\u001b[32m    569\u001b[39m \u001b[33;03m\"\"\"\u001b[39;00m\n\u001b[32m    570\u001b[39m check_classification_targets(y)\n\u001b[32m--> \u001b[39m\u001b[32m571\u001b[39m \u001b[38;5;28;01mreturn\u001b[39;00m \u001b[43m_estimate_mi\u001b[49m\u001b[43m(\u001b[49m\n\u001b[32m    572\u001b[39m \u001b[43m    \u001b[49m\u001b[43mX\u001b[49m\u001b[43m,\u001b[49m\n\u001b[32m    573\u001b[39m \u001b[43m    \u001b[49m\u001b[43my\u001b[49m\u001b[43m,\u001b[49m\n\u001b[32m    574\u001b[39m \u001b[43m    \u001b[49m\u001b[43mdiscrete_features\u001b[49m\u001b[43m=\u001b[49m\u001b[43mdiscrete_features\u001b[49m\u001b[43m,\u001b[49m\n\u001b[32m    575\u001b[39m \u001b[43m    \u001b[49m\u001b[43mdiscrete_target\u001b[49m\u001b[43m=\u001b[49m\u001b[38;5;28;43;01mTrue\u001b[39;49;00m\u001b[43m,\u001b[49m\n\u001b[32m    576\u001b[39m \u001b[43m    \u001b[49m\u001b[43mn_neighbors\u001b[49m\u001b[43m=\u001b[49m\u001b[43mn_neighbors\u001b[49m\u001b[43m,\u001b[49m\n\u001b[32m    577\u001b[39m \u001b[43m    \u001b[49m\u001b[43mcopy\u001b[49m\u001b[43m=\u001b[49m\u001b[43mcopy\u001b[49m\u001b[43m,\u001b[49m\n\u001b[32m    578\u001b[39m \u001b[43m    \u001b[49m\u001b[43mrandom_state\u001b[49m\u001b[43m=\u001b[49m\u001b[43mrandom_state\u001b[49m\u001b[43m,\u001b[49m\n\u001b[32m    579\u001b[39m \u001b[43m    \u001b[49m\u001b[43mn_jobs\u001b[49m\u001b[43m=\u001b[49m\u001b[43mn_jobs\u001b[49m\u001b[43m,\u001b[49m\n\u001b[32m    580\u001b[39m \u001b[43m\u001b[49m\u001b[43m)\u001b[49m\n",
      "\u001b[36mFile \u001b[39m\u001b[32mc:\\Users\\esthelle.kuissu\\OneDrive - Exiom Partners\\Documents\\Code_rapport_stage\\Note_book\\Exiom_Stage\\.venv\\Lib\\site-packages\\sklearn\\feature_selection\\_mutual_info.py:317\u001b[39m, in \u001b[36m_estimate_mi\u001b[39m\u001b[34m(X, y, discrete_features, discrete_target, n_neighbors, copy, random_state, n_jobs)\u001b[39m\n\u001b[32m    310\u001b[39m     y = scale(y, with_mean=\u001b[38;5;28;01mFalse\u001b[39;00m)\n\u001b[32m    311\u001b[39m     y += (\n\u001b[32m    312\u001b[39m         \u001b[32m1e-10\u001b[39m\n\u001b[32m    313\u001b[39m         * np.maximum(\u001b[32m1\u001b[39m, np.mean(np.abs(y)))\n\u001b[32m    314\u001b[39m         * rng.standard_normal(size=n_samples)\n\u001b[32m    315\u001b[39m     )\n\u001b[32m--> \u001b[39m\u001b[32m317\u001b[39m mi = \u001b[43mParallel\u001b[49m\u001b[43m(\u001b[49m\u001b[43mn_jobs\u001b[49m\u001b[43m=\u001b[49m\u001b[43mn_jobs\u001b[49m\u001b[43m)\u001b[49m\u001b[43m(\u001b[49m\n\u001b[32m    318\u001b[39m \u001b[43m    \u001b[49m\u001b[43mdelayed\u001b[49m\u001b[43m(\u001b[49m\u001b[43m_compute_mi\u001b[49m\u001b[43m)\u001b[49m\u001b[43m(\u001b[49m\u001b[43mx\u001b[49m\u001b[43m,\u001b[49m\u001b[43m \u001b[49m\u001b[43my\u001b[49m\u001b[43m,\u001b[49m\u001b[43m \u001b[49m\u001b[43mdiscrete_feature\u001b[49m\u001b[43m,\u001b[49m\u001b[43m \u001b[49m\u001b[43mdiscrete_target\u001b[49m\u001b[43m,\u001b[49m\u001b[43m \u001b[49m\u001b[43mn_neighbors\u001b[49m\u001b[43m)\u001b[49m\n\u001b[32m    319\u001b[39m \u001b[43m    \u001b[49m\u001b[38;5;28;43;01mfor\u001b[39;49;00m\u001b[43m \u001b[49m\u001b[43mx\u001b[49m\u001b[43m,\u001b[49m\u001b[43m \u001b[49m\u001b[43mdiscrete_feature\u001b[49m\u001b[43m \u001b[49m\u001b[38;5;129;43;01min\u001b[39;49;00m\u001b[43m \u001b[49m\u001b[38;5;28;43mzip\u001b[39;49m\u001b[43m(\u001b[49m\u001b[43m_iterate_columns\u001b[49m\u001b[43m(\u001b[49m\u001b[43mX\u001b[49m\u001b[43m)\u001b[49m\u001b[43m,\u001b[49m\u001b[43m \u001b[49m\u001b[43mdiscrete_mask\u001b[49m\u001b[43m)\u001b[49m\n\u001b[32m    320\u001b[39m \u001b[43m\u001b[49m\u001b[43m)\u001b[49m\n\u001b[32m    322\u001b[39m \u001b[38;5;28;01mreturn\u001b[39;00m np.array(mi)\n",
      "\u001b[36mFile \u001b[39m\u001b[32mc:\\Users\\esthelle.kuissu\\OneDrive - Exiom Partners\\Documents\\Code_rapport_stage\\Note_book\\Exiom_Stage\\.venv\\Lib\\site-packages\\sklearn\\utils\\parallel.py:82\u001b[39m, in \u001b[36mParallel.__call__\u001b[39m\u001b[34m(self, iterable)\u001b[39m\n\u001b[32m     73\u001b[39m warning_filters = warnings.filters\n\u001b[32m     74\u001b[39m iterable_with_config_and_warning_filters = (\n\u001b[32m     75\u001b[39m     (\n\u001b[32m     76\u001b[39m         _with_config_and_warning_filters(delayed_func, config, warning_filters),\n\u001b[32m   (...)\u001b[39m\u001b[32m     80\u001b[39m     \u001b[38;5;28;01mfor\u001b[39;00m delayed_func, args, kwargs \u001b[38;5;129;01min\u001b[39;00m iterable\n\u001b[32m     81\u001b[39m )\n\u001b[32m---> \u001b[39m\u001b[32m82\u001b[39m \u001b[38;5;28;01mreturn\u001b[39;00m \u001b[38;5;28;43msuper\u001b[39;49m\u001b[43m(\u001b[49m\u001b[43m)\u001b[49m\u001b[43m.\u001b[49m\u001b[34;43m__call__\u001b[39;49m\u001b[43m(\u001b[49m\u001b[43miterable_with_config_and_warning_filters\u001b[49m\u001b[43m)\u001b[49m\n",
      "\u001b[36mFile \u001b[39m\u001b[32mc:\\Users\\esthelle.kuissu\\OneDrive - Exiom Partners\\Documents\\Code_rapport_stage\\Note_book\\Exiom_Stage\\.venv\\Lib\\site-packages\\joblib\\parallel.py:1986\u001b[39m, in \u001b[36mParallel.__call__\u001b[39m\u001b[34m(self, iterable)\u001b[39m\n\u001b[32m   1984\u001b[39m     output = \u001b[38;5;28mself\u001b[39m._get_sequential_output(iterable)\n\u001b[32m   1985\u001b[39m     \u001b[38;5;28mnext\u001b[39m(output)\n\u001b[32m-> \u001b[39m\u001b[32m1986\u001b[39m     \u001b[38;5;28;01mreturn\u001b[39;00m output \u001b[38;5;28;01mif\u001b[39;00m \u001b[38;5;28mself\u001b[39m.return_generator \u001b[38;5;28;01melse\u001b[39;00m \u001b[38;5;28mlist\u001b[39m(output)\n\u001b[32m   1988\u001b[39m \u001b[38;5;66;03m# Let's create an ID that uniquely identifies the current call. If the\u001b[39;00m\n\u001b[32m   1989\u001b[39m \u001b[38;5;66;03m# call is interrupted early and that the same instance is immediately\u001b[39;00m\n\u001b[32m   1990\u001b[39m \u001b[38;5;66;03m# reused, this id will be used to prevent workers that were\u001b[39;00m\n\u001b[32m   1991\u001b[39m \u001b[38;5;66;03m# concurrently finalizing a task from the previous call to run the\u001b[39;00m\n\u001b[32m   1992\u001b[39m \u001b[38;5;66;03m# callback.\u001b[39;00m\n\u001b[32m   1993\u001b[39m \u001b[38;5;28;01mwith\u001b[39;00m \u001b[38;5;28mself\u001b[39m._lock:\n",
      "\u001b[36mFile \u001b[39m\u001b[32mc:\\Users\\esthelle.kuissu\\OneDrive - Exiom Partners\\Documents\\Code_rapport_stage\\Note_book\\Exiom_Stage\\.venv\\Lib\\site-packages\\joblib\\parallel.py:1914\u001b[39m, in \u001b[36mParallel._get_sequential_output\u001b[39m\u001b[34m(self, iterable)\u001b[39m\n\u001b[32m   1912\u001b[39m \u001b[38;5;28mself\u001b[39m.n_dispatched_batches += \u001b[32m1\u001b[39m\n\u001b[32m   1913\u001b[39m \u001b[38;5;28mself\u001b[39m.n_dispatched_tasks += \u001b[32m1\u001b[39m\n\u001b[32m-> \u001b[39m\u001b[32m1914\u001b[39m res = \u001b[43mfunc\u001b[49m\u001b[43m(\u001b[49m\u001b[43m*\u001b[49m\u001b[43margs\u001b[49m\u001b[43m,\u001b[49m\u001b[43m \u001b[49m\u001b[43m*\u001b[49m\u001b[43m*\u001b[49m\u001b[43mkwargs\u001b[49m\u001b[43m)\u001b[49m\n\u001b[32m   1915\u001b[39m \u001b[38;5;28mself\u001b[39m.n_completed_tasks += \u001b[32m1\u001b[39m\n\u001b[32m   1916\u001b[39m \u001b[38;5;28mself\u001b[39m.print_progress()\n",
      "\u001b[36mFile \u001b[39m\u001b[32mc:\\Users\\esthelle.kuissu\\OneDrive - Exiom Partners\\Documents\\Code_rapport_stage\\Note_book\\Exiom_Stage\\.venv\\Lib\\site-packages\\sklearn\\utils\\parallel.py:147\u001b[39m, in \u001b[36m_FuncWrapper.__call__\u001b[39m\u001b[34m(self, *args, **kwargs)\u001b[39m\n\u001b[32m    145\u001b[39m \u001b[38;5;28;01mwith\u001b[39;00m config_context(**config), warnings.catch_warnings():\n\u001b[32m    146\u001b[39m     warnings.filters = warning_filters\n\u001b[32m--> \u001b[39m\u001b[32m147\u001b[39m     \u001b[38;5;28;01mreturn\u001b[39;00m \u001b[38;5;28;43mself\u001b[39;49m\u001b[43m.\u001b[49m\u001b[43mfunction\u001b[49m\u001b[43m(\u001b[49m\u001b[43m*\u001b[49m\u001b[43margs\u001b[49m\u001b[43m,\u001b[49m\u001b[43m \u001b[49m\u001b[43m*\u001b[49m\u001b[43m*\u001b[49m\u001b[43mkwargs\u001b[49m\u001b[43m)\u001b[49m\n",
      "\u001b[36mFile \u001b[39m\u001b[32mc:\\Users\\esthelle.kuissu\\OneDrive - Exiom Partners\\Documents\\Code_rapport_stage\\Note_book\\Exiom_Stage\\.venv\\Lib\\site-packages\\sklearn\\feature_selection\\_mutual_info.py:163\u001b[39m, in \u001b[36m_compute_mi\u001b[39m\u001b[34m(x, y, x_discrete, y_discrete, n_neighbors)\u001b[39m\n\u001b[32m    157\u001b[39m \u001b[38;5;250m\u001b[39m\u001b[33;03m\"\"\"Compute mutual information between two variables.\u001b[39;00m\n\u001b[32m    158\u001b[39m \n\u001b[32m    159\u001b[39m \u001b[33;03mThis is a simple wrapper which selects a proper function to call based on\u001b[39;00m\n\u001b[32m    160\u001b[39m \u001b[33;03mwhether `x` and `y` are discrete or not.\u001b[39;00m\n\u001b[32m    161\u001b[39m \u001b[33;03m\"\"\"\u001b[39;00m\n\u001b[32m    162\u001b[39m \u001b[38;5;28;01mif\u001b[39;00m x_discrete \u001b[38;5;129;01mand\u001b[39;00m y_discrete:\n\u001b[32m--> \u001b[39m\u001b[32m163\u001b[39m     \u001b[38;5;28;01mreturn\u001b[39;00m \u001b[43mmutual_info_score\u001b[49m\u001b[43m(\u001b[49m\u001b[43mx\u001b[49m\u001b[43m,\u001b[49m\u001b[43m \u001b[49m\u001b[43my\u001b[49m\u001b[43m)\u001b[49m\n\u001b[32m    164\u001b[39m \u001b[38;5;28;01melif\u001b[39;00m x_discrete \u001b[38;5;129;01mand\u001b[39;00m \u001b[38;5;129;01mnot\u001b[39;00m y_discrete:\n\u001b[32m    165\u001b[39m     \u001b[38;5;28;01mreturn\u001b[39;00m _compute_mi_cd(y, x, n_neighbors)\n",
      "\u001b[36mFile \u001b[39m\u001b[32mc:\\Users\\esthelle.kuissu\\OneDrive - Exiom Partners\\Documents\\Code_rapport_stage\\Note_book\\Exiom_Stage\\.venv\\Lib\\site-packages\\sklearn\\utils\\_param_validation.py:191\u001b[39m, in \u001b[36mvalidate_params.<locals>.decorator.<locals>.wrapper\u001b[39m\u001b[34m(*args, **kwargs)\u001b[39m\n\u001b[32m    189\u001b[39m global_skip_validation = get_config()[\u001b[33m\"\u001b[39m\u001b[33mskip_parameter_validation\u001b[39m\u001b[33m\"\u001b[39m]\n\u001b[32m    190\u001b[39m \u001b[38;5;28;01mif\u001b[39;00m global_skip_validation:\n\u001b[32m--> \u001b[39m\u001b[32m191\u001b[39m     \u001b[38;5;28;01mreturn\u001b[39;00m \u001b[43mfunc\u001b[49m\u001b[43m(\u001b[49m\u001b[43m*\u001b[49m\u001b[43margs\u001b[49m\u001b[43m,\u001b[49m\u001b[43m \u001b[49m\u001b[43m*\u001b[49m\u001b[43m*\u001b[49m\u001b[43mkwargs\u001b[49m\u001b[43m)\u001b[49m\n\u001b[32m    193\u001b[39m func_sig = signature(func)\n\u001b[32m    195\u001b[39m \u001b[38;5;66;03m# Map *args/**kwargs to the function signature\u001b[39;00m\n",
      "\u001b[36mFile \u001b[39m\u001b[32mc:\\Users\\esthelle.kuissu\\OneDrive - Exiom Partners\\Documents\\Code_rapport_stage\\Note_book\\Exiom_Stage\\.venv\\Lib\\site-packages\\sklearn\\metrics\\cluster\\_supervised.py:887\u001b[39m, in \u001b[36mmutual_info_score\u001b[39m\u001b[34m(labels_true, labels_pred, contingency)\u001b[39m\n\u001b[32m    885\u001b[39m \u001b[38;5;28;01mif\u001b[39;00m contingency \u001b[38;5;129;01mis\u001b[39;00m \u001b[38;5;28;01mNone\u001b[39;00m:\n\u001b[32m    886\u001b[39m     labels_true, labels_pred = check_clusterings(labels_true, labels_pred)\n\u001b[32m--> \u001b[39m\u001b[32m887\u001b[39m     contingency = \u001b[43mcontingency_matrix\u001b[49m\u001b[43m(\u001b[49m\u001b[43mlabels_true\u001b[49m\u001b[43m,\u001b[49m\u001b[43m \u001b[49m\u001b[43mlabels_pred\u001b[49m\u001b[43m,\u001b[49m\u001b[43m \u001b[49m\u001b[43msparse\u001b[49m\u001b[43m=\u001b[49m\u001b[38;5;28;43;01mTrue\u001b[39;49;00m\u001b[43m)\u001b[49m\n\u001b[32m    888\u001b[39m \u001b[38;5;28;01melse\u001b[39;00m:\n\u001b[32m    889\u001b[39m     contingency = check_array(\n\u001b[32m    890\u001b[39m         contingency,\n\u001b[32m    891\u001b[39m         accept_sparse=[\u001b[33m\"\u001b[39m\u001b[33mcsr\u001b[39m\u001b[33m\"\u001b[39m, \u001b[33m\"\u001b[39m\u001b[33mcsc\u001b[39m\u001b[33m\"\u001b[39m, \u001b[33m\"\u001b[39m\u001b[33mcoo\u001b[39m\u001b[33m\"\u001b[39m],\n\u001b[32m    892\u001b[39m         dtype=[\u001b[38;5;28mint\u001b[39m, np.int32, np.int64],\n\u001b[32m    893\u001b[39m     )\n",
      "\u001b[36mFile \u001b[39m\u001b[32mc:\\Users\\esthelle.kuissu\\OneDrive - Exiom Partners\\Documents\\Code_rapport_stage\\Note_book\\Exiom_Stage\\.venv\\Lib\\site-packages\\sklearn\\utils\\_param_validation.py:191\u001b[39m, in \u001b[36mvalidate_params.<locals>.decorator.<locals>.wrapper\u001b[39m\u001b[34m(*args, **kwargs)\u001b[39m\n\u001b[32m    189\u001b[39m global_skip_validation = get_config()[\u001b[33m\"\u001b[39m\u001b[33mskip_parameter_validation\u001b[39m\u001b[33m\"\u001b[39m]\n\u001b[32m    190\u001b[39m \u001b[38;5;28;01mif\u001b[39;00m global_skip_validation:\n\u001b[32m--> \u001b[39m\u001b[32m191\u001b[39m     \u001b[38;5;28;01mreturn\u001b[39;00m \u001b[43mfunc\u001b[49m\u001b[43m(\u001b[49m\u001b[43m*\u001b[49m\u001b[43margs\u001b[49m\u001b[43m,\u001b[49m\u001b[43m \u001b[49m\u001b[43m*\u001b[49m\u001b[43m*\u001b[49m\u001b[43mkwargs\u001b[49m\u001b[43m)\u001b[49m\n\u001b[32m    193\u001b[39m func_sig = signature(func)\n\u001b[32m    195\u001b[39m \u001b[38;5;66;03m# Map *args/**kwargs to the function signature\u001b[39;00m\n",
      "\u001b[36mFile \u001b[39m\u001b[32mc:\\Users\\esthelle.kuissu\\OneDrive - Exiom Partners\\Documents\\Code_rapport_stage\\Note_book\\Exiom_Stage\\.venv\\Lib\\site-packages\\sklearn\\metrics\\cluster\\_supervised.py:164\u001b[39m, in \u001b[36mcontingency_matrix\u001b[39m\u001b[34m(labels_true, labels_pred, eps, sparse, dtype)\u001b[39m\n\u001b[32m    158\u001b[39m contingency = sp.coo_matrix(\n\u001b[32m    159\u001b[39m     (np.ones(class_idx.shape[\u001b[32m0\u001b[39m]), (class_idx, cluster_idx)),\n\u001b[32m    160\u001b[39m     shape=(n_classes, n_clusters),\n\u001b[32m    161\u001b[39m     dtype=dtype,\n\u001b[32m    162\u001b[39m )\n\u001b[32m    163\u001b[39m \u001b[38;5;28;01mif\u001b[39;00m sparse:\n\u001b[32m--> \u001b[39m\u001b[32m164\u001b[39m     contingency = \u001b[43mcontingency\u001b[49m\u001b[43m.\u001b[49m\u001b[43mtocsr\u001b[49m\u001b[43m(\u001b[49m\u001b[43m)\u001b[49m\n\u001b[32m    165\u001b[39m     contingency.sum_duplicates()\n\u001b[32m    166\u001b[39m \u001b[38;5;28;01melse\u001b[39;00m:\n",
      "\u001b[36mFile \u001b[39m\u001b[32mc:\\Users\\esthelle.kuissu\\OneDrive - Exiom Partners\\Documents\\Code_rapport_stage\\Note_book\\Exiom_Stage\\.venv\\Lib\\site-packages\\scipy\\sparse\\_coo.py:378\u001b[39m, in \u001b[36m_coo_base.tocsr\u001b[39m\u001b[34m(self, copy)\u001b[39m\n\u001b[32m    376\u001b[39m x = \u001b[38;5;28mself\u001b[39m._csr_container((data, indices, indptr), shape=\u001b[38;5;28mself\u001b[39m.shape)\n\u001b[32m    377\u001b[39m \u001b[38;5;28;01mif\u001b[39;00m \u001b[38;5;129;01mnot\u001b[39;00m \u001b[38;5;28mself\u001b[39m.has_canonical_format:\n\u001b[32m--> \u001b[39m\u001b[32m378\u001b[39m     \u001b[43mx\u001b[49m\u001b[43m.\u001b[49m\u001b[43msum_duplicates\u001b[49m\u001b[43m(\u001b[49m\u001b[43m)\u001b[49m\n\u001b[32m    379\u001b[39m \u001b[38;5;28;01mreturn\u001b[39;00m x\n",
      "\u001b[36mFile \u001b[39m\u001b[32mc:\\Users\\esthelle.kuissu\\OneDrive - Exiom Partners\\Documents\\Code_rapport_stage\\Note_book\\Exiom_Stage\\.venv\\Lib\\site-packages\\scipy\\sparse\\_compressed.py:1061\u001b[39m, in \u001b[36m_cs_matrix.sum_duplicates\u001b[39m\u001b[34m(self)\u001b[39m\n\u001b[32m   1059\u001b[39m \u001b[38;5;28;01mif\u001b[39;00m \u001b[38;5;28mself\u001b[39m.has_canonical_format:\n\u001b[32m   1060\u001b[39m     \u001b[38;5;28;01mreturn\u001b[39;00m\n\u001b[32m-> \u001b[39m\u001b[32m1061\u001b[39m \u001b[38;5;28;43mself\u001b[39;49m\u001b[43m.\u001b[49m\u001b[43msort_indices\u001b[49m\u001b[43m(\u001b[49m\u001b[43m)\u001b[49m\n\u001b[32m   1063\u001b[39m M, N = \u001b[38;5;28mself\u001b[39m._swap(\u001b[38;5;28mself\u001b[39m._shape_as_2d)\n\u001b[32m   1064\u001b[39m csr_sum_duplicates(M, N, \u001b[38;5;28mself\u001b[39m.indptr, \u001b[38;5;28mself\u001b[39m.indices, \u001b[38;5;28mself\u001b[39m.data)\n",
      "\u001b[36mFile \u001b[39m\u001b[32mc:\\Users\\esthelle.kuissu\\OneDrive - Exiom Partners\\Documents\\Code_rapport_stage\\Note_book\\Exiom_Stage\\.venv\\Lib\\site-packages\\scipy\\sparse\\_compressed.py:1106\u001b[39m, in \u001b[36m_cs_matrix.sort_indices\u001b[39m\u001b[34m(self)\u001b[39m\n\u001b[32m   1104\u001b[39m \u001b[38;5;28;01mif\u001b[39;00m \u001b[38;5;129;01mnot\u001b[39;00m \u001b[38;5;28mself\u001b[39m.has_sorted_indices:\n\u001b[32m   1105\u001b[39m     M = \u001b[38;5;28mlen\u001b[39m(\u001b[38;5;28mself\u001b[39m.indptr) - \u001b[32m1\u001b[39m\n\u001b[32m-> \u001b[39m\u001b[32m1106\u001b[39m     \u001b[43mcsr_sort_indices\u001b[49m\u001b[43m(\u001b[49m\u001b[43mM\u001b[49m\u001b[43m,\u001b[49m\u001b[43m \u001b[49m\u001b[38;5;28;43mself\u001b[39;49m\u001b[43m.\u001b[49m\u001b[43mindptr\u001b[49m\u001b[43m,\u001b[49m\u001b[43m \u001b[49m\u001b[38;5;28;43mself\u001b[39;49m\u001b[43m.\u001b[49m\u001b[43mindices\u001b[49m\u001b[43m,\u001b[49m\u001b[43m \u001b[49m\u001b[38;5;28;43mself\u001b[39;49m\u001b[43m.\u001b[49m\u001b[43mdata\u001b[49m\u001b[43m)\u001b[49m\n\u001b[32m   1107\u001b[39m     \u001b[38;5;28mself\u001b[39m.has_sorted_indices = \u001b[38;5;28;01mTrue\u001b[39;00m\n",
      "\u001b[31mKeyboardInterrupt\u001b[39m: "
     ]
    }
   ],
   "source": [
    "import numpy as np\n",
    "from sklearn.feature_selection import mutual_info_classif\n",
    "\n",
    "mi = mutual_info_classif(X_train_ohe, y_train)\n",
    "print(\"Top 10 variables les plus informatives :\", np.argsort(mi)[-10:])\n"
   ]
  },
  {
   "cell_type": "code",
   "execution_count": 40,
   "id": "34801a40",
   "metadata": {},
   "outputs": [
    {
     "name": "stderr",
     "output_type": "stream",
     "text": [
      "c:\\Users\\esthelle.kuissu\\OneDrive - Exiom Partners\\Documents\\Exiom_stage\\Exiom_Stage\\.venv\\Lib\\site-packages\\sklearn\\preprocessing\\_encoders.py:246: UserWarning: Found unknown categories in columns [5, 14, 15] during transform. These unknown categories will be encoded as all zeros\n",
      "  warnings.warn(\n"
     ]
    },
    {
     "name": "stdout",
     "output_type": "stream",
     "text": [
      "          1         2         3         4         5\n",
      "0  0.189413  0.210490  0.197884  0.188746  0.213468\n",
      "1  0.209747  0.206348  0.207360  0.164910  0.211634\n",
      "2  0.173038  0.240725  0.205586  0.131159  0.249492\n",
      "3  0.207617  0.232664  0.210403  0.116494  0.232822\n",
      "4  0.226656  0.223051  0.205944  0.129953  0.214396\n"
     ]
    }
   ],
   "source": [
    "# Probabilité prédite pour chaque classe (multinomial)\n",
    "probas = model.predict_proba(X_test)\n",
    "\n",
    "# Par exemple, pour les 5 premières observations\n",
    "proba_df = pd.DataFrame(probas, columns=model.named_steps[\"clf\"].classes_)\n",
    "print(proba_df.head())\n"
   ]
  },
  {
   "cell_type": "markdown",
   "id": "fa37f25d",
   "metadata": {},
   "source": [
    "METRIQUES"
   ]
  },
  {
   "cell_type": "code",
   "execution_count": 41,
   "id": "08271c1d",
   "metadata": {},
   "outputs": [
    {
     "name": "stderr",
     "output_type": "stream",
     "text": [
      "c:\\Users\\esthelle.kuissu\\OneDrive - Exiom Partners\\Documents\\Exiom_stage\\Exiom_Stage\\.venv\\Lib\\site-packages\\sklearn\\preprocessing\\_encoders.py:246: UserWarning: Found unknown categories in columns [5, 14, 15] during transform. These unknown categories will be encoded as all zeros\n",
      "  warnings.warn(\n",
      "c:\\Users\\esthelle.kuissu\\OneDrive - Exiom Partners\\Documents\\Exiom_stage\\Exiom_Stage\\.venv\\Lib\\site-packages\\sklearn\\preprocessing\\_encoders.py:246: UserWarning: Found unknown categories in columns [5, 14, 15] during transform. These unknown categories will be encoded as all zeros\n",
      "  warnings.warn(\n"
     ]
    },
    {
     "name": "stdout",
     "output_type": "stream",
     "text": [
      "F1_macro             0.1429\n",
      "Balanced_accuracy    0.2644\n",
      "Precision_macro      0.2205\n",
      "Recall_macro         0.2644\n",
      "Log_loss             1.5655\n",
      "Cohen_kappa          0.0314\n",
      "dtype: float64\n"
     ]
    },
    {
     "data": {
      "image/png": "[encoded data removed]",
      "text/plain": [
       "<Figure size 600x500 with 2 Axes>"
      ]
     },
     "metadata": {},
     "output_type": "display_data"
    }
   ],
   "source": [
    "from sklearn.metrics import (\n",
    "    f1_score, balanced_accuracy_score,\n",
    "    precision_score, recall_score,\n",
    "    log_loss, cohen_kappa_score,\n",
    "    confusion_matrix\n",
    ")\n",
    "import pandas as pd\n",
    "import seaborn as sns\n",
    "import matplotlib.pyplot as plt\n",
    "\n",
    "# -------------------------------------------------------------\n",
    "# y_test  : vraies classes\n",
    "# y_pred  : classes prédites           → clf.predict(X_test)\n",
    "# y_proba : probas par classe (n×K)    → clf.predict_proba(X_test)\n",
    "# -------------------------------------------------------------\n",
    "y_pred  = model.predict(X_test)\n",
    "y_proba = model.predict_proba(X_test)\n",
    "\n",
    "# ---- 1. Métriques numériques --------------------------------\n",
    "metrics = {\n",
    "    \"F1_macro\"          : f1_score(y_test, y_pred, average=\"macro\"),\n",
    "    \"Balanced_accuracy\" : balanced_accuracy_score(y_test, y_pred),\n",
    "    \"Precision_macro\"   : precision_score(y_test, y_pred, average=\"macro\", zero_division=0),\n",
    "    \"Recall_macro\"      : recall_score(y_test, y_pred, average=\"macro\", zero_division=0),\n",
    "    \"Log_loss\"          : log_loss(y_test, y_proba),\n",
    "    \"Cohen_kappa\"       : cohen_kappa_score(y_test, y_pred)\n",
    "}\n",
    "\n",
    "print(pd.Series(metrics).round(4))\n",
    "\n",
    "# ---- 2. Matrice de confusion normalisée ---------------------\n",
    "labels = sorted(y_test.unique())           # classes dans l’ordre\n",
    "cm      = confusion_matrix(y_test, y_pred, labels=labels, normalize=\"true\")\n",
    "\n",
    "plt.figure(figsize=(6, 5))\n",
    "sns.heatmap(cm, annot=True, fmt=\".2f\", cmap=\"Blues\",\n",
    "            xticklabels=labels, yticklabels=labels)\n",
    "plt.xlabel(\"Prévu\"); plt.ylabel(\"Réel\");\n",
    "plt.title(\"Matrice de confusion normalisée\");\n",
    "plt.show()\n"
   ]
  },
  {
   "cell_type": "markdown",
   "id": "d2579604",
   "metadata": {},
   "source": [
    "En clair : le classifieur prédit presque tout le temps 5 (MO+IP+PIECES), sauf quelques 2 (≈ 20 %) — normal vu l’énorme déséquilibre.\n",
    "\n",
    "Pourquoi ce comportement ?\n",
    "Déséquilibre extrême : classe 5 ≈ 91 % des sinistres.\n",
    "\n",
    "Pas (ou peu) de pondération : la log-vraisemblance est quasi entièrement pilotée par la classe majoritaire.\n",
    "\n",
    "Classes 1, 3, 4 trop petites (≤ 0 .05 %) ↗ impossible pour un modèle multinomial standard d’apprendre quoi que ce soit."
   ]
  },
  {
   "cell_type": "code",
   "execution_count": 30,
   "id": "682df68b",
   "metadata": {},
   "outputs": [
    {
     "data": {
      "text/html": [
       "<div>\n",
       "<style scoped>\n",
       "    .dataframe tbody tr th:only-of-type {\n",
       "        vertical-align: middle;\n",
       "    }\n",
       "\n",
       "    .dataframe tbody tr th {\n",
       "        vertical-align: top;\n",
       "    }\n",
       "\n",
       "    .dataframe thead th {\n",
       "        text-align: right;\n",
       "    }\n",
       "</style>\n",
       "<table border=\"1\" class=\"dataframe\">\n",
       "  <thead>\n",
       "    <tr style=\"text-align: right;\">\n",
       "      <th></th>\n",
       "      <th>cle_sin</th>\n",
       "      <th>date_evt</th>\n",
       "      <th>age</th>\n",
       "      <th>aac</th>\n",
       "      <th>age_veh</th>\n",
       "      <th>pkw</th>\n",
       "      <th>poidspuiss</th>\n",
       "      <th>sport</th>\n",
       "      <th>trans</th>\n",
       "      <th>suspe</th>\n",
       "      <th>...</th>\n",
       "      <th>marq_g</th>\n",
       "      <th>garag_g</th>\n",
       "      <th>Region</th>\n",
       "      <th>structure_sinistre</th>\n",
       "      <th>structure_id</th>\n",
       "      <th>year_2020</th>\n",
       "      <th>year_2021</th>\n",
       "      <th>year_2022</th>\n",
       "      <th>year_2023</th>\n",
       "      <th>year_2024</th>\n",
       "    </tr>\n",
       "  </thead>\n",
       "  <tbody>\n",
       "    <tr>\n",
       "      <th>0</th>\n",
       "      <td>191840439C  A   018</td>\n",
       "      <td>02/01/2019</td>\n",
       "      <td>84.0</td>\n",
       "      <td>N</td>\n",
       "      <td>3.0</td>\n",
       "      <td>66.0</td>\n",
       "      <td>12.0</td>\n",
       "      <td>nn_spt</td>\n",
       "      <td>AV</td>\n",
       "      <td>4RI</td>\n",
       "      <td>...</td>\n",
       "      <td>Généralistes</td>\n",
       "      <td>Petit garage</td>\n",
       "      <td>Nouvelle-Aquitaine</td>\n",
       "      <td>MO+IP+PIECES</td>\n",
       "      <td>5</td>\n",
       "      <td>0</td>\n",
       "      <td>0</td>\n",
       "      <td>0</td>\n",
       "      <td>0</td>\n",
       "      <td>0</td>\n",
       "    </tr>\n",
       "    <tr>\n",
       "      <th>1</th>\n",
       "      <td>191840048C  A   001</td>\n",
       "      <td>01/01/2019</td>\n",
       "      <td>18.0</td>\n",
       "      <td>O</td>\n",
       "      <td>6.0</td>\n",
       "      <td>51.5</td>\n",
       "      <td>15.0</td>\n",
       "      <td>nn_spt</td>\n",
       "      <td>AV</td>\n",
       "      <td>4RI</td>\n",
       "      <td>...</td>\n",
       "      <td>Autres</td>\n",
       "      <td>Garage moyen</td>\n",
       "      <td>Pays de la Loire</td>\n",
       "      <td>MO+IP+PIECES</td>\n",
       "      <td>5</td>\n",
       "      <td>0</td>\n",
       "      <td>0</td>\n",
       "      <td>0</td>\n",
       "      <td>0</td>\n",
       "      <td>0</td>\n",
       "    </tr>\n",
       "    <tr>\n",
       "      <th>2</th>\n",
       "      <td>191840501C  A   010</td>\n",
       "      <td>03/01/2019</td>\n",
       "      <td>67.0</td>\n",
       "      <td>N</td>\n",
       "      <td>6.0</td>\n",
       "      <td>180.0</td>\n",
       "      <td>7.0</td>\n",
       "      <td>spt</td>\n",
       "      <td>RM</td>\n",
       "      <td>4RI</td>\n",
       "      <td>...</td>\n",
       "      <td>Premium</td>\n",
       "      <td>Garage moyen</td>\n",
       "      <td>Pays de la Loire</td>\n",
       "      <td>MO+IP+PIECES</td>\n",
       "      <td>5</td>\n",
       "      <td>0</td>\n",
       "      <td>0</td>\n",
       "      <td>0</td>\n",
       "      <td>0</td>\n",
       "      <td>0</td>\n",
       "    </tr>\n",
       "    <tr>\n",
       "      <th>3</th>\n",
       "      <td>191840759C  A   001</td>\n",
       "      <td>06/01/2019</td>\n",
       "      <td>40.0</td>\n",
       "      <td>N</td>\n",
       "      <td>12.0</td>\n",
       "      <td>78.0</td>\n",
       "      <td>13.0</td>\n",
       "      <td>nn_spt</td>\n",
       "      <td>AV</td>\n",
       "      <td>4RI</td>\n",
       "      <td>...</td>\n",
       "      <td>Généralistes</td>\n",
       "      <td>Garage moyen</td>\n",
       "      <td>Pays de la Loire</td>\n",
       "      <td>MO+IP+PIECES</td>\n",
       "      <td>5</td>\n",
       "      <td>0</td>\n",
       "      <td>0</td>\n",
       "      <td>0</td>\n",
       "      <td>0</td>\n",
       "      <td>0</td>\n",
       "    </tr>\n",
       "    <tr>\n",
       "      <th>4</th>\n",
       "      <td>191840075AV A   003</td>\n",
       "      <td>01/01/2019</td>\n",
       "      <td>47.0</td>\n",
       "      <td>N</td>\n",
       "      <td>3.0</td>\n",
       "      <td>84.0</td>\n",
       "      <td>12.0</td>\n",
       "      <td>nn_spt</td>\n",
       "      <td>AV</td>\n",
       "      <td>4RI</td>\n",
       "      <td>...</td>\n",
       "      <td>Généralistes</td>\n",
       "      <td>Garage moyen</td>\n",
       "      <td>NaN</td>\n",
       "      <td>MO+IP+PIECES</td>\n",
       "      <td>5</td>\n",
       "      <td>0</td>\n",
       "      <td>0</td>\n",
       "      <td>0</td>\n",
       "      <td>0</td>\n",
       "      <td>0</td>\n",
       "    </tr>\n",
       "  </tbody>\n",
       "</table>\n",
       "<p>5 rows × 57 columns</p>\n",
       "</div>"
      ],
      "text/plain": [
       "               cle_sin    date_evt   age aac  age_veh    pkw  poidspuiss  \\\n",
       "0  191840439C  A   018  02/01/2019  84.0   N      3.0   66.0        12.0   \n",
       "1  191840048C  A   001  01/01/2019  18.0   O      6.0   51.5        15.0   \n",
       "2  191840501C  A   010  03/01/2019  67.0   N      6.0  180.0         7.0   \n",
       "3  191840759C  A   001  06/01/2019  40.0   N     12.0   78.0        13.0   \n",
       "4  191840075AV A   003  01/01/2019  47.0   N      3.0   84.0        12.0   \n",
       "\n",
       "    sport trans suspe  ...        marq_g       garag_g              Region  \\\n",
       "0  nn_spt    AV   4RI  ...  Généralistes  Petit garage  Nouvelle-Aquitaine   \n",
       "1  nn_spt    AV   4RI  ...        Autres  Garage moyen    Pays de la Loire   \n",
       "2     spt    RM   4RI  ...       Premium  Garage moyen    Pays de la Loire   \n",
       "3  nn_spt    AV   4RI  ...  Généralistes  Garage moyen    Pays de la Loire   \n",
       "4  nn_spt    AV   4RI  ...  Généralistes  Garage moyen                 NaN   \n",
       "\n",
       "   structure_sinistre  structure_id year_2020 year_2021 year_2022 year_2023  \\\n",
       "0        MO+IP+PIECES             5         0         0         0         0   \n",
       "1        MO+IP+PIECES             5         0         0         0         0   \n",
       "2        MO+IP+PIECES             5         0         0         0         0   \n",
       "3        MO+IP+PIECES             5         0         0         0         0   \n",
       "4        MO+IP+PIECES             5         0         0         0         0   \n",
       "\n",
       "  year_2024  \n",
       "0         0  \n",
       "1         0  \n",
       "2         0  \n",
       "3         0  \n",
       "4         0  \n",
       "\n",
       "[5 rows x 57 columns]"
      ]
     },
     "execution_count": 30,
     "metadata": {},
     "output_type": "execute_result"
    }
   ],
   "source": [
    "datap_s.head()"
   ]
  },
  {
   "cell_type": "code",
   "execution_count": null,
   "id": "23339a03",
   "metadata": {},
   "outputs": [],
   "source": [
    "from sklearn.linear_model import LogisticRegression\n",
    "from sklearn.model_selection import GridSearchCV, StratifiedKFold\n",
    "\n",
    "pipe_lasso = Pipeline([\n",
    "    ('prep', preprocessor),                        # One-hot + numériques\n",
    "    ('clf',  LogisticRegression(\n",
    "                penalty='l1', solver='saga',\n",
    "                multi_class='multinomial', max_iter=400))\n",
    "])\n",
    "\n",
    "param_C = {'clf__C': np.logspace(-3, 2, 12)}      # grille de pénalités\n",
    "cv      = StratifiedKFold(n_splits=5, shuffle=True, random_state=42)\n",
    "\n",
    "grid_lasso = GridSearchCV(pipe_lasso,\n",
    "                          param_grid=param_C,\n",
    "                          cv=cv,\n",
    "                          scoring='neg_log_loss',\n",
    "                          n_jobs=-1)\n",
    "grid_lasso.fit(datap_s[qual_vars + quant_vars + year_dummies], datap_s['structure_id'])\n",
    "\n",
    "print(\"C optimal :\", grid_lasso.best_params_['clf__C'])\n",
    "print(\"Log-loss :\", -grid_lasso.best_score_)\n",
    "\n",
    "# variables conservées (≠ 0)\n",
    "best_clf   = grid_lasso.best_estimator_.named_steps['clf']\n",
    "coef_mask  = np.any(best_clf.coef_ != 0, axis=0)\n",
    "selected   = np.array(grid_lasso.best_estimator_\n",
    "                      .named_steps['prep']\n",
    "                      .get_feature_names_out())[coef_mask]\n",
    "print(\"Variables retenues par Lasso :\", selected)\n"
   ]
  },
  {
   "cell_type": "code",
   "execution_count": null,
   "id": "84c78490",
   "metadata": {},
   "outputs": [],
   "source": [
    "import statsmodels.api as sm\n",
    "\n",
    "def stepwise_selection(X, y, criterion='bic'):\n",
    "    \"\"\"Simplifié : ajoute/supprime jusqu’à ce que BIC (ou AIC) cesse d’améliorer.\"\"\"\n",
    "    remaining = list(X.columns)\n",
    "    selected  = []\n",
    "    current_score, best_new_score = np.inf, np.inf\n",
    "    while remaining:\n",
    "        scores_with_candidates = []\n",
    "        for candidate in remaining:\n",
    "            model = sm.MNLogit(y, sm.add_constant(X[selected + [candidate]])).fit(disp=0)\n",
    "            score = model.bic if criterion=='bic' else model.aic\n",
    "            scores_with_candidates.append((score, candidate))\n",
    "        scores_with_candidates.sort()\n",
    "        best_new_score, best_candidate = scores_with_candidates[0]\n",
    "        if best_new_score < current_score:\n",
    "            remaining.remove(best_candidate)\n",
    "            selected.append(best_candidate)\n",
    "            current_score = best_new_score\n",
    "        else:\n",
    "            break\n",
    "    return selected\n",
    "\n",
    "X_step = pd.get_dummies(datap_s[qual_vars + quant_vars + year_dummies], drop_first=True)\n",
    "y      = datap_s['structure_id']\n",
    "vars_BIC = stepwise_selection(X_step, y, criterion='bic')\n",
    "print(\"Variables retenues (BIC) :\", vars_BIC)\n"
   ]
  },
  {
   "cell_type": "code",
   "execution_count": null,
   "id": "eabec7fe",
   "metadata": {},
   "outputs": [],
   "source": [
    "from sklearn.ensemble import RandomForestClassifier\n",
    "from sklearn.inspection import permutation_importance\n",
    "\n",
    "rf = RandomForestClassifier(n_estimators=500, random_state=42)\n",
    "X_rf = pd.get_dummies(datap_s[qual_vars + quant_vars + year_dummies], drop_first=True)\n",
    "rf.fit(X_rf, y)\n",
    "\n",
    "perm = permutation_importance(rf, X_rf, y,\n",
    "                              scoring='neg_log_loss', n_repeats=5, n_jobs=-1)\n",
    "imp  = pd.Series(perm.importances_mean, index=X_rf.columns).sort_values(ascending=False)\n",
    "print(\"Top 20 importances permutation :\")\n",
    "print(imp.head(20))\n"
   ]
  },
  {
   "cell_type": "markdown",
   "id": "2c3eaf7b",
   "metadata": {},
   "source": [
    "# COPULE"
   ]
  },
  {
   "cell_type": "code",
   "execution_count": 67,
   "id": "8126510f",
   "metadata": {},
   "outputs": [
    {
     "name": "stdout",
     "output_type": "stream",
     "text": [
      "Collecting copulas\n",
      "  Downloading copulas-0.12.3-py3-none-any.whl.metadata (9.5 kB)\n",
      "Requirement already satisfied: numpy>=1.23.3 in c:\\users\\esthelle.kuissu\\onedrive - exiom partners\\documents\\code_rapport_stage\\note_book\\exiom_stage\\.venv\\lib\\site-packages (from copulas) (1.26.4)\n",
      "Requirement already satisfied: pandas>=1.5.0 in c:\\users\\esthelle.kuissu\\onedrive - exiom partners\\documents\\code_rapport_stage\\note_book\\exiom_stage\\.venv\\lib\\site-packages (from copulas) (2.3.0)\n",
      "Requirement already satisfied: plotly>=5.10.0 in c:\\users\\esthelle.kuissu\\onedrive - exiom partners\\documents\\code_rapport_stage\\note_book\\exiom_stage\\.venv\\lib\\site-packages (from copulas) (6.2.0)\n",
      "Requirement already satisfied: scipy>=1.9.2 in c:\\users\\esthelle.kuissu\\onedrive - exiom partners\\documents\\code_rapport_stage\\note_book\\exiom_stage\\.venv\\lib\\site-packages (from copulas) (1.16.0)\n",
      "Requirement already satisfied: python-dateutil>=2.8.2 in c:\\users\\esthelle.kuissu\\onedrive - exiom partners\\documents\\code_rapport_stage\\note_book\\exiom_stage\\.venv\\lib\\site-packages (from pandas>=1.5.0->copulas) (2.9.0.post0)\n",
      "Requirement already satisfied: pytz>=2020.1 in c:\\users\\esthelle.kuissu\\onedrive - exiom partners\\documents\\code_rapport_stage\\note_book\\exiom_stage\\.venv\\lib\\site-packages (from pandas>=1.5.0->copulas) (2025.2)\n",
      "Requirement already satisfied: tzdata>=2022.7 in c:\\users\\esthelle.kuissu\\onedrive - exiom partners\\documents\\code_rapport_stage\\note_book\\exiom_stage\\.venv\\lib\\site-packages (from pandas>=1.5.0->copulas) (2025.2)\n",
      "Requirement already satisfied: narwhals>=1.15.1 in c:\\users\\esthelle.kuissu\\onedrive - exiom partners\\documents\\code_rapport_stage\\note_book\\exiom_stage\\.venv\\lib\\site-packages (from plotly>=5.10.0->copulas) (1.44.0)\n",
      "Requirement already satisfied: packaging in c:\\users\\esthelle.kuissu\\onedrive - exiom partners\\documents\\code_rapport_stage\\note_book\\exiom_stage\\.venv\\lib\\site-packages (from plotly>=5.10.0->copulas) (25.0)\n",
      "Requirement already satisfied: six>=1.5 in c:\\users\\esthelle.kuissu\\onedrive - exiom partners\\documents\\code_rapport_stage\\note_book\\exiom_stage\\.venv\\lib\\site-packages (from python-dateutil>=2.8.2->pandas>=1.5.0->copulas) (1.17.0)\n",
      "Downloading copulas-0.12.3-py3-none-any.whl (52 kB)\n",
      "Installing collected packages: copulas\n",
      "Successfully installed copulas-0.12.3\n"
     ]
    }
   ],
   "source": [
    "! pip install copulas\n"
   ]
  },
  {
   "cell_type": "code",
   "execution_count": null,
   "id": "71ac10c6",
   "metadata": {},
   "outputs": [],
   "source": [
    "import numpy as np\n",
    "import pandas as pd\n",
    "from sklearn.linear_model import LogisticRegression\n",
    "from copulas.multivariate import GumbelCopula\n",
    "\n",
    "# Supposons que tu as ces colonnes binaires dans datap : 'MO', 'IP', 'PIECES'\n",
    "# Et X_bal, y_bal sont tes données d'entraînement (pandas DataFrame / Series)\n",
    "\n",
    "# 1. Estimer les marges (modèles logistiques binaires)\n",
    "def fit_margins(X, features):\n",
    "    marg_probs = {}\n",
    "    for feat in features:\n",
    "        model = LogisticRegression(solver='lbfgs', max_iter=200)\n",
    "        model.fit(X.drop(columns=[f for f in features if f != feat]), X[feat])\n",
    "        marg_probs[feat] = model.predict_proba(X.drop(columns=[f for f in features if f != feat]))[:,1]\n",
    "    return marg_probs\n",
    "\n",
    "# MAIS ici, mieux vaut juste utiliser les colonnes directement, car ce sont des colonnes binaires !\n",
    "# On peut directement prendre les proportions empiriques ou une régression simple sur X_bal\n",
    "\n",
    "# Simplifions : on prend les marges empiriques sur X_bal\n",
    "\n",
    "features = ['MO', 'IP', 'PIECES']\n",
    "\n",
    "marg_probs = {}\n",
    "for feat in features:\n",
    "    marg_probs[feat] = X_bal[feat].mean()  # moyenne simple (empirique)\n",
    "\n",
    "print(\"Marges empiriques : \", marg_probs)\n",
    "\n",
    "# 2. Transformer les marges en U(0,1)\n",
    "# Ici on doit récupérer les observations sous forme uniformes.\n",
    "# Pour ça, on prend les colonnes MO, IP, PIECES (0/1)\n",
    "U = X_bal[features].copy()\n",
    "# Les marges en 0/1 sont triviales, on convertit en uniformes comme suit :\n",
    "# Soit U_i = F_i(x_i) = prob d'observer <= x_i, pour une variable binaire,\n",
    "# on peut approximer par la CDF empirique :\n",
    "# 0 => prob(=0)\n",
    "# 1 => prob(<=1) = 1\n",
    "for feat in features:\n",
    "    p0 = 1 - marg_probs[feat]  # prob d'être 0\n",
    "    # U=0 => p0, U=1 => 1\n",
    "    U[feat] = U[feat].apply(lambda x: p0 if x==0 else 1.0)\n",
    "\n",
    "# 3. Estimer la copule Gumbel sur les données uniformes\n",
    "copula = GumbelCopula()\n",
    "copula.fit(U.values)\n",
    "\n",
    "# 4. Calculer les probabilités jointes pour chaque combinaison possible\n",
    "# Rappel map_id :\n",
    "# 1 = MO\n",
    "# 2 = MO+IP\n",
    "# 3 = MO+PIECES\n",
    "# 4 = IP+PIECES\n",
    "# 5 = MO+IP+PIECES\n",
    "\n",
    "def prob_structure_id(copula, marg_probs, comb):\n",
    "    # comb : dict {feat: 0/1}\n",
    "    # On calcule P(X_1=x1, X_2=x2, X_3=x3) via la copule et marges :\n",
    "    # Copule donne C(u1, u2, u3) où u_i = F_i(x_i)\n",
    "    # Pour binaire, on fait P(X=1) = 1 - F(0)\n",
    "    # Ici on utilise la formule d'inclusion-exclusion via les copules\n",
    "\n",
    "    # Pour chaque variable, calculer u_i = F_i(x_i)\n",
    "    # Pour x_i=1, u_i = 1\n",
    "    # Pour x_i=0, u_i = p0_i\n",
    "\n",
    "    u = []\n",
    "    for feat in features:\n",
    "        p0 = 1 - marg_probs[feat]\n",
    "        u_i = 1 if comb[feat]==1 else p0\n",
    "        u.append(u_i)\n",
    "\n",
    "    # Inclusion-exclusion classique pour binaire\n",
    "    # P(X1=x1,X2=x2,X3=x3) = \n",
    "    #   C(u) - sum sur les marges inférieures selon x_i=0\n",
    "    # Utiliser CDF de la copule aux bons points\n",
    "\n",
    "    # On énumère toutes les sous-vecteurs v <= u selon x_i=0\n",
    "    # En fait pour binaire on a 8 combinaisons (0/1)^3.\n",
    "    # On calcule selon les variables 0 ou 1 :\n",
    "    # P = sum_{S subseteq variables où x_i=0} (-1)^|S| C(u_S)\n",
    "    # où u_S remplace les composantes de u par 0 si i in S\n",
    "\n",
    "    # Simplifions : on utilise la formule donnée par Joe (copule multinomial binaire)\n",
    "    # Le plus simple : calculer la probabilité par la différence de CDF de copule\n",
    "    # Pour 3 variables, ça donne :\n",
    "\n",
    "    u_vec = np.array(u)\n",
    "    # Les bornes pour la probabilité sont toutes les combinaisons où on remplace les 1 par leurs u_i ou par 0\n",
    "\n",
    "    # On crée la liste des indices où x_i=0\n",
    "    zero_idx = [i for i, val in enumerate(comb.values()) if val==0]\n",
    "\n",
    "    # On va faire la somme sur les sous-ensembles de zero_idx\n",
    "    from itertools import combinations\n",
    "    prob = 0\n",
    "    for k in range(len(zero_idx)+1):\n",
    "        for subset in combinations(zero_idx, k):\n",
    "            # construire vecteur v pour la copule C(v)\n",
    "            v = u_vec.copy()\n",
    "            for idx in subset:\n",
    "                v[idx] = 0\n",
    "            sign = (-1)**k\n",
    "            prob += sign * copula.cdf(v)\n",
    "    return prob\n",
    "\n",
    "# 5. Afficher les proba de chaque structure_id\n",
    "combinations = {\n",
    "    1: {'MO':1, 'IP':0, 'PIECES':0},\n",
    "    2: {'MO':1, 'IP':1, 'PIECES':0},\n",
    "    3: {'MO':1, 'IP':0, 'PIECES':1},\n",
    "    4: {'MO':0, 'IP':1, 'PIECES':1},\n",
    "    5: {'MO':1, 'IP':1, 'PIECES':1},\n",
    "}\n",
    "\n",
    "for cid, comb in combinations.items():\n",
    "    p = prob_structure_id(copula, marg_probs, comb)\n",
    "    print(f\"Probabilité structure_id = {cid} ({comb}): {p:.5f}\")\n",
    "\n",
    "# Note : la somme des proba des 5 classes + P(aucun) doit être proche de 1.\n",
    "# On peut aussi calculer la probabilité d'aucun activé (MO=IP=PIECES=0) si besoin.\n",
    "\n"
   ]
  },
  {
   "cell_type": "code",
   "execution_count": 71,
   "id": "fc21d8f4",
   "metadata": {},
   "outputs": [
    {
     "data": {
      "text/plain": [
       "['age',\n",
       " 'aac',\n",
       " 'age_veh',\n",
       " 'pkw',\n",
       " 'poidspuiss',\n",
       " 'sport',\n",
       " 'trans',\n",
       " 'suspe',\n",
       " 'boite',\n",
       " 'val',\n",
       " 'couple',\n",
       " 'airbag',\n",
       " 'co2min',\n",
       " 'elt_secu',\n",
       " 'vu',\n",
       " 'pickup',\n",
       " 'luxe',\n",
       " 'prestige',\n",
       " 'soumis_crm',\n",
       " 'crm',\n",
       " 'boncond',\n",
       " 'nab50',\n",
       " 'LIB_CHOC',\n",
       " 'LIB_INTENS',\n",
       " 'GARAGE_AGREE_O_N',\n",
       " 'NB_PIECE_REMPLACEE',\n",
       " 'NB_PIECE_REPAREE',\n",
       " 'annee_sortie_veh',\n",
       " 'date_nais_f',\n",
       " 'date_permis_f',\n",
       " 'formule_ratt_g',\n",
       " 'sitfam_g',\n",
       " 'usage2_g',\n",
       " 'orig_attest_g',\n",
       " 'caros_g',\n",
       " 'segment_g',\n",
       " 'energ_g',\n",
       " 'frein_g',\n",
       " 'alim_g',\n",
       " 'suspe_g',\n",
       " 'crash_g',\n",
       " 'fract_paiem_soc_g',\n",
       " 'cdval_g',\n",
       " 'modele2_g',\n",
       " 'profess_g',\n",
       " 'marq_g',\n",
       " 'garag_g',\n",
       " 'Region',\n",
       " 'structure_sinistre',\n",
       " 'structure_id',\n",
       " 'year_2020',\n",
       " 'year_2021',\n",
       " 'year_2022',\n",
       " 'year_2023',\n",
       " 'year_2024']"
      ]
     },
     "execution_count": 71,
     "metadata": {},
     "output_type": "execute_result"
    }
   ],
   "source": [
    "vars_final"
   ]
  }
 ],
 "metadata": {
  "kernelspec": {
   "display_name": ".venv",
   "language": "python",
   "name": "python3"
  },
  "language_info": {
   "codemirror_mode": {
    "name": "ipython",
    "version": 3
   },
   "file_extension": ".py",
   "mimetype": "text/x-python",
   "name": "python",
   "nbconvert_exporter": "python",
   "pygments_lexer": "ipython3",
   "version": "3.11.9"
  }
 },
 "nbformat": 4,
 "nbformat_minor": 5
}
