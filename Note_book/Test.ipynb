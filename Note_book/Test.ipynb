{
 "cells": [
  {
   "cell_type": "markdown",
   "id": "3b3916fa",
   "metadata": {},
   "source": []
  },
  {
   "cell_type": "markdown",
   "id": "09ee58a0",
   "metadata": {},
   "source": []
  },
  {
   "cell_type": "markdown",
   "id": "df763d8c",
   "metadata": {},
   "source": []
  },
  {
   "cell_type": "markdown",
   "id": "5c9285dc",
   "metadata": {},
   "source": []
  },
  {
   "cell_type": "markdown",
   "id": "c99b1b63",
   "metadata": {},
   "source": []
  },
  {
   "cell_type": "markdown",
   "id": "9ffbeabe",
   "metadata": {},
   "source": []
  },
  {
   "cell_type": "code",
   "execution_count": null,
   "id": "6315f0b1",
   "metadata": {},
   "outputs": [],
   "source": []
  }
 ],
 "metadata": {
  "kernelspec": {
   "display_name": "Python 3",
   "language": "python",
   "name": "python3"
  },
  "language_info": {
   "name": "python",
   "version": "3.12.11"
  }
 },
 "nbformat": 4,
 "nbformat_minor": 5
}
