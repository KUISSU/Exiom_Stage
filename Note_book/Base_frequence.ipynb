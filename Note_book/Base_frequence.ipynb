{
 "cells": [
  {
   "cell_type": "code",
   "execution_count": null,
   "id": "2d87a87e",
   "metadata": {},
   "outputs": [],
   "source": []
  },
  {
   "cell_type": "code",
   "execution_count": null,
   "id": "39f2f26a",
   "metadata": {},
   "outputs": [],
   "source": [
    "# Suppression des lignes où les deux colonnes sont NaN en même temps\n",
    "data_modifiee = data_modifiee[~(data_modifiee['date_nais'].isna() & data_modifiee['date_permis'].isna())]"
   ]
  },
  {
   "cell_type": "code",
   "execution_count": null,
   "id": "22f220db",
   "metadata": {},
   "outputs": [],
   "source": [
    "data_modifiee = data_modifiee.dropna(subset=['date_nais', 'date_permis'])"
   ]
  },
  {
   "cell_type": "markdown",
   "id": "0f6032e3",
   "metadata": {},
   "source": [
    "## Création de l'identifiant unique"
   ]
  },
  {
   "cell_type": "code",
   "execution_count": null,
   "id": "69d2a4fe",
   "metadata": {},
   "outputs": [],
   "source": [
    "print(dataf.columns.tolist())\n",
    "\n",
    "# Regrouper par date de naissance et date de première souscription\n",
    "groupes = dataf.groupby(['date_nais_f', 'date_permis_f']).size().reset_index(name='nb_personnes')\n",
    "\n",
    "# Afficher les combinaisons où plusieurs personnes partagent les mêmes dates\n",
    "groupes_filtrés = groupes[groupes['nb_personnes'] > 1]\n",
    "\n",
    "print(groupes_filtrés)"
   ]
  },
  {
   "cell_type": "code",
   "execution_count": null,
   "id": "43dd423d",
   "metadata": {},
   "outputs": [],
   "source": [
    "#Étape 2 : filtrer les lignes concernées dans le DataFrame d'origine\n",
    "df_doublons = data_modifiee.merge(groupes[['date_nais_f', 'date_permis_f']], on=['date_nais_f', 'date_permis_f'])\n",
    "\n",
    "# Étape 3 : afficher les colonnes souhaitées\n",
    "colonnes = ['date_nais_f', 'date_permis_f', 'sexe', 'exercice', 'date_premsous']\n",
    "df_resultat = df_doublons[colonnes]\n",
    "\n",
    "# Affichage\n",
    "print(df_resultat)\n"
   ]
  },
  {
   "cell_type": "markdown",
   "id": "e2511964",
   "metadata": {},
   "source": []
  },
  {
   "cell_type": "code",
   "execution_count": null,
   "id": "17fddfc9",
   "metadata": {},
   "outputs": [],
   "source": [
    "import pandas as pd\n",
    "import hashlib\n",
    "\n",
    "# Étape 1 : extraire les dates brutes s’il y a du texte autour\n",
    "# Format visé : \"28/06/1976\" ou similaire\n",
    "data_modifiee['date_nais_f'] = data_modifiee['date_nais'].astype(str).str.extract(r'(\\d{1,2}/\\d{1,2}/\\d{2,4})')[0]\n",
    "data_modifiee['date_permis_f'] = data_modifiee['date_permis'].astype(str).str.extract(r'(\\d{1,2}/\\d{1,2}/\\d{2,4})')[0]\n",
    "\n",
    "# Étape 2 : conversion en datetime (au format français jour/mois/année)\n",
    "data_modifiee['date_nais_f'] = pd.to_datetime(data_modifiee['date_nais_f'], format='%d/%m/%Y', errors='coerce')\n",
    "data_modifiee['date_permis_f'] = pd.to_datetime(data_modifiee['date_permis_f'], format='%d/%m/%Y', errors='coerce')\n",
    "\n",
    "# Étape 3 : vérifier que la conversion a bien fonctionné\n",
    "print(data_modifiee['date_nais_f'].isna().sum(), \"dates de naissance mal converties\")\n",
    "print(data_modifiee['date_permis_f'].isna().sum(), \"dates de permis mal converties\")\n",
    "\n",
    "# Étape 4 : créer une chaîne concaténée propre\n",
    "data_modifiee['identifiant_concat'] = (\n",
    "    data_modifiee['date_nais_f'].astype(str) + '_' +\n",
    "    data_modifiee['date_permis_f'].astype(str) + '_' +\n",
    "    data_modifiee['sexe'].astype(str)\n",
    ")\n",
    "\n",
    "# Étape 5 : créer un identifiant unique (version hachée md5)\n",
    "data_modifiee['identifiant_unique'] = data_modifiee['identifiant_concat'].apply(\n",
    "    lambda x: hashlib.md5(x.encode()).hexdigest()\n",
    ")\n",
    "\n",
    "# Étape 6 (optionnel) : vérifier l’unicité\n",
    "n_total = len(data_modifiee)\n",
    "n_uniques = data_modifiee['identifiant_unique'].nunique()\n",
    "print(f\"{n_uniques} identifiants uniques sur {n_total} lignes\")\n"
   ]
  },
  {
   "cell_type": "code",
   "execution_count": null,
   "id": "76dfae3a",
   "metadata": {},
   "outputs": [],
   "source": [
    "# Compter les occurrences de chaque triplet et trier par ordre décroissant \n",
    "compte_triplets = (\n",
    "    dataf\n",
    "    .groupby(['date_nais_f', 'date_permis_f', 'sexe', 'exercice'])\n",
    "    .size()\n",
    "    .reset_index(name='nb_apparitions')\n",
    "    .sort_values(by='nb_apparitions', ascending=False)\n",
    ")\n",
    "\n",
    "print(compte_triplets)"
   ]
  },
  {
   "cell_type": "code",
   "execution_count": null,
   "id": "feaaf52b",
   "metadata": {},
   "outputs": [],
   "source": [
    "# Statistiques descriptives par exercice\n",
    "stats_par_exercice = (\n",
    "    compte_triplets\n",
    "    .groupby('exercice')['nb_apparitions']\n",
    "    .agg(['count', 'mean', 'median', 'min', 'max', 'std', 'sum', 'quantile'])\n",
    "    .sort_index()\n",
    ")\n",
    "\n",
    "print(stats_par_exercice)"
   ]
  },
  {
   "cell_type": "code",
   "execution_count": null,
   "id": "3083e5b3",
   "metadata": {},
   "outputs": [],
   "source": [
    "import seaborn as sns\n",
    "import matplotlib.pyplot as plt\n",
    "\n",
    "plt.figure(figsize=(12, 6))\n",
    "sns.boxplot(data=compte_triplets, x='exercice', y='nb_apparitions')\n",
    "plt.title('Distribution du nombre de sinistres par exercice')\n",
    "plt.ylabel('Nb apparitions (sinistres)')\n",
    "plt.xlabel('Exercice')\n",
    "plt.xticks(rotation=45)\n",
    "plt.show()"
   ]
  },
  {
   "cell_type": "code",
   "execution_count": null,
   "id": "c33c0169",
   "metadata": {},
   "outputs": [],
   "source": [
    "# Exemple : si CRM est dans data_modifiee\n",
    "df_corr = compte_triplets.merge(\n",
    "    data_modifiee[['date_nais_f', 'date_permis_f', 'sexe', 'exercice', 'crm']],\n",
    "    on=['date_nais_f', 'date_permis_f', 'sexe', 'exercice'],\n",
    "    how='left'\n",
    ")"
   ]
  },
  {
   "cell_type": "code",
   "execution_count": null,
   "id": "db1a2730",
   "metadata": {},
   "outputs": [],
   "source": [
    "correlation = df_corr['crm'].corr(df_corr['nb_apparitions'])\n",
    "print(f\"Corrélation entre CRM et nombre de sinistres : {correlation:.4f}\")"
   ]
  },
  {
   "cell_type": "code",
   "execution_count": null,
   "id": "15909b0a",
   "metadata": {},
   "outputs": [],
   "source": [
    "import seaborn as sns\n",
    "import matplotlib.pyplot as plt\n",
    "\n",
    "plt.figure(figsize=(8, 5))\n",
    "sns.scatterplot(data=df_corr, x='nb_apparitions', y='crm', alpha=0.3)\n",
    "sns.regplot(data=df_corr, x='nb_apparitions', y='crm', scatter=False, color='red', line_kws={\"lw\":2})\n",
    "plt.title(\"Relation entre nombre de sinistres et CRM\")\n",
    "plt.xlabel(\"Nombre de sinistres (nb_apparitions)\")\n",
    "plt.ylabel(\"CRM\")\n",
    "plt.grid(True)\n",
    "plt.show()"
   ]
  },
  {
   "cell_type": "markdown",
   "id": "1f5ed3d6",
   "metadata": {},
   "source": [
    "SINISTRES Par année"
   ]
  },
  {
   "cell_type": "code",
   "execution_count": null,
   "id": "55596c1a",
   "metadata": {},
   "outputs": [],
   "source": [
    "# Créer les variables indicatrices pour les exercices 2019 à 2024\n",
    "for annee in range(2019, 2025):\n",
    "    data_modifiee[f'ex_{str(annee)[-2:]}'] = (data_modifiee['exercice'] == annee).astype(int)\n"
   ]
  },
  {
   "cell_type": "code",
   "execution_count": null,
   "id": "b2d6b42b",
   "metadata": {},
   "outputs": [],
   "source": [
    "# Somme des indicateurs par identifiant_unique\n",
    "somme_ex = (\n",
    "    data_modifiee\n",
    "    .groupby('identifiant_unique')[['ex_19', 'ex_20', 'ex_21', 'ex_22', 'ex_23', 'ex_24']]\n",
    "    .sum()\n",
    "    .reset_index()\n",
    ")\n"
   ]
  },
  {
   "cell_type": "code",
   "execution_count": null,
   "id": "a53b4637",
   "metadata": {},
   "outputs": [],
   "source": [
    "somme_ex.head()"
   ]
  },
  {
   "cell_type": "code",
   "execution_count": null,
   "id": "2d36c3a0",
   "metadata": {},
   "outputs": [],
   "source": [
    "presence_par_individu = (\n",
    "    data_modifiee\n",
    "    .groupby('identifiant_unique')[['ex_19', 'ex_20', 'ex_21', 'ex_22', 'ex_23', 'ex_24']]\n",
    "    .max()\n",
    "    .reset_index()\n",
    ")\n"
   ]
  },
  {
   "cell_type": "code",
   "execution_count": null,
   "id": "d77e2f7e",
   "metadata": {},
   "outputs": [],
   "source": [
    "# Ajout d'une colonne qui compte le nombre total d'années de présence\n",
    "somme_ex['total_exercices'] = (\n",
    "    somme_ex[['ex_19', 'ex_20', 'ex_21', 'ex_22', 'ex_23', 'ex_24']].sum(axis=1)\n",
    ")\n",
    "\n",
    "# Tri décroissant par total_exercices\n",
    "somme_ex = somme_ex.sort_values(by='total_exercices', ascending=False)\n",
    "\n",
    "# Affichage\n",
    "print(somme_ex.head())\n"
   ]
  }
 ],
 "metadata": {
  "language_info": {
   "name": "python"
  }
 },
 "nbformat": 4,
 "nbformat_minor": 5
}
