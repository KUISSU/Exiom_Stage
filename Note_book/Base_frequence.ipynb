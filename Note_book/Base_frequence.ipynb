{
 "cells": [
  {
   "cell_type": "code",
   "execution_count": 15,
   "id": "2d87a87e",
   "metadata": {},
   "outputs": [
    {
     "name": "stderr",
     "output_type": "stream",
     "text": [
      "C:\\Users\\esthelle.kuissu\\AppData\\Local\\Temp\\ipykernel_21904\\2131796732.py:7: DtypeWarning: Columns (24,40,83,105) have mixed types. Specify dtype option on import or set low_memory=False.\n",
      "  dataf = pd.read_csv(path + \"\\\\bdd_sinistres_concat.csv\", sep=\";\", encoding=\"latin1\")\n"
     ]
    }
   ],
   "source": [
    "import os\n",
    "import pandas as pd\n",
    "os.getcwd()\n",
    "\n",
    "path = \"c:\\\\Users\\\\esthelle.kuissu\\\\OneDrive - Exiom Partners\\\\Documents\\\\Code_rapport_stage\\\\Bases sinistres\"\n",
    "\n",
    "dataf = pd.read_csv(path + \"\\\\bdd_sinistres_concat.csv\", sep=\";\", encoding=\"latin1\")\n"
   ]
  },
  {
   "cell_type": "code",
   "execution_count": 16,
   "id": "d15b7082",
   "metadata": {},
   "outputs": [
    {
     "name": "stdout",
     "output_type": "stream",
     "text": [
      "Nombre de NA par colonne :\n",
      "date_nais_f      0\n",
      "date_permis_f    0\n",
      "dtype: int64\n",
      "\n",
      "0 lignes concernées. Aperçu :\n",
      "Empty DataFrame\n",
      "Columns: [date_nais_f, date_permis_f]\n",
      "Index: []\n"
     ]
    }
   ],
   "source": [
    "# 1) Nombre de valeurs manquantes\n",
    "print(\"Nombre de NA par colonne :\")\n",
    "print(dataf[['date_nais_f', 'date_permis_f']].isna().sum())\n",
    "\n",
    "# 2) Aperçu des lignes où au moins l'une des deux dates est manquante\n",
    "missing_rows = dataf[\n",
    "    dataf['date_nais_f'].isna() | dataf['date_permis_f'].isna()\n",
    "]\n",
    "\n",
    "print(f\"\\n{missing_rows.shape[0]} lignes concernées. Aperçu :\")\n",
    "print(missing_rows[['date_nais_f', 'date_permis_f']].head())\n"
   ]
  },
  {
   "cell_type": "markdown",
   "id": "0f6032e3",
   "metadata": {},
   "source": [
    "## Création de l'identifiant unique"
   ]
  },
  {
   "cell_type": "code",
   "execution_count": 17,
   "id": "69d2a4fe",
   "metadata": {},
   "outputs": [
    {
     "name": "stdout",
     "output_type": "stream",
     "text": [
      "['cle_sin', 'date_evt', 'date_evt_decla', 'clos', 'sans_suite', 'quart_resp', 'date_premsous', 'date_dernrempl', 'formule_ratt', 'cond_indet', 'date_nais', 'age', 'date_permis', 'anc_permis', 'sexe', 'profess', 'sitfam', 'orig_attest', 'aac', 'date_sortie_veh', 'age_veh', 'usage2', 'franch', 'rachat_francBG', 'garag', 'marq', 'modele2', 'generation', 'modele_desc', 'caros', 'segment', 'energ', 'num_sra', 'cylin', 'pdyne', 'pkw', 'pfisc', 'vites', 'pvid', 'poidspuiss', 'sport', 'frein', 'cdval', 'trans', 'alim', 'suspe', 'boite', 'val', 'couple', 'airbag', 'crash', 'co2min', 'elt_secu', 'vu', 'pickup', 'luxe', 'prestige', 'soumis_crm', 'crm', 'boncond', 'nab50', 'bureau_ratt', 'fract_paiem_soc', 'formule_gar', 'petit_rouleur', 'systeme', 'exercice', 'GARANTIE_HOST', 'MT_FRANCHISE', 'MT_CHARGE_BRUTE', 'MT_CHARGE_NETTE', 'MT_REGLEMENT_SIN', 'MT_REGLEMENT_COM', 'MT_ABANDON_RECOURS', 'MT_FRAIS_HONO', 'MT_PROVISIONS', 'MT_RECOURS_TOTAL', 'MT_ESTIMATION_RECOURS_RESTANTS', 'MT_AVANCE_RECOURS', 'MT_AVANCE_RECOURS_RECOURUS', 'MT_PAIEMENTS', 'MT_CHARGE_BRUTE_ECO', 'MT_CHARGE_NETTE_ECO', 'ZN_NO_RAPPORT_EXPTIS', 'ANNEE_RAPPORT', 'MT_VAL_REMPL_VEH_TTC', 'MT_TOTAL_REPARABLE', 'NB_REP', 'MT_MO_REPARABLE', 'NBHH_MO_REPARABLE', 'TAUX_HORAIRE_MO', 'MT_IP_REPARABLE', 'NBHH_IP_REPARABLE', 'MT_PIECES_REPARABLE', 'NB_PIECES_REEMPLOI', 'MT_PIECES_REEMPLOI', 'RE_AVEC_PIECE_REEMPLOI', 'RE_AVEC_PIECE_REPAR_MP', 'RE_AVEC_PIECE_REMPL_MP', 'MT_REMISE', 'MT_FORFAIT', 'MT_FORFAIT_ERD', 'LIB_CHOC', 'LIB_INTENS', 'GARAGE_AGREE_O_N', 'DPT_REP', '_RESEAU_', 'NB_PIECE_REMPLACEE', 'NB_PIECE_REPAREE', 'veh_info_manquante', 'date_ord', 'date_sortie_veh_imputee', 'annee_sortie_veh', 'date_nais_f', 'date_permis_f']\n",
      "       date_nais_f date_permis_f  nb_personnes\n",
      "4       01/01/1928    22/08/1956             3\n",
      "5       01/01/1929    21/05/1965             2\n",
      "8       01/01/1930    05/03/1969             2\n",
      "9       01/01/1930    08/04/1948             3\n",
      "18      01/01/1931    08/05/1979             2\n",
      "...            ...           ...           ...\n",
      "792996  31/12/1999    31/12/2017            10\n",
      "793000  31/12/2000    19/02/2019             2\n",
      "793005  31/12/2000    31/12/2018             4\n",
      "793007  31/12/2001    04/05/2022             2\n",
      "793014  31/12/2001    31/12/2019             3\n",
      "\n",
      "[163244 rows x 3 columns]\n"
     ]
    }
   ],
   "source": [
    "print(dataf.columns.tolist())\n",
    "\n",
    "# Regrouper par date de naissance et date de première souscription\n",
    "groupes = dataf.groupby(['date_nais_f', 'date_permis_f']).size().reset_index(name='nb_personnes')\n",
    "\n",
    "# Afficher les combinaisons où plusieurs personnes partagent les mêmes dates\n",
    "groupes_filtrés = groupes[groupes['nb_personnes'] > 1]\n",
    "\n",
    "print(groupes_filtrés)"
   ]
  },
  {
   "cell_type": "code",
   "execution_count": 18,
   "id": "43dd423d",
   "metadata": {},
   "outputs": [
    {
     "name": "stdout",
     "output_type": "stream",
     "text": [
      "        date_nais_f date_permis_f sexe  exercice date_premsous\n",
      "0        13/01/1934    04/05/1960    F      2019    29/06/1987\n",
      "1        09/11/2000    09/11/2018    M      2019    10/11/2018\n",
      "2        05/10/1951    06/10/1969    M      2019    13/07/2016\n",
      "3        27/05/1978    05/09/1997    M      2019    25/10/2015\n",
      "4        13/05/1971    05/02/1990    F      2019    10/06/2015\n",
      "...             ...           ...  ...       ...           ...\n",
      "1001840  24/11/1987    09/08/2007    M      2024    01/01/2023\n",
      "1001841  18/01/1949    27/01/1969    F      2024    09/04/1999\n",
      "1001842  03/03/1971    25/08/2004    M      2024    13/06/2016\n",
      "1001843  14/01/1962    26/09/2007    M      2024    25/10/2022\n",
      "1001844  22/04/2003    15/03/2022    F      2024    15/04/2024\n",
      "\n",
      "[1001845 rows x 5 columns]\n"
     ]
    }
   ],
   "source": [
    "#Étape 2 : filtrer les lignes concernées dans le DataFrame d'origine\n",
    "df_doublons = dataf.merge(groupes[['date_nais_f', 'date_permis_f']], on=['date_nais_f', 'date_permis_f'])\n",
    "\n",
    "# Étape 3 : afficher les colonnes souhaitées\n",
    "colonnes = ['date_nais_f', 'date_permis_f', 'sexe', 'exercice', 'date_premsous']\n",
    "df_resultat = df_doublons[colonnes]\n",
    "\n",
    "# Affichage\n",
    "print(df_resultat)\n"
   ]
  },
  {
   "cell_type": "markdown",
   "id": "e2511964",
   "metadata": {},
   "source": []
  },
  {
   "cell_type": "code",
   "execution_count": 19,
   "id": "48b1ed60",
   "metadata": {},
   "outputs": [
    {
     "name": "stdout",
     "output_type": "stream",
     "text": [
      "0 dates de naissance mal converties\n",
      "0 dates de permis mal converties\n",
      "801820 identifiants uniques sur 1001845 lignes\n"
     ]
    }
   ],
   "source": [
    "import pandas as pd\n",
    "import hashlib\n",
    "\n",
    "# Étape 1 : extraire les dates brutes s’il y a du texte autour\n",
    "# Format visé : \"28/06/1976\" ou similaire\n",
    "dataf['date_nais_f'] = dataf['date_nais'].astype(str).str.extract(r'(\\d{1,2}/\\d{1,2}/\\d{2,4})')[0]\n",
    "dataf['date_permis_f'] = dataf['date_permis'].astype(str).str.extract(r'(\\d{1,2}/\\d{1,2}/\\d{2,4})')[0]\n",
    "\n",
    "# Étape 2 : conversion en datetime (au format français jour/mois/année)\n",
    "dataf['date_nais_f'] = pd.to_datetime(dataf['date_nais_f'], format='%d/%m/%Y', errors='coerce')\n",
    "dataf['date_permis_f'] = pd.to_datetime(dataf['date_permis_f'], format='%d/%m/%Y', errors='coerce')\n",
    "\n",
    "# Étape 3 : vérifier que la conversion a bien fonctionné\n",
    "print(dataf['date_nais_f'].isna().sum(), \"dates de naissance mal converties\")\n",
    "print(dataf['date_permis_f'].isna().sum(), \"dates de permis mal converties\")\n",
    "\n",
    "# Étape 4 : créer une chaîne concaténée propre\n",
    "dataf['identifiant_concat'] = (\n",
    "    dataf['date_nais_f'].astype(str) + '_' +\n",
    "    dataf['date_permis_f'].astype(str) + '_' +\n",
    "    dataf['sexe'].astype(str)\n",
    ")\n",
    "\n",
    "# Étape 5 : créer un identifiant unique (version hachée md5)\n",
    "dataf['identifiant_unique'] = dataf['identifiant_concat'].apply(\n",
    "    lambda x: hashlib.md5(x.encode()).hexdigest()\n",
    ")\n",
    "\n",
    "# Étape 6 (optionnel) : vérifier l’unicité\n",
    "n_total = len(dataf)\n",
    "n_uniques = dataf['identifiant_unique'].nunique()\n",
    "print(f\"{n_uniques} identifiants uniques sur {n_total} lignes\")"
   ]
  },
  {
   "cell_type": "code",
   "execution_count": 20,
   "id": "76dfae3a",
   "metadata": {},
   "outputs": [
    {
     "name": "stdout",
     "output_type": "stream",
     "text": [
      "       date_nais_f date_permis_f sexe  exercice  nb_apparitions\n",
      "19524   1935-04-02    1971-07-08    F      2022               7\n",
      "558651  1969-06-15    2005-07-24    F      2020               7\n",
      "488490  1965-05-21    1987-03-10    F      2024               7\n",
      "40974   1938-06-24    1956-07-19    M      2021               6\n",
      "141391  1947-03-02    1966-09-02    F      2023               6\n",
      "...            ...           ...  ...       ...             ...\n",
      "950987  2006-11-23    2024-01-01    M      2024               1\n",
      "950988  2006-11-24    2024-07-04    M      2024               1\n",
      "950989  2006-11-29    2024-06-03    M      2024               1\n",
      "950990  2006-12-04    2024-07-03    M      2024               1\n",
      "950991  2006-12-07    2024-04-12    M      2024               1\n",
      "\n",
      "[951008 rows x 5 columns]\n"
     ]
    }
   ],
   "source": [
    "# Compter les occurrences de chaque triplet et trier par ordre décroissant \n",
    "compte_triplets = (\n",
    "    dataf\n",
    "    .groupby(['date_nais_f', 'date_permis_f', 'sexe', 'exercice'])\n",
    "    .size()\n",
    "    .reset_index(name='nb_apparitions')\n",
    "    .sort_values(by='nb_apparitions', ascending=False)\n",
    ")\n",
    "\n",
    "print(compte_triplets)"
   ]
  },
  {
   "cell_type": "code",
   "execution_count": 21,
   "id": "feaaf52b",
   "metadata": {},
   "outputs": [
    {
     "name": "stdout",
     "output_type": "stream",
     "text": [
      "           count      mean  median  min  max       std     sum  quantile\n",
      "exercice                                                                \n",
      "2019      161032  1.056225     1.0    1    5  0.246806  170086       1.0\n",
      "2020      137734  1.048405     1.0    1    7  0.230224  144401       1.0\n",
      "2021      156393  1.053890     1.0    1    6  0.243198  164821       1.0\n",
      "2022      160121  1.054090     1.0    1    7  0.241965  168782       1.0\n",
      "2023      163325  1.052288     1.0    1    6  0.236634  171865       1.0\n",
      "2024      172403  1.055028     1.0    1    7  0.245715  181890       1.0\n"
     ]
    }
   ],
   "source": [
    "# Statistiques descriptives par exercice\n",
    "stats_par_exercice = (\n",
    "    compte_triplets\n",
    "    .groupby('exercice')['nb_apparitions']\n",
    "    .agg(['count', 'mean', 'median', 'min', 'max', 'std', 'sum', 'quantile'])\n",
    "    .sort_index()\n",
    ")\n",
    "\n",
    "print(stats_par_exercice)"
   ]
  },
  {
   "cell_type": "code",
   "execution_count": 22,
   "id": "3083e5b3",
   "metadata": {},
   "outputs": [
    {
     "data": {
      "image/png": "[encoded data removed]",
      "text/plain": [
       "<Figure size 1200x600 with 1 Axes>"
      ]
     },
     "metadata": {},
     "output_type": "display_data"
    }
   ],
   "source": [
    "import seaborn as sns\n",
    "import matplotlib.pyplot as plt\n",
    "\n",
    "plt.figure(figsize=(12, 6))\n",
    "sns.boxplot(data=compte_triplets, x='exercice', y='nb_apparitions')\n",
    "plt.title('Distribution du nombre de sinistres par exercice')\n",
    "plt.ylabel('Nb apparitions (sinistres)')\n",
    "plt.xlabel('Exercice')\n",
    "plt.xticks(rotation=45)\n",
    "plt.show()"
   ]
  },
  {
   "cell_type": "code",
   "execution_count": 24,
   "id": "c33c0169",
   "metadata": {},
   "outputs": [],
   "source": [
    "# Exemple : si CRM est dans data_modifiee\n",
    "df_corr = compte_triplets.merge(\n",
    "    dataf[['date_nais_f', 'date_permis_f', 'sexe', 'exercice', 'crm']],\n",
    "    on=['date_nais_f', 'date_permis_f', 'sexe', 'exercice'],\n",
    "    how='left'\n",
    ")"
   ]
  },
  {
   "cell_type": "code",
   "execution_count": 25,
   "id": "db1a2730",
   "metadata": {},
   "outputs": [
    {
     "name": "stdout",
     "output_type": "stream",
     "text": [
      "Corrélation entre CRM et nombre de sinistres : 0.0358\n"
     ]
    }
   ],
   "source": [
    "correlation = df_corr['crm'].corr(df_corr['nb_apparitions'])\n",
    "print(f\"Corrélation entre CRM et nombre de sinistres : {correlation:.4f}\")"
   ]
  },
  {
   "cell_type": "code",
   "execution_count": 26,
   "id": "15909b0a",
   "metadata": {},
   "outputs": [
    {
     "data": {
      "image/png": "[encoded data removed]",
      "text/plain": [
       "<Figure size 800x500 with 1 Axes>"
      ]
     },
     "metadata": {},
     "output_type": "display_data"
    }
   ],
   "source": [
    "import seaborn as sns\n",
    "import matplotlib.pyplot as plt\n",
    "\n",
    "plt.figure(figsize=(8, 5))\n",
    "sns.scatterplot(data=df_corr, x='nb_apparitions', y='crm', alpha=0.3)\n",
    "sns.regplot(data=df_corr, x='nb_apparitions', y='crm', scatter=False, color='red', line_kws={\"lw\":2})\n",
    "plt.title(\"Relation entre nombre de sinistres et CRM\")\n",
    "plt.xlabel(\"Nombre de sinistres (nb_apparitions)\")\n",
    "plt.ylabel(\"CRM\")\n",
    "plt.grid(True)\n",
    "plt.show()"
   ]
  },
  {
   "cell_type": "markdown",
   "id": "1f5ed3d6",
   "metadata": {},
   "source": [
    "SINISTRES Par année"
   ]
  },
  {
   "cell_type": "code",
   "execution_count": 29,
   "id": "55596c1a",
   "metadata": {},
   "outputs": [],
   "source": [
    "# Créer les variables indicatrices pour les exercices 2019 à 2024\n",
    "for annee in range(2019, 2025):\n",
    "    dataf[f'ex_{str(annee)[-2:]}'] = (dataf['exercice'] == annee).astype(int)\n"
   ]
  },
  {
   "cell_type": "code",
   "execution_count": 30,
   "id": "b2d6b42b",
   "metadata": {},
   "outputs": [],
   "source": [
    "# Somme des indicateurs par identifiant_unique\n",
    "somme_ex = (\n",
    "    dataf\n",
    "    .groupby('identifiant_unique')[['ex_19', 'ex_20', 'ex_21', 'ex_22', 'ex_23', 'ex_24']]\n",
    "    .sum()\n",
    "    .reset_index()\n",
    ")\n"
   ]
  },
  {
   "cell_type": "code",
   "execution_count": 31,
   "id": "a53b4637",
   "metadata": {},
   "outputs": [
    {
     "data": {
      "text/html": [
       "<div>\n",
       "<style scoped>\n",
       "    .dataframe tbody tr th:only-of-type {\n",
       "        vertical-align: middle;\n",
       "    }\n",
       "\n",
       "    .dataframe tbody tr th {\n",
       "        vertical-align: top;\n",
       "    }\n",
       "\n",
       "    .dataframe thead th {\n",
       "        text-align: right;\n",
       "    }\n",
       "</style>\n",
       "<table border=\"1\" class=\"dataframe\">\n",
       "  <thead>\n",
       "    <tr style=\"text-align: right;\">\n",
       "      <th></th>\n",
       "      <th>identifiant_unique</th>\n",
       "      <th>ex_19</th>\n",
       "      <th>ex_20</th>\n",
       "      <th>ex_21</th>\n",
       "      <th>ex_22</th>\n",
       "      <th>ex_23</th>\n",
       "      <th>ex_24</th>\n",
       "    </tr>\n",
       "  </thead>\n",
       "  <tbody>\n",
       "    <tr>\n",
       "      <th>0</th>\n",
       "      <td>000007ea08e97eae83ed87e136655e13</td>\n",
       "      <td>0</td>\n",
       "      <td>0</td>\n",
       "      <td>1</td>\n",
       "      <td>0</td>\n",
       "      <td>0</td>\n",
       "      <td>0</td>\n",
       "    </tr>\n",
       "    <tr>\n",
       "      <th>1</th>\n",
       "      <td>00000dc777e5ceb94f7ec3cfc666c2ef</td>\n",
       "      <td>0</td>\n",
       "      <td>1</td>\n",
       "      <td>0</td>\n",
       "      <td>0</td>\n",
       "      <td>0</td>\n",
       "      <td>0</td>\n",
       "    </tr>\n",
       "    <tr>\n",
       "      <th>2</th>\n",
       "      <td>000018a7446a3feb14cdb730f49f02c3</td>\n",
       "      <td>2</td>\n",
       "      <td>0</td>\n",
       "      <td>0</td>\n",
       "      <td>0</td>\n",
       "      <td>0</td>\n",
       "      <td>0</td>\n",
       "    </tr>\n",
       "    <tr>\n",
       "      <th>3</th>\n",
       "      <td>000042c4928a3415f29a849aa4f34ef7</td>\n",
       "      <td>0</td>\n",
       "      <td>0</td>\n",
       "      <td>0</td>\n",
       "      <td>0</td>\n",
       "      <td>1</td>\n",
       "      <td>0</td>\n",
       "    </tr>\n",
       "    <tr>\n",
       "      <th>4</th>\n",
       "      <td>00004befd746bbfef0acb28f091e2ced</td>\n",
       "      <td>0</td>\n",
       "      <td>1</td>\n",
       "      <td>0</td>\n",
       "      <td>0</td>\n",
       "      <td>0</td>\n",
       "      <td>0</td>\n",
       "    </tr>\n",
       "  </tbody>\n",
       "</table>\n",
       "</div>"
      ],
      "text/plain": [
       "                 identifiant_unique  ex_19  ex_20  ex_21  ex_22  ex_23  ex_24\n",
       "0  000007ea08e97eae83ed87e136655e13      0      0      1      0      0      0\n",
       "1  00000dc777e5ceb94f7ec3cfc666c2ef      0      1      0      0      0      0\n",
       "2  000018a7446a3feb14cdb730f49f02c3      2      0      0      0      0      0\n",
       "3  000042c4928a3415f29a849aa4f34ef7      0      0      0      0      1      0\n",
       "4  00004befd746bbfef0acb28f091e2ced      0      1      0      0      0      0"
      ]
     },
     "execution_count": 31,
     "metadata": {},
     "output_type": "execute_result"
    }
   ],
   "source": [
    "somme_ex.head()"
   ]
  },
  {
   "cell_type": "code",
   "execution_count": 32,
   "id": "2d36c3a0",
   "metadata": {},
   "outputs": [],
   "source": [
    "presence_par_individu = (\n",
    "    dataf\n",
    "    .groupby('identifiant_unique')[['ex_19', 'ex_20', 'ex_21', 'ex_22', 'ex_23', 'ex_24']]\n",
    "    .max()\n",
    "    .reset_index()\n",
    ")\n"
   ]
  },
  {
   "cell_type": "code",
   "execution_count": 33,
   "id": "d77e2f7e",
   "metadata": {},
   "outputs": [
    {
     "name": "stdout",
     "output_type": "stream",
     "text": [
      "                      identifiant_unique  ex_19  ex_20  ex_21  ex_22  ex_23  \\\n",
      "3226    0105144b8f7ae231d6d40624de3a3f7a      3      2      3      1      2   \n",
      "340069  6cad5b27ae40c2db8d2a378b7075fd55      1      2      3      2      2   \n",
      "574511  b77abea35f0b1ee869d492368bd3e8a4      2      0      3      3      2   \n",
      "783378  fa1be6a732219fb7e73126f5516e8302      0      0      0      1      6   \n",
      "729681  e90c4179959de55801692aac890c9a64      0      0      3      3      2   \n",
      "\n",
      "        ex_24  total_exercices  \n",
      "3226        1               12  \n",
      "340069      2               12  \n",
      "574511      0               10  \n",
      "783378      2                9  \n",
      "729681      1                9  \n"
     ]
    }
   ],
   "source": [
    "# Ajout d'une colonne qui compte le nombre total d'années de présence\n",
    "somme_ex['total_exercices'] = (\n",
    "    somme_ex[['ex_19', 'ex_20', 'ex_21', 'ex_22', 'ex_23', 'ex_24']].sum(axis=1)\n",
    ")\n",
    "\n",
    "# Tri décroissant par total_exercices\n",
    "somme_ex = somme_ex.sort_values(by='total_exercices', ascending=False)\n",
    "\n",
    "# Affichage\n",
    "print(somme_ex.head())\n"
   ]
  },
  {
   "cell_type": "code",
   "execution_count": 34,
   "id": "73e3ad03",
   "metadata": {},
   "outputs": [
    {
     "name": "stdout",
     "output_type": "stream",
     "text": [
      "                 identifiant_unique  pre_19  pre_20  pre_21  pre_22  pre_23  \\\n",
      "0  000007ea08e97eae83ed87e136655e13       1       1       1       1       1   \n",
      "1  00000dc777e5ceb94f7ec3cfc666c2ef       1       1       1       1       1   \n",
      "2  000018a7446a3feb14cdb730f49f02c3       1       1       1       1       1   \n",
      "3  000042c4928a3415f29a849aa4f34ef7       1       1       1       1       1   \n",
      "4  00004befd746bbfef0acb28f091e2ced       1       1       1       1       1   \n",
      "\n",
      "   pre_24  ex_19  ex_20  ex_21  ex_22  ex_23  ex_24  total_exercice  \n",
      "0       1      0      0      1      0      0      0               1  \n",
      "1       1      0      1      0      0      0      0               1  \n",
      "2       1      1      0      0      0      0      0               1  \n",
      "3       1      0      0      0      0      1      0               1  \n",
      "4       1      0      1      0      0      0      0               1  \n"
     ]
    }
   ],
   "source": [
    "import pandas as pd\n",
    "\n",
    "# --- 1. S’assurer que la date de première souscription est bien au format datetime\n",
    "dataf['date_premsous'] = pd.to_datetime(\n",
    "    dataf['date_premsous'],              # ou le nom réel de la colonne\n",
    "    errors='coerce',                             # lignes mal formatées ➜ NaT\n",
    "    dayfirst=True                                # si ton csv est JJ/MM/AAAA\n",
    ")\n",
    "\n",
    "# --- 2. Créer l’année de première souscription\n",
    "dataf['an_premsous'] = dataf['date_premsous'].dt.year\n",
    "\n",
    "# --- 3. Générer les indicateurs binaires pré-souscription 2019-2024\n",
    "for an in range(2019, 2025):\n",
    "    dataf[f'pre_{str(an)[-2:]}'] = (dataf['an_premsous'] <= an).astype(int)\n",
    "\n",
    "# --- 4. (Rappel) : si ce n’est pas déjà fait, ex_19-ex_24 indiquent la présence dans chaque exercice\n",
    "for an in range(2019, 2025):\n",
    "    dataf[f'ex_{str(an)[-2:]}'] = (dataf['exercice'] == an).astype(int)\n",
    "\n",
    "# --- 5. Agréger : une ligne par identifiant_unique, max() ➜ 0/1\n",
    "pre_cols = [f'pre_{yy}' for yy in ['19', '20', '21', '22', '23', '24']]\n",
    "ex_cols  = [f'ex_{yy}'  for yy in ['19', '20', '21', '22', '23', '24']]\n",
    "\n",
    "df_indiv = (\n",
    "    dataf\n",
    "      .groupby('identifiant_unique')[pre_cols + ex_cols]\n",
    "      .max()\n",
    "      .reset_index()\n",
    ")\n",
    "\n",
    "# --- 6. Ajouter total_exercice (nb d’années où l’individu apparaît)\n",
    "df_indiv['total_exercice'] = df_indiv[ex_cols].sum(axis=1)\n",
    "\n",
    "# --- 7. (Optionnel) ordonner les colonnes pour lecture / export\n",
    "col_order = ['identifiant_unique'] + pre_cols + ex_cols + ['total_exercice']\n",
    "df_indiv  = df_indiv[col_order]\n",
    "\n",
    "# --- 8. Aperçu\n",
    "print(df_indiv.head())\n",
    "\n",
    "# --- 9. Sauvegarde éventuelle\n",
    "# df_indiv.to_csv('individus_pre_ex_total.csv', index=False)\n"
   ]
  },
  {
   "cell_type": "code",
   "execution_count": 37,
   "id": "38ecd6cf",
   "metadata": {},
   "outputs": [
    {
     "data": {
      "text/html": [
       "<div>\n",
       "<style scoped>\n",
       "    .dataframe tbody tr th:only-of-type {\n",
       "        vertical-align: middle;\n",
       "    }\n",
       "\n",
       "    .dataframe tbody tr th {\n",
       "        vertical-align: top;\n",
       "    }\n",
       "\n",
       "    .dataframe thead th {\n",
       "        text-align: right;\n",
       "    }\n",
       "</style>\n",
       "<table border=\"1\" class=\"dataframe\">\n",
       "  <thead>\n",
       "    <tr style=\"text-align: right;\">\n",
       "      <th></th>\n",
       "      <th>identifiant_unique</th>\n",
       "      <th>pre_19</th>\n",
       "      <th>pre_20</th>\n",
       "      <th>pre_21</th>\n",
       "      <th>pre_22</th>\n",
       "      <th>pre_23</th>\n",
       "      <th>pre_24</th>\n",
       "      <th>ex_19</th>\n",
       "      <th>ex_20</th>\n",
       "      <th>ex_21</th>\n",
       "      <th>ex_22</th>\n",
       "      <th>ex_23</th>\n",
       "      <th>ex_24</th>\n",
       "      <th>total_exercice</th>\n",
       "    </tr>\n",
       "  </thead>\n",
       "  <tbody>\n",
       "    <tr>\n",
       "      <th>13</th>\n",
       "      <td>0000a23c559bea4e95f69af295708031</td>\n",
       "      <td>0</td>\n",
       "      <td>0</td>\n",
       "      <td>0</td>\n",
       "      <td>1</td>\n",
       "      <td>1</td>\n",
       "      <td>1</td>\n",
       "      <td>0</td>\n",
       "      <td>0</td>\n",
       "      <td>0</td>\n",
       "      <td>1</td>\n",
       "      <td>0</td>\n",
       "      <td>0</td>\n",
       "      <td>1</td>\n",
       "    </tr>\n",
       "    <tr>\n",
       "      <th>16</th>\n",
       "      <td>0000bf39b1e5bf23275b884b2b276c11</td>\n",
       "      <td>0</td>\n",
       "      <td>0</td>\n",
       "      <td>1</td>\n",
       "      <td>1</td>\n",
       "      <td>1</td>\n",
       "      <td>1</td>\n",
       "      <td>0</td>\n",
       "      <td>0</td>\n",
       "      <td>0</td>\n",
       "      <td>0</td>\n",
       "      <td>1</td>\n",
       "      <td>0</td>\n",
       "      <td>1</td>\n",
       "    </tr>\n",
       "    <tr>\n",
       "      <th>18</th>\n",
       "      <td>0000d1f11eb7504a4e4ad6200ca7abfd</td>\n",
       "      <td>0</td>\n",
       "      <td>0</td>\n",
       "      <td>0</td>\n",
       "      <td>0</td>\n",
       "      <td>0</td>\n",
       "      <td>1</td>\n",
       "      <td>0</td>\n",
       "      <td>0</td>\n",
       "      <td>0</td>\n",
       "      <td>0</td>\n",
       "      <td>0</td>\n",
       "      <td>1</td>\n",
       "      <td>1</td>\n",
       "    </tr>\n",
       "    <tr>\n",
       "      <th>22</th>\n",
       "      <td>0000ecd9af8e91fa6d853fa62c219952</td>\n",
       "      <td>0</td>\n",
       "      <td>0</td>\n",
       "      <td>1</td>\n",
       "      <td>1</td>\n",
       "      <td>1</td>\n",
       "      <td>1</td>\n",
       "      <td>0</td>\n",
       "      <td>0</td>\n",
       "      <td>0</td>\n",
       "      <td>0</td>\n",
       "      <td>1</td>\n",
       "      <td>0</td>\n",
       "      <td>1</td>\n",
       "    </tr>\n",
       "    <tr>\n",
       "      <th>45</th>\n",
       "      <td>00029678953a0702ec310a328eaa34e6</td>\n",
       "      <td>0</td>\n",
       "      <td>1</td>\n",
       "      <td>1</td>\n",
       "      <td>1</td>\n",
       "      <td>1</td>\n",
       "      <td>1</td>\n",
       "      <td>0</td>\n",
       "      <td>0</td>\n",
       "      <td>0</td>\n",
       "      <td>0</td>\n",
       "      <td>0</td>\n",
       "      <td>1</td>\n",
       "      <td>1</td>\n",
       "    </tr>\n",
       "    <tr>\n",
       "      <th>...</th>\n",
       "      <td>...</td>\n",
       "      <td>...</td>\n",
       "      <td>...</td>\n",
       "      <td>...</td>\n",
       "      <td>...</td>\n",
       "      <td>...</td>\n",
       "      <td>...</td>\n",
       "      <td>...</td>\n",
       "      <td>...</td>\n",
       "      <td>...</td>\n",
       "      <td>...</td>\n",
       "      <td>...</td>\n",
       "      <td>...</td>\n",
       "      <td>...</td>\n",
       "    </tr>\n",
       "    <tr>\n",
       "      <th>801791</th>\n",
       "      <td>fffde41a9f903676bac665b24c1f9a69</td>\n",
       "      <td>0</td>\n",
       "      <td>0</td>\n",
       "      <td>1</td>\n",
       "      <td>1</td>\n",
       "      <td>1</td>\n",
       "      <td>1</td>\n",
       "      <td>0</td>\n",
       "      <td>0</td>\n",
       "      <td>0</td>\n",
       "      <td>1</td>\n",
       "      <td>0</td>\n",
       "      <td>0</td>\n",
       "      <td>1</td>\n",
       "    </tr>\n",
       "    <tr>\n",
       "      <th>801792</th>\n",
       "      <td>fffe1725cbd1ffd48dc78cacf67083af</td>\n",
       "      <td>0</td>\n",
       "      <td>1</td>\n",
       "      <td>1</td>\n",
       "      <td>1</td>\n",
       "      <td>1</td>\n",
       "      <td>1</td>\n",
       "      <td>0</td>\n",
       "      <td>1</td>\n",
       "      <td>0</td>\n",
       "      <td>0</td>\n",
       "      <td>0</td>\n",
       "      <td>0</td>\n",
       "      <td>1</td>\n",
       "    </tr>\n",
       "    <tr>\n",
       "      <th>801793</th>\n",
       "      <td>fffe1a569e3b6f99308ddb5b196c7958</td>\n",
       "      <td>0</td>\n",
       "      <td>0</td>\n",
       "      <td>0</td>\n",
       "      <td>1</td>\n",
       "      <td>1</td>\n",
       "      <td>1</td>\n",
       "      <td>0</td>\n",
       "      <td>0</td>\n",
       "      <td>0</td>\n",
       "      <td>0</td>\n",
       "      <td>0</td>\n",
       "      <td>1</td>\n",
       "      <td>1</td>\n",
       "    </tr>\n",
       "    <tr>\n",
       "      <th>801814</th>\n",
       "      <td>ffff99c7b291227bcf9d030d01f1603c</td>\n",
       "      <td>0</td>\n",
       "      <td>1</td>\n",
       "      <td>1</td>\n",
       "      <td>1</td>\n",
       "      <td>1</td>\n",
       "      <td>1</td>\n",
       "      <td>0</td>\n",
       "      <td>0</td>\n",
       "      <td>1</td>\n",
       "      <td>0</td>\n",
       "      <td>0</td>\n",
       "      <td>0</td>\n",
       "      <td>1</td>\n",
       "    </tr>\n",
       "    <tr>\n",
       "      <th>801817</th>\n",
       "      <td>ffffab340b741420399dc35034a4877c</td>\n",
       "      <td>0</td>\n",
       "      <td>1</td>\n",
       "      <td>1</td>\n",
       "      <td>1</td>\n",
       "      <td>1</td>\n",
       "      <td>1</td>\n",
       "      <td>0</td>\n",
       "      <td>0</td>\n",
       "      <td>0</td>\n",
       "      <td>0</td>\n",
       "      <td>1</td>\n",
       "      <td>0</td>\n",
       "      <td>1</td>\n",
       "    </tr>\n",
       "  </tbody>\n",
       "</table>\n",
       "<p>146365 rows × 14 columns</p>\n",
       "</div>"
      ],
      "text/plain": [
       "                      identifiant_unique  pre_19  pre_20  pre_21  pre_22  \\\n",
       "13      0000a23c559bea4e95f69af295708031       0       0       0       1   \n",
       "16      0000bf39b1e5bf23275b884b2b276c11       0       0       1       1   \n",
       "18      0000d1f11eb7504a4e4ad6200ca7abfd       0       0       0       0   \n",
       "22      0000ecd9af8e91fa6d853fa62c219952       0       0       1       1   \n",
       "45      00029678953a0702ec310a328eaa34e6       0       1       1       1   \n",
       "...                                  ...     ...     ...     ...     ...   \n",
       "801791  fffde41a9f903676bac665b24c1f9a69       0       0       1       1   \n",
       "801792  fffe1725cbd1ffd48dc78cacf67083af       0       1       1       1   \n",
       "801793  fffe1a569e3b6f99308ddb5b196c7958       0       0       0       1   \n",
       "801814  ffff99c7b291227bcf9d030d01f1603c       0       1       1       1   \n",
       "801817  ffffab340b741420399dc35034a4877c       0       1       1       1   \n",
       "\n",
       "        pre_23  pre_24  ex_19  ex_20  ex_21  ex_22  ex_23  ex_24  \\\n",
       "13           1       1      0      0      0      1      0      0   \n",
       "16           1       1      0      0      0      0      1      0   \n",
       "18           0       1      0      0      0      0      0      1   \n",
       "22           1       1      0      0      0      0      1      0   \n",
       "45           1       1      0      0      0      0      0      1   \n",
       "...        ...     ...    ...    ...    ...    ...    ...    ...   \n",
       "801791       1       1      0      0      0      1      0      0   \n",
       "801792       1       1      0      1      0      0      0      0   \n",
       "801793       1       1      0      0      0      0      0      1   \n",
       "801814       1       1      0      0      1      0      0      0   \n",
       "801817       1       1      0      0      0      0      1      0   \n",
       "\n",
       "        total_exercice  \n",
       "13                   1  \n",
       "16                   1  \n",
       "18                   1  \n",
       "22                   1  \n",
       "45                   1  \n",
       "...                ...  \n",
       "801791               1  \n",
       "801792               1  \n",
       "801793               1  \n",
       "801814               1  \n",
       "801817               1  \n",
       "\n",
       "[146365 rows x 14 columns]"
      ]
     },
     "execution_count": 37,
     "metadata": {},
     "output_type": "execute_result"
    }
   ],
   "source": [
    "df_indiv[df_indiv['pre_19'] == 0]\n"
   ]
  }
 ],
 "metadata": {
  "kernelspec": {
   "display_name": ".venv",
   "language": "python",
   "name": "python3"
  },
  "language_info": {
   "codemirror_mode": {
    "name": "ipython",
    "version": 3
   },
   "file_extension": ".py",
   "mimetype": "text/x-python",
   "name": "python",
   "nbconvert_exporter": "python",
   "pygments_lexer": "ipython3",
   "version": "3.11.9"
  }
 },
 "nbformat": 4,
 "nbformat_minor": 5
}
