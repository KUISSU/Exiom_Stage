{
 "cells": [
  {
   "cell_type": "code",
   "execution_count": 1,
   "id": "3a1be001",
   "metadata": {},
   "outputs": [
    {
     "name": "stdout",
     "output_type": "stream",
     "text": [
      "Requirement already satisfied: pandas in c:\\users\\esthelle.kuissu\\onedrive - exiom partners\\documents\\code_rapport_stage\\ex_rap_stage\\exiom_stage\\.venv\\lib\\site-packages (2.3.1)\n",
      "Requirement already satisfied: numpy>=1.23.2 in c:\\users\\esthelle.kuissu\\onedrive - exiom partners\\documents\\code_rapport_stage\\ex_rap_stage\\exiom_stage\\.venv\\lib\\site-packages (from pandas) (2.3.1)\n",
      "Requirement already satisfied: python-dateutil>=2.8.2 in c:\\users\\esthelle.kuissu\\onedrive - exiom partners\\documents\\code_rapport_stage\\ex_rap_stage\\exiom_stage\\.venv\\lib\\site-packages (from pandas) (2.9.0.post0)\n",
      "Requirement already satisfied: pytz>=2020.1 in c:\\users\\esthelle.kuissu\\onedrive - exiom partners\\documents\\code_rapport_stage\\ex_rap_stage\\exiom_stage\\.venv\\lib\\site-packages (from pandas) (2025.2)\n",
      "Requirement already satisfied: tzdata>=2022.7 in c:\\users\\esthelle.kuissu\\onedrive - exiom partners\\documents\\code_rapport_stage\\ex_rap_stage\\exiom_stage\\.venv\\lib\\site-packages (from pandas) (2025.2)\n",
      "Requirement already satisfied: six>=1.5 in c:\\users\\esthelle.kuissu\\onedrive - exiom partners\\documents\\code_rapport_stage\\ex_rap_stage\\exiom_stage\\.venv\\lib\\site-packages (from python-dateutil>=2.8.2->pandas) (1.17.0)\n",
      "Requirement already satisfied: numpy in c:\\users\\esthelle.kuissu\\onedrive - exiom partners\\documents\\code_rapport_stage\\ex_rap_stage\\exiom_stage\\.venv\\lib\\site-packages (2.3.1)\n"
     ]
    }
   ],
   "source": [
    "!pip install pandas\n",
    "import pandas as pd\n",
    "!pip install numpy\n",
    "import numpy as np"
   ]
  },
  {
   "cell_type": "code",
   "execution_count": 5,
   "id": "31899c6b",
   "metadata": {},
   "outputs": [],
   "source": [
    "import os\n",
    "import pandas as pd\n",
    "os.getcwd()\n",
    "\n",
    "path = \"c:\\\\Users\\\\esthelle.kuissu\\\\OneDrive - Exiom Partners\\\\Documents\\\\Code_rapport_stage\\\\Bases sinistres\"\n"
   ]
  },
  {
   "cell_type": "code",
   "execution_count": 13,
   "id": "c145f36a",
   "metadata": {},
   "outputs": [
    {
     "name": "stderr",
     "output_type": "stream",
     "text": [
      "C:\\Users\\esthelle.kuissu\\AppData\\Local\\Temp\\ipykernel_23920\\1501822706.py:5: DtypeWarning: Columns (24,83) have mixed types. Specify dtype option on import or set low_memory=False.\n",
      "  df_bdd = pd.read_csv(path + \"\\\\bdd_sinistres_MODELPROBA.csv\", sep=\";\", encoding=\"utf-8\")\n"
     ]
    },
    {
     "name": "stdout",
     "output_type": "stream",
     "text": [
      "✅ Base fusionnée enregistrée sous : base_sinistres_enrichie.csv\n"
     ]
    }
   ],
   "source": [
    "import pandas as pd\n",
    "\n",
    "# 📥 Chargement des deux bases\n",
    "df_proba = pd.read_csv(path +  \"\\\\base_predictions_sinistres_complete.csv\", sep=\";\", encoding=\"utf-8\")\n",
    "df_bdd = pd.read_csv(path + \"\\\\bdd_sinistres_MODELPROBA.csv\", sep=\";\", encoding=\"utf-8\")\n",
    "\n",
    "\n",
    "# 🔗 Jointure sur 'cle_sin'\n",
    "df_fusion = df_bdd.merge(\n",
    "    df_proba[[\"cle_sin\", \"sinistre_id_reel\", \"proba_sinistre_0\", \"proba_sinistre_1\"]],\n",
    "    on=\"cle_sin\",\n",
    "    how=\"left\"  # ← garde tous les individus de la bdd principale\n",
    ")\n",
    "\n",
    "# 💾 Sauvegarde de la base enrichie\n",
    "df_fusion.to_csv(path + \"\\\\base_sinistres_enrichie.csv\", sep=\";\", encoding=\"utf8\", index=False)\n",
    "print(\"✅ Base fusionnée enregistrée sous : base_sinistres_enrichie.csv\")"
   ]
  },
  {
   "cell_type": "code",
   "execution_count": 16,
   "id": "dd063fd6",
   "metadata": {},
   "outputs": [
    {
     "name": "stdout",
     "output_type": "stream",
     "text": [
      "✅ Base nettoyée enregistrée sous : base_sinistres_nettoyee.csv\n"
     ]
    }
   ],
   "source": [
    "# 📦 Liste des variables à supprimer\n",
    "vars_to_drop = [\n",
    "    \"date_evt\", \"date_evt_decla\", \"date_premsous\", \"date_dernrempl\", \"date_nais\", \"age\", \"date_permis\", \"anc_permis\",\n",
    "    \"profess\", \"sitfam\", \"orig_attest\", \"aac\", \"date_sortie_veh\", \"age_veh\", \"usage2\", \"franch\", \"rachat_francBG\",\n",
    "    \"garag\", \"marq\", \"modele2\", \"generation\", \"modele_desc\", \"caros\", \"segment\", \"energ\", \"num_sra\", \"pdyne\", \"pfisc\",\n",
    "    \"vites\", \"pvid\", \"poidspuiss\", \"sport\", \"frein\", \"trans\", \"alim\", \"suspe\", \"boite\", \"couple\", \"airbag\", \"crash\",\n",
    "    \"co2min\", \"elt_secu\", \"vu\", \"bureau_ratt\", \"fract_paiem_soc\", \"formule_gar\", \"systeme\", \"exercice\", \"GARANTIE_HOST\",\n",
    "    \"MT_FRANCHISE\", \"MT_CHARGE_BRUTE\", \"MT_CHARGE_NETTE\", \"MT_REGLEMENT_SIN\", \"MT_REGLEMENT_COM\", \"MT_ABANDON_RECOURS\",\n",
    "    \"MT_FRAIS_HONO\", \"MT_PROVISIONS\", \"MT_RECOURS_TOTAL\", \"MT_ESTIMATION_RECOURS_RESTANTS\", \"MT_AVANCE_RECOURS\",\n",
    "    \"MT_AVANCE_RECOURS_RECOURUS\", \"MT_PAIEMENTS\", \"MT_CHARGE_BRUTE_ECO\", \"T_CHARGE_NETTE_ECO\", \"ZN_NO_RAPPORT_EXPTIS\",\n",
    "    \"MT_VAL_REMPL_VEH_TTC\", \"NB_REP\", \"MT_REMISE\", \"MT_FORFAIT\", \"MT_FORFAIT_ERD\", \"LIB_CHOC\", \"LIB_INTENS\",\n",
    "    \"GARAGE_AGREE_O_N\", \"DPT_REP\", \"RESEAU\", \"NB_PIECE_REMPLACEE\", \"NB_PIECE_REPAREE\", \"veh_info_manquante\",\n",
    "    \"date_ord\", \"date_sortie_veh_imputee\", \"annee_sortie_veh\"\n",
    "]\n",
    "\n",
    "# 🧹 Suppression des colonnes\n",
    "df_cleaned = df_fusion.drop(columns=vars_to_drop, errors=\"ignore\")\n",
    "\n",
    "# 💾 Sauvegarde de la version nettoyée\n",
    "df_cleaned.to_csv(path + \"base_sinistres_nettoyee.csv\", index=False)\n",
    "print(\"✅ Base nettoyée enregistrée sous : base_sinistres_nettoyee.csv\")"
   ]
  },
  {
   "cell_type": "code",
   "execution_count": 17,
   "id": "e13e5192",
   "metadata": {},
   "outputs": [
    {
     "name": "stdout",
     "output_type": "stream",
     "text": [
      "📋 Formule GLM utilisée :\n",
      "MT_TOTAL_REPARABLE ~ clos + sans_suite + quart_resp + formule_ratt + cond_indet + sexe + cylin + pkw + cdval + val + pickup + luxe + prestige + soumis_crm + crm + boncond + nab50 + petit_rouleur + MT_CHARGE_NETTE_ECO + NBHH_MO_REPARABLE + TAUX_HORAIRE_MO + NBHH_IP_REPARABLE + NB_PIECES_REEMPLOI + MT_PIECES_REEMPLOI + RE_AVEC_PIECE_REEMPLOI + RE_AVEC_PIECE_REPAR_MP + RE_AVEC_PIECE_REMPL_MP + _RESEAU_ + date_nais_f + date_permis_f + formule_ratt_g + sitfam_g + usage2_g + orig_attest_g + caros_g + segment_g + energ_g + frein_g + alim_g + suspe_g + crash_g + fract_paiem_soc_g + cdval_g + modele2_g + profess_g + marq_g + garag_g + Region + Zone\n"
     ]
    }
   ],
   "source": [
    "# 🔍 Liste des variables explicatives (exclure la cible et les colonnes techniques)\n",
    "exclude_cols = [\"MT_TOTAL_REPARABLE\", \"MT_MO_REPARABLE\", \"MT_IP_REPARABLE\",  \"MT_PIECES_REPARABLE\", \"sinistre_id_reel\", \"cle_sin\", \"proba_sinistre_0\", \"proba_sinistre_1\"]\n",
    "variables = [col for col in df_cleaned.columns if col not in exclude_cols]\n",
    "\n",
    "# 🧠 Construction de la formule GLM\n",
    "formula_glm = \"MT_TOTAL_REPARABLE ~ \" + \" + \".join(variables)\n",
    "print(\"📋 Formule GLM utilisée :\")\n",
    "print(formula_glm)"
   ]
  },
  {
   "cell_type": "code",
   "execution_count": 21,
   "id": "eda2676a",
   "metadata": {},
   "outputs": [
    {
     "name": "stdout",
     "output_type": "stream",
     "text": [
      "Collecting statsmodels\n",
      "  Downloading statsmodels-0.14.5-cp311-cp311-win_amd64.whl.metadata (9.8 kB)\n",
      "Requirement already satisfied: numpy<3,>=1.22.3 in c:\\users\\esthelle.kuissu\\onedrive - exiom partners\\documents\\code_rapport_stage\\ex_rap_stage\\exiom_stage\\.venv\\lib\\site-packages (from statsmodels) (2.3.1)\n",
      "Requirement already satisfied: scipy!=1.9.2,>=1.8 in c:\\users\\esthelle.kuissu\\onedrive - exiom partners\\documents\\code_rapport_stage\\ex_rap_stage\\exiom_stage\\.venv\\lib\\site-packages (from statsmodels) (1.16.0)\n",
      "Requirement already satisfied: pandas!=2.1.0,>=1.4 in c:\\users\\esthelle.kuissu\\onedrive - exiom partners\\documents\\code_rapport_stage\\ex_rap_stage\\exiom_stage\\.venv\\lib\\site-packages (from statsmodels) (2.3.1)\n",
      "Collecting patsy>=0.5.6 (from statsmodels)\n",
      "  Using cached patsy-1.0.1-py2.py3-none-any.whl.metadata (3.3 kB)\n",
      "Requirement already satisfied: packaging>=21.3 in c:\\users\\esthelle.kuissu\\onedrive - exiom partners\\documents\\code_rapport_stage\\ex_rap_stage\\exiom_stage\\.venv\\lib\\site-packages (from statsmodels) (25.0)\n",
      "Requirement already satisfied: python-dateutil>=2.8.2 in c:\\users\\esthelle.kuissu\\onedrive - exiom partners\\documents\\code_rapport_stage\\ex_rap_stage\\exiom_stage\\.venv\\lib\\site-packages (from pandas!=2.1.0,>=1.4->statsmodels) (2.9.0.post0)\n",
      "Requirement already satisfied: pytz>=2020.1 in c:\\users\\esthelle.kuissu\\onedrive - exiom partners\\documents\\code_rapport_stage\\ex_rap_stage\\exiom_stage\\.venv\\lib\\site-packages (from pandas!=2.1.0,>=1.4->statsmodels) (2025.2)\n",
      "Requirement already satisfied: tzdata>=2022.7 in c:\\users\\esthelle.kuissu\\onedrive - exiom partners\\documents\\code_rapport_stage\\ex_rap_stage\\exiom_stage\\.venv\\lib\\site-packages (from pandas!=2.1.0,>=1.4->statsmodels) (2025.2)\n",
      "Requirement already satisfied: six>=1.5 in c:\\users\\esthelle.kuissu\\onedrive - exiom partners\\documents\\code_rapport_stage\\ex_rap_stage\\exiom_stage\\.venv\\lib\\site-packages (from python-dateutil>=2.8.2->pandas!=2.1.0,>=1.4->statsmodels) (1.17.0)\n",
      "Downloading statsmodels-0.14.5-cp311-cp311-win_amd64.whl (9.6 MB)\n",
      "   ---------------------------------------- 0.0/9.6 MB ? eta -:--:--\n",
      "   ------------- -------------------------- 3.1/9.6 MB 16.8 MB/s eta 0:00:01\n",
      "   ------------------------------- -------- 7.6/9.6 MB 19.6 MB/s eta 0:00:01\n",
      "   ---------------------------------------- 9.6/9.6 MB 18.2 MB/s eta 0:00:00\n",
      "Using cached patsy-1.0.1-py2.py3-none-any.whl (232 kB)\n",
      "Installing collected packages: patsy, statsmodels\n",
      "\n",
      "   ---------------------------------------- 0/2 [patsy]\n",
      "   ---------------------------------------- 0/2 [patsy]\n",
      "   ---------------------------------------- 0/2 [patsy]\n",
      "   -------------------- ------------------- 1/2 [statsmodels]\n",
      "   -------------------- ------------------- 1/2 [statsmodels]\n",
      "   -------------------- ------------------- 1/2 [statsmodels]\n",
      "   -------------------- ------------------- 1/2 [statsmodels]\n",
      "   -------------------- ------------------- 1/2 [statsmodels]\n",
      "   -------------------- ------------------- 1/2 [statsmodels]\n",
      "   -------------------- ------------------- 1/2 [statsmodels]\n",
      "   -------------------- ------------------- 1/2 [statsmodels]\n",
      "   -------------------- ------------------- 1/2 [statsmodels]\n",
      "   -------------------- ------------------- 1/2 [statsmodels]\n",
      "   -------------------- ------------------- 1/2 [statsmodels]\n",
      "   -------------------- ------------------- 1/2 [statsmodels]\n",
      "   -------------------- ------------------- 1/2 [statsmodels]\n",
      "   -------------------- ------------------- 1/2 [statsmodels]\n",
      "   -------------------- ------------------- 1/2 [statsmodels]\n",
      "   -------------------- ------------------- 1/2 [statsmodels]\n",
      "   -------------------- ------------------- 1/2 [statsmodels]\n",
      "   -------------------- ------------------- 1/2 [statsmodels]\n",
      "   -------------------- ------------------- 1/2 [statsmodels]\n",
      "   -------------------- ------------------- 1/2 [statsmodels]\n",
      "   -------------------- ------------------- 1/2 [statsmodels]\n",
      "   -------------------- ------------------- 1/2 [statsmodels]\n",
      "   -------------------- ------------------- 1/2 [statsmodels]\n",
      "   -------------------- ------------------- 1/2 [statsmodels]\n",
      "   -------------------- ------------------- 1/2 [statsmodels]\n",
      "   -------------------- ------------------- 1/2 [statsmodels]\n",
      "   -------------------- ------------------- 1/2 [statsmodels]\n",
      "   -------------------- ------------------- 1/2 [statsmodels]\n",
      "   -------------------- ------------------- 1/2 [statsmodels]\n",
      "   -------------------- ------------------- 1/2 [statsmodels]\n",
      "   -------------------- ------------------- 1/2 [statsmodels]\n",
      "   -------------------- ------------------- 1/2 [statsmodels]\n",
      "   -------------------- ------------------- 1/2 [statsmodels]\n",
      "   -------------------- ------------------- 1/2 [statsmodels]\n",
      "   -------------------- ------------------- 1/2 [statsmodels]\n",
      "   -------------------- ------------------- 1/2 [statsmodels]\n",
      "   ---------------------------------------- 2/2 [statsmodels]\n",
      "\n",
      "Successfully installed patsy-1.0.1 statsmodels-0.14.5\n"
     ]
    }
   ],
   "source": [
    "! pip install statsmodels"
   ]
  },
  {
   "cell_type": "code",
   "execution_count": 23,
   "id": "7ae3febf",
   "metadata": {},
   "outputs": [],
   "source": [
    "import statsmodels.api as sm"
   ]
  },
  {
   "cell_type": "code",
   "execution_count": 22,
   "id": "aff600cd",
   "metadata": {},
   "outputs": [],
   "source": [
    "import statsmodels.formula.api as smf"
   ]
  },
  {
   "cell_type": "code",
   "execution_count": 26,
   "id": "06c8b60b",
   "metadata": {},
   "outputs": [
    {
     "name": "stderr",
     "output_type": "stream",
     "text": [
      "c:\\Users\\esthelle.kuissu\\OneDrive - Exiom Partners\\Documents\\Code_rapport_stage\\EX_RAP_STAGE\\Exiom_Stage\\.venv\\Lib\\site-packages\\statsmodels\\genmod\\families\\links.py:13: FutureWarning: The log link alias is deprecated. Use Log instead. The log link alias will be removed after the 0.15.0 release.\n",
      "  warnings.warn(\n"
     ]
    },
    {
     "ename": "MemoryError",
     "evalue": "Unable to allocate 6.29 GiB for an array with shape (29066, 29065) and data type float64",
     "output_type": "error",
     "traceback": [
      "\u001b[31m---------------------------------------------------------------------------\u001b[39m",
      "\u001b[31mMemoryError\u001b[39m                               Traceback (most recent call last)",
      "\u001b[36mCell\u001b[39m\u001b[36m \u001b[39m\u001b[32mIn[26]\u001b[39m\u001b[32m, line 3\u001b[39m\n\u001b[32m      1\u001b[39m \u001b[38;5;66;03m# 📊 GLM pour sinistres de type 1\u001b[39;00m\n\u001b[32m      2\u001b[39m df_type_1 = df_cleaned[df_cleaned[\u001b[33m\"\u001b[39m\u001b[33msinistre_id_reel\u001b[39m\u001b[33m\"\u001b[39m] == \u001b[32m1\u001b[39m]\n\u001b[32m----> \u001b[39m\u001b[32m3\u001b[39m glm_1 = \u001b[43msmf\u001b[49m\u001b[43m.\u001b[49m\u001b[43mglm\u001b[49m\u001b[43m(\u001b[49m\n\u001b[32m      4\u001b[39m \u001b[43m    \u001b[49m\u001b[43mformula\u001b[49m\u001b[43m=\u001b[49m\u001b[43mformula_glm\u001b[49m\u001b[43m,\u001b[49m\n\u001b[32m      5\u001b[39m \u001b[43m    \u001b[49m\u001b[43mdata\u001b[49m\u001b[43m=\u001b[49m\u001b[43mdf_type_1\u001b[49m\u001b[43m,\u001b[49m\n\u001b[32m      6\u001b[39m \u001b[43m    \u001b[49m\u001b[43mfamily\u001b[49m\u001b[43m=\u001b[49m\u001b[43msm\u001b[49m\u001b[43m.\u001b[49m\u001b[43mfamilies\u001b[49m\u001b[43m.\u001b[49m\u001b[43mGamma\u001b[49m\u001b[43m(\u001b[49m\u001b[43msm\u001b[49m\u001b[43m.\u001b[49m\u001b[43mfamilies\u001b[49m\u001b[43m.\u001b[49m\u001b[43mlinks\u001b[49m\u001b[43m.\u001b[49m\u001b[43mlog\u001b[49m\u001b[43m(\u001b[49m\u001b[43m)\u001b[49m\u001b[43m)\u001b[49m\n\u001b[32m      7\u001b[39m \u001b[43m)\u001b[49m.fit()\n\u001b[32m      9\u001b[39m \u001b[38;5;66;03m# 📊 GLM pour sinistres de type 0\u001b[39;00m\n\u001b[32m     10\u001b[39m df_type_0 = df_cleaned[df_cleaned[\u001b[33m\"\u001b[39m\u001b[33msinistre_id_reel\u001b[39m\u001b[33m\"\u001b[39m] == \u001b[32m0\u001b[39m]\n",
      "\u001b[36mFile \u001b[39m\u001b[32mc:\\Users\\esthelle.kuissu\\OneDrive - Exiom Partners\\Documents\\Code_rapport_stage\\EX_RAP_STAGE\\Exiom_Stage\\.venv\\Lib\\site-packages\\statsmodels\\base\\model.py:203\u001b[39m, in \u001b[36mModel.from_formula\u001b[39m\u001b[34m(cls, formula, data, subset, drop_cols, *args, **kwargs)\u001b[39m\n\u001b[32m    200\u001b[39m \u001b[38;5;28;01mif\u001b[39;00m missing == \u001b[33m'\u001b[39m\u001b[33mnone\u001b[39m\u001b[33m'\u001b[39m:  \u001b[38;5;66;03m# with patsy it's drop or raise. let's raise.\u001b[39;00m\n\u001b[32m    201\u001b[39m     missing = \u001b[33m'\u001b[39m\u001b[33mraise\u001b[39m\u001b[33m'\u001b[39m\n\u001b[32m--> \u001b[39m\u001b[32m203\u001b[39m tmp = \u001b[43mhandle_formula_data\u001b[49m\u001b[43m(\u001b[49m\u001b[43mdata\u001b[49m\u001b[43m,\u001b[49m\u001b[43m \u001b[49m\u001b[38;5;28;43;01mNone\u001b[39;49;00m\u001b[43m,\u001b[49m\u001b[43m \u001b[49m\u001b[43mformula\u001b[49m\u001b[43m,\u001b[49m\u001b[43m \u001b[49m\u001b[43mdepth\u001b[49m\u001b[43m=\u001b[49m\u001b[43meval_env\u001b[49m\u001b[43m,\u001b[49m\n\u001b[32m    204\u001b[39m \u001b[43m                          \u001b[49m\u001b[43mmissing\u001b[49m\u001b[43m=\u001b[49m\u001b[43mmissing\u001b[49m\u001b[43m)\u001b[49m\n\u001b[32m    205\u001b[39m ((endog, exog), missing_idx, design_info) = tmp\n\u001b[32m    206\u001b[39m max_endog = \u001b[38;5;28mcls\u001b[39m._formula_max_endog\n",
      "\u001b[36mFile \u001b[39m\u001b[32mc:\\Users\\esthelle.kuissu\\OneDrive - Exiom Partners\\Documents\\Code_rapport_stage\\EX_RAP_STAGE\\Exiom_Stage\\.venv\\Lib\\site-packages\\statsmodels\\formula\\formulatools.py:63\u001b[39m, in \u001b[36mhandle_formula_data\u001b[39m\u001b[34m(Y, X, formula, depth, missing)\u001b[39m\n\u001b[32m     61\u001b[39m \u001b[38;5;28;01melse\u001b[39;00m:\n\u001b[32m     62\u001b[39m     \u001b[38;5;28;01mif\u001b[39;00m data_util._is_using_pandas(Y, \u001b[38;5;28;01mNone\u001b[39;00m):\n\u001b[32m---> \u001b[39m\u001b[32m63\u001b[39m         result = \u001b[43mdmatrices\u001b[49m\u001b[43m(\u001b[49m\u001b[43mformula\u001b[49m\u001b[43m,\u001b[49m\u001b[43m \u001b[49m\u001b[43mY\u001b[49m\u001b[43m,\u001b[49m\u001b[43m \u001b[49m\u001b[43mdepth\u001b[49m\u001b[43m,\u001b[49m\u001b[43m \u001b[49m\u001b[43mreturn_type\u001b[49m\u001b[43m=\u001b[49m\u001b[33;43m'\u001b[39;49m\u001b[33;43mdataframe\u001b[39;49m\u001b[33;43m'\u001b[39;49m\u001b[43m,\u001b[49m\n\u001b[32m     64\u001b[39m \u001b[43m                           \u001b[49m\u001b[43mNA_action\u001b[49m\u001b[43m=\u001b[49m\u001b[43mna_action\u001b[49m\u001b[43m)\u001b[49m\n\u001b[32m     65\u001b[39m     \u001b[38;5;28;01melse\u001b[39;00m:\n\u001b[32m     66\u001b[39m         result = dmatrices(formula, Y, depth, return_type=\u001b[33m'\u001b[39m\u001b[33mdataframe\u001b[39m\u001b[33m'\u001b[39m,\n\u001b[32m     67\u001b[39m                            NA_action=na_action)\n",
      "\u001b[36mFile \u001b[39m\u001b[32mc:\\Users\\esthelle.kuissu\\OneDrive - Exiom Partners\\Documents\\Code_rapport_stage\\EX_RAP_STAGE\\Exiom_Stage\\.venv\\Lib\\site-packages\\patsy\\highlevel.py:319\u001b[39m, in \u001b[36mdmatrices\u001b[39m\u001b[34m(formula_like, data, eval_env, NA_action, return_type)\u001b[39m\n\u001b[32m    309\u001b[39m \u001b[38;5;250m\u001b[39m\u001b[33;03m\"\"\"Construct two design matrices given a formula_like and data.\u001b[39;00m\n\u001b[32m    310\u001b[39m \n\u001b[32m    311\u001b[39m \u001b[33;03mThis function is identical to :func:`dmatrix`, except that it requires\u001b[39;00m\n\u001b[32m   (...)\u001b[39m\u001b[32m    316\u001b[39m \u001b[33;03mSee :func:`dmatrix` for details.\u001b[39;00m\n\u001b[32m    317\u001b[39m \u001b[33;03m\"\"\"\u001b[39;00m\n\u001b[32m    318\u001b[39m eval_env = EvalEnvironment.capture(eval_env, reference=\u001b[32m1\u001b[39m)\n\u001b[32m--> \u001b[39m\u001b[32m319\u001b[39m (lhs, rhs) = \u001b[43m_do_highlevel_design\u001b[49m\u001b[43m(\u001b[49m\n\u001b[32m    320\u001b[39m \u001b[43m    \u001b[49m\u001b[43mformula_like\u001b[49m\u001b[43m,\u001b[49m\u001b[43m \u001b[49m\u001b[43mdata\u001b[49m\u001b[43m,\u001b[49m\u001b[43m \u001b[49m\u001b[43meval_env\u001b[49m\u001b[43m,\u001b[49m\u001b[43m \u001b[49m\u001b[43mNA_action\u001b[49m\u001b[43m,\u001b[49m\u001b[43m \u001b[49m\u001b[43mreturn_type\u001b[49m\n\u001b[32m    321\u001b[39m \u001b[43m\u001b[49m\u001b[43m)\u001b[49m\n\u001b[32m    322\u001b[39m \u001b[38;5;28;01mif\u001b[39;00m lhs.shape[\u001b[32m1\u001b[39m] == \u001b[32m0\u001b[39m:\n\u001b[32m    323\u001b[39m     \u001b[38;5;28;01mraise\u001b[39;00m PatsyError(\u001b[33m\"\u001b[39m\u001b[33mmodel is missing required outcome variables\u001b[39m\u001b[33m\"\u001b[39m)\n",
      "\u001b[36mFile \u001b[39m\u001b[32mc:\\Users\\esthelle.kuissu\\OneDrive - Exiom Partners\\Documents\\Code_rapport_stage\\EX_RAP_STAGE\\Exiom_Stage\\.venv\\Lib\\site-packages\\patsy\\highlevel.py:164\u001b[39m, in \u001b[36m_do_highlevel_design\u001b[39m\u001b[34m(formula_like, data, eval_env, NA_action, return_type)\u001b[39m\n\u001b[32m    161\u001b[39m \u001b[38;5;28;01mdef\u001b[39;00m\u001b[38;5;250m \u001b[39m\u001b[34mdata_iter_maker\u001b[39m():\n\u001b[32m    162\u001b[39m     \u001b[38;5;28;01mreturn\u001b[39;00m \u001b[38;5;28miter\u001b[39m([data])\n\u001b[32m--> \u001b[39m\u001b[32m164\u001b[39m design_infos = \u001b[43m_try_incr_builders\u001b[49m\u001b[43m(\u001b[49m\n\u001b[32m    165\u001b[39m \u001b[43m    \u001b[49m\u001b[43mformula_like\u001b[49m\u001b[43m,\u001b[49m\u001b[43m \u001b[49m\u001b[43mdata_iter_maker\u001b[49m\u001b[43m,\u001b[49m\u001b[43m \u001b[49m\u001b[43meval_env\u001b[49m\u001b[43m,\u001b[49m\u001b[43m \u001b[49m\u001b[43mNA_action\u001b[49m\n\u001b[32m    166\u001b[39m \u001b[43m\u001b[49m\u001b[43m)\u001b[49m\n\u001b[32m    167\u001b[39m \u001b[38;5;28;01mif\u001b[39;00m design_infos \u001b[38;5;129;01mis\u001b[39;00m \u001b[38;5;129;01mnot\u001b[39;00m \u001b[38;5;28;01mNone\u001b[39;00m:\n\u001b[32m    168\u001b[39m     \u001b[38;5;28;01mreturn\u001b[39;00m build_design_matrices(\n\u001b[32m    169\u001b[39m         design_infos, data, NA_action=NA_action, return_type=return_type\n\u001b[32m    170\u001b[39m     )\n",
      "\u001b[36mFile \u001b[39m\u001b[32mc:\\Users\\esthelle.kuissu\\OneDrive - Exiom Partners\\Documents\\Code_rapport_stage\\EX_RAP_STAGE\\Exiom_Stage\\.venv\\Lib\\site-packages\\patsy\\highlevel.py:56\u001b[39m, in \u001b[36m_try_incr_builders\u001b[39m\u001b[34m(formula_like, data_iter_maker, eval_env, NA_action)\u001b[39m\n\u001b[32m     54\u001b[39m \u001b[38;5;28;01mif\u001b[39;00m \u001b[38;5;28misinstance\u001b[39m(formula_like, ModelDesc):\n\u001b[32m     55\u001b[39m     \u001b[38;5;28;01massert\u001b[39;00m \u001b[38;5;28misinstance\u001b[39m(eval_env, EvalEnvironment)\n\u001b[32m---> \u001b[39m\u001b[32m56\u001b[39m     \u001b[38;5;28;01mreturn\u001b[39;00m \u001b[43mdesign_matrix_builders\u001b[49m\u001b[43m(\u001b[49m\n\u001b[32m     57\u001b[39m \u001b[43m        \u001b[49m\u001b[43m[\u001b[49m\u001b[43mformula_like\u001b[49m\u001b[43m.\u001b[49m\u001b[43mlhs_termlist\u001b[49m\u001b[43m,\u001b[49m\u001b[43m \u001b[49m\u001b[43mformula_like\u001b[49m\u001b[43m.\u001b[49m\u001b[43mrhs_termlist\u001b[49m\u001b[43m]\u001b[49m\u001b[43m,\u001b[49m\n\u001b[32m     58\u001b[39m \u001b[43m        \u001b[49m\u001b[43mdata_iter_maker\u001b[49m\u001b[43m,\u001b[49m\n\u001b[32m     59\u001b[39m \u001b[43m        \u001b[49m\u001b[43meval_env\u001b[49m\u001b[43m,\u001b[49m\n\u001b[32m     60\u001b[39m \u001b[43m        \u001b[49m\u001b[43mNA_action\u001b[49m\u001b[43m,\u001b[49m\n\u001b[32m     61\u001b[39m \u001b[43m    \u001b[49m\u001b[43m)\u001b[49m\n\u001b[32m     62\u001b[39m \u001b[38;5;28;01melse\u001b[39;00m:\n\u001b[32m     63\u001b[39m     \u001b[38;5;28;01mreturn\u001b[39;00m \u001b[38;5;28;01mNone\u001b[39;00m\n",
      "\u001b[36mFile \u001b[39m\u001b[32mc:\\Users\\esthelle.kuissu\\OneDrive - Exiom Partners\\Documents\\Code_rapport_stage\\EX_RAP_STAGE\\Exiom_Stage\\.venv\\Lib\\site-packages\\patsy\\build.py:775\u001b[39m, in \u001b[36mdesign_matrix_builders\u001b[39m\u001b[34m(termlists, data_iter_maker, eval_env, NA_action)\u001b[39m\n\u001b[32m    773\u001b[39m design_infos = []\n\u001b[32m    774\u001b[39m \u001b[38;5;28;01mfor\u001b[39;00m termlist \u001b[38;5;129;01min\u001b[39;00m termlists:\n\u001b[32m--> \u001b[39m\u001b[32m775\u001b[39m     term_to_subterm_infos = \u001b[43m_make_subterm_infos\u001b[49m\u001b[43m(\u001b[49m\n\u001b[32m    776\u001b[39m \u001b[43m        \u001b[49m\u001b[43mtermlist\u001b[49m\u001b[43m,\u001b[49m\u001b[43m \u001b[49m\u001b[43mnum_column_counts\u001b[49m\u001b[43m,\u001b[49m\u001b[43m \u001b[49m\u001b[43mcat_levels_contrasts\u001b[49m\n\u001b[32m    777\u001b[39m \u001b[43m    \u001b[49m\u001b[43m)\u001b[49m\n\u001b[32m    778\u001b[39m     \u001b[38;5;28;01massert\u001b[39;00m \u001b[38;5;28misinstance\u001b[39m(term_to_subterm_infos, OrderedDict)\n\u001b[32m    779\u001b[39m     \u001b[38;5;28;01massert\u001b[39;00m \u001b[38;5;28mfrozenset\u001b[39m(term_to_subterm_infos) == \u001b[38;5;28mfrozenset\u001b[39m(termlist)\n",
      "\u001b[36mFile \u001b[39m\u001b[32mc:\\Users\\esthelle.kuissu\\OneDrive - Exiom Partners\\Documents\\Code_rapport_stage\\EX_RAP_STAGE\\Exiom_Stage\\.venv\\Lib\\site-packages\\patsy\\build.py:680\u001b[39m, in \u001b[36m_make_subterm_infos\u001b[39m\u001b[34m(terms, num_column_counts, cat_levels_contrasts)\u001b[39m\n\u001b[32m    677\u001b[39m levels, contrast = cat_levels_contrasts[factor]\n\u001b[32m    678\u001b[39m \u001b[38;5;66;03m# This is where the default coding is set to\u001b[39;00m\n\u001b[32m    679\u001b[39m \u001b[38;5;66;03m# Treatment:\u001b[39;00m\n\u001b[32m--> \u001b[39m\u001b[32m680\u001b[39m coded = \u001b[43mcode_contrast_matrix\u001b[49m\u001b[43m(\u001b[49m\n\u001b[32m    681\u001b[39m \u001b[43m    \u001b[49m\u001b[43mfactor_coding\u001b[49m\u001b[43m[\u001b[49m\u001b[43mfactor\u001b[49m\u001b[43m]\u001b[49m\u001b[43m,\u001b[49m\u001b[43m \u001b[49m\u001b[43mlevels\u001b[49m\u001b[43m,\u001b[49m\u001b[43m \u001b[49m\u001b[43mcontrast\u001b[49m\u001b[43m,\u001b[49m\u001b[43m \u001b[49m\u001b[43mdefault\u001b[49m\u001b[43m=\u001b[49m\u001b[43mTreatment\u001b[49m\n\u001b[32m    682\u001b[39m \u001b[43m\u001b[49m\u001b[43m)\u001b[49m\n\u001b[32m    683\u001b[39m contrast_matrices[factor] = coded\n\u001b[32m    684\u001b[39m subterm_columns *= coded.matrix.shape[\u001b[32m1\u001b[39m]\n",
      "\u001b[36mFile \u001b[39m\u001b[32mc:\\Users\\esthelle.kuissu\\OneDrive - Exiom Partners\\Documents\\Code_rapport_stage\\EX_RAP_STAGE\\Exiom_Stage\\.venv\\Lib\\site-packages\\patsy\\contrasts.py:642\u001b[39m, in \u001b[36mcode_contrast_matrix\u001b[39m\u001b[34m(intercept, levels, contrast, default)\u001b[39m\n\u001b[32m    640\u001b[39m     \u001b[38;5;28;01mreturn\u001b[39;00m contrast.code_with_intercept(levels)\n\u001b[32m    641\u001b[39m \u001b[38;5;28;01melse\u001b[39;00m:\n\u001b[32m--> \u001b[39m\u001b[32m642\u001b[39m     \u001b[38;5;28;01mreturn\u001b[39;00m \u001b[43mcontrast\u001b[49m\u001b[43m.\u001b[49m\u001b[43mcode_without_intercept\u001b[49m\u001b[43m(\u001b[49m\u001b[43mlevels\u001b[49m\u001b[43m)\u001b[49m\n",
      "\u001b[36mFile \u001b[39m\u001b[32mc:\\Users\\esthelle.kuissu\\OneDrive - Exiom Partners\\Documents\\Code_rapport_stage\\EX_RAP_STAGE\\Exiom_Stage\\.venv\\Lib\\site-packages\\patsy\\contrasts.py:186\u001b[39m, in \u001b[36mTreatment.code_without_intercept\u001b[39m\u001b[34m(self, levels)\u001b[39m\n\u001b[32m    184\u001b[39m     reference = _get_level(levels, \u001b[38;5;28mself\u001b[39m.reference)\n\u001b[32m    185\u001b[39m eye = np.eye(\u001b[38;5;28mlen\u001b[39m(levels) - \u001b[32m1\u001b[39m)\n\u001b[32m--> \u001b[39m\u001b[32m186\u001b[39m contrasts = \u001b[43mnp\u001b[49m\u001b[43m.\u001b[49m\u001b[43mvstack\u001b[49m\u001b[43m(\u001b[49m\n\u001b[32m    187\u001b[39m \u001b[43m    \u001b[49m\u001b[43m(\u001b[49m\u001b[43meye\u001b[49m\u001b[43m[\u001b[49m\u001b[43m:\u001b[49m\u001b[43mreference\u001b[49m\u001b[43m,\u001b[49m\u001b[43m \u001b[49m\u001b[43m:\u001b[49m\u001b[43m]\u001b[49m\u001b[43m,\u001b[49m\u001b[43m \u001b[49m\u001b[43mnp\u001b[49m\u001b[43m.\u001b[49m\u001b[43mzeros\u001b[49m\u001b[43m(\u001b[49m\u001b[43m(\u001b[49m\u001b[32;43m1\u001b[39;49m\u001b[43m,\u001b[49m\u001b[43m \u001b[49m\u001b[38;5;28;43mlen\u001b[39;49m\u001b[43m(\u001b[49m\u001b[43mlevels\u001b[49m\u001b[43m)\u001b[49m\u001b[43m \u001b[49m\u001b[43m-\u001b[49m\u001b[43m \u001b[49m\u001b[32;43m1\u001b[39;49m\u001b[43m)\u001b[49m\u001b[43m)\u001b[49m\u001b[43m,\u001b[49m\u001b[43m \u001b[49m\u001b[43meye\u001b[49m\u001b[43m[\u001b[49m\u001b[43mreference\u001b[49m\u001b[43m:\u001b[49m\u001b[43m,\u001b[49m\u001b[43m \u001b[49m\u001b[43m:\u001b[49m\u001b[43m]\u001b[49m\u001b[43m)\u001b[49m\n\u001b[32m    188\u001b[39m \u001b[43m\u001b[49m\u001b[43m)\u001b[49m\n\u001b[32m    189\u001b[39m names = _name_levels(\u001b[33m\"\u001b[39m\u001b[33mT.\u001b[39m\u001b[33m\"\u001b[39m, levels[:reference] + levels[reference + \u001b[32m1\u001b[39m :])\n\u001b[32m    190\u001b[39m \u001b[38;5;28;01mreturn\u001b[39;00m ContrastMatrix(contrasts, names)\n",
      "\u001b[36mFile \u001b[39m\u001b[32mc:\\Users\\esthelle.kuissu\\OneDrive - Exiom Partners\\Documents\\Code_rapport_stage\\EX_RAP_STAGE\\Exiom_Stage\\.venv\\Lib\\site-packages\\numpy\\_core\\shape_base.py:292\u001b[39m, in \u001b[36mvstack\u001b[39m\u001b[34m(tup, dtype, casting)\u001b[39m\n\u001b[32m    290\u001b[39m \u001b[38;5;28;01mif\u001b[39;00m \u001b[38;5;129;01mnot\u001b[39;00m \u001b[38;5;28misinstance\u001b[39m(arrs, \u001b[38;5;28mtuple\u001b[39m):\n\u001b[32m    291\u001b[39m     arrs = (arrs,)\n\u001b[32m--> \u001b[39m\u001b[32m292\u001b[39m \u001b[38;5;28;01mreturn\u001b[39;00m \u001b[43m_nx\u001b[49m\u001b[43m.\u001b[49m\u001b[43mconcatenate\u001b[49m\u001b[43m(\u001b[49m\u001b[43marrs\u001b[49m\u001b[43m,\u001b[49m\u001b[43m \u001b[49m\u001b[32;43m0\u001b[39;49m\u001b[43m,\u001b[49m\u001b[43m \u001b[49m\u001b[43mdtype\u001b[49m\u001b[43m=\u001b[49m\u001b[43mdtype\u001b[49m\u001b[43m,\u001b[49m\u001b[43m \u001b[49m\u001b[43mcasting\u001b[49m\u001b[43m=\u001b[49m\u001b[43mcasting\u001b[49m\u001b[43m)\u001b[49m\n",
      "\u001b[31mMemoryError\u001b[39m: Unable to allocate 6.29 GiB for an array with shape (29066, 29065) and data type float64"
     ]
    }
   ],
   "source": [
    "# 📊 GLM pour sinistres de type 1\n",
    "df_type_1 = df_cleaned[df_cleaned[\"sinistre_id_reel\"] == 1]\n",
    "glm_1 = smf.glm(\n",
    "    formula=formula_glm,\n",
    "    data=df_type_1,\n",
    "    family=sm.families.Gamma(sm.families.links.log())\n",
    ").fit()\n",
    "\n",
    "# 📊 GLM pour sinistres de type 0\n",
    "df_type_0 = df_cleaned[df_cleaned[\"sinistre_id_reel\"] == 0]\n",
    "glm_0 = smf.glm(\n",
    "    formula=formula_glm,\n",
    "    data=df_type_0,\n",
    "    family=sm.families.Gamma(sm.families.links.log())\n",
    ").fit()\n"
   ]
  },
  {
   "cell_type": "markdown",
   "id": "e6664795",
   "metadata": {},
   "source": [
    "# STOP ICI"
   ]
  },
  {
   "cell_type": "code",
   "execution_count": 58,
   "id": "960db5cc",
   "metadata": {},
   "outputs": [],
   "source": [
    "Y1 = dataM['MT_MO_REPARABLE']"
   ]
  },
  {
   "cell_type": "code",
   "execution_count": 59,
   "id": "156482d5",
   "metadata": {},
   "outputs": [],
   "source": [
    "X1 = dataM[['pkw', 'age_veh', 'val', 'generation', 'airbag', 'co2min', 'anc_permis',\n",
    "       'cylin', 'poidspuiss', 'crm', 'nab50','NBHH_MO_REPARABLE', 'TAUX_HORAIRE_MO']]"
   ]
  },
  {
   "cell_type": "code",
   "execution_count": 60,
   "id": "7b19dfff",
   "metadata": {},
   "outputs": [
    {
     "name": "stdout",
     "output_type": "stream",
     "text": [
      "pkw                  float64\n",
      "age_veh              float64\n",
      "val                  float64\n",
      "generation           float64\n",
      "airbag               float64\n",
      "co2min               float64\n",
      "anc_permis           float64\n",
      "cylin                float64\n",
      "poidspuiss           float64\n",
      "crm                  float64\n",
      "nab50                float64\n",
      "NBHH_MO_REPARABLE    float64\n",
      "TAUX_HORAIRE_MO      float64\n",
      "dtype: object\n"
     ]
    }
   ],
   "source": [
    "print(X1.dtypes)\n"
   ]
  },
  {
   "cell_type": "code",
   "execution_count": 61,
   "id": "d8ab62c6",
   "metadata": {},
   "outputs": [
    {
     "name": "stdout",
     "output_type": "stream",
     "text": [
      "Requirement already satisfied: scipy in c:\\users\\esthelle.kuissu\\onedrive - exiom partners\\documents\\code_rapport_stage\\note_book\\.venv\\lib\\site-packages (1.15.3)\n",
      "Requirement already satisfied: numpy<2.5,>=1.23.5 in c:\\users\\esthelle.kuissu\\onedrive - exiom partners\\documents\\code_rapport_stage\\note_book\\.venv\\lib\\site-packages (from scipy) (2.3.0)\n"
     ]
    }
   ],
   "source": [
    "#!pip install pyglmnet\n",
    "!pip install scipy\n",
    "from pyglmnet import GLM\n",
    "from scipy import stats"
   ]
  },
  {
   "cell_type": "code",
   "execution_count": 62,
   "id": "34625b2b",
   "metadata": {},
   "outputs": [],
   "source": [
    "from pyglmnet import GLM\n",
    "model = GLM(distr='gamma', alpha=1, reg_lambda=0.01)\n",
    "import numpy as np"
   ]
  },
  {
   "cell_type": "code",
   "execution_count": 63,
   "id": "d1dc4f90",
   "metadata": {},
   "outputs": [],
   "source": [
    "X1 = X1.to_numpy()  # Convertir DataFrame en ndarray\n",
    "Y1 = Y1.to_numpy()  # Convertir Series en ndarray\n"
   ]
  },
  {
   "cell_type": "code",
   "execution_count": 64,
   "id": "d04a6f16",
   "metadata": {},
   "outputs": [
    {
     "name": "stderr",
     "output_type": "stream",
     "text": [
      "c:\\Users\\esthelle.kuissu\\OneDrive - Exiom Partners\\Documents\\Code_rapport_stage\\Note_book\\.venv\\Lib\\site-packages\\pyglmnet\\pyglmnet.py:92: RuntimeWarning: overflow encountered in exp\n",
      "  mu = np.log1p(np.exp(z))\n",
      "c:\\Users\\esthelle.kuissu\\OneDrive - Exiom Partners\\Documents\\Code_rapport_stage\\Note_book\\.venv\\Lib\\site-packages\\pyglmnet\\pyglmnet.py:863: UserWarning: Reached max number of iterations without convergence.\n",
      "  warnings.warn(\n"
     ]
    },
    {
     "data": {
      "text/plain": [
       "<\n",
       "Distribution | gamma\n",
       "alpha | 1.00\n",
       "max_iter | 1000.00\n",
       "lambda: 0.01\n",
       ">"
      ]
     },
     "execution_count": 64,
     "metadata": {},
     "output_type": "execute_result"
    }
   ],
   "source": [
    "model.fit(X1, Y1)  # Réessayer l'ajustement du modèle\n"
   ]
  },
  {
   "cell_type": "code",
   "execution_count": 65,
   "id": "edb3a0a7",
   "metadata": {},
   "outputs": [],
   "source": [
    "# Predicting the response variable using the fitted model\n",
    "Y_pred = model.predict(X1)"
   ]
  },
  {
   "cell_type": "code",
   "execution_count": 66,
   "id": "2213a95f",
   "metadata": {},
   "outputs": [
    {
     "name": "stdout",
     "output_type": "stream",
     "text": [
      "   MT_MO_REPARABLE      Y_pred   residuals\n",
      "0          598.300         inf        -inf\n",
      "1           65.000         inf        -inf\n",
      "2           70.000         inf        -inf\n",
      "3          227.500  517.094524 -289.594524\n",
      "4          550.025  677.437458 -127.412458\n",
      "5          488.025  572.001228  -83.976228\n",
      "6         1237.000         inf        -inf\n",
      "7          108.340         inf        -inf\n",
      "8           62.400         inf        -inf\n",
      "9          133.000         inf        -inf\n"
     ]
    }
   ],
   "source": [
    "dataM['Y_pred'] = Y_pred  # Ajouter les prédictions au DataFrame original\n",
    "# Calculer les résidus \n",
    "dataM['residuals'] = dataM['MT_MO_REPARABLE'] - dataM['Y_pred']\n",
    "# Afficher les 5 premières lignes du DataFrame avec les prédictions et les résidus\n",
    "print(dataM[['MT_MO_REPARABLE', 'Y_pred', 'residuals']].head(10))\n"
   ]
  },
  {
   "cell_type": "code",
   "execution_count": null,
   "id": "023c4480",
   "metadata": {},
   "outputs": [
    {
     "name": "stdout",
     "output_type": "stream",
     "text": [
      "Collecting pyglmnet\n",
      "  Downloading pyglmnet-1.1-py3-none-any.whl.metadata (7.8 kB)\n",
      "Downloading pyglmnet-1.1-py3-none-any.whl (23 kB)\n",
      "Installing collected packages: pyglmnet\n",
      "Successfully installed pyglmnet-1.1\n"
     ]
    }
   ],
   "source": [
    "!pip install pyglmnet\n",
    "\n"
   ]
  },
  {
   "cell_type": "code",
   "execution_count": 13,
   "id": "2e37a7de",
   "metadata": {},
   "outputs": [
    {
     "name": "stderr",
     "output_type": "stream",
     "text": [
      "ERROR: Could not find a version that satisfies the requirement distutils (from versions: none)\n",
      "ERROR: No matching distribution found for distutils\n"
     ]
    }
   ],
   "source": [
    "!pip install distutils"
   ]
  },
  {
   "cell_type": "code",
   "execution_count": 18,
   "id": "269ffc3d",
   "metadata": {},
   "outputs": [
    {
     "name": "stdout",
     "output_type": "stream",
     "text": [
      "Collecting setuptools\n",
      "  Using cached setuptools-80.9.0-py3-none-any.whl.metadata (6.6 kB)\n",
      "Using cached setuptools-80.9.0-py3-none-any.whl (1.2 MB)\n",
      "Installing collected packages: setuptools\n",
      "Successfully installed setuptools-80.9.0\n",
      "Note: you may need to restart the kernel to use updated packages.\n"
     ]
    }
   ],
   "source": [
    "pip install setuptools"
   ]
  },
  {
   "cell_type": "code",
   "execution_count": 20,
   "id": "a615fa56",
   "metadata": {},
   "outputs": [
    {
     "name": "stdout",
     "output_type": "stream",
     "text": [
      "Requirement already satisfied: setuptools in c:\\users\\esthelle.kuissu\\appdata\\local\\programs\\python\\python313\\lib\\site-packages (80.9.0)\n",
      "Note: you may need to restart the kernel to use updated packages.\n"
     ]
    }
   ],
   "source": [
    "pip install --upgrade setuptools\n"
   ]
  },
  {
   "cell_type": "code",
   "execution_count": 21,
   "id": "647b31e2",
   "metadata": {},
   "outputs": [],
   "source": [
    "from setuptools import setup\n"
   ]
  }
 ],
 "metadata": {
  "kernelspec": {
   "display_name": ".venv",
   "language": "python",
   "name": "python3"
  },
  "language_info": {
   "codemirror_mode": {
    "name": "ipython",
    "version": 3
   },
   "file_extension": ".py",
   "mimetype": "text/x-python",
   "name": "python",
   "nbconvert_exporter": "python",
   "pygments_lexer": "ipython3",
   "version": "3.11.9"
  }
 },
 "nbformat": 4,
 "nbformat_minor": 5
}
