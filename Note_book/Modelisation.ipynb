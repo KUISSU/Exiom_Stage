{
 "cells": [
  {
   "cell_type": "code",
   "execution_count": 11,
   "id": "ddb5400b",
   "metadata": {},
   "outputs": [
    {
     "name": "stdout",
     "output_type": "stream",
     "text": [
      "Hlloward\n"
     ]
    }
   ],
   "source": [
    "print(\"Hlloward\")"
   ]
  },
  {
   "cell_type": "code",
   "execution_count": 12,
   "id": "3a1be001",
   "metadata": {},
   "outputs": [
    {
     "name": "stdout",
     "output_type": "stream",
     "text": [
      "Requirement already satisfied: pandas in c:\\users\\esthelle.kuissu\\onedrive - exiom partners\\documents\\code_rapport_stage\\note_book\\.venv\\lib\\site-packages (2.3.0)\n",
      "Requirement already satisfied: numpy>=1.23.2 in c:\\users\\esthelle.kuissu\\onedrive - exiom partners\\documents\\code_rapport_stage\\note_book\\.venv\\lib\\site-packages (from pandas) (2.3.0)\n",
      "Requirement already satisfied: python-dateutil>=2.8.2 in c:\\users\\esthelle.kuissu\\onedrive - exiom partners\\documents\\code_rapport_stage\\note_book\\.venv\\lib\\site-packages (from pandas) (2.9.0.post0)\n",
      "Requirement already satisfied: pytz>=2020.1 in c:\\users\\esthelle.kuissu\\onedrive - exiom partners\\documents\\code_rapport_stage\\note_book\\.venv\\lib\\site-packages (from pandas) (2025.2)\n",
      "Requirement already satisfied: tzdata>=2022.7 in c:\\users\\esthelle.kuissu\\onedrive - exiom partners\\documents\\code_rapport_stage\\note_book\\.venv\\lib\\site-packages (from pandas) (2025.2)\n",
      "Requirement already satisfied: six>=1.5 in c:\\users\\esthelle.kuissu\\onedrive - exiom partners\\documents\\code_rapport_stage\\note_book\\.venv\\lib\\site-packages (from python-dateutil>=2.8.2->pandas) (1.17.0)\n",
      "Requirement already satisfied: numpy in c:\\users\\esthelle.kuissu\\onedrive - exiom partners\\documents\\code_rapport_stage\\note_book\\.venv\\lib\\site-packages (2.3.0)\n"
     ]
    }
   ],
   "source": [
    "!pip install pandas\n",
    "import pandas as pd\n",
    "!pip install numpy\n",
    "import numpy as np"
   ]
  },
  {
   "cell_type": "code",
   "execution_count": 57,
   "id": "bed8df54",
   "metadata": {},
   "outputs": [
    {
     "data": {
      "text/html": [
       "<div>\n",
       "<style scoped>\n",
       "    .dataframe tbody tr th:only-of-type {\n",
       "        vertical-align: middle;\n",
       "    }\n",
       "\n",
       "    .dataframe tbody tr th {\n",
       "        vertical-align: top;\n",
       "    }\n",
       "\n",
       "    .dataframe thead th {\n",
       "        text-align: right;\n",
       "    }\n",
       "</style>\n",
       "<table border=\"1\" class=\"dataframe\">\n",
       "  <thead>\n",
       "    <tr style=\"text-align: right;\">\n",
       "      <th></th>\n",
       "      <th>cle_sin</th>\n",
       "      <th>pkw</th>\n",
       "      <th>age_veh</th>\n",
       "      <th>val</th>\n",
       "      <th>marq</th>\n",
       "      <th>modele2</th>\n",
       "      <th>generation</th>\n",
       "      <th>airbag</th>\n",
       "      <th>co2min</th>\n",
       "      <th>cdval</th>\n",
       "      <th>...</th>\n",
       "      <th>TAUX_HORAIRE_MO</th>\n",
       "      <th>NB_PIECES_REEMPLOI</th>\n",
       "      <th>NB_PIECE_REPAREE</th>\n",
       "      <th>NB_PIECE_REMPLACEE</th>\n",
       "      <th>RE_AVEC_PIECE_REEMPLOI</th>\n",
       "      <th>MT_TOTAL_REPARABLE</th>\n",
       "      <th>MT_MO_REPARABLE</th>\n",
       "      <th>MT_IP_REPARABLE</th>\n",
       "      <th>MT_PIECES_REPARABLE</th>\n",
       "      <th>MT_FRANCHISE</th>\n",
       "    </tr>\n",
       "  </thead>\n",
       "  <tbody>\n",
       "    <tr>\n",
       "      <th>0</th>\n",
       "      <td>241840204C  A   001</td>\n",
       "      <td>74.0</td>\n",
       "      <td>3.0</td>\n",
       "      <td>24584.0</td>\n",
       "      <td>PEU</td>\n",
       "      <td>208</td>\n",
       "      <td>2.0</td>\n",
       "      <td>6.0</td>\n",
       "      <td>97.0</td>\n",
       "      <td>V07</td>\n",
       "      <td>...</td>\n",
       "      <td>63.248428</td>\n",
       "      <td>0.0</td>\n",
       "      <td>3.0</td>\n",
       "      <td>3.0</td>\n",
       "      <td>0.0</td>\n",
       "      <td>471.20</td>\n",
       "      <td>598.300</td>\n",
       "      <td>197.175</td>\n",
       "      <td>604.32</td>\n",
       "      <td>300.0</td>\n",
       "    </tr>\n",
       "    <tr>\n",
       "      <th>1</th>\n",
       "      <td>241840598C  A   001</td>\n",
       "      <td>103.0</td>\n",
       "      <td>3.0</td>\n",
       "      <td>31980.0</td>\n",
       "      <td>NIS</td>\n",
       "      <td>QASHQAI</td>\n",
       "      <td>2.0</td>\n",
       "      <td>6.0</td>\n",
       "      <td>124.0</td>\n",
       "      <td>V10</td>\n",
       "      <td>...</td>\n",
       "      <td>65.000000</td>\n",
       "      <td>0.0</td>\n",
       "      <td>1.5</td>\n",
       "      <td>1.0</td>\n",
       "      <td>0.0</td>\n",
       "      <td>544.80</td>\n",
       "      <td>65.000</td>\n",
       "      <td>125.000</td>\n",
       "      <td>476.80</td>\n",
       "      <td>350.0</td>\n",
       "    </tr>\n",
       "    <tr>\n",
       "      <th>2</th>\n",
       "      <td>241840842C  A   006</td>\n",
       "      <td>103.0</td>\n",
       "      <td>18.0</td>\n",
       "      <td>35726.0</td>\n",
       "      <td>VWA</td>\n",
       "      <td>TOURAN</td>\n",
       "      <td>1.0</td>\n",
       "      <td>6.0</td>\n",
       "      <td>159.0</td>\n",
       "      <td>V12</td>\n",
       "      <td>...</td>\n",
       "      <td>35.000000</td>\n",
       "      <td>0.0</td>\n",
       "      <td>1.0</td>\n",
       "      <td>2.0</td>\n",
       "      <td>0.0</td>\n",
       "      <td>270.00</td>\n",
       "      <td>70.000</td>\n",
       "      <td>123.500</td>\n",
       "      <td>200.00</td>\n",
       "      <td>175.0</td>\n",
       "    </tr>\n",
       "    <tr>\n",
       "      <th>3</th>\n",
       "      <td>241840544C  A   002</td>\n",
       "      <td>50.0</td>\n",
       "      <td>11.0</td>\n",
       "      <td>13464.0</td>\n",
       "      <td>PEU</td>\n",
       "      <td>107</td>\n",
       "      <td>1.0</td>\n",
       "      <td>4.0</td>\n",
       "      <td>99.0</td>\n",
       "      <td>V03</td>\n",
       "      <td>...</td>\n",
       "      <td>35.000000</td>\n",
       "      <td>0.0</td>\n",
       "      <td>1.0</td>\n",
       "      <td>5.0</td>\n",
       "      <td>0.0</td>\n",
       "      <td>302.50</td>\n",
       "      <td>227.500</td>\n",
       "      <td>75.000</td>\n",
       "      <td>0.00</td>\n",
       "      <td>0.0</td>\n",
       "    </tr>\n",
       "    <tr>\n",
       "      <th>4</th>\n",
       "      <td>241841770C  A   003</td>\n",
       "      <td>62.5</td>\n",
       "      <td>10.0</td>\n",
       "      <td>17640.0</td>\n",
       "      <td>HYU</td>\n",
       "      <td>I20</td>\n",
       "      <td>1.0</td>\n",
       "      <td>6.0</td>\n",
       "      <td>114.0</td>\n",
       "      <td>V05</td>\n",
       "      <td>...</td>\n",
       "      <td>56.390659</td>\n",
       "      <td>0.0</td>\n",
       "      <td>3.0</td>\n",
       "      <td>1.0</td>\n",
       "      <td>0.0</td>\n",
       "      <td>0.01</td>\n",
       "      <td>550.025</td>\n",
       "      <td>151.200</td>\n",
       "      <td>0.01</td>\n",
       "      <td>0.0</td>\n",
       "    </tr>\n",
       "  </tbody>\n",
       "</table>\n",
       "<p>5 rows × 39 columns</p>\n",
       "</div>"
      ],
      "text/plain": [
       "               cle_sin    pkw  age_veh      val marq  modele2  generation  \\\n",
       "0  241840204C  A   001   74.0      3.0  24584.0  PEU      208         2.0   \n",
       "1  241840598C  A   001  103.0      3.0  31980.0  NIS  QASHQAI         2.0   \n",
       "2  241840842C  A   006  103.0     18.0  35726.0  VWA   TOURAN         1.0   \n",
       "3  241840544C  A   002   50.0     11.0  13464.0  PEU      107         1.0   \n",
       "4  241841770C  A   003   62.5     10.0  17640.0  HYU      I20         1.0   \n",
       "\n",
       "   airbag  co2min cdval  ... TAUX_HORAIRE_MO NB_PIECES_REEMPLOI  \\\n",
       "0     6.0    97.0   V07  ...       63.248428                0.0   \n",
       "1     6.0   124.0   V10  ...       65.000000                0.0   \n",
       "2     6.0   159.0   V12  ...       35.000000                0.0   \n",
       "3     4.0    99.0   V03  ...       35.000000                0.0   \n",
       "4     6.0   114.0   V05  ...       56.390659                0.0   \n",
       "\n",
       "   NB_PIECE_REPAREE NB_PIECE_REMPLACEE RE_AVEC_PIECE_REEMPLOI  \\\n",
       "0               3.0                3.0                    0.0   \n",
       "1               1.5                1.0                    0.0   \n",
       "2               1.0                2.0                    0.0   \n",
       "3               1.0                5.0                    0.0   \n",
       "4               3.0                1.0                    0.0   \n",
       "\n",
       "   MT_TOTAL_REPARABLE  MT_MO_REPARABLE MT_IP_REPARABLE MT_PIECES_REPARABLE  \\\n",
       "0              471.20          598.300         197.175              604.32   \n",
       "1              544.80           65.000         125.000              476.80   \n",
       "2              270.00           70.000         123.500              200.00   \n",
       "3              302.50          227.500          75.000                0.00   \n",
       "4                0.01          550.025         151.200                0.01   \n",
       "\n",
       "   MT_FRANCHISE  \n",
       "0         300.0  \n",
       "1         350.0  \n",
       "2         175.0  \n",
       "3           0.0  \n",
       "4           0.0  \n",
       "\n",
       "[5 rows x 39 columns]"
      ]
     },
     "execution_count": 57,
     "metadata": {},
     "output_type": "execute_result"
    }
   ],
   "source": [
    "import pandas as pd\n",
    "import numpy as np\n",
    "path = \"c:\\\\Users\\\\esthelle.kuissu\\\\OneDrive - Exiom Partners\\\\Documents\\\\Code_rapport_stage\\\\Bases sinistres\"\n",
    "dataM = pd.read_csv(path + \"\\\\new_bdd_sinistres_rapports_2024_final.csv\", sep=\";\", encoding=\"latin1\")\n",
    "dataM.head()"
   ]
  },
  {
   "cell_type": "code",
   "execution_count": 58,
   "id": "960db5cc",
   "metadata": {},
   "outputs": [],
   "source": [
    "Y1 = dataM['MT_MO_REPARABLE']"
   ]
  },
  {
   "cell_type": "code",
   "execution_count": 59,
   "id": "156482d5",
   "metadata": {},
   "outputs": [],
   "source": [
    "X1 = dataM[['pkw', 'age_veh', 'val', 'generation', 'airbag', 'co2min', 'anc_permis',\n",
    "       'cylin', 'poidspuiss', 'crm', 'nab50','NBHH_MO_REPARABLE', 'TAUX_HORAIRE_MO']]"
   ]
  },
  {
   "cell_type": "code",
   "execution_count": 60,
   "id": "7b19dfff",
   "metadata": {},
   "outputs": [
    {
     "name": "stdout",
     "output_type": "stream",
     "text": [
      "pkw                  float64\n",
      "age_veh              float64\n",
      "val                  float64\n",
      "generation           float64\n",
      "airbag               float64\n",
      "co2min               float64\n",
      "anc_permis           float64\n",
      "cylin                float64\n",
      "poidspuiss           float64\n",
      "crm                  float64\n",
      "nab50                float64\n",
      "NBHH_MO_REPARABLE    float64\n",
      "TAUX_HORAIRE_MO      float64\n",
      "dtype: object\n"
     ]
    }
   ],
   "source": [
    "print(X1.dtypes)\n"
   ]
  },
  {
   "cell_type": "code",
   "execution_count": 61,
   "id": "d8ab62c6",
   "metadata": {},
   "outputs": [
    {
     "name": "stdout",
     "output_type": "stream",
     "text": [
      "Requirement already satisfied: scipy in c:\\users\\esthelle.kuissu\\onedrive - exiom partners\\documents\\code_rapport_stage\\note_book\\.venv\\lib\\site-packages (1.15.3)\n",
      "Requirement already satisfied: numpy<2.5,>=1.23.5 in c:\\users\\esthelle.kuissu\\onedrive - exiom partners\\documents\\code_rapport_stage\\note_book\\.venv\\lib\\site-packages (from scipy) (2.3.0)\n"
     ]
    }
   ],
   "source": [
    "#!pip install pyglmnet\n",
    "!pip install scipy\n",
    "from pyglmnet import GLM\n",
    "from scipy import stats"
   ]
  },
  {
   "cell_type": "code",
   "execution_count": 62,
   "id": "34625b2b",
   "metadata": {},
   "outputs": [],
   "source": [
    "from pyglmnet import GLM\n",
    "model = GLM(distr='gamma', alpha=1, reg_lambda=0.01)\n",
    "import numpy as np"
   ]
  },
  {
   "cell_type": "code",
   "execution_count": 63,
   "id": "d1dc4f90",
   "metadata": {},
   "outputs": [],
   "source": [
    "X1 = X1.to_numpy()  # Convertir DataFrame en ndarray\n",
    "Y1 = Y1.to_numpy()  # Convertir Series en ndarray\n"
   ]
  },
  {
   "cell_type": "code",
   "execution_count": 64,
   "id": "d04a6f16",
   "metadata": {},
   "outputs": [
    {
     "name": "stderr",
     "output_type": "stream",
     "text": [
      "c:\\Users\\esthelle.kuissu\\OneDrive - Exiom Partners\\Documents\\Code_rapport_stage\\Note_book\\.venv\\Lib\\site-packages\\pyglmnet\\pyglmnet.py:92: RuntimeWarning: overflow encountered in exp\n",
      "  mu = np.log1p(np.exp(z))\n",
      "c:\\Users\\esthelle.kuissu\\OneDrive - Exiom Partners\\Documents\\Code_rapport_stage\\Note_book\\.venv\\Lib\\site-packages\\pyglmnet\\pyglmnet.py:863: UserWarning: Reached max number of iterations without convergence.\n",
      "  warnings.warn(\n"
     ]
    },
    {
     "data": {
      "text/plain": [
       "<\n",
       "Distribution | gamma\n",
       "alpha | 1.00\n",
       "max_iter | 1000.00\n",
       "lambda: 0.01\n",
       ">"
      ]
     },
     "execution_count": 64,
     "metadata": {},
     "output_type": "execute_result"
    }
   ],
   "source": [
    "model.fit(X1, Y1)  # Réessayer l'ajustement du modèle\n"
   ]
  },
  {
   "cell_type": "code",
   "execution_count": 65,
   "id": "edb3a0a7",
   "metadata": {},
   "outputs": [],
   "source": [
    "# Predicting the response variable using the fitted model\n",
    "Y_pred = model.predict(X1)"
   ]
  },
  {
   "cell_type": "code",
   "execution_count": 66,
   "id": "2213a95f",
   "metadata": {},
   "outputs": [
    {
     "name": "stdout",
     "output_type": "stream",
     "text": [
      "   MT_MO_REPARABLE      Y_pred   residuals\n",
      "0          598.300         inf        -inf\n",
      "1           65.000         inf        -inf\n",
      "2           70.000         inf        -inf\n",
      "3          227.500  517.094524 -289.594524\n",
      "4          550.025  677.437458 -127.412458\n",
      "5          488.025  572.001228  -83.976228\n",
      "6         1237.000         inf        -inf\n",
      "7          108.340         inf        -inf\n",
      "8           62.400         inf        -inf\n",
      "9          133.000         inf        -inf\n"
     ]
    }
   ],
   "source": [
    "dataM['Y_pred'] = Y_pred  # Ajouter les prédictions au DataFrame original\n",
    "# Calculer les résidus \n",
    "dataM['residuals'] = dataM['MT_MO_REPARABLE'] - dataM['Y_pred']\n",
    "# Afficher les 5 premières lignes du DataFrame avec les prédictions et les résidus\n",
    "print(dataM[['MT_MO_REPARABLE', 'Y_pred', 'residuals']].head(10))\n"
   ]
  },
  {
   "cell_type": "code",
   "execution_count": null,
   "id": "023c4480",
   "metadata": {},
   "outputs": [
    {
     "name": "stdout",
     "output_type": "stream",
     "text": [
      "Collecting pyglmnet\n",
      "  Downloading pyglmnet-1.1-py3-none-any.whl.metadata (7.8 kB)\n",
      "Downloading pyglmnet-1.1-py3-none-any.whl (23 kB)\n",
      "Installing collected packages: pyglmnet\n",
      "Successfully installed pyglmnet-1.1\n"
     ]
    }
   ],
   "source": [
    "!pip install pyglmnet\n",
    "\n"
   ]
  },
  {
   "cell_type": "code",
   "execution_count": 13,
   "id": "2e37a7de",
   "metadata": {},
   "outputs": [
    {
     "name": "stderr",
     "output_type": "stream",
     "text": [
      "ERROR: Could not find a version that satisfies the requirement distutils (from versions: none)\n",
      "ERROR: No matching distribution found for distutils\n"
     ]
    }
   ],
   "source": [
    "!pip install distutils"
   ]
  },
  {
   "cell_type": "code",
   "execution_count": 18,
   "id": "269ffc3d",
   "metadata": {},
   "outputs": [
    {
     "name": "stdout",
     "output_type": "stream",
     "text": [
      "Collecting setuptools\n",
      "  Using cached setuptools-80.9.0-py3-none-any.whl.metadata (6.6 kB)\n",
      "Using cached setuptools-80.9.0-py3-none-any.whl (1.2 MB)\n",
      "Installing collected packages: setuptools\n",
      "Successfully installed setuptools-80.9.0\n",
      "Note: you may need to restart the kernel to use updated packages.\n"
     ]
    }
   ],
   "source": [
    "pip install setuptools"
   ]
  },
  {
   "cell_type": "code",
   "execution_count": 20,
   "id": "a615fa56",
   "metadata": {},
   "outputs": [
    {
     "name": "stdout",
     "output_type": "stream",
     "text": [
      "Requirement already satisfied: setuptools in c:\\users\\esthelle.kuissu\\appdata\\local\\programs\\python\\python313\\lib\\site-packages (80.9.0)\n",
      "Note: you may need to restart the kernel to use updated packages.\n"
     ]
    }
   ],
   "source": [
    "pip install --upgrade setuptools\n"
   ]
  },
  {
   "cell_type": "code",
   "execution_count": 21,
   "id": "647b31e2",
   "metadata": {},
   "outputs": [],
   "source": [
    "from setuptools import setup\n"
   ]
  }
 ],
 "metadata": {
  "kernelspec": {
   "display_name": ".venv",
   "language": "python",
   "name": "python3"
  },
  "language_info": {
   "codemirror_mode": {
    "name": "ipython",
    "version": 3
   },
   "file_extension": ".py",
   "mimetype": "text/x-python",
   "name": "python",
   "nbconvert_exporter": "python",
   "pygments_lexer": "ipython3",
   "version": "3.11.9"
  }
 },
 "nbformat": 4,
 "nbformat_minor": 5
}
